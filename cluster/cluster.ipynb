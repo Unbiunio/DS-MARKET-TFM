{
 "cells": [
  {
   "cell_type": "markdown",
   "metadata": {},
   "source": [
    "# df cluster\n"
   ]
  },
  {
   "cell_type": "markdown",
   "metadata": {},
   "source": [
    "### loading libraries"
   ]
  },
  {
   "cell_type": "code",
   "execution_count": 1,
   "metadata": {},
   "outputs": [],
   "source": [
    "import pandas as pd\n",
    "import numpy as np\n",
    "\n",
    "# loading ploting libraries\n",
    "import matplotlib.pyplot as plt\n",
    "import seaborn as sns\n",
    "%matplotlib inline\n",
    "\n",
    "# python core library for machine learning and data science\n",
    "import sklearn\n",
    "from sklearn import set_config\n",
    "set_config(transform_output = \"pandas\")\n",
    "\n",
    "from sklearn.pipeline import Pipeline\n",
    "from sklearn.preprocessing import FunctionTransformer\n",
    "from sklearn.preprocessing import RobustScaler, MinMaxScaler\n",
    "from sklearn.impute import KNNImputer, SimpleImputer\n",
    "\n",
    "from sklearn.preprocessing import StandardScaler\n",
    "from sklearn.cluster import KMeans"
   ]
  },
  {
   "cell_type": "markdown",
   "metadata": {},
   "source": [
    "### loading csv files"
   ]
  },
  {
   "cell_type": "code",
   "execution_count": 2,
   "metadata": {},
   "outputs": [],
   "source": [
    "df_price = pd.read_csv('./data/df_price_cluster.csv')\n",
    "df_sales = pd.read_csv('./data/df_sales_cluster.csv')"
   ]
  },
  {
<<<<<<< HEAD
   "cell_type": "markdown",
   "metadata": {},
   "source": [
    "### csv files exploration"
=======
   "cell_type": "code",
   "execution_count": 3,
   "metadata": {},
   "outputs": [
    {
     "name": "stdout",
     "output_type": "stream",
     "text": [
      "(3049, 4)\n"
     ]
    },
    {
     "data": {
      "text/html": [
       "<div>\n",
       "<style scoped>\n",
       "    .dataframe tbody tr th:only-of-type {\n",
       "        vertical-align: middle;\n",
       "    }\n",
       "\n",
       "    .dataframe tbody tr th {\n",
       "        vertical-align: top;\n",
       "    }\n",
       "\n",
       "    .dataframe thead th {\n",
       "        text-align: right;\n",
       "    }\n",
       "</style>\n",
       "<table border=\"1\" class=\"dataframe\">\n",
       "  <thead>\n",
       "    <tr style=\"text-align: right;\">\n",
       "      <th></th>\n",
       "      <th>item</th>\n",
       "      <th>price_min</th>\n",
       "      <th>price_max</th>\n",
       "      <th>price_mean</th>\n",
       "    </tr>\n",
       "  </thead>\n",
       "  <tbody>\n",
       "    <tr>\n",
       "      <th>0</th>\n",
       "      <td>ACCESORIES_1_001</td>\n",
       "      <td>6.65</td>\n",
       "      <td>12.7414</td>\n",
       "      <td>11.032755</td>\n",
       "    </tr>\n",
       "  </tbody>\n",
       "</table>\n",
       "</div>"
      ],
      "text/plain": [
       "               item  price_min  price_max  price_mean\n",
       "0  ACCESORIES_1_001       6.65    12.7414   11.032755"
      ]
     },
     "execution_count": 3,
     "metadata": {},
     "output_type": "execute_result"
    }
   ],
   "source": [
    "del(df_price['Unnamed: 0'])\n",
    "print(df_price.shape)\n",
    "df_price.head(1)"
>>>>>>> ff450b12b17605e8d65dc5c0d29180185469e44a
   ]
  },
  {
   "cell_type": "code",
<<<<<<< HEAD
   "execution_count": 3,
   "metadata": {},
   "outputs": [
    {
     "data": {
      "text/html": [
       "<div>\n",
       "<style scoped>\n",
       "    .dataframe tbody tr th:only-of-type {\n",
       "        vertical-align: middle;\n",
       "    }\n",
       "\n",
       "    .dataframe tbody tr th {\n",
       "        vertical-align: top;\n",
       "    }\n",
       "\n",
       "    .dataframe thead th {\n",
       "        text-align: right;\n",
       "    }\n",
       "</style>\n",
       "<table border=\"1\" class=\"dataframe\">\n",
       "  <thead>\n",
       "    <tr style=\"text-align: right;\">\n",
       "      <th></th>\n",
       "      <th>Unnamed: 0</th>\n",
       "      <th>item</th>\n",
       "      <th>price_min</th>\n",
       "      <th>price_max</th>\n",
       "      <th>price_mean</th>\n",
       "    </tr>\n",
       "  </thead>\n",
       "  <tbody>\n",
       "    <tr>\n",
       "      <th>0</th>\n",
       "      <td>0</td>\n",
       "      <td>ACCESORIES_1_001</td>\n",
       "      <td>6.6500</td>\n",
       "      <td>12.7414</td>\n",
       "      <td>11.032755</td>\n",
       "    </tr>\n",
       "    <tr>\n",
       "      <th>1</th>\n",
       "      <td>1</td>\n",
       "      <td>ACCESORIES_1_002</td>\n",
       "      <td>2.6600</td>\n",
       "      <td>5.2801</td>\n",
       "      <td>5.275708</td>\n",
       "    </tr>\n",
       "    <tr>\n",
       "      <th>2</th>\n",
       "      <td>2</td>\n",
       "      <td>ACCESORIES_1_003</td>\n",
       "      <td>1.2502</td>\n",
       "      <td>7.9401</td>\n",
       "      <td>3.944125</td>\n",
       "    </tr>\n",
       "    <tr>\n",
       "      <th>3</th>\n",
       "      <td>3</td>\n",
       "      <td>ACCESORIES_1_004</td>\n",
       "      <td>5.0141</td>\n",
       "      <td>6.1712</td>\n",
       "      <td>5.983299</td>\n",
       "    </tr>\n",
       "    <tr>\n",
       "      <th>4</th>\n",
       "      <td>4</td>\n",
       "      <td>ACCESORIES_1_005</td>\n",
       "      <td>1.9950</td>\n",
       "      <td>4.0964</td>\n",
       "      <td>3.832119</td>\n",
       "    </tr>\n",
       "    <tr>\n",
       "      <th>...</th>\n",
       "      <td>...</td>\n",
       "      <td>...</td>\n",
       "      <td>...</td>\n",
       "      <td>...</td>\n",
       "      <td>...</td>\n",
       "    </tr>\n",
       "    <tr>\n",
       "      <th>3044</th>\n",
       "      <td>3044</td>\n",
       "      <td>SUPERMARKET_3_823</td>\n",
       "      <td>1.1880</td>\n",
       "      <td>3.5760</td>\n",
       "      <td>3.344609</td>\n",
       "    </tr>\n",
       "    <tr>\n",
       "      <th>3045</th>\n",
       "      <td>3045</td>\n",
       "      <td>SUPERMARKET_3_824</td>\n",
       "      <td>2.4000</td>\n",
       "      <td>3.2160</td>\n",
       "      <td>3.026692</td>\n",
       "    </tr>\n",
       "    <tr>\n",
       "      <th>3046</th>\n",
       "      <td>3046</td>\n",
       "      <td>SUPERMARKET_3_825</td>\n",
       "      <td>2.3880</td>\n",
       "      <td>5.2560</td>\n",
       "      <td>4.934385</td>\n",
       "    </tr>\n",
       "    <tr>\n",
       "      <th>3047</th>\n",
       "      <td>3047</td>\n",
       "      <td>SUPERMARKET_3_826</td>\n",
       "      <td>1.2000</td>\n",
       "      <td>1.5360</td>\n",
       "      <td>1.535790</td>\n",
       "    </tr>\n",
       "    <tr>\n",
       "      <th>3048</th>\n",
       "      <td>3048</td>\n",
       "      <td>SUPERMARKET_3_827</td>\n",
       "      <td>0.6000</td>\n",
       "      <td>1.2000</td>\n",
       "      <td>1.199395</td>\n",
       "    </tr>\n",
       "  </tbody>\n",
       "</table>\n",
       "<p>3049 rows × 5 columns</p>\n",
       "</div>"
      ],
      "text/plain": [
       "      Unnamed: 0               item  price_min  price_max  price_mean\n",
       "0              0   ACCESORIES_1_001     6.6500    12.7414   11.032755\n",
       "1              1   ACCESORIES_1_002     2.6600     5.2801    5.275708\n",
       "2              2   ACCESORIES_1_003     1.2502     7.9401    3.944125\n",
       "3              3   ACCESORIES_1_004     5.0141     6.1712    5.983299\n",
       "4              4   ACCESORIES_1_005     1.9950     4.0964    3.832119\n",
       "...          ...                ...        ...        ...         ...\n",
       "3044        3044  SUPERMARKET_3_823     1.1880     3.5760    3.344609\n",
       "3045        3045  SUPERMARKET_3_824     2.4000     3.2160    3.026692\n",
       "3046        3046  SUPERMARKET_3_825     2.3880     5.2560    4.934385\n",
       "3047        3047  SUPERMARKET_3_826     1.2000     1.5360    1.535790\n",
       "3048        3048  SUPERMARKET_3_827     0.6000     1.2000    1.199395\n",
       "\n",
       "[3049 rows x 5 columns]"
      ]
     },
     "execution_count": 3,
     "metadata": {},
     "output_type": "execute_result"
    }
   ],
   "source": [
    "df_price"
   ]
  },
  {
   "cell_type": "code",
   "execution_count": 4,
   "metadata": {},
   "outputs": [
    {
     "data": {
      "text/html": [
       "<div>\n",
       "<style scoped>\n",
       "    .dataframe tbody tr th:only-of-type {\n",
       "        vertical-align: middle;\n",
       "    }\n",
       "\n",
       "    .dataframe tbody tr th {\n",
       "        vertical-align: top;\n",
       "    }\n",
       "\n",
       "    .dataframe thead th {\n",
       "        text-align: right;\n",
       "    }\n",
       "</style>\n",
       "<table border=\"1\" class=\"dataframe\">\n",
       "  <thead>\n",
       "    <tr style=\"text-align: right;\">\n",
       "      <th></th>\n",
       "      <th>Unnamed: 0</th>\n",
       "      <th>item</th>\n",
       "      <th>sales</th>\n",
       "    </tr>\n",
       "  </thead>\n",
       "  <tbody>\n",
       "    <tr>\n",
       "      <th>0</th>\n",
       "      <td>0</td>\n",
       "      <td>ACCESORIES_1_001</td>\n",
       "      <td>4093</td>\n",
       "    </tr>\n",
       "    <tr>\n",
       "      <th>1</th>\n",
       "      <td>1</td>\n",
       "      <td>ACCESORIES_1_002</td>\n",
       "      <td>5059</td>\n",
       "    </tr>\n",
       "    <tr>\n",
       "      <th>2</th>\n",
       "      <td>2</td>\n",
       "      <td>ACCESORIES_1_003</td>\n",
       "      <td>1435</td>\n",
       "    </tr>\n",
       "    <tr>\n",
       "      <th>3</th>\n",
       "      <td>3</td>\n",
       "      <td>ACCESORIES_1_004</td>\n",
       "      <td>39175</td>\n",
       "    </tr>\n",
       "    <tr>\n",
       "      <th>4</th>\n",
       "      <td>4</td>\n",
       "      <td>ACCESORIES_1_005</td>\n",
       "      <td>14621</td>\n",
       "    </tr>\n",
       "    <tr>\n",
       "      <th>...</th>\n",
       "      <td>...</td>\n",
       "      <td>...</td>\n",
       "      <td>...</td>\n",
       "    </tr>\n",
       "    <tr>\n",
       "      <th>3044</th>\n",
       "      <td>3044</td>\n",
       "      <td>SUPERMARKET_3_823</td>\n",
       "      <td>15388</td>\n",
       "    </tr>\n",
       "    <tr>\n",
       "      <th>3045</th>\n",
       "      <td>3045</td>\n",
       "      <td>SUPERMARKET_3_824</td>\n",
       "      <td>8325</td>\n",
       "    </tr>\n",
       "    <tr>\n",
       "      <th>3046</th>\n",
       "      <td>3046</td>\n",
       "      <td>SUPERMARKET_3_825</td>\n",
       "      <td>13526</td>\n",
       "    </tr>\n",
       "    <tr>\n",
       "      <th>3047</th>\n",
       "      <td>3047</td>\n",
       "      <td>SUPERMARKET_3_826</td>\n",
       "      <td>12188</td>\n",
       "    </tr>\n",
       "    <tr>\n",
       "      <th>3048</th>\n",
       "      <td>3048</td>\n",
       "      <td>SUPERMARKET_3_827</td>\n",
       "      <td>11377</td>\n",
       "    </tr>\n",
       "  </tbody>\n",
       "</table>\n",
       "<p>3049 rows × 3 columns</p>\n",
       "</div>"
      ],
      "text/plain": [
       "      Unnamed: 0               item  sales\n",
       "0              0   ACCESORIES_1_001   4093\n",
       "1              1   ACCESORIES_1_002   5059\n",
       "2              2   ACCESORIES_1_003   1435\n",
       "3              3   ACCESORIES_1_004  39175\n",
       "4              4   ACCESORIES_1_005  14621\n",
       "...          ...                ...    ...\n",
       "3044        3044  SUPERMARKET_3_823  15388\n",
       "3045        3045  SUPERMARKET_3_824   8325\n",
       "3046        3046  SUPERMARKET_3_825  13526\n",
       "3047        3047  SUPERMARKET_3_826  12188\n",
       "3048        3048  SUPERMARKET_3_827  11377\n",
       "\n",
       "[3049 rows x 3 columns]"
      ]
     },
     "execution_count": 4,
     "metadata": {},
     "output_type": "execute_result"
    }
   ],
   "source": [
    "df_sales"
   ]
  },
  {
   "cell_type": "code",
   "execution_count": 5,
=======
   "execution_count": 4,
>>>>>>> ff450b12b17605e8d65dc5c0d29180185469e44a
   "metadata": {},
   "outputs": [
    {
     "name": "stdout",
     "output_type": "stream",
     "text": [
      "(3049, 4)\n"
     ]
    },
    {
     "data": {
      "text/html": [
       "<div>\n",
       "<style scoped>\n",
       "    .dataframe tbody tr th:only-of-type {\n",
       "        vertical-align: middle;\n",
       "    }\n",
       "\n",
       "    .dataframe tbody tr th {\n",
       "        vertical-align: top;\n",
       "    }\n",
       "\n",
       "    .dataframe thead th {\n",
       "        text-align: right;\n",
       "    }\n",
       "</style>\n",
       "<table border=\"1\" class=\"dataframe\">\n",
       "  <thead>\n",
       "    <tr style=\"text-align: right;\">\n",
       "      <th></th>\n",
       "      <th>item</th>\n",
       "      <th>sales</th>\n",
       "    </tr>\n",
       "  </thead>\n",
       "  <tbody>\n",
       "    <tr>\n",
       "      <th>0</th>\n",
       "      <td>ACCESORIES_1_001</td>\n",
       "      <td>4093</td>\n",
       "    </tr>\n",
       "  </tbody>\n",
       "</table>\n",
       "</div>"
      ],
      "text/plain": [
       "               item  sales\n",
       "0  ACCESORIES_1_001   4093"
      ]
     },
     "execution_count": 4,
     "metadata": {},
     "output_type": "execute_result"
    }
   ],
   "source": [
<<<<<<< HEAD
    "\n",
    "del(df_price['Unnamed: 0'])\n",
    "del(df_sales['Unnamed: 0'])"
=======
    "print(df_price.shape)\n",
    "df_sales.head(1)"
>>>>>>> ff450b12b17605e8d65dc5c0d29180185469e44a
   ]
  },
  {
   "cell_type": "markdown",
   "metadata": {},
   "source": [
    "### merge df_sales and df_prices"
   ]
  },
  {
   "cell_type": "code",
<<<<<<< HEAD
   "execution_count": 7,
=======
   "execution_count": 5,
>>>>>>> ff450b12b17605e8d65dc5c0d29180185469e44a
   "metadata": {},
   "outputs": [
    {
     "data": {
      "text/html": [
       "<div>\n",
       "<style scoped>\n",
       "    .dataframe tbody tr th:only-of-type {\n",
       "        vertical-align: middle;\n",
       "    }\n",
       "\n",
       "    .dataframe tbody tr th {\n",
       "        vertical-align: top;\n",
       "    }\n",
       "\n",
       "    .dataframe thead th {\n",
       "        text-align: right;\n",
       "    }\n",
       "</style>\n",
       "<table border=\"1\" class=\"dataframe\">\n",
       "  <thead>\n",
       "    <tr style=\"text-align: right;\">\n",
       "      <th></th>\n",
       "      <th>item</th>\n",
       "      <th>price_min</th>\n",
       "      <th>price_max</th>\n",
       "      <th>price_mean</th>\n",
       "      <th>sales</th>\n",
       "    </tr>\n",
       "  </thead>\n",
       "  <tbody>\n",
       "    <tr>\n",
       "      <th>0</th>\n",
       "      <td>ACCESORIES_1_001</td>\n",
       "      <td>6.65</td>\n",
       "      <td>12.7414</td>\n",
       "      <td>11.032755</td>\n",
       "      <td>4093</td>\n",
       "    </tr>\n",
       "  </tbody>\n",
       "</table>\n",
       "</div>"
      ],
      "text/plain": [
       "               item  price_min  price_max  price_mean  sales\n",
       "0  ACCESORIES_1_001       6.65    12.7414   11.032755   4093"
      ]
     },
<<<<<<< HEAD
     "execution_count": 7,
=======
     "execution_count": 5,
>>>>>>> ff450b12b17605e8d65dc5c0d29180185469e44a
     "metadata": {},
     "output_type": "execute_result"
    }
   ],
   "source": [
    "df_cluster = pd.merge(df_price, df_sales, on=['item'], how='left')\n",
    "df_cluster.head(1)"
   ]
  },
  {
   "cell_type": "code",
<<<<<<< HEAD
   "execution_count": 8,
=======
   "execution_count": 6,
>>>>>>> ff450b12b17605e8d65dc5c0d29180185469e44a
   "metadata": {},
   "outputs": [
    {
     "data": {
      "text/html": [
       "<div>\n",
       "<style scoped>\n",
       "    .dataframe tbody tr th:only-of-type {\n",
       "        vertical-align: middle;\n",
       "    }\n",
       "\n",
       "    .dataframe tbody tr th {\n",
       "        vertical-align: top;\n",
       "    }\n",
       "\n",
       "    .dataframe thead th {\n",
       "        text-align: right;\n",
       "    }\n",
       "</style>\n",
       "<table border=\"1\" class=\"dataframe\">\n",
       "  <thead>\n",
       "    <tr style=\"text-align: right;\">\n",
       "      <th></th>\n",
       "      <th>item</th>\n",
       "      <th>price_min</th>\n",
       "      <th>price_max</th>\n",
       "      <th>price_mean</th>\n",
       "      <th>sales</th>\n",
<<<<<<< HEAD
       "    </tr>\n",
       "  </thead>\n",
       "  <tbody>\n",
       "    <tr>\n",
       "      <th>0</th>\n",
       "      <td>ACCESORIES_1_001</td>\n",
       "      <td>6.6500</td>\n",
       "      <td>12.7414</td>\n",
       "      <td>11.032755</td>\n",
       "      <td>4093</td>\n",
       "    </tr>\n",
       "    <tr>\n",
       "      <th>1</th>\n",
       "      <td>ACCESORIES_1_002</td>\n",
       "      <td>2.6600</td>\n",
       "      <td>5.2801</td>\n",
       "      <td>5.275708</td>\n",
       "      <td>5059</td>\n",
       "    </tr>\n",
       "    <tr>\n",
       "      <th>2</th>\n",
       "      <td>ACCESORIES_1_003</td>\n",
       "      <td>1.2502</td>\n",
       "      <td>7.9401</td>\n",
       "      <td>3.944125</td>\n",
       "      <td>1435</td>\n",
       "    </tr>\n",
       "    <tr>\n",
       "      <th>3</th>\n",
       "      <td>ACCESORIES_1_004</td>\n",
       "      <td>5.0141</td>\n",
       "      <td>6.1712</td>\n",
       "      <td>5.983299</td>\n",
       "      <td>39175</td>\n",
       "    </tr>\n",
       "    <tr>\n",
       "      <th>4</th>\n",
       "      <td>ACCESORIES_1_005</td>\n",
       "      <td>1.9950</td>\n",
       "      <td>4.0964</td>\n",
       "      <td>3.832119</td>\n",
       "      <td>14621</td>\n",
       "    </tr>\n",
       "    <tr>\n",
       "      <th>...</th>\n",
       "      <td>...</td>\n",
       "      <td>...</td>\n",
       "      <td>...</td>\n",
       "      <td>...</td>\n",
       "      <td>...</td>\n",
       "    </tr>\n",
       "    <tr>\n",
       "      <th>3044</th>\n",
       "      <td>SUPERMARKET_3_823</td>\n",
       "      <td>1.1880</td>\n",
       "      <td>3.5760</td>\n",
       "      <td>3.344609</td>\n",
       "      <td>15388</td>\n",
       "    </tr>\n",
       "    <tr>\n",
       "      <th>3045</th>\n",
       "      <td>SUPERMARKET_3_824</td>\n",
       "      <td>2.4000</td>\n",
       "      <td>3.2160</td>\n",
       "      <td>3.026692</td>\n",
       "      <td>8325</td>\n",
       "    </tr>\n",
       "    <tr>\n",
       "      <th>3046</th>\n",
       "      <td>SUPERMARKET_3_825</td>\n",
       "      <td>2.3880</td>\n",
       "      <td>5.2560</td>\n",
       "      <td>4.934385</td>\n",
       "      <td>13526</td>\n",
       "    </tr>\n",
       "    <tr>\n",
       "      <th>3047</th>\n",
       "      <td>SUPERMARKET_3_826</td>\n",
       "      <td>1.2000</td>\n",
       "      <td>1.5360</td>\n",
       "      <td>1.535790</td>\n",
       "      <td>12188</td>\n",
       "    </tr>\n",
       "    <tr>\n",
       "      <th>3048</th>\n",
       "      <td>SUPERMARKET_3_827</td>\n",
       "      <td>0.6000</td>\n",
       "      <td>1.2000</td>\n",
       "      <td>1.199395</td>\n",
       "      <td>11377</td>\n",
       "    </tr>\n",
       "  </tbody>\n",
       "</table>\n",
       "<p>3049 rows × 5 columns</p>\n",
       "</div>"
      ],
      "text/plain": [
       "                   item  price_min  price_max  price_mean  sales\n",
       "0      ACCESORIES_1_001     6.6500    12.7414   11.032755   4093\n",
       "1      ACCESORIES_1_002     2.6600     5.2801    5.275708   5059\n",
       "2      ACCESORIES_1_003     1.2502     7.9401    3.944125   1435\n",
       "3      ACCESORIES_1_004     5.0141     6.1712    5.983299  39175\n",
       "4      ACCESORIES_1_005     1.9950     4.0964    3.832119  14621\n",
       "...                 ...        ...        ...         ...    ...\n",
       "3044  SUPERMARKET_3_823     1.1880     3.5760    3.344609  15388\n",
       "3045  SUPERMARKET_3_824     2.4000     3.2160    3.026692   8325\n",
       "3046  SUPERMARKET_3_825     2.3880     5.2560    4.934385  13526\n",
       "3047  SUPERMARKET_3_826     1.2000     1.5360    1.535790  12188\n",
       "3048  SUPERMARKET_3_827     0.6000     1.2000    1.199395  11377\n",
       "\n",
       "[3049 rows x 5 columns]"
      ]
     },
     "execution_count": 8,
     "metadata": {},
     "output_type": "execute_result"
    }
   ],
   "source": [
    "df_cluster"
   ]
  },
  {
   "cell_type": "code",
   "execution_count": null,
   "metadata": {},
   "outputs": [],
   "source": [
    "# price_max = precio max\n",
    "# price_min = precio min\n",
    "# price_mean = precio promedio\n",
    "# number_sales = total de productos vendidos"
   ]
  },
  {
   "cell_type": "markdown",
   "metadata": {},
   "source": [
    "### Create column \"total_income\" that represent the total income for product"
   ]
  },
  {
   "cell_type": "code",
   "execution_count": 10,
   "metadata": {},
   "outputs": [
    {
     "data": {
      "text/html": [
       "<div>\n",
       "<style scoped>\n",
       "    .dataframe tbody tr th:only-of-type {\n",
       "        vertical-align: middle;\n",
       "    }\n",
       "\n",
       "    .dataframe tbody tr th {\n",
       "        vertical-align: top;\n",
       "    }\n",
       "\n",
       "    .dataframe thead th {\n",
       "        text-align: right;\n",
       "    }\n",
       "</style>\n",
       "<table border=\"1\" class=\"dataframe\">\n",
       "  <thead>\n",
       "    <tr style=\"text-align: right;\">\n",
       "      <th></th>\n",
       "      <th>item</th>\n",
       "      <th>price_min</th>\n",
       "      <th>price_max</th>\n",
       "      <th>price_mean</th>\n",
       "      <th>sales</th>\n",
       "      <th>total_income</th>\n",
=======
       "      <th>income</th>\n",
>>>>>>> ff450b12b17605e8d65dc5c0d29180185469e44a
       "    </tr>\n",
       "  </thead>\n",
       "  <tbody>\n",
       "    <tr>\n",
       "      <th>0</th>\n",
       "      <td>ACCESORIES_1_001</td>\n",
       "      <td>6.65</td>\n",
       "      <td>12.7414</td>\n",
       "      <td>11.032755</td>\n",
       "      <td>4093</td>\n",
       "      <td>45157.065966</td>\n",
       "    </tr>\n",
       "    <tr>\n",
       "      <th>1</th>\n",
       "      <td>ACCESORIES_1_002</td>\n",
       "      <td>2.66</td>\n",
       "      <td>5.2801</td>\n",
       "      <td>5.275708</td>\n",
       "      <td>5059</td>\n",
       "      <td>26689.806185</td>\n",
       "    </tr>\n",
       "  </tbody>\n",
       "</table>\n",
       "</div>"
      ],
      "text/plain": [
<<<<<<< HEAD
       "               item  price_min  price_max  price_mean  sales  total_income\n",
=======
       "               item  price_min  price_max  price_mean  sales        income\n",
>>>>>>> ff450b12b17605e8d65dc5c0d29180185469e44a
       "0  ACCESORIES_1_001       6.65    12.7414   11.032755   4093  45157.065966\n",
       "1  ACCESORIES_1_002       2.66     5.2801    5.275708   5059  26689.806185"
      ]
     },
<<<<<<< HEAD
     "execution_count": 10,
=======
     "execution_count": 6,
>>>>>>> ff450b12b17605e8d65dc5c0d29180185469e44a
     "metadata": {},
     "output_type": "execute_result"
    }
   ],
   "source": [
<<<<<<< HEAD
    "\n",
    "df_cluster['total_income']= df_cluster['price_mean']*df_cluster['sales']\n",
=======
    "#Created colum \"total_income\" that represent the total income for product\n",
    "df_cluster['income']= df_cluster['price_mean']*df_cluster['sales']\n",
>>>>>>> ff450b12b17605e8d65dc5c0d29180185469e44a
    "df_cluster.head(2)"
   ]
  },
  {
   "cell_type": "code",
   "execution_count": 7,
   "metadata": {},
   "outputs": [],
   "source": [
    "df_cluster[\"total_income\"]=df_cluster[\"total_income\"].round(2)"
   ]
  },
  {
   "cell_type": "code",
   "execution_count": 16,
   "metadata": {},
   "outputs": [
    {
     "data": {
      "text/html": [
       "<div>\n",
       "<style scoped>\n",
       "    .dataframe tbody tr th:only-of-type {\n",
       "        vertical-align: middle;\n",
       "    }\n",
       "\n",
       "    .dataframe tbody tr th {\n",
       "        vertical-align: top;\n",
       "    }\n",
       "\n",
       "    .dataframe thead th {\n",
       "        text-align: right;\n",
       "    }\n",
       "</style>\n",
       "<table border=\"1\" class=\"dataframe\">\n",
       "  <thead>\n",
       "    <tr style=\"text-align: right;\">\n",
       "      <th></th>\n",
       "      <th>item</th>\n",
       "      <th>price_min</th>\n",
       "      <th>price_max</th>\n",
       "      <th>price_mean</th>\n",
       "      <th>sales</th>\n",
       "      <th>total_income</th>\n",
       "    </tr>\n",
       "  </thead>\n",
       "  <tbody>\n",
       "    <tr>\n",
       "      <th>0</th>\n",
       "      <td>ACCESORIES_1_001</td>\n",
       "      <td>6.6500</td>\n",
       "      <td>12.7414</td>\n",
       "      <td>11.032755</td>\n",
       "      <td>4093</td>\n",
       "      <td>45157.07</td>\n",
       "    </tr>\n",
       "    <tr>\n",
       "      <th>1</th>\n",
       "      <td>ACCESORIES_1_002</td>\n",
       "      <td>2.6600</td>\n",
       "      <td>5.2801</td>\n",
       "      <td>5.275708</td>\n",
       "      <td>5059</td>\n",
       "      <td>26689.81</td>\n",
       "    </tr>\n",
       "    <tr>\n",
       "      <th>2</th>\n",
       "      <td>ACCESORIES_1_003</td>\n",
       "      <td>1.2502</td>\n",
       "      <td>7.9401</td>\n",
       "      <td>3.944125</td>\n",
       "      <td>1435</td>\n",
       "      <td>5659.82</td>\n",
       "    </tr>\n",
       "    <tr>\n",
       "      <th>3</th>\n",
       "      <td>ACCESORIES_1_004</td>\n",
       "      <td>5.0141</td>\n",
       "      <td>6.1712</td>\n",
       "      <td>5.983299</td>\n",
       "      <td>39175</td>\n",
       "      <td>234395.74</td>\n",
       "    </tr>\n",
       "    <tr>\n",
       "      <th>4</th>\n",
       "      <td>ACCESORIES_1_005</td>\n",
       "      <td>1.9950</td>\n",
       "      <td>4.0964</td>\n",
       "      <td>3.832119</td>\n",
       "      <td>14621</td>\n",
       "      <td>56029.42</td>\n",
       "    </tr>\n",
       "    <tr>\n",
       "      <th>...</th>\n",
       "      <td>...</td>\n",
       "      <td>...</td>\n",
       "      <td>...</td>\n",
       "      <td>...</td>\n",
       "      <td>...</td>\n",
       "      <td>...</td>\n",
       "    </tr>\n",
       "    <tr>\n",
       "      <th>3044</th>\n",
       "      <td>SUPERMARKET_3_823</td>\n",
       "      <td>1.1880</td>\n",
       "      <td>3.5760</td>\n",
       "      <td>3.344609</td>\n",
       "      <td>15388</td>\n",
       "      <td>51466.84</td>\n",
       "    </tr>\n",
       "    <tr>\n",
       "      <th>3045</th>\n",
       "      <td>SUPERMARKET_3_824</td>\n",
       "      <td>2.4000</td>\n",
       "      <td>3.2160</td>\n",
       "      <td>3.026692</td>\n",
       "      <td>8325</td>\n",
       "      <td>25197.21</td>\n",
       "    </tr>\n",
       "    <tr>\n",
       "      <th>3046</th>\n",
       "      <td>SUPERMARKET_3_825</td>\n",
       "      <td>2.3880</td>\n",
       "      <td>5.2560</td>\n",
       "      <td>4.934385</td>\n",
       "      <td>13526</td>\n",
       "      <td>66742.50</td>\n",
       "    </tr>\n",
       "    <tr>\n",
       "      <th>3047</th>\n",
       "      <td>SUPERMARKET_3_826</td>\n",
       "      <td>1.2000</td>\n",
       "      <td>1.5360</td>\n",
       "      <td>1.535790</td>\n",
       "      <td>12188</td>\n",
       "      <td>18718.21</td>\n",
       "    </tr>\n",
       "    <tr>\n",
       "      <th>3048</th>\n",
       "      <td>SUPERMARKET_3_827</td>\n",
       "      <td>0.6000</td>\n",
       "      <td>1.2000</td>\n",
       "      <td>1.199395</td>\n",
       "      <td>11377</td>\n",
       "      <td>13645.51</td>\n",
       "    </tr>\n",
       "  </tbody>\n",
       "</table>\n",
       "<p>3049 rows × 6 columns</p>\n",
       "</div>"
      ],
      "text/plain": [
       "                   item  price_min  price_max  price_mean  sales  total_income\n",
       "0      ACCESORIES_1_001     6.6500    12.7414   11.032755   4093      45157.07\n",
       "1      ACCESORIES_1_002     2.6600     5.2801    5.275708   5059      26689.81\n",
       "2      ACCESORIES_1_003     1.2502     7.9401    3.944125   1435       5659.82\n",
       "3      ACCESORIES_1_004     5.0141     6.1712    5.983299  39175     234395.74\n",
       "4      ACCESORIES_1_005     1.9950     4.0964    3.832119  14621      56029.42\n",
       "...                 ...        ...        ...         ...    ...           ...\n",
       "3044  SUPERMARKET_3_823     1.1880     3.5760    3.344609  15388      51466.84\n",
       "3045  SUPERMARKET_3_824     2.4000     3.2160    3.026692   8325      25197.21\n",
       "3046  SUPERMARKET_3_825     2.3880     5.2560    4.934385  13526      66742.50\n",
       "3047  SUPERMARKET_3_826     1.2000     1.5360    1.535790  12188      18718.21\n",
       "3048  SUPERMARKET_3_827     0.6000     1.2000    1.199395  11377      13645.51\n",
       "\n",
       "[3049 rows x 6 columns]"
      ]
     },
     "execution_count": 16,
     "metadata": {},
     "output_type": "execute_result"
    }
   ],
   "source": [
    "df_cluster"
   ]
  },
  {
   "cell_type": "code",
   "execution_count": 17,
   "metadata": {},
   "outputs": [
    {
     "data": {
      "text/html": [
       "<div>\n",
       "<style scoped>\n",
       "    .dataframe tbody tr th:only-of-type {\n",
       "        vertical-align: middle;\n",
       "    }\n",
       "\n",
       "    .dataframe tbody tr th {\n",
       "        vertical-align: top;\n",
       "    }\n",
       "\n",
       "    .dataframe thead th {\n",
       "        text-align: right;\n",
       "    }\n",
       "</style>\n",
       "<table border=\"1\" class=\"dataframe\">\n",
       "  <thead>\n",
       "    <tr style=\"text-align: right;\">\n",
       "      <th></th>\n",
       "      <th>count</th>\n",
       "      <th>mean</th>\n",
       "      <th>std</th>\n",
       "      <th>min</th>\n",
       "      <th>25%</th>\n",
       "      <th>50%</th>\n",
       "      <th>75%</th>\n",
       "      <th>max</th>\n",
       "    </tr>\n",
       "  </thead>\n",
       "  <tbody>\n",
       "    <tr>\n",
       "      <th>price_min</th>\n",
       "      <td>3049.0</td>\n",
       "      <td>3.630382</td>\n",
       "      <td>3.568067</td>\n",
       "      <td>0.012000</td>\n",
       "      <td>1.23750</td>\n",
       "      <td>2.400000</td>\n",
       "      <td>4.77600</td>\n",
       "      <td>3.588340e+01</td>\n",
       "    </tr>\n",
       "    <tr>\n",
       "      <th>price_max</th>\n",
       "      <td>3049.0</td>\n",
       "      <td>5.974956</td>\n",
       "      <td>5.517955</td>\n",
       "      <td>0.300000</td>\n",
       "      <td>2.85600</td>\n",
       "      <td>4.416000</td>\n",
       "      <td>7.47500</td>\n",
       "      <td>1.341500e+02</td>\n",
       "    </tr>\n",
       "    <tr>\n",
       "      <th>price_mean</th>\n",
       "      <td>3049.0</td>\n",
       "      <td>5.566813</td>\n",
       "      <td>4.538464</td>\n",
       "      <td>0.239601</td>\n",
       "      <td>2.62843</td>\n",
       "      <td>4.185494</td>\n",
       "      <td>7.19074</td>\n",
       "      <td>3.949448e+01</td>\n",
       "    </tr>\n",
       "    <tr>\n",
       "      <th>sales</th>\n",
       "      <td>3049.0</td>\n",
       "      <td>21546.542801</td>\n",
       "      <td>44252.433426</td>\n",
       "      <td>568.000000</td>\n",
<<<<<<< HEAD
       "      <td>4310.00000</td>\n",
       "      <td>9526.000000</td>\n",
       "      <td>21406.00000</td>\n",
=======
       "      <td>4310.000000</td>\n",
       "      <td>9526.000000</td>\n",
       "      <td>21406.000000</td>\n",
>>>>>>> ff450b12b17605e8d65dc5c0d29180185469e44a
       "      <td>1.002529e+06</td>\n",
       "    </tr>\n",
       "    <tr>\n",
       "      <th>income</th>\n",
       "      <td>3049.0</td>\n",
<<<<<<< HEAD
       "      <td>76059.791935</td>\n",
       "      <td>113715.621095</td>\n",
       "      <td>558.880000</td>\n",
       "      <td>21808.82000</td>\n",
       "      <td>43503.830000</td>\n",
       "      <td>84068.79000</td>\n",
=======
       "      <td>76059.791880</td>\n",
       "      <td>113715.620975</td>\n",
       "      <td>558.879300</td>\n",
       "      <td>21808.820666</td>\n",
       "      <td>43503.828743</td>\n",
       "      <td>84068.787748</td>\n",
>>>>>>> ff450b12b17605e8d65dc5c0d29180185469e44a
       "      <td>1.759780e+06</td>\n",
       "    </tr>\n",
       "  </tbody>\n",
       "</table>\n",
       "</div>"
      ],
      "text/plain": [
<<<<<<< HEAD
       "               count          mean            std         min          25%  \\\n",
       "price_min     3049.0      3.630382       3.568067    0.012000      1.23750   \n",
       "price_max     3049.0      5.974956       5.517955    0.300000      2.85600   \n",
       "price_mean    3049.0      5.566813       4.538464    0.239601      2.62843   \n",
       "sales         3049.0  21546.542801   44252.433426  568.000000   4310.00000   \n",
       "total_income  3049.0  76059.791935  113715.621095  558.880000  21808.82000   \n",
       "\n",
       "                       50%          75%           max  \n",
       "price_min         2.400000      4.77600  3.588340e+01  \n",
       "price_max         4.416000      7.47500  1.341500e+02  \n",
       "price_mean        4.185494      7.19074  3.949448e+01  \n",
       "sales          9526.000000  21406.00000  1.002529e+06  \n",
       "total_income  43503.830000  84068.79000  1.759780e+06  "
      ]
     },
     "execution_count": 17,
=======
       "             count          mean            std         min           25%  \\\n",
       "price_min   3049.0      3.630382       3.568067    0.012000      1.237500   \n",
       "price_max   3049.0      5.974956       5.517955    0.300000      2.856000   \n",
       "price_mean  3049.0      5.566813       4.538464    0.239601      2.628430   \n",
       "sales       3049.0  21546.542801   44252.433426  568.000000   4310.000000   \n",
       "income      3049.0  76059.791880  113715.620975  558.879300  21808.820666   \n",
       "\n",
       "                     50%           75%           max  \n",
       "price_min       2.400000      4.776000  3.588340e+01  \n",
       "price_max       4.416000      7.475000  1.341500e+02  \n",
       "price_mean      4.185494      7.190740  3.949448e+01  \n",
       "sales        9526.000000  21406.000000  1.002529e+06  \n",
       "income      43503.828743  84068.787748  1.759780e+06  "
      ]
     },
     "execution_count": 7,
>>>>>>> ff450b12b17605e8d65dc5c0d29180185469e44a
     "metadata": {},
     "output_type": "execute_result"
    }
   ],
   "source": [
    "df_cluster.describe().T"
   ]
  },
  {
   "cell_type": "markdown",
   "metadata": {},
   "source": [
    "### draw scatter plot"
   ]
  },
  {
   "cell_type": "code",
<<<<<<< HEAD
   "execution_count": 19,
=======
   "execution_count": 8,
>>>>>>> ff450b12b17605e8d65dc5c0d29180185469e44a
   "metadata": {},
   "outputs": [
    {
     "data": {
      "text/plain": [
<<<<<<< HEAD
       "<Axes: xlabel='sales', ylabel='total_income'>"
      ]
     },
     "execution_count": 19,
=======
       "<Axes: xlabel='sales', ylabel='income'>"
      ]
     },
     "execution_count": 8,
>>>>>>> ff450b12b17605e8d65dc5c0d29180185469e44a
     "metadata": {},
     "output_type": "execute_result"
    },
    {
     "data": {
<<<<<<< HEAD
      "image/png": "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",
=======
      "image/png": "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",
>>>>>>> ff450b12b17605e8d65dc5c0d29180185469e44a
      "text/plain": [
       "<Figure size 640x480 with 1 Axes>"
      ]
     },
     "metadata": {},
     "output_type": "display_data"
    }
   ],
   "source": [
<<<<<<< HEAD
    "sns.scatterplot(data= df_cluster , x='sales', y='total_income')"
=======
    "sns.scatterplot(data= df_cluster , x='sales', y='income')"
>>>>>>> ff450b12b17605e8d65dc5c0d29180185469e44a
   ]
  },
  {
   "cell_type": "code",
<<<<<<< HEAD
   "execution_count": 20,
=======
   "execution_count": 9,
>>>>>>> ff450b12b17605e8d65dc5c0d29180185469e44a
   "metadata": {},
   "outputs": [],
   "source": [
    "df_cluster1 = df_cluster.copy()"
   ]
  },
  {
<<<<<<< HEAD
   "cell_type": "markdown",
   "metadata": {},
   "source": [
    "### drop unnecessary columns"
=======
   "cell_type": "code",
   "execution_count": 10,
   "metadata": {},
   "outputs": [
    {
     "data": {
      "text/html": [
       "<div>\n",
       "<style scoped>\n",
       "    .dataframe tbody tr th:only-of-type {\n",
       "        vertical-align: middle;\n",
       "    }\n",
       "\n",
       "    .dataframe tbody tr th {\n",
       "        vertical-align: top;\n",
       "    }\n",
       "\n",
       "    .dataframe thead th {\n",
       "        text-align: right;\n",
       "    }\n",
       "</style>\n",
       "<table border=\"1\" class=\"dataframe\">\n",
       "  <thead>\n",
       "    <tr style=\"text-align: right;\">\n",
       "      <th></th>\n",
       "      <th>item</th>\n",
       "      <th>price_min</th>\n",
       "      <th>price_max</th>\n",
       "      <th>price_mean</th>\n",
       "      <th>sales</th>\n",
       "      <th>income</th>\n",
       "    </tr>\n",
       "  </thead>\n",
       "  <tbody>\n",
       "    <tr>\n",
       "      <th>0</th>\n",
       "      <td>ACCESORIES_1_001</td>\n",
       "      <td>6.65</td>\n",
       "      <td>12.7414</td>\n",
       "      <td>11.032755</td>\n",
       "      <td>4093</td>\n",
       "      <td>45157.065966</td>\n",
       "    </tr>\n",
       "  </tbody>\n",
       "</table>\n",
       "</div>"
      ],
      "text/plain": [
       "               item  price_min  price_max  price_mean  sales        income\n",
       "0  ACCESORIES_1_001       6.65    12.7414   11.032755   4093  45157.065966"
      ]
     },
     "execution_count": 10,
     "metadata": {},
     "output_type": "execute_result"
    }
   ],
   "source": [
    "df_cluster1.head(1)"
>>>>>>> ff450b12b17605e8d65dc5c0d29180185469e44a
   ]
  },
  {
   "cell_type": "code",
<<<<<<< HEAD
   "execution_count": 21,
   "metadata": {},
   "outputs": [],
   "source": [
=======
   "execution_count": 11,
   "metadata": {},
   "outputs": [],
   "source": [
    "#Only work with \"price_max\", \"price_mean\" and income variables\n",
>>>>>>> ff450b12b17605e8d65dc5c0d29180185469e44a
    "df_cluster1.drop(columns=['item','price_min','sales'], axis=1,inplace=True)"
   ]
  },
  {
   "cell_type": "code",
<<<<<<< HEAD
   "execution_count": 22,
=======
   "execution_count": 12,
>>>>>>> ff450b12b17605e8d65dc5c0d29180185469e44a
   "metadata": {},
   "outputs": [
    {
     "data": {
      "text/html": [
       "<div>\n",
       "<style scoped>\n",
       "    .dataframe tbody tr th:only-of-type {\n",
       "        vertical-align: middle;\n",
       "    }\n",
       "\n",
       "    .dataframe tbody tr th {\n",
       "        vertical-align: top;\n",
       "    }\n",
       "\n",
       "    .dataframe thead th {\n",
       "        text-align: right;\n",
       "    }\n",
       "</style>\n",
       "<table border=\"1\" class=\"dataframe\">\n",
       "  <thead>\n",
       "    <tr style=\"text-align: right;\">\n",
       "      <th></th>\n",
       "      <th>price_max</th>\n",
       "      <th>price_mean</th>\n",
       "      <th>income</th>\n",
       "    </tr>\n",
       "  </thead>\n",
       "  <tbody>\n",
       "    <tr>\n",
       "      <th>0</th>\n",
       "      <td>12.7414</td>\n",
       "      <td>11.032755</td>\n",
       "      <td>45157.07</td>\n",
       "    </tr>\n",
       "  </tbody>\n",
       "</table>\n",
       "</div>"
      ],
      "text/plain": [
<<<<<<< HEAD
       "   price_max  price_mean  total_income\n",
       "0    12.7414   11.032755      45157.07"
      ]
     },
     "execution_count": 22,
=======
       "   price_max  price_mean        income\n",
       "0    12.7414   11.032755  45157.065966"
      ]
     },
     "execution_count": 12,
>>>>>>> ff450b12b17605e8d65dc5c0d29180185469e44a
     "metadata": {},
     "output_type": "execute_result"
    }
   ],
   "source": [
    "df_cluster1.head(1)"
   ]
  },
  {
   "cell_type": "markdown",
   "metadata": {},
   "source": [
    "## clustering"
   ]
  },
  {
   "cell_type": "markdown",
   "metadata": {},
   "source": [
    "### scale my variables"
   ]
  },
  {
   "cell_type": "code",
<<<<<<< HEAD
   "execution_count": 23,
=======
   "execution_count": 13,
>>>>>>> ff450b12b17605e8d65dc5c0d29180185469e44a
   "metadata": {},
   "outputs": [],
   "source": [
    "scaaler = StandardScaler()\n",
    "df_cluster_scaled = scaaler.fit_transform(df_cluster1)"
   ]
  },
  {
   "cell_type": "code",
<<<<<<< HEAD
   "execution_count": 24,
=======
   "execution_count": 14,
>>>>>>> ff450b12b17605e8d65dc5c0d29180185469e44a
   "metadata": {},
   "outputs": [
    {
     "data": {
      "text/html": [
       "<div>\n",
       "<style scoped>\n",
       "    .dataframe tbody tr th:only-of-type {\n",
       "        vertical-align: middle;\n",
       "    }\n",
       "\n",
       "    .dataframe tbody tr th {\n",
       "        vertical-align: top;\n",
       "    }\n",
       "\n",
       "    .dataframe thead th {\n",
       "        text-align: right;\n",
       "    }\n",
       "</style>\n",
       "<table border=\"1\" class=\"dataframe\">\n",
       "  <thead>\n",
       "    <tr style=\"text-align: right;\">\n",
       "      <th></th>\n",
       "      <th>price_max</th>\n",
       "      <th>price_mean</th>\n",
       "      <th>income</th>\n",
       "    </tr>\n",
       "  </thead>\n",
       "  <tbody>\n",
       "    <tr>\n",
       "      <th>0</th>\n",
       "      <td>1.226460</td>\n",
       "      <td>1.204557</td>\n",
       "      <td>-0.271799</td>\n",
       "    </tr>\n",
       "    <tr>\n",
       "      <th>1</th>\n",
       "      <td>-0.125947</td>\n",
       "      <td>-0.064152</td>\n",
       "      <td>-0.434224</td>\n",
       "    </tr>\n",
       "    <tr>\n",
       "      <th>2</th>\n",
       "      <td>0.356195</td>\n",
       "      <td>-0.357600</td>\n",
       "      <td>-0.619190</td>\n",
       "    </tr>\n",
       "    <tr>\n",
       "      <th>3</th>\n",
       "      <td>0.035570</td>\n",
       "      <td>0.091783</td>\n",
       "      <td>1.392614</td>\n",
       "    </tr>\n",
       "    <tr>\n",
       "      <th>4</th>\n",
       "      <td>-0.340500</td>\n",
       "      <td>-0.382283</td>\n",
       "      <td>-0.176173</td>\n",
       "    </tr>\n",
       "  </tbody>\n",
       "</table>\n",
       "</div>"
      ],
      "text/plain": [
<<<<<<< HEAD
       "   price_max  price_mean  total_income\n",
       "0   1.226460    1.204557     -0.271799\n",
       "1  -0.125947   -0.064152     -0.434224\n",
       "2   0.356195   -0.357600     -0.619190\n",
       "3   0.035570    0.091783      1.392614\n",
       "4  -0.340500   -0.382283     -0.176173"
      ]
     },
     "execution_count": 24,
=======
       "   price_max  price_mean    income\n",
       "0   1.226460    1.204557 -0.271799\n",
       "1  -0.125947   -0.064152 -0.434224\n",
       "2   0.356195   -0.357600 -0.619190\n",
       "3   0.035570    0.091783  1.392614\n",
       "4  -0.340500   -0.382283 -0.176173"
      ]
     },
     "execution_count": 14,
>>>>>>> ff450b12b17605e8d65dc5c0d29180185469e44a
     "metadata": {},
     "output_type": "execute_result"
    }
   ],
   "source": [
    "df_cluster_scaled.head()"
   ]
  },
  {
   "cell_type": "markdown",
   "metadata": {},
   "source": [
    "### use PCA so to reduce dimensionality, overfitting and noise"
   ]
  },
  {
   "cell_type": "code",
<<<<<<< HEAD
   "execution_count": 26,
=======
   "execution_count": 15,
   "metadata": {},
   "outputs": [],
   "source": [
    "# from sklearn.decomposition import PCA"
   ]
  },
  {
   "cell_type": "code",
   "execution_count": 90,
   "metadata": {},
   "outputs": [],
   "source": [
    "# pca = PCA()\n",
    "# pca.fit(df_cluster_scaled)\n",
    "# pca_data_scaled = pca.transform(df_cluster_scaled)\n",
    "# pca_data_scaled"
   ]
  },
  {
   "cell_type": "code",
   "execution_count": 91,
   "metadata": {},
   "outputs": [],
   "source": [
    "# var = pca.explained_variance_ratio_\n",
    "# print(var)"
   ]
  },
  {
   "cell_type": "code",
   "execution_count": 92,
   "metadata": {},
   "outputs": [],
   "source": [
    "# cum_var = np.cumsum(np.round(var, decimals=4)*100)\n",
    "# plt.figure(figsize=(10,10))\n",
    "# plt.plot(cum_var, 'r-x')\n",
    "# plt.show()"
   ]
  },
  {
   "cell_type": "code",
   "execution_count": 18,
   "metadata": {},
   "outputs": [],
   "source": [
    "sum_of_squared_distances = []\n",
    "K = range(2,15)\n",
    "for _ in K:\n",
    "    km = KMeans(n_clusters = _)\n",
    "    y = km.fit_predict(df_cluster_scaled)\n",
    "    sum_of_squared_distances.append(km.inertia_)"
   ]
  },
  {
   "cell_type": "code",
   "execution_count": 19,
   "metadata": {},
   "outputs": [
    {
     "data": {
      "image/png": "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",
      "text/plain": [
       "<Figure size 800x800 with 1 Axes>"
      ]
     },
     "metadata": {},
     "output_type": "display_data"
    }
   ],
   "source": [
    "plt.figure(figsize=(8,8))\n",
    "plt.plot(K, sum_of_squared_distances, 'bx-')\n",
    "plt.xlabel('k')\n",
    "plt.ylabel('Inertia')\n",
    "plt.show()"
   ]
  },
  {
   "cell_type": "code",
   "execution_count": 21,
>>>>>>> ff450b12b17605e8d65dc5c0d29180185469e44a
   "metadata": {},
   "outputs": [],
   "source": [
    "# Uso Kmean for identify \"codo\"\n",
    "km = KMeans(n_clusters = 4, random_state=12)\n",
    "y = km.fit_predict(df_cluster_scaled)\n",
    "#print(silhouette_score(df_cluster_scaled, y))\n",
    "df_cluster['k_means'] = y"
   ]
  },
  {
   "cell_type": "code",
   "execution_count": 27,
   "metadata": {},
   "outputs": [
    {
     "data": {
      "text/html": [
       "<div>\n",
       "<style scoped>\n",
       "    .dataframe tbody tr th:only-of-type {\n",
       "        vertical-align: middle;\n",
       "    }\n",
       "\n",
       "    .dataframe tbody tr th {\n",
       "        vertical-align: top;\n",
       "    }\n",
       "\n",
       "    .dataframe thead th {\n",
       "        text-align: right;\n",
       "    }\n",
       "</style>\n",
       "<table border=\"1\" class=\"dataframe\">\n",
       "  <thead>\n",
       "    <tr style=\"text-align: right;\">\n",
       "      <th></th>\n",
<<<<<<< HEAD
       "      <th>pca0</th>\n",
       "      <th>pca1</th>\n",
       "      <th>pca2</th>\n",
       "    </tr>\n",
       "  </thead>\n",
       "  <tbody>\n",
       "    <tr>\n",
       "      <th>0</th>\n",
       "      <td>1.626421</td>\n",
       "      <td>-0.619428</td>\n",
       "      <td>-0.010100</td>\n",
       "    </tr>\n",
       "    <tr>\n",
       "      <th>1</th>\n",
       "      <td>-0.220739</td>\n",
       "      <td>-0.396789</td>\n",
       "      <td>0.048598</td>\n",
       "    </tr>\n",
       "    <tr>\n",
       "      <th>2</th>\n",
       "      <td>-0.128801</td>\n",
       "      <td>-0.611635</td>\n",
       "      <td>-0.497454</td>\n",
       "    </tr>\n",
       "    <tr>\n",
       "      <th>3</th>\n",
       "      <td>0.374372</td>\n",
       "      <td>1.344750</td>\n",
       "      <td>0.023575</td>\n",
       "    </tr>\n",
       "    <tr>\n",
       "      <th>4</th>\n",
       "      <td>-0.536415</td>\n",
       "      <td>-0.067714</td>\n",
       "      <td>-0.028139</td>\n",
       "    </tr>\n",
       "    <tr>\n",
       "      <th>...</th>\n",
       "      <td>...</td>\n",
       "      <td>...</td>\n",
       "      <td>...</td>\n",
       "    </tr>\n",
       "    <tr>\n",
       "      <th>3044</th>\n",
       "      <td>-0.684294</td>\n",
       "      <td>-0.077773</td>\n",
       "      <td>-0.037122</td>\n",
       "    </tr>\n",
       "    <tr>\n",
       "      <th>3045</th>\n",
       "      <td>-0.825419</td>\n",
       "      <td>-0.284251</td>\n",
       "      <td>-0.037943</td>\n",
       "    </tr>\n",
       "    <tr>\n",
       "      <th>3046</th>\n",
       "      <td>-0.203475</td>\n",
       "      <td>-0.041078</td>\n",
       "      <td>-0.005690</td>\n",
       "    </tr>\n",
       "    <tr>\n",
       "      <th>3047</th>\n",
       "      <td>-1.275241</td>\n",
       "      <td>-0.248219</td>\n",
       "      <td>-0.054854</td>\n",
       "    </tr>\n",
       "    <tr>\n",
       "      <th>3048</th>\n",
       "      <td>-1.377867</td>\n",
       "      <td>-0.272366</td>\n",
       "      <td>-0.063810</td>\n",
       "    </tr>\n",
       "  </tbody>\n",
       "</table>\n",
       "<p>3049 rows × 3 columns</p>\n",
       "</div>"
      ],
      "text/plain": [
       "          pca0      pca1      pca2\n",
       "0     1.626421 -0.619428 -0.010100\n",
       "1    -0.220739 -0.396789  0.048598\n",
       "2    -0.128801 -0.611635 -0.497454\n",
       "3     0.374372  1.344750  0.023575\n",
       "4    -0.536415 -0.067714 -0.028139\n",
       "...        ...       ...       ...\n",
       "3044 -0.684294 -0.077773 -0.037122\n",
       "3045 -0.825419 -0.284251 -0.037943\n",
       "3046 -0.203475 -0.041078 -0.005690\n",
       "3047 -1.275241 -0.248219 -0.054854\n",
       "3048 -1.377867 -0.272366 -0.063810\n",
       "\n",
       "[3049 rows x 3 columns]"
      ]
     },
     "execution_count": 27,
     "metadata": {},
     "output_type": "execute_result"
    }
   ],
   "source": [
    "pca = PCA()\n",
    "pca.fit(df_cluster_scaled)\n",
    "pca_data_scaled = pca.transform(df_cluster_scaled)\n",
    "pca_data_scaled"
   ]
  },
  {
   "cell_type": "code",
   "execution_count": 28,
   "metadata": {},
   "outputs": [
    {
     "name": "stdout",
     "output_type": "stream",
     "text": [
      "[0.64011615 0.31984516 0.04003869]\n"
     ]
    }
   ],
   "source": [
    "var = pca.explained_variance_ratio_\n",
    "print(var)"
   ]
  },
  {
   "cell_type": "code",
   "execution_count": 29,
   "metadata": {},
   "outputs": [
    {
     "data": {
      "image/png": "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",
      "text/plain": [
       "<Figure size 1000x1000 with 1 Axes>"
      ]
     },
     "metadata": {},
     "output_type": "display_data"
    }
   ],
   "source": [
    "cum_var = np.cumsum(np.round(var, decimals=4)*100)\n",
    "plt.figure(figsize=(10,10))\n",
    "plt.plot(cum_var, 'r-x')\n",
    "plt.show()"
   ]
  },
  {
   "cell_type": "markdown",
   "metadata": {},
   "source": [
    "### visual test and evaluation\n"
   ]
  },
  {
   "cell_type": "code",
   "execution_count": 37,
   "metadata": {},
   "outputs": [],
   "source": [
    "sum_of_squared_distances = []\n",
    "K = range(2,15)\n",
    "for _ in K:\n",
    "    km = KMeans(n_clusters = _)\n",
    "    y = km.fit_predict(df_cluster1)\n",
    "    sum_of_squared_distances.append(km.inertia_)"
   ]
  },
  {
   "cell_type": "code",
   "execution_count": 38,
   "metadata": {},
   "outputs": [
    {
     "data": {
      "image/png": "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",
      "text/plain": [
       "<Figure size 800x800 with 1 Axes>"
      ]
     },
     "metadata": {},
     "output_type": "display_data"
    }
   ],
   "source": [
    "plt.figure(figsize=(8,8))\n",
    "plt.plot(K, sum_of_squared_distances, 'bx-')\n",
    "plt.xlabel('k')\n",
    "plt.ylabel('Inertia')\n",
    "plt.show()"
   ]
  },
  {
   "cell_type": "markdown",
   "metadata": {},
   "source": [
    "### Use Kmean for identify \"the elbow\""
   ]
  },
  {
   "cell_type": "code",
   "execution_count": 40,
   "metadata": {},
   "outputs": [],
   "source": [
    "\n",
    "km = KMeans(n_clusters = 4,  random_state=42)\n",
    "y = km.fit_predict(df_cluster1)\n",
    "\n",
    "df_cluster['k_means'] = y"
   ]
  },
  {
   "cell_type": "code",
   "execution_count": 41,
   "metadata": {},
   "outputs": [
    {
     "data": {
      "text/html": [
       "<div>\n",
       "<style scoped>\n",
       "    .dataframe tbody tr th:only-of-type {\n",
       "        vertical-align: middle;\n",
       "    }\n",
       "\n",
       "    .dataframe tbody tr th {\n",
       "        vertical-align: top;\n",
       "    }\n",
       "\n",
       "    .dataframe thead th {\n",
       "        text-align: right;\n",
       "    }\n",
       "</style>\n",
       "<table border=\"1\" class=\"dataframe\">\n",
       "  <thead>\n",
       "    <tr style=\"text-align: right;\">\n",
       "      <th></th>\n",
=======
>>>>>>> ff450b12b17605e8d65dc5c0d29180185469e44a
       "      <th>item</th>\n",
       "      <th>price_min</th>\n",
       "      <th>price_max</th>\n",
       "      <th>price_mean</th>\n",
       "      <th>sales</th>\n",
<<<<<<< HEAD
       "      <th>total_income</th>\n",
=======
       "      <th>income</th>\n",
>>>>>>> ff450b12b17605e8d65dc5c0d29180185469e44a
       "      <th>k_means</th>\n",
       "    </tr>\n",
       "  </thead>\n",
       "  <tbody>\n",
       "    <tr>\n",
       "      <th>0</th>\n",
       "      <td>ACCESORIES_1_001</td>\n",
       "      <td>6.65</td>\n",
       "      <td>12.7414</td>\n",
       "      <td>11.032755</td>\n",
       "      <td>4093</td>\n",
<<<<<<< HEAD
       "      <td>45157.07</td>\n",
       "      <td>0</td>\n",
=======
       "      <td>45157.065966</td>\n",
       "      <td>3</td>\n",
>>>>>>> ff450b12b17605e8d65dc5c0d29180185469e44a
       "    </tr>\n",
       "    <tr>\n",
       "      <th>1</th>\n",
       "      <td>ACCESORIES_1_002</td>\n",
       "      <td>2.66</td>\n",
       "      <td>5.2801</td>\n",
       "      <td>5.275708</td>\n",
       "      <td>5059</td>\n",
       "      <td>26689.81</td>\n",
       "      <td>0</td>\n",
       "    </tr>\n",
       "  </tbody>\n",
       "</table>\n",
       "</div>"
      ],
      "text/plain": [
<<<<<<< HEAD
       "               item  price_min  price_max  price_mean  sales  total_income  \\\n",
       "0  ACCESORIES_1_001       6.65    12.7414   11.032755   4093      45157.07   \n",
       "1  ACCESORIES_1_002       2.66     5.2801    5.275708   5059      26689.81   \n",
       "\n",
       "   k_means  \n",
       "0        0  \n",
       "1        0  "
      ]
     },
     "execution_count": 41,
=======
       "               item  price_min  price_max  price_mean  sales        income  \\\n",
       "0  ACCESORIES_1_001       6.65    12.7414   11.032755   4093  45157.065966   \n",
       "1  ACCESORIES_1_002       2.66     5.2801    5.275708   5059  26689.806185   \n",
       "\n",
       "   k_means  \n",
       "0        3  \n",
       "1        0  "
      ]
     },
     "execution_count": 22,
>>>>>>> ff450b12b17605e8d65dc5c0d29180185469e44a
     "metadata": {},
     "output_type": "execute_result"
    }
   ],
   "source": [
    "\n",
    "df_cluster.head(2)"
   ]
  },
  {
   "cell_type": "code",
<<<<<<< HEAD
   "execution_count": 47,
   "metadata": {},
   "outputs": [
    {
     "data": {
      "text/html": [
       "<div>\n",
       "<style scoped>\n",
       "    .dataframe tbody tr th:only-of-type {\n",
       "        vertical-align: middle;\n",
       "    }\n",
       "\n",
       "    .dataframe tbody tr th {\n",
       "        vertical-align: top;\n",
       "    }\n",
       "\n",
       "    .dataframe thead th {\n",
       "        text-align: right;\n",
       "    }\n",
       "</style>\n",
       "<table border=\"1\" class=\"dataframe\">\n",
       "  <thead>\n",
       "    <tr style=\"text-align: right;\">\n",
       "      <th></th>\n",
       "      <th>price_max</th>\n",
       "      <th>price_mean</th>\n",
       "      <th>total_income</th>\n",
       "    </tr>\n",
       "  </thead>\n",
       "  <tbody>\n",
       "    <tr>\n",
       "      <th>0</th>\n",
       "      <td>12.7414</td>\n",
       "      <td>11.032755</td>\n",
       "      <td>45157.07</td>\n",
       "    </tr>\n",
       "    <tr>\n",
       "      <th>1</th>\n",
       "      <td>5.2801</td>\n",
       "      <td>5.275708</td>\n",
       "      <td>26689.81</td>\n",
       "    </tr>\n",
       "    <tr>\n",
       "      <th>2</th>\n",
       "      <td>7.9401</td>\n",
       "      <td>3.944125</td>\n",
       "      <td>5659.82</td>\n",
       "    </tr>\n",
       "    <tr>\n",
       "      <th>3</th>\n",
       "      <td>6.1712</td>\n",
       "      <td>5.983299</td>\n",
       "      <td>234395.74</td>\n",
       "    </tr>\n",
       "    <tr>\n",
       "      <th>4</th>\n",
       "      <td>4.0964</td>\n",
       "      <td>3.832119</td>\n",
       "      <td>56029.42</td>\n",
       "    </tr>\n",
       "    <tr>\n",
       "      <th>...</th>\n",
       "      <td>...</td>\n",
       "      <td>...</td>\n",
       "      <td>...</td>\n",
       "    </tr>\n",
       "    <tr>\n",
       "      <th>3044</th>\n",
       "      <td>3.5760</td>\n",
       "      <td>3.344609</td>\n",
       "      <td>51466.84</td>\n",
       "    </tr>\n",
       "    <tr>\n",
       "      <th>3045</th>\n",
       "      <td>3.2160</td>\n",
       "      <td>3.026692</td>\n",
       "      <td>25197.21</td>\n",
       "    </tr>\n",
       "    <tr>\n",
       "      <th>3046</th>\n",
       "      <td>5.2560</td>\n",
       "      <td>4.934385</td>\n",
       "      <td>66742.50</td>\n",
       "    </tr>\n",
       "    <tr>\n",
       "      <th>3047</th>\n",
       "      <td>1.5360</td>\n",
       "      <td>1.535790</td>\n",
       "      <td>18718.21</td>\n",
       "    </tr>\n",
       "    <tr>\n",
       "      <th>3048</th>\n",
       "      <td>1.2000</td>\n",
       "      <td>1.199395</td>\n",
       "      <td>13645.51</td>\n",
       "    </tr>\n",
       "  </tbody>\n",
       "</table>\n",
       "<p>3049 rows × 3 columns</p>\n",
       "</div>"
      ],
      "text/plain": [
       "      price_max  price_mean  total_income\n",
       "0       12.7414   11.032755      45157.07\n",
       "1        5.2801    5.275708      26689.81\n",
       "2        7.9401    3.944125       5659.82\n",
       "3        6.1712    5.983299     234395.74\n",
       "4        4.0964    3.832119      56029.42\n",
       "...         ...         ...           ...\n",
       "3044     3.5760    3.344609      51466.84\n",
       "3045     3.2160    3.026692      25197.21\n",
       "3046     5.2560    4.934385      66742.50\n",
       "3047     1.5360    1.535790      18718.21\n",
       "3048     1.2000    1.199395      13645.51\n",
       "\n",
       "[3049 rows x 3 columns]"
      ]
     },
     "execution_count": 47,
     "metadata": {},
     "output_type": "execute_result"
    }
   ],
   "source": [
    "df_cluster1"
   ]
  },
  {
   "cell_type": "markdown",
   "metadata": {},
   "source": [
    "# merge both df_cluster and df_clusteizado con originalso to plot the clusters"
   ]
  },
  {
   "cell_type": "code",
   "execution_count": 48,
=======
   "execution_count": 23,
>>>>>>> ff450b12b17605e8d65dc5c0d29180185469e44a
   "metadata": {},
   "outputs": [
    {
     "data": {
      "text/html": [
       "<div>\n",
       "<style scoped>\n",
       "    .dataframe tbody tr th:only-of-type {\n",
       "        vertical-align: middle;\n",
       "    }\n",
       "\n",
       "    .dataframe tbody tr th {\n",
       "        vertical-align: top;\n",
       "    }\n",
       "\n",
       "    .dataframe thead th {\n",
       "        text-align: right;\n",
       "    }\n",
       "</style>\n",
       "<table border=\"1\" class=\"dataframe\">\n",
       "  <thead>\n",
       "    <tr style=\"text-align: right;\">\n",
       "      <th></th>\n",
       "      <th>item</th>\n",
       "      <th>price_min</th>\n",
       "      <th>price_max</th>\n",
       "      <th>price_mean</th>\n",
       "      <th>sales</th>\n",
<<<<<<< HEAD
       "      <th>total_income</th>\n",
=======
       "      <th>income</th>\n",
>>>>>>> ff450b12b17605e8d65dc5c0d29180185469e44a
       "      <th>k_means</th>\n",
       "    </tr>\n",
       "  </thead>\n",
       "  <tbody>\n",
       "    <tr>\n",
       "      <th>0</th>\n",
       "      <td>ACCESORIES_1_001</td>\n",
       "      <td>6.65</td>\n",
       "      <td>12.7414</td>\n",
       "      <td>11.032755</td>\n",
       "      <td>4093</td>\n",
<<<<<<< HEAD
       "      <td>45157.07</td>\n",
       "      <td>0</td>\n",
=======
       "      <td>45157.065966</td>\n",
       "      <td>3</td>\n",
>>>>>>> ff450b12b17605e8d65dc5c0d29180185469e44a
       "    </tr>\n",
       "    <tr>\n",
       "      <th>1</th>\n",
       "      <td>ACCESORIES_1_002</td>\n",
       "      <td>2.66</td>\n",
       "      <td>5.2801</td>\n",
       "      <td>5.275708</td>\n",
       "      <td>5059</td>\n",
<<<<<<< HEAD
       "      <td>26689.81</td>\n",
=======
       "      <td>26689.806185</td>\n",
       "      <td>0</td>\n",
       "    </tr>\n",
       "    <tr>\n",
       "      <th>2</th>\n",
       "      <td>ACCESORIES_1_003</td>\n",
       "      <td>1.2502</td>\n",
       "      <td>7.9401</td>\n",
       "      <td>3.944125</td>\n",
       "      <td>1435</td>\n",
       "      <td>5659.819343</td>\n",
       "      <td>0</td>\n",
       "    </tr>\n",
       "    <tr>\n",
       "      <th>3</th>\n",
       "      <td>ACCESORIES_1_004</td>\n",
       "      <td>5.0141</td>\n",
       "      <td>6.1712</td>\n",
       "      <td>5.983299</td>\n",
       "      <td>39175</td>\n",
       "      <td>234395.740703</td>\n",
       "      <td>3</td>\n",
       "    </tr>\n",
       "    <tr>\n",
       "      <th>4</th>\n",
       "      <td>ACCESORIES_1_005</td>\n",
       "      <td>1.9950</td>\n",
       "      <td>4.0964</td>\n",
       "      <td>3.832119</td>\n",
       "      <td>14621</td>\n",
       "      <td>56029.417625</td>\n",
       "      <td>0</td>\n",
       "    </tr>\n",
       "    <tr>\n",
       "      <th>...</th>\n",
       "      <td>...</td>\n",
       "      <td>...</td>\n",
       "      <td>...</td>\n",
       "      <td>...</td>\n",
       "      <td>...</td>\n",
       "      <td>...</td>\n",
       "      <td>...</td>\n",
       "    </tr>\n",
       "    <tr>\n",
       "      <th>3044</th>\n",
       "      <td>SUPERMARKET_3_823</td>\n",
       "      <td>1.1880</td>\n",
       "      <td>3.5760</td>\n",
       "      <td>3.344609</td>\n",
       "      <td>15388</td>\n",
       "      <td>51466.838609</td>\n",
       "      <td>0</td>\n",
       "    </tr>\n",
       "    <tr>\n",
       "      <th>3045</th>\n",
       "      <td>SUPERMARKET_3_824</td>\n",
       "      <td>2.4000</td>\n",
       "      <td>3.2160</td>\n",
       "      <td>3.026692</td>\n",
       "      <td>8325</td>\n",
       "      <td>25197.214839</td>\n",
       "      <td>0</td>\n",
       "    </tr>\n",
       "    <tr>\n",
       "      <th>3046</th>\n",
       "      <td>SUPERMARKET_3_825</td>\n",
       "      <td>2.3880</td>\n",
       "      <td>5.2560</td>\n",
       "      <td>4.934385</td>\n",
       "      <td>13526</td>\n",
       "      <td>66742.496388</td>\n",
       "      <td>0</td>\n",
       "    </tr>\n",
       "    <tr>\n",
       "      <th>3047</th>\n",
       "      <td>SUPERMARKET_3_826</td>\n",
       "      <td>1.2000</td>\n",
       "      <td>1.5360</td>\n",
       "      <td>1.535790</td>\n",
       "      <td>12188</td>\n",
       "      <td>18718.210119</td>\n",
       "      <td>0</td>\n",
       "    </tr>\n",
       "    <tr>\n",
       "      <th>3048</th>\n",
       "      <td>SUPERMARKET_3_827</td>\n",
       "      <td>0.6000</td>\n",
       "      <td>1.2000</td>\n",
       "      <td>1.199395</td>\n",
       "      <td>11377</td>\n",
       "      <td>13645.511806</td>\n",
>>>>>>> ff450b12b17605e8d65dc5c0d29180185469e44a
       "      <td>0</td>\n",
       "    </tr>\n",
       "  </tbody>\n",
       "</table>\n",
       "</div>"
      ],
      "text/plain": [
<<<<<<< HEAD
       "               item  price_min  price_max  price_mean  sales  total_income  \\\n",
       "0  ACCESORIES_1_001       6.65    12.7414   11.032755   4093      45157.07   \n",
       "1  ACCESORIES_1_002       2.66     5.2801    5.275708   5059      26689.81   \n",
       "\n",
       "   k_means  \n",
       "0        0  \n",
       "1        0  "
      ]
     },
     "execution_count": 48,
=======
       "                   item  price_min  price_max  price_mean  sales  \\\n",
       "0      ACCESORIES_1_001     6.6500    12.7414   11.032755   4093   \n",
       "1      ACCESORIES_1_002     2.6600     5.2801    5.275708   5059   \n",
       "2      ACCESORIES_1_003     1.2502     7.9401    3.944125   1435   \n",
       "3      ACCESORIES_1_004     5.0141     6.1712    5.983299  39175   \n",
       "4      ACCESORIES_1_005     1.9950     4.0964    3.832119  14621   \n",
       "...                 ...        ...        ...         ...    ...   \n",
       "3044  SUPERMARKET_3_823     1.1880     3.5760    3.344609  15388   \n",
       "3045  SUPERMARKET_3_824     2.4000     3.2160    3.026692   8325   \n",
       "3046  SUPERMARKET_3_825     2.3880     5.2560    4.934385  13526   \n",
       "3047  SUPERMARKET_3_826     1.2000     1.5360    1.535790  12188   \n",
       "3048  SUPERMARKET_3_827     0.6000     1.2000    1.199395  11377   \n",
       "\n",
       "             income  k_means  \n",
       "0      45157.065966        3  \n",
       "1      26689.806185        0  \n",
       "2       5659.819343        0  \n",
       "3     234395.740703        3  \n",
       "4      56029.417625        0  \n",
       "...             ...      ...  \n",
       "3044   51466.838609        0  \n",
       "3045   25197.214839        0  \n",
       "3046   66742.496388        0  \n",
       "3047   18718.210119        0  \n",
       "3048   13645.511806        0  \n",
       "\n",
       "[3049 rows x 7 columns]"
      ]
     },
     "execution_count": 23,
>>>>>>> ff450b12b17605e8d65dc5c0d29180185469e44a
     "metadata": {},
     "output_type": "execute_result"
    }
   ],
   "source": [
    "\n",
    "df_clusterizado = df_cluster.merge(df_cluster1, on =['price_max','price_mean','total_income'], how='left')\n",
    "df_clusterizado.head(2)"
   ]
  },
  {
   "cell_type": "code",
<<<<<<< HEAD
   "execution_count": 54,
=======
   "execution_count": 24,
>>>>>>> ff450b12b17605e8d65dc5c0d29180185469e44a
   "metadata": {},
   "outputs": [
    {
     "data": {
      "text/plain": [
       "<function matplotlib.pyplot.show(close=None, block=None)>"
      ]
     },
<<<<<<< HEAD
     "execution_count": 54,
=======
     "execution_count": 24,
>>>>>>> ff450b12b17605e8d65dc5c0d29180185469e44a
     "metadata": {},
     "output_type": "execute_result"
    },
    {
     "data": {
<<<<<<< HEAD
      "image/png": "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",
=======
      "image/png": "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",
>>>>>>> ff450b12b17605e8d65dc5c0d29180185469e44a
      "text/plain": [
       "<Figure size 800x600 with 1 Axes>"
      ]
     },
     "metadata": {},
     "output_type": "display_data"
    }
   ],
   "source": [
    "plt.figure(figsize=(8,6))\n",
    "plt.title('Cluster for K-means')\n",
<<<<<<< HEAD
    "sns.scatterplot(data=df_cluster, x='sales', y='total_income', hue='k_means',palette='coolwarm')\n",
=======
    "sns.scatterplot(data=df_cluster, x='sales', y='income', hue='k_means',palette='coolwarm')\n",
>>>>>>> ff450b12b17605e8d65dc5c0d29180185469e44a
    "plt.show"
   ]
  },
  {
   "cell_type": "code",
<<<<<<< HEAD
   "execution_count": 79,
   "metadata": {},
   "outputs": [
    {
     "data": {
      "text/html": [
       "<div>\n",
       "<style scoped>\n",
       "    .dataframe tbody tr th:only-of-type {\n",
       "        vertical-align: middle;\n",
       "    }\n",
       "\n",
       "    .dataframe tbody tr th {\n",
       "        vertical-align: top;\n",
       "    }\n",
       "\n",
       "    .dataframe thead th {\n",
       "        text-align: right;\n",
       "    }\n",
       "</style>\n",
       "<table border=\"1\" class=\"dataframe\">\n",
       "  <thead>\n",
       "    <tr style=\"text-align: right;\">\n",
       "      <th></th>\n",
       "      <th>item</th>\n",
       "      <th>category</th>\n",
       "      <th>price_min</th>\n",
       "      <th>price_max</th>\n",
       "      <th>price_mean</th>\n",
       "      <th>sales</th>\n",
       "      <th>total_income</th>\n",
       "      <th>k_means</th>\n",
       "    </tr>\n",
       "  </thead>\n",
       "  <tbody>\n",
       "    <tr>\n",
       "      <th>1127</th>\n",
       "      <td>HOME_&amp;_GARDEN_2_031</td>\n",
       "      <td>HOME_&amp;_GARDEN</td>\n",
       "      <td>7.425</td>\n",
       "      <td>7.425</td>\n",
       "      <td>7.425</td>\n",
       "      <td>3713</td>\n",
       "      <td>27569.02</td>\n",
       "      <td>0</td>\n",
       "    </tr>\n",
       "  </tbody>\n",
       "</table>\n",
       "</div>"
      ],
      "text/plain": [
       "                     item       category  price_min  price_max  price_mean  \\\n",
       "1127  HOME_&_GARDEN_2_031  HOME_&_GARDEN      7.425      7.425       7.425   \n",
       "\n",
       "      sales  total_income  k_means  \n",
       "1127   3713      27569.02        0  "
      ]
     },
     "execution_count": 79,
     "metadata": {},
     "output_type": "execute_result"
    }
   ],
   "source": [
    "df_cluster.sample(1)"
   ]
  },
  {
   "cell_type": "code",
   "execution_count": 56,
   "metadata": {},
   "outputs": [],
   "source": [
    "df_cluster[\"category\"] = df_cluster[\"item\"].apply(lambda x: x[:-6])"
   ]
  },
  {
   "cell_type": "code",
   "execution_count": 72,
   "metadata": {},
   "outputs": [],
   "source": [
    "del(df_cluster['percentage'])"
   ]
  },
  {
   "cell_type": "code",
   "execution_count": 74,
   "metadata": {},
   "outputs": [],
   "source": [
    "columns = [\"item\", \"category\", \"price_min\", \"price_max\", \"price_mean\", \"sales\", \"total_income\",\"k_means\", ]"
   ]
  },
  {
   "cell_type": "code",
   "execution_count": 75,
   "metadata": {},
   "outputs": [],
   "source": [
    "df_cluster = df_cluster[columns]"
   ]
  },
  {
   "cell_type": "code",
   "execution_count": 80,
   "metadata": {},
   "outputs": [
    {
     "data": {
      "text/html": [
       "<div>\n",
       "<style scoped>\n",
       "    .dataframe tbody tr th:only-of-type {\n",
       "        vertical-align: middle;\n",
       "    }\n",
       "\n",
       "    .dataframe tbody tr th {\n",
       "        vertical-align: top;\n",
       "    }\n",
       "\n",
       "    .dataframe thead th {\n",
       "        text-align: right;\n",
       "    }\n",
       "</style>\n",
       "<table border=\"1\" class=\"dataframe\">\n",
       "  <thead>\n",
       "    <tr style=\"text-align: right;\">\n",
       "      <th></th>\n",
       "      <th>item</th>\n",
       "      <th>category</th>\n",
       "      <th>price_min</th>\n",
       "      <th>price_max</th>\n",
       "      <th>price_mean</th>\n",
       "      <th>sales</th>\n",
       "      <th>total_income</th>\n",
       "      <th>k_means</th>\n",
       "    </tr>\n",
       "  </thead>\n",
       "  <tbody>\n",
       "    <tr>\n",
       "      <th>2032</th>\n",
       "      <td>SUPERMARKET_2_206</td>\n",
       "      <td>SUPERMARKET</td>\n",
       "      <td>9.576</td>\n",
       "      <td>13.848</td>\n",
       "      <td>12.796039</td>\n",
       "      <td>5012</td>\n",
       "      <td>64133.75</td>\n",
       "      <td>0</td>\n",
       "    </tr>\n",
       "  </tbody>\n",
       "</table>\n",
       "</div>"
      ],
      "text/plain": [
       "                   item     category  price_min  price_max  price_mean  sales  \\\n",
       "2032  SUPERMARKET_2_206  SUPERMARKET      9.576     13.848   12.796039   5012   \n",
       "\n",
       "      total_income  k_means  \n",
       "2032      64133.75        0  "
      ]
     },
     "execution_count": 80,
     "metadata": {},
     "output_type": "execute_result"
    }
   ],
   "source": [
    "df_cluster.sample(1)"
   ]
  },
  {
   "cell_type": "code",
   "execution_count": 77,
   "metadata": {},
   "outputs": [],
   "source": [
    "# file_name = \"df_cluster.csv\"\n",
    "# df_cluster.to_csv(file_name)"
=======
   "execution_count": 25,
   "metadata": {},
   "outputs": [],
   "source": [
    "file_name = \"cluster_DSMARKET.csv\"\n",
    "df_cluster.to_csv(file_name)"
>>>>>>> ff450b12b17605e8d65dc5c0d29180185469e44a
   ]
  }
 ],
 "metadata": {
  "kernelspec": {
   "display_name": "env",
   "language": "python",
   "name": "python3"
  },
  "language_info": {
   "codemirror_mode": {
    "name": "ipython",
    "version": 3
   },
   "file_extension": ".py",
   "mimetype": "text/x-python",
   "name": "python",
   "nbconvert_exporter": "python",
   "pygments_lexer": "ipython3",
<<<<<<< HEAD
   "version": "3.11.9"
=======
   "version": "3.12.6"
>>>>>>> ff450b12b17605e8d65dc5c0d29180185469e44a
  }
 },
 "nbformat": 4,
 "nbformat_minor": 2
}
