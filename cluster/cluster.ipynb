{
 "cells": [
  {
   "cell_type": "code",
   "execution_count": 75,
   "metadata": {},
   "outputs": [],
   "source": [
    "import pandas as pd\n",
    "import numpy as np\n",
    "\n",
    "# loading ploting libraries\n",
    "import matplotlib.pyplot as plt\n",
    "import seaborn as sns\n",
    "%matplotlib inline\n",
    "\n",
    "# python core library for machine learning and data science\n",
    "import sklearn\n",
    "from sklearn import set_config\n",
    "set_config(transform_output = \"pandas\")\n",
    "\n",
    "from sklearn.pipeline import Pipeline\n",
    "from sklearn.preprocessing import FunctionTransformer\n",
    "from sklearn.preprocessing import RobustScaler, MinMaxScaler\n",
    "from sklearn.impute import KNNImputer, SimpleImputer\n",
    "\n",
    "from sklearn.preprocessing import StandardScaler\n",
    "from sklearn.cluster import KMeans"
   ]
  },
  {
   "cell_type": "code",
   "execution_count": 76,
   "metadata": {},
   "outputs": [],
   "source": [
    "df_price = pd.read_csv('./data/df_price_cluster.csv')\n",
    "df_sales = pd.read_csv('./data/df_sales_cluster.csv')"
   ]
  },
  {
   "cell_type": "code",
   "execution_count": 77,
   "metadata": {},
   "outputs": [
    {
     "name": "stdout",
     "output_type": "stream",
     "text": [
      "(3049, 4)\n"
     ]
    },
    {
     "data": {
      "text/html": [
       "<div>\n",
       "<style scoped>\n",
       "    .dataframe tbody tr th:only-of-type {\n",
       "        vertical-align: middle;\n",
       "    }\n",
       "\n",
       "    .dataframe tbody tr th {\n",
       "        vertical-align: top;\n",
       "    }\n",
       "\n",
       "    .dataframe thead th {\n",
       "        text-align: right;\n",
       "    }\n",
       "</style>\n",
       "<table border=\"1\" class=\"dataframe\">\n",
       "  <thead>\n",
       "    <tr style=\"text-align: right;\">\n",
       "      <th></th>\n",
       "      <th>item</th>\n",
       "      <th>price_min</th>\n",
       "      <th>price_max</th>\n",
       "      <th>price_mean</th>\n",
       "    </tr>\n",
       "  </thead>\n",
       "  <tbody>\n",
       "    <tr>\n",
       "      <th>0</th>\n",
       "      <td>ACCESORIES_1_001</td>\n",
       "      <td>6.65</td>\n",
       "      <td>12.7414</td>\n",
       "      <td>11.032755</td>\n",
       "    </tr>\n",
       "  </tbody>\n",
       "</table>\n",
       "</div>"
      ],
      "text/plain": [
       "               item  price_min  price_max  price_mean\n",
       "0  ACCESORIES_1_001       6.65    12.7414   11.032755"
      ]
     },
     "execution_count": 77,
     "metadata": {},
     "output_type": "execute_result"
    }
   ],
   "source": [
    "del(df_price['Unnamed: 0'])\n",
    "print(df_price.shape)\n",
    "df_price.head(1)"
   ]
  },
  {
   "cell_type": "code",
   "execution_count": 78,
   "metadata": {},
   "outputs": [
    {
     "name": "stdout",
     "output_type": "stream",
     "text": [
      "(3049, 4)\n"
     ]
    },
    {
     "data": {
      "text/html": [
       "<div>\n",
       "<style scoped>\n",
       "    .dataframe tbody tr th:only-of-type {\n",
       "        vertical-align: middle;\n",
       "    }\n",
       "\n",
       "    .dataframe tbody tr th {\n",
       "        vertical-align: top;\n",
       "    }\n",
       "\n",
       "    .dataframe thead th {\n",
       "        text-align: right;\n",
       "    }\n",
       "</style>\n",
       "<table border=\"1\" class=\"dataframe\">\n",
       "  <thead>\n",
       "    <tr style=\"text-align: right;\">\n",
       "      <th></th>\n",
       "      <th>item</th>\n",
       "      <th>sales</th>\n",
       "    </tr>\n",
       "  </thead>\n",
       "  <tbody>\n",
       "    <tr>\n",
       "      <th>0</th>\n",
       "      <td>ACCESORIES_1_001</td>\n",
       "      <td>4093</td>\n",
       "    </tr>\n",
       "  </tbody>\n",
       "</table>\n",
       "</div>"
      ],
      "text/plain": [
       "               item  sales\n",
       "0  ACCESORIES_1_001   4093"
      ]
     },
     "execution_count": 78,
     "metadata": {},
     "output_type": "execute_result"
    }
   ],
   "source": [
    "print(df_price.shape)\n",
    "df_sales.head(1)"
   ]
  },
  {
   "cell_type": "code",
   "execution_count": 79,
   "metadata": {},
   "outputs": [
    {
     "data": {
      "text/html": [
       "<div>\n",
       "<style scoped>\n",
       "    .dataframe tbody tr th:only-of-type {\n",
       "        vertical-align: middle;\n",
       "    }\n",
       "\n",
       "    .dataframe tbody tr th {\n",
       "        vertical-align: top;\n",
       "    }\n",
       "\n",
       "    .dataframe thead th {\n",
       "        text-align: right;\n",
       "    }\n",
       "</style>\n",
       "<table border=\"1\" class=\"dataframe\">\n",
       "  <thead>\n",
       "    <tr style=\"text-align: right;\">\n",
       "      <th></th>\n",
       "      <th>item</th>\n",
       "      <th>price_min</th>\n",
       "      <th>price_max</th>\n",
       "      <th>price_mean</th>\n",
       "      <th>sales</th>\n",
       "    </tr>\n",
       "  </thead>\n",
       "  <tbody>\n",
       "    <tr>\n",
       "      <th>0</th>\n",
       "      <td>ACCESORIES_1_001</td>\n",
       "      <td>6.65</td>\n",
       "      <td>12.7414</td>\n",
       "      <td>11.032755</td>\n",
       "      <td>4093</td>\n",
       "    </tr>\n",
       "  </tbody>\n",
       "</table>\n",
       "</div>"
      ],
      "text/plain": [
       "               item  price_min  price_max  price_mean  sales\n",
       "0  ACCESORIES_1_001       6.65    12.7414   11.032755   4093"
      ]
     },
     "execution_count": 79,
     "metadata": {},
     "output_type": "execute_result"
    }
   ],
   "source": [
    "df_cluster = pd.merge(df_price, df_sales, on=['item'], how='left')\n",
    "df_cluster.head(1)"
   ]
  },
  {
   "cell_type": "code",
   "execution_count": 80,
   "metadata": {},
   "outputs": [
    {
     "data": {
      "text/html": [
       "<div>\n",
       "<style scoped>\n",
       "    .dataframe tbody tr th:only-of-type {\n",
       "        vertical-align: middle;\n",
       "    }\n",
       "\n",
       "    .dataframe tbody tr th {\n",
       "        vertical-align: top;\n",
       "    }\n",
       "\n",
       "    .dataframe thead th {\n",
       "        text-align: right;\n",
       "    }\n",
       "</style>\n",
       "<table border=\"1\" class=\"dataframe\">\n",
       "  <thead>\n",
       "    <tr style=\"text-align: right;\">\n",
       "      <th></th>\n",
       "      <th>item</th>\n",
       "      <th>price_min</th>\n",
       "      <th>price_max</th>\n",
       "      <th>price_mean</th>\n",
       "      <th>sales</th>\n",
       "      <th>income</th>\n",
       "    </tr>\n",
       "  </thead>\n",
       "  <tbody>\n",
       "    <tr>\n",
       "      <th>0</th>\n",
       "      <td>ACCESORIES_1_001</td>\n",
       "      <td>6.65</td>\n",
       "      <td>12.7414</td>\n",
       "      <td>11.032755</td>\n",
       "      <td>4093</td>\n",
       "      <td>45157.065966</td>\n",
       "    </tr>\n",
       "    <tr>\n",
       "      <th>1</th>\n",
       "      <td>ACCESORIES_1_002</td>\n",
       "      <td>2.66</td>\n",
       "      <td>5.2801</td>\n",
       "      <td>5.275708</td>\n",
       "      <td>5059</td>\n",
       "      <td>26689.806185</td>\n",
       "    </tr>\n",
       "  </tbody>\n",
       "</table>\n",
       "</div>"
      ],
      "text/plain": [
       "               item  price_min  price_max  price_mean  sales        income\n",
       "0  ACCESORIES_1_001       6.65    12.7414   11.032755   4093  45157.065966\n",
       "1  ACCESORIES_1_002       2.66     5.2801    5.275708   5059  26689.806185"
      ]
     },
     "execution_count": 80,
     "metadata": {},
     "output_type": "execute_result"
    }
   ],
   "source": [
    "#Created colum \"total_income\" that represent the total income for product\n",
    "df_cluster['income']= df_cluster['price_mean']*df_cluster['sales']\n",
    "df_cluster.head(2)"
   ]
  },
  {
   "cell_type": "code",
   "execution_count": 81,
   "metadata": {},
   "outputs": [
    {
     "data": {
      "text/html": [
       "<div>\n",
       "<style scoped>\n",
       "    .dataframe tbody tr th:only-of-type {\n",
       "        vertical-align: middle;\n",
       "    }\n",
       "\n",
       "    .dataframe tbody tr th {\n",
       "        vertical-align: top;\n",
       "    }\n",
       "\n",
       "    .dataframe thead th {\n",
       "        text-align: right;\n",
       "    }\n",
       "</style>\n",
       "<table border=\"1\" class=\"dataframe\">\n",
       "  <thead>\n",
       "    <tr style=\"text-align: right;\">\n",
       "      <th></th>\n",
       "      <th>count</th>\n",
       "      <th>mean</th>\n",
       "      <th>std</th>\n",
       "      <th>min</th>\n",
       "      <th>25%</th>\n",
       "      <th>50%</th>\n",
       "      <th>75%</th>\n",
       "      <th>max</th>\n",
       "    </tr>\n",
       "  </thead>\n",
       "  <tbody>\n",
       "    <tr>\n",
       "      <th>price_min</th>\n",
       "      <td>3049.0</td>\n",
       "      <td>3.630382</td>\n",
       "      <td>3.568067</td>\n",
       "      <td>0.012000</td>\n",
       "      <td>1.237500</td>\n",
       "      <td>2.400000</td>\n",
       "      <td>4.776000</td>\n",
       "      <td>3.588340e+01</td>\n",
       "    </tr>\n",
       "    <tr>\n",
       "      <th>price_max</th>\n",
       "      <td>3049.0</td>\n",
       "      <td>5.974956</td>\n",
       "      <td>5.517955</td>\n",
       "      <td>0.300000</td>\n",
       "      <td>2.856000</td>\n",
       "      <td>4.416000</td>\n",
       "      <td>7.475000</td>\n",
       "      <td>1.341500e+02</td>\n",
       "    </tr>\n",
       "    <tr>\n",
       "      <th>price_mean</th>\n",
       "      <td>3049.0</td>\n",
       "      <td>5.566813</td>\n",
       "      <td>4.538464</td>\n",
       "      <td>0.239601</td>\n",
       "      <td>2.628430</td>\n",
       "      <td>4.185494</td>\n",
       "      <td>7.190740</td>\n",
       "      <td>3.949448e+01</td>\n",
       "    </tr>\n",
       "    <tr>\n",
       "      <th>sales</th>\n",
       "      <td>3049.0</td>\n",
       "      <td>21546.542801</td>\n",
       "      <td>44252.433426</td>\n",
       "      <td>568.000000</td>\n",
       "      <td>4310.000000</td>\n",
       "      <td>9526.000000</td>\n",
       "      <td>21406.000000</td>\n",
       "      <td>1.002529e+06</td>\n",
       "    </tr>\n",
       "    <tr>\n",
       "      <th>income</th>\n",
       "      <td>3049.0</td>\n",
       "      <td>76059.791880</td>\n",
       "      <td>113715.620975</td>\n",
       "      <td>558.879300</td>\n",
       "      <td>21808.820666</td>\n",
       "      <td>43503.828743</td>\n",
       "      <td>84068.787748</td>\n",
       "      <td>1.759780e+06</td>\n",
       "    </tr>\n",
       "  </tbody>\n",
       "</table>\n",
       "</div>"
      ],
      "text/plain": [
       "             count          mean            std         min           25%  \\\n",
       "price_min   3049.0      3.630382       3.568067    0.012000      1.237500   \n",
       "price_max   3049.0      5.974956       5.517955    0.300000      2.856000   \n",
       "price_mean  3049.0      5.566813       4.538464    0.239601      2.628430   \n",
       "sales       3049.0  21546.542801   44252.433426  568.000000   4310.000000   \n",
       "income      3049.0  76059.791880  113715.620975  558.879300  21808.820666   \n",
       "\n",
       "                     50%           75%           max  \n",
       "price_min       2.400000      4.776000  3.588340e+01  \n",
       "price_max       4.416000      7.475000  1.341500e+02  \n",
       "price_mean      4.185494      7.190740  3.949448e+01  \n",
       "sales        9526.000000  21406.000000  1.002529e+06  \n",
       "income      43503.828743  84068.787748  1.759780e+06  "
      ]
     },
     "execution_count": 81,
     "metadata": {},
     "output_type": "execute_result"
    }
   ],
   "source": [
    "df_cluster.describe().T"
   ]
  },
  {
   "cell_type": "code",
   "execution_count": 82,
   "metadata": {},
   "outputs": [
    {
     "data": {
      "text/plain": [
       "<Axes: xlabel='sales', ylabel='income'>"
      ]
     },
     "execution_count": 82,
     "metadata": {},
     "output_type": "execute_result"
    },
    {
     "data": {
      "image/png": "[encoded data removed]",
      "text/plain": [
       "<Figure size 640x480 with 1 Axes>"
      ]
     },
     "metadata": {},
     "output_type": "display_data"
    }
   ],
   "source": [
    "sns.scatterplot(data= df_cluster , x='sales', y='income')"
   ]
  },
  {
   "cell_type": "code",
   "execution_count": 83,
   "metadata": {},
   "outputs": [],
   "source": [
    "df_cluster1 = df_cluster.copy()"
   ]
  },
  {
   "cell_type": "code",
   "execution_count": 84,
   "metadata": {},
   "outputs": [
    {
     "data": {
      "text/html": [
       "<div>\n",
       "<style scoped>\n",
       "    .dataframe tbody tr th:only-of-type {\n",
       "        vertical-align: middle;\n",
       "    }\n",
       "\n",
       "    .dataframe tbody tr th {\n",
       "        vertical-align: top;\n",
       "    }\n",
       "\n",
       "    .dataframe thead th {\n",
       "        text-align: right;\n",
       "    }\n",
       "</style>\n",
       "<table border=\"1\" class=\"dataframe\">\n",
       "  <thead>\n",
       "    <tr style=\"text-align: right;\">\n",
       "      <th></th>\n",
       "      <th>item</th>\n",
       "      <th>price_min</th>\n",
       "      <th>price_max</th>\n",
       "      <th>price_mean</th>\n",
       "      <th>sales</th>\n",
       "      <th>income</th>\n",
       "    </tr>\n",
       "  </thead>\n",
       "  <tbody>\n",
       "    <tr>\n",
       "      <th>0</th>\n",
       "      <td>ACCESORIES_1_001</td>\n",
       "      <td>6.65</td>\n",
       "      <td>12.7414</td>\n",
       "      <td>11.032755</td>\n",
       "      <td>4093</td>\n",
       "      <td>45157.065966</td>\n",
       "    </tr>\n",
       "  </tbody>\n",
       "</table>\n",
       "</div>"
      ],
      "text/plain": [
       "               item  price_min  price_max  price_mean  sales        income\n",
       "0  ACCESORIES_1_001       6.65    12.7414   11.032755   4093  45157.065966"
      ]
     },
     "execution_count": 84,
     "metadata": {},
     "output_type": "execute_result"
    }
   ],
   "source": [
    "df_cluster1.head(1)"
   ]
  },
  {
   "cell_type": "code",
   "execution_count": 85,
   "metadata": {},
   "outputs": [],
   "source": [
    "#Only work with \"price_max\", \"price_mean\" and income variables\n",
    "df_cluster1.drop(columns=['item','price_min','sales'], axis=1,inplace=True)"
   ]
  },
  {
   "cell_type": "code",
   "execution_count": 86,
   "metadata": {},
   "outputs": [
    {
     "data": {
      "text/html": [
       "<div>\n",
       "<style scoped>\n",
       "    .dataframe tbody tr th:only-of-type {\n",
       "        vertical-align: middle;\n",
       "    }\n",
       "\n",
       "    .dataframe tbody tr th {\n",
       "        vertical-align: top;\n",
       "    }\n",
       "\n",
       "    .dataframe thead th {\n",
       "        text-align: right;\n",
       "    }\n",
       "</style>\n",
       "<table border=\"1\" class=\"dataframe\">\n",
       "  <thead>\n",
       "    <tr style=\"text-align: right;\">\n",
       "      <th></th>\n",
       "      <th>price_max</th>\n",
       "      <th>price_mean</th>\n",
       "      <th>income</th>\n",
       "    </tr>\n",
       "  </thead>\n",
       "  <tbody>\n",
       "    <tr>\n",
       "      <th>0</th>\n",
       "      <td>12.7414</td>\n",
       "      <td>11.032755</td>\n",
       "      <td>45157.065966</td>\n",
       "    </tr>\n",
       "  </tbody>\n",
       "</table>\n",
       "</div>"
      ],
      "text/plain": [
       "   price_max  price_mean        income\n",
       "0    12.7414   11.032755  45157.065966"
      ]
     },
     "execution_count": 86,
     "metadata": {},
     "output_type": "execute_result"
    }
   ],
   "source": [
    "df_cluster1.head(1)"
   ]
  },
  {
   "cell_type": "markdown",
   "metadata": {},
   "source": [
    "# Start Clustering"
   ]
  },
  {
   "cell_type": "markdown",
   "metadata": {},
   "source": [
    "## Scale my variables"
   ]
  },
  {
   "cell_type": "code",
   "execution_count": 87,
   "metadata": {},
   "outputs": [],
   "source": [
    "scaaler = StandardScaler()\n",
    "df_cluster_scaled = scaaler.fit_transform(df_cluster1)"
   ]
  },
  {
   "cell_type": "code",
   "execution_count": 88,
   "metadata": {},
   "outputs": [
    {
     "data": {
      "text/html": [
       "<div>\n",
       "<style scoped>\n",
       "    .dataframe tbody tr th:only-of-type {\n",
       "        vertical-align: middle;\n",
       "    }\n",
       "\n",
       "    .dataframe tbody tr th {\n",
       "        vertical-align: top;\n",
       "    }\n",
       "\n",
       "    .dataframe thead th {\n",
       "        text-align: right;\n",
       "    }\n",
       "</style>\n",
       "<table border=\"1\" class=\"dataframe\">\n",
       "  <thead>\n",
       "    <tr style=\"text-align: right;\">\n",
       "      <th></th>\n",
       "      <th>price_max</th>\n",
       "      <th>price_mean</th>\n",
       "      <th>income</th>\n",
       "    </tr>\n",
       "  </thead>\n",
       "  <tbody>\n",
       "    <tr>\n",
       "      <th>0</th>\n",
       "      <td>1.226460</td>\n",
       "      <td>1.204557</td>\n",
       "      <td>-0.271799</td>\n",
       "    </tr>\n",
       "    <tr>\n",
       "      <th>1</th>\n",
       "      <td>-0.125947</td>\n",
       "      <td>-0.064152</td>\n",
       "      <td>-0.434224</td>\n",
       "    </tr>\n",
       "    <tr>\n",
       "      <th>2</th>\n",
       "      <td>0.356195</td>\n",
       "      <td>-0.357600</td>\n",
       "      <td>-0.619190</td>\n",
       "    </tr>\n",
       "    <tr>\n",
       "      <th>3</th>\n",
       "      <td>0.035570</td>\n",
       "      <td>0.091783</td>\n",
       "      <td>1.392614</td>\n",
       "    </tr>\n",
       "    <tr>\n",
       "      <th>4</th>\n",
       "      <td>-0.340500</td>\n",
       "      <td>-0.382283</td>\n",
       "      <td>-0.176173</td>\n",
       "    </tr>\n",
       "  </tbody>\n",
       "</table>\n",
       "</div>"
      ],
      "text/plain": [
       "   price_max  price_mean    income\n",
       "0   1.226460    1.204557 -0.271799\n",
       "1  -0.125947   -0.064152 -0.434224\n",
       "2   0.356195   -0.357600 -0.619190\n",
       "3   0.035570    0.091783  1.392614\n",
       "4  -0.340500   -0.382283 -0.176173"
      ]
     },
     "execution_count": 88,
     "metadata": {},
     "output_type": "execute_result"
    }
   ],
   "source": [
    "df_cluster_scaled.head()"
   ]
  },
  {
   "cell_type": "markdown",
   "metadata": {},
   "source": [
    "## Using PCA"
   ]
  },
  {
   "cell_type": "code",
   "execution_count": 89,
   "metadata": {},
   "outputs": [],
   "source": [
    "# from sklearn.decomposition import PCA"
   ]
  },
  {
   "cell_type": "code",
   "execution_count": 90,
   "metadata": {},
   "outputs": [],
   "source": [
    "# pca = PCA()\n",
    "# pca.fit(df_cluster_scaled)\n",
    "# pca_data_scaled = pca.transform(df_cluster_scaled)\n",
    "# pca_data_scaled"
   ]
  },
  {
   "cell_type": "code",
   "execution_count": 91,
   "metadata": {},
   "outputs": [],
   "source": [
    "# var = pca.explained_variance_ratio_\n",
    "# print(var)"
   ]
  },
  {
   "cell_type": "code",
   "execution_count": 92,
   "metadata": {},
   "outputs": [],
   "source": [
    "# cum_var = np.cumsum(np.round(var, decimals=4)*100)\n",
    "# plt.figure(figsize=(10,10))\n",
    "# plt.plot(cum_var, 'r-x')\n",
    "# plt.show()"
   ]
  },
  {
   "cell_type": "code",
   "execution_count": 93,
   "metadata": {},
   "outputs": [],
   "source": [
    "sum_of_squared_distances = []\n",
    "K = range(2,15)\n",
    "for _ in K:\n",
    "    km = KMeans(n_clusters = _)\n",
    "    y = km.fit_predict(df_cluster_scaled)\n",
    "    sum_of_squared_distances.append(km.inertia_)"
   ]
  },
  {
   "cell_type": "code",
   "execution_count": 94,
   "metadata": {},
   "outputs": [
    {
     "data": {
      "image/png": "[encoded data removed]",
      "text/plain": [
       "<Figure size 800x800 with 1 Axes>"
      ]
     },
     "metadata": {},
     "output_type": "display_data"
    }
   ],
   "source": [
    "plt.figure(figsize=(8,8))\n",
    "plt.plot(K, sum_of_squared_distances, 'bx-')\n",
    "plt.xlabel('k')\n",
    "plt.ylabel('Inertia')\n",
    "plt.show()"
   ]
  },
  {
   "cell_type": "code",
   "execution_count": 95,
   "metadata": {},
   "outputs": [],
   "source": [
    "# Uso Kmean for identify \"codo\"\n",
    "km = KMeans(n_clusters = 4, random_state=12)\n",
    "y = km.fit_predict(df_cluster_scaled)\n",
    "#print(silhouette_score(df_cluster_scaled, y))\n",
    "df_cluster['k_means'] = y"
   ]
  },
  {
   "cell_type": "code",
   "execution_count": 96,
   "metadata": {},
   "outputs": [
    {
     "data": {
      "text/html": [
       "<div>\n",
       "<style scoped>\n",
       "    .dataframe tbody tr th:only-of-type {\n",
       "        vertical-align: middle;\n",
       "    }\n",
       "\n",
       "    .dataframe tbody tr th {\n",
       "        vertical-align: top;\n",
       "    }\n",
       "\n",
       "    .dataframe thead th {\n",
       "        text-align: right;\n",
       "    }\n",
       "</style>\n",
       "<table border=\"1\" class=\"dataframe\">\n",
       "  <thead>\n",
       "    <tr style=\"text-align: right;\">\n",
       "      <th></th>\n",
       "      <th>item</th>\n",
       "      <th>price_min</th>\n",
       "      <th>price_max</th>\n",
       "      <th>price_mean</th>\n",
       "      <th>sales</th>\n",
       "      <th>income</th>\n",
       "      <th>k_means</th>\n",
       "    </tr>\n",
       "  </thead>\n",
       "  <tbody>\n",
       "    <tr>\n",
       "      <th>0</th>\n",
       "      <td>ACCESORIES_1_001</td>\n",
       "      <td>6.65</td>\n",
       "      <td>12.7414</td>\n",
       "      <td>11.032755</td>\n",
       "      <td>4093</td>\n",
       "      <td>45157.065966</td>\n",
       "      <td>3</td>\n",
       "    </tr>\n",
       "    <tr>\n",
       "      <th>1</th>\n",
       "      <td>ACCESORIES_1_002</td>\n",
       "      <td>2.66</td>\n",
       "      <td>5.2801</td>\n",
       "      <td>5.275708</td>\n",
       "      <td>5059</td>\n",
       "      <td>26689.806185</td>\n",
       "      <td>0</td>\n",
       "    </tr>\n",
       "  </tbody>\n",
       "</table>\n",
       "</div>"
      ],
      "text/plain": [
       "               item  price_min  price_max  price_mean  sales        income  \\\n",
       "0  ACCESORIES_1_001       6.65    12.7414   11.032755   4093  45157.065966   \n",
       "1  ACCESORIES_1_002       2.66     5.2801    5.275708   5059  26689.806185   \n",
       "\n",
       "   k_means  \n",
       "0        3  \n",
       "1        0  "
      ]
     },
     "execution_count": 96,
     "metadata": {},
     "output_type": "execute_result"
    }
   ],
   "source": [
    "# Clustered completed\n",
    "df_cluster.head(2)"
   ]
  },
  {
   "cell_type": "code",
   "execution_count": 97,
   "metadata": {},
   "outputs": [
    {
     "data": {
      "text/html": [
       "<div>\n",
       "<style scoped>\n",
       "    .dataframe tbody tr th:only-of-type {\n",
       "        vertical-align: middle;\n",
       "    }\n",
       "\n",
       "    .dataframe tbody tr th {\n",
       "        vertical-align: top;\n",
       "    }\n",
       "\n",
       "    .dataframe thead th {\n",
       "        text-align: right;\n",
       "    }\n",
       "</style>\n",
       "<table border=\"1\" class=\"dataframe\">\n",
       "  <thead>\n",
       "    <tr style=\"text-align: right;\">\n",
       "      <th></th>\n",
       "      <th>item</th>\n",
       "      <th>price_min</th>\n",
       "      <th>price_max</th>\n",
       "      <th>price_mean</th>\n",
       "      <th>sales</th>\n",
       "      <th>income</th>\n",
       "      <th>k_means</th>\n",
       "    </tr>\n",
       "  </thead>\n",
       "  <tbody>\n",
       "    <tr>\n",
       "      <th>0</th>\n",
       "      <td>ACCESORIES_1_001</td>\n",
       "      <td>6.6500</td>\n",
       "      <td>12.7414</td>\n",
       "      <td>11.032755</td>\n",
       "      <td>4093</td>\n",
       "      <td>45157.065966</td>\n",
       "      <td>3</td>\n",
       "    </tr>\n",
       "    <tr>\n",
       "      <th>1</th>\n",
       "      <td>ACCESORIES_1_002</td>\n",
       "      <td>2.6600</td>\n",
       "      <td>5.2801</td>\n",
       "      <td>5.275708</td>\n",
       "      <td>5059</td>\n",
       "      <td>26689.806185</td>\n",
       "      <td>0</td>\n",
       "    </tr>\n",
       "    <tr>\n",
       "      <th>2</th>\n",
       "      <td>ACCESORIES_1_003</td>\n",
       "      <td>1.2502</td>\n",
       "      <td>7.9401</td>\n",
       "      <td>3.944125</td>\n",
       "      <td>1435</td>\n",
       "      <td>5659.819343</td>\n",
       "      <td>0</td>\n",
       "    </tr>\n",
       "    <tr>\n",
       "      <th>3</th>\n",
       "      <td>ACCESORIES_1_004</td>\n",
       "      <td>5.0141</td>\n",
       "      <td>6.1712</td>\n",
       "      <td>5.983299</td>\n",
       "      <td>39175</td>\n",
       "      <td>234395.740703</td>\n",
       "      <td>3</td>\n",
       "    </tr>\n",
       "    <tr>\n",
       "      <th>4</th>\n",
       "      <td>ACCESORIES_1_005</td>\n",
       "      <td>1.9950</td>\n",
       "      <td>4.0964</td>\n",
       "      <td>3.832119</td>\n",
       "      <td>14621</td>\n",
       "      <td>56029.417625</td>\n",
       "      <td>0</td>\n",
       "    </tr>\n",
       "    <tr>\n",
       "      <th>...</th>\n",
       "      <td>...</td>\n",
       "      <td>...</td>\n",
       "      <td>...</td>\n",
       "      <td>...</td>\n",
       "      <td>...</td>\n",
       "      <td>...</td>\n",
       "      <td>...</td>\n",
       "    </tr>\n",
       "    <tr>\n",
       "      <th>3044</th>\n",
       "      <td>SUPERMARKET_3_823</td>\n",
       "      <td>1.1880</td>\n",
       "      <td>3.5760</td>\n",
       "      <td>3.344609</td>\n",
       "      <td>15388</td>\n",
       "      <td>51466.838609</td>\n",
       "      <td>0</td>\n",
       "    </tr>\n",
       "    <tr>\n",
       "      <th>3045</th>\n",
       "      <td>SUPERMARKET_3_824</td>\n",
       "      <td>2.4000</td>\n",
       "      <td>3.2160</td>\n",
       "      <td>3.026692</td>\n",
       "      <td>8325</td>\n",
       "      <td>25197.214839</td>\n",
       "      <td>0</td>\n",
       "    </tr>\n",
       "    <tr>\n",
       "      <th>3046</th>\n",
       "      <td>SUPERMARKET_3_825</td>\n",
       "      <td>2.3880</td>\n",
       "      <td>5.2560</td>\n",
       "      <td>4.934385</td>\n",
       "      <td>13526</td>\n",
       "      <td>66742.496388</td>\n",
       "      <td>0</td>\n",
       "    </tr>\n",
       "    <tr>\n",
       "      <th>3047</th>\n",
       "      <td>SUPERMARKET_3_826</td>\n",
       "      <td>1.2000</td>\n",
       "      <td>1.5360</td>\n",
       "      <td>1.535790</td>\n",
       "      <td>12188</td>\n",
       "      <td>18718.210119</td>\n",
       "      <td>0</td>\n",
       "    </tr>\n",
       "    <tr>\n",
       "      <th>3048</th>\n",
       "      <td>SUPERMARKET_3_827</td>\n",
       "      <td>0.6000</td>\n",
       "      <td>1.2000</td>\n",
       "      <td>1.199395</td>\n",
       "      <td>11377</td>\n",
       "      <td>13645.511806</td>\n",
       "      <td>0</td>\n",
       "    </tr>\n",
       "  </tbody>\n",
       "</table>\n",
       "<p>3049 rows × 7 columns</p>\n",
       "</div>"
      ],
      "text/plain": [
       "                   item  price_min  price_max  price_mean  sales  \\\n",
       "0      ACCESORIES_1_001     6.6500    12.7414   11.032755   4093   \n",
       "1      ACCESORIES_1_002     2.6600     5.2801    5.275708   5059   \n",
       "2      ACCESORIES_1_003     1.2502     7.9401    3.944125   1435   \n",
       "3      ACCESORIES_1_004     5.0141     6.1712    5.983299  39175   \n",
       "4      ACCESORIES_1_005     1.9950     4.0964    3.832119  14621   \n",
       "...                 ...        ...        ...         ...    ...   \n",
       "3044  SUPERMARKET_3_823     1.1880     3.5760    3.344609  15388   \n",
       "3045  SUPERMARKET_3_824     2.4000     3.2160    3.026692   8325   \n",
       "3046  SUPERMARKET_3_825     2.3880     5.2560    4.934385  13526   \n",
       "3047  SUPERMARKET_3_826     1.2000     1.5360    1.535790  12188   \n",
       "3048  SUPERMARKET_3_827     0.6000     1.2000    1.199395  11377   \n",
       "\n",
       "             income  k_means  \n",
       "0      45157.065966        3  \n",
       "1      26689.806185        0  \n",
       "2       5659.819343        0  \n",
       "3     234395.740703        3  \n",
       "4      56029.417625        0  \n",
       "...             ...      ...  \n",
       "3044   51466.838609        0  \n",
       "3045   25197.214839        0  \n",
       "3046   66742.496388        0  \n",
       "3047   18718.210119        0  \n",
       "3048   13645.511806        0  \n",
       "\n",
       "[3049 rows x 7 columns]"
      ]
     },
     "execution_count": 97,
     "metadata": {},
     "output_type": "execute_result"
    }
   ],
   "source": [
    "df_cluster"
   ]
  },
  {
   "cell_type": "code",
   "execution_count": 98,
   "metadata": {},
   "outputs": [],
   "source": [
    "# #Hago merge del clusterizado con original para poder plotear\n",
    "# df_clusterizado = df_cluster.merge(df_cluster1, on =['price_max','price_min','total_income'], how='left')\n",
    "# df_clusterizado.head(2)"
   ]
  },
  {
   "cell_type": "code",
   "execution_count": 99,
   "metadata": {},
   "outputs": [
    {
     "data": {
      "text/plain": [
       "<function matplotlib.pyplot.show(close=None, block=None)>"
      ]
     },
     "execution_count": 99,
     "metadata": {},
     "output_type": "execute_result"
    },
    {
     "data": {
      "image/png": "[encoded data removed]",
      "text/plain": [
       "<Figure size 800x600 with 1 Axes>"
      ]
     },
     "metadata": {},
     "output_type": "display_data"
    }
   ],
   "source": [
    "plt.figure(figsize=(8,6))\n",
    "plt.title('Cluster for K-means')\n",
    "sns.scatterplot(data=df_cluster, x='sales', y='income', hue='k_means',palette='coolwarm')\n",
    "plt.show"
   ]
  },
  {
   "cell_type": "code",
   "execution_count": 100,
   "metadata": {},
   "outputs": [],
   "source": [
    "# file_name = \"cluster_DSMARKET.csv\"\n",
    "# df_cluster.to_csv(file_name)"
   ]
  }
 ],
 "metadata": {
  "kernelspec": {
   "display_name": "env",
   "language": "python",
   "name": "python3"
  },
  "language_info": {
   "codemirror_mode": {
    "name": "ipython",
    "version": 3
   },
   "file_extension": ".py",
   "mimetype": "text/x-python",
   "name": "python",
   "nbconvert_exporter": "python",
   "pygments_lexer": "ipython3",
   "version": "3.10.12"
  }
 },
 "nbformat": 4,
 "nbformat_minor": 2
}
