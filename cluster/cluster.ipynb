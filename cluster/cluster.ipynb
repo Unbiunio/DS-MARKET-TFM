{
 "cells": [
  {
   "cell_type": "markdown",
   "metadata": {},
   "source": [
    "# df cluster\n"
   ]
  },
  {
   "cell_type": "markdown",
   "metadata": {},
   "source": [
    "### loading libraries"
   ]
  },
  {
   "cell_type": "code",
   "execution_count": 1,
   "metadata": {},
   "outputs": [],
   "source": [
    "import pandas as pd\n",
    "import numpy as np\n",
    "\n",
    "# loading ploting libraries\n",
    "import matplotlib.pyplot as plt\n",
    "import seaborn as sns\n",
    "%matplotlib inline\n",
    "\n",
    "# python core library for machine learning and data science\n",
    "import sklearn\n",
    "from sklearn import set_config\n",
    "set_config(transform_output = \"pandas\")\n",
    "\n",
    "from sklearn.pipeline import Pipeline\n",
    "from sklearn.preprocessing import FunctionTransformer\n",
    "from sklearn.preprocessing import RobustScaler, MinMaxScaler\n",
    "from sklearn.impute import KNNImputer, SimpleImputer\n",
    "from sklearn.cluster import KMeans"
   ]
  },
  {
   "cell_type": "markdown",
   "metadata": {},
   "source": [
    "### loading csv files"
   ]
  },
  {
   "cell_type": "code",
   "execution_count": 2,
   "metadata": {},
   "outputs": [],
   "source": [
    "df_price = pd.read_csv('./data/df_price_cluster.csv')\n",
    "df_sales = pd.read_csv('./data/df_sales_cluster.csv')"
   ]
  },
  {
   "cell_type": "markdown",
   "metadata": {},
   "source": [
    "### csv files exploration"
   ]
  },
  {
   "cell_type": "code",
   "execution_count": 3,
   "metadata": {},
   "outputs": [
    {
     "data": {
      "text/html": [
       "<div>\n",
       "<style scoped>\n",
       "    .dataframe tbody tr th:only-of-type {\n",
       "        vertical-align: middle;\n",
       "    }\n",
       "\n",
       "    .dataframe tbody tr th {\n",
       "        vertical-align: top;\n",
       "    }\n",
       "\n",
       "    .dataframe thead th {\n",
       "        text-align: right;\n",
       "    }\n",
       "</style>\n",
       "<table border=\"1\" class=\"dataframe\">\n",
       "  <thead>\n",
       "    <tr style=\"text-align: right;\">\n",
       "      <th></th>\n",
       "      <th>Unnamed: 0</th>\n",
       "      <th>item</th>\n",
       "      <th>price_min</th>\n",
       "      <th>price_max</th>\n",
       "      <th>price_mean</th>\n",
       "    </tr>\n",
       "  </thead>\n",
       "  <tbody>\n",
       "    <tr>\n",
       "      <th>0</th>\n",
       "      <td>0</td>\n",
       "      <td>ACCESORIES_1_001</td>\n",
       "      <td>6.6500</td>\n",
       "      <td>12.7414</td>\n",
       "      <td>11.032755</td>\n",
       "    </tr>\n",
       "    <tr>\n",
       "      <th>1</th>\n",
       "      <td>1</td>\n",
       "      <td>ACCESORIES_1_002</td>\n",
       "      <td>2.6600</td>\n",
       "      <td>5.2801</td>\n",
       "      <td>5.275708</td>\n",
       "    </tr>\n",
       "    <tr>\n",
       "      <th>2</th>\n",
       "      <td>2</td>\n",
       "      <td>ACCESORIES_1_003</td>\n",
       "      <td>1.2502</td>\n",
       "      <td>7.9401</td>\n",
       "      <td>3.944125</td>\n",
       "    </tr>\n",
       "    <tr>\n",
       "      <th>3</th>\n",
       "      <td>3</td>\n",
       "      <td>ACCESORIES_1_004</td>\n",
       "      <td>5.0141</td>\n",
       "      <td>6.1712</td>\n",
       "      <td>5.983299</td>\n",
       "    </tr>\n",
       "    <tr>\n",
       "      <th>4</th>\n",
       "      <td>4</td>\n",
       "      <td>ACCESORIES_1_005</td>\n",
       "      <td>1.9950</td>\n",
       "      <td>4.0964</td>\n",
       "      <td>3.832119</td>\n",
       "    </tr>\n",
       "    <tr>\n",
       "      <th>...</th>\n",
       "      <td>...</td>\n",
       "      <td>...</td>\n",
       "      <td>...</td>\n",
       "      <td>...</td>\n",
       "      <td>...</td>\n",
       "    </tr>\n",
       "    <tr>\n",
       "      <th>3044</th>\n",
       "      <td>3044</td>\n",
       "      <td>SUPERMARKET_3_823</td>\n",
       "      <td>1.1880</td>\n",
       "      <td>3.5760</td>\n",
       "      <td>3.344609</td>\n",
       "    </tr>\n",
       "    <tr>\n",
       "      <th>3045</th>\n",
       "      <td>3045</td>\n",
       "      <td>SUPERMARKET_3_824</td>\n",
       "      <td>2.4000</td>\n",
       "      <td>3.2160</td>\n",
       "      <td>3.026692</td>\n",
       "    </tr>\n",
       "    <tr>\n",
       "      <th>3046</th>\n",
       "      <td>3046</td>\n",
       "      <td>SUPERMARKET_3_825</td>\n",
       "      <td>2.3880</td>\n",
       "      <td>5.2560</td>\n",
       "      <td>4.934385</td>\n",
       "    </tr>\n",
       "    <tr>\n",
       "      <th>3047</th>\n",
       "      <td>3047</td>\n",
       "      <td>SUPERMARKET_3_826</td>\n",
       "      <td>1.2000</td>\n",
       "      <td>1.5360</td>\n",
       "      <td>1.535790</td>\n",
       "    </tr>\n",
       "    <tr>\n",
       "      <th>3048</th>\n",
       "      <td>3048</td>\n",
       "      <td>SUPERMARKET_3_827</td>\n",
       "      <td>0.6000</td>\n",
       "      <td>1.2000</td>\n",
       "      <td>1.199395</td>\n",
       "    </tr>\n",
       "  </tbody>\n",
       "</table>\n",
       "<p>3049 rows × 5 columns</p>\n",
       "</div>"
      ],
      "text/plain": [
       "      Unnamed: 0               item  price_min  price_max  price_mean\n",
       "0              0   ACCESORIES_1_001     6.6500    12.7414   11.032755\n",
       "1              1   ACCESORIES_1_002     2.6600     5.2801    5.275708\n",
       "2              2   ACCESORIES_1_003     1.2502     7.9401    3.944125\n",
       "3              3   ACCESORIES_1_004     5.0141     6.1712    5.983299\n",
       "4              4   ACCESORIES_1_005     1.9950     4.0964    3.832119\n",
       "...          ...                ...        ...        ...         ...\n",
       "3044        3044  SUPERMARKET_3_823     1.1880     3.5760    3.344609\n",
       "3045        3045  SUPERMARKET_3_824     2.4000     3.2160    3.026692\n",
       "3046        3046  SUPERMARKET_3_825     2.3880     5.2560    4.934385\n",
       "3047        3047  SUPERMARKET_3_826     1.2000     1.5360    1.535790\n",
       "3048        3048  SUPERMARKET_3_827     0.6000     1.2000    1.199395\n",
       "\n",
       "[3049 rows x 5 columns]"
      ]
     },
     "execution_count": 3,
     "metadata": {},
     "output_type": "execute_result"
    }
   ],
   "source": [
    "df_price"
   ]
  },
  {
   "cell_type": "code",
   "execution_count": 4,
   "metadata": {},
   "outputs": [
    {
     "data": {
      "text/html": [
       "<div>\n",
       "<style scoped>\n",
       "    .dataframe tbody tr th:only-of-type {\n",
       "        vertical-align: middle;\n",
       "    }\n",
       "\n",
       "    .dataframe tbody tr th {\n",
       "        vertical-align: top;\n",
       "    }\n",
       "\n",
       "    .dataframe thead th {\n",
       "        text-align: right;\n",
       "    }\n",
       "</style>\n",
       "<table border=\"1\" class=\"dataframe\">\n",
       "  <thead>\n",
       "    <tr style=\"text-align: right;\">\n",
       "      <th></th>\n",
       "      <th>Unnamed: 0</th>\n",
       "      <th>item</th>\n",
       "      <th>sales</th>\n",
       "    </tr>\n",
       "  </thead>\n",
       "  <tbody>\n",
       "    <tr>\n",
       "      <th>0</th>\n",
       "      <td>0</td>\n",
       "      <td>ACCESORIES_1_001</td>\n",
       "      <td>4093</td>\n",
       "    </tr>\n",
       "    <tr>\n",
       "      <th>1</th>\n",
       "      <td>1</td>\n",
       "      <td>ACCESORIES_1_002</td>\n",
       "      <td>5059</td>\n",
       "    </tr>\n",
       "    <tr>\n",
       "      <th>2</th>\n",
       "      <td>2</td>\n",
       "      <td>ACCESORIES_1_003</td>\n",
       "      <td>1435</td>\n",
       "    </tr>\n",
       "    <tr>\n",
       "      <th>3</th>\n",
       "      <td>3</td>\n",
       "      <td>ACCESORIES_1_004</td>\n",
       "      <td>39175</td>\n",
       "    </tr>\n",
       "    <tr>\n",
       "      <th>4</th>\n",
       "      <td>4</td>\n",
       "      <td>ACCESORIES_1_005</td>\n",
       "      <td>14621</td>\n",
       "    </tr>\n",
       "    <tr>\n",
       "      <th>...</th>\n",
       "      <td>...</td>\n",
       "      <td>...</td>\n",
       "      <td>...</td>\n",
       "    </tr>\n",
       "    <tr>\n",
       "      <th>3044</th>\n",
       "      <td>3044</td>\n",
       "      <td>SUPERMARKET_3_823</td>\n",
       "      <td>15388</td>\n",
       "    </tr>\n",
       "    <tr>\n",
       "      <th>3045</th>\n",
       "      <td>3045</td>\n",
       "      <td>SUPERMARKET_3_824</td>\n",
       "      <td>8325</td>\n",
       "    </tr>\n",
       "    <tr>\n",
       "      <th>3046</th>\n",
       "      <td>3046</td>\n",
       "      <td>SUPERMARKET_3_825</td>\n",
       "      <td>13526</td>\n",
       "    </tr>\n",
       "    <tr>\n",
       "      <th>3047</th>\n",
       "      <td>3047</td>\n",
       "      <td>SUPERMARKET_3_826</td>\n",
       "      <td>12188</td>\n",
       "    </tr>\n",
       "    <tr>\n",
       "      <th>3048</th>\n",
       "      <td>3048</td>\n",
       "      <td>SUPERMARKET_3_827</td>\n",
       "      <td>11377</td>\n",
       "    </tr>\n",
       "  </tbody>\n",
       "</table>\n",
       "<p>3049 rows × 3 columns</p>\n",
       "</div>"
      ],
      "text/plain": [
       "      Unnamed: 0               item  sales\n",
       "0              0   ACCESORIES_1_001   4093\n",
       "1              1   ACCESORIES_1_002   5059\n",
       "2              2   ACCESORIES_1_003   1435\n",
       "3              3   ACCESORIES_1_004  39175\n",
       "4              4   ACCESORIES_1_005  14621\n",
       "...          ...                ...    ...\n",
       "3044        3044  SUPERMARKET_3_823  15388\n",
       "3045        3045  SUPERMARKET_3_824   8325\n",
       "3046        3046  SUPERMARKET_3_825  13526\n",
       "3047        3047  SUPERMARKET_3_826  12188\n",
       "3048        3048  SUPERMARKET_3_827  11377\n",
       "\n",
       "[3049 rows x 3 columns]"
      ]
     },
     "execution_count": 4,
     "metadata": {},
     "output_type": "execute_result"
    }
   ],
   "source": [
    "df_sales"
   ]
  },
  {
   "cell_type": "code",
   "execution_count": 5,
   "metadata": {},
   "outputs": [],
   "source": [
    "\n",
    "del(df_price['Unnamed: 0'])\n",
    "del(df_sales['Unnamed: 0'])"
   ]
  },
  {
   "cell_type": "markdown",
   "metadata": {},
   "source": [
    "### merge df_sales and df_prices"
   ]
  },
  {
   "cell_type": "code",
   "execution_count": 7,
   "metadata": {},
   "outputs": [
    {
     "data": {
      "text/html": [
       "<div>\n",
       "<style scoped>\n",
       "    .dataframe tbody tr th:only-of-type {\n",
       "        vertical-align: middle;\n",
       "    }\n",
       "\n",
       "    .dataframe tbody tr th {\n",
       "        vertical-align: top;\n",
       "    }\n",
       "\n",
       "    .dataframe thead th {\n",
       "        text-align: right;\n",
       "    }\n",
       "</style>\n",
       "<table border=\"1\" class=\"dataframe\">\n",
       "  <thead>\n",
       "    <tr style=\"text-align: right;\">\n",
       "      <th></th>\n",
       "      <th>item</th>\n",
       "      <th>price_min</th>\n",
       "      <th>price_max</th>\n",
       "      <th>price_mean</th>\n",
       "      <th>sales</th>\n",
       "    </tr>\n",
       "  </thead>\n",
       "  <tbody>\n",
       "    <tr>\n",
       "      <th>0</th>\n",
       "      <td>ACCESORIES_1_001</td>\n",
       "      <td>6.65</td>\n",
       "      <td>12.7414</td>\n",
       "      <td>11.032755</td>\n",
       "      <td>4093</td>\n",
       "    </tr>\n",
       "  </tbody>\n",
       "</table>\n",
       "</div>"
      ],
      "text/plain": [
       "               item  price_min  price_max  price_mean  sales\n",
       "0  ACCESORIES_1_001       6.65    12.7414   11.032755   4093"
      ]
     },
     "execution_count": 7,
     "metadata": {},
     "output_type": "execute_result"
    }
   ],
   "source": [
    "df_cluster = pd.merge(df_price, df_sales, on=['item'], how='left')\n",
    "df_cluster.head(1)"
   ]
  },
  {
   "cell_type": "code",
   "execution_count": 8,
   "metadata": {},
   "outputs": [
    {
     "data": {
      "text/html": [
       "<div>\n",
       "<style scoped>\n",
       "    .dataframe tbody tr th:only-of-type {\n",
       "        vertical-align: middle;\n",
       "    }\n",
       "\n",
       "    .dataframe tbody tr th {\n",
       "        vertical-align: top;\n",
       "    }\n",
       "\n",
       "    .dataframe thead th {\n",
       "        text-align: right;\n",
       "    }\n",
       "</style>\n",
       "<table border=\"1\" class=\"dataframe\">\n",
       "  <thead>\n",
       "    <tr style=\"text-align: right;\">\n",
       "      <th></th>\n",
       "      <th>item</th>\n",
       "      <th>price_min</th>\n",
       "      <th>price_max</th>\n",
       "      <th>price_mean</th>\n",
       "      <th>sales</th>\n",
       "    </tr>\n",
       "  </thead>\n",
       "  <tbody>\n",
       "    <tr>\n",
       "      <th>0</th>\n",
       "      <td>ACCESORIES_1_001</td>\n",
       "      <td>6.6500</td>\n",
       "      <td>12.7414</td>\n",
       "      <td>11.032755</td>\n",
       "      <td>4093</td>\n",
       "    </tr>\n",
       "    <tr>\n",
       "      <th>1</th>\n",
       "      <td>ACCESORIES_1_002</td>\n",
       "      <td>2.6600</td>\n",
       "      <td>5.2801</td>\n",
       "      <td>5.275708</td>\n",
       "      <td>5059</td>\n",
       "    </tr>\n",
       "    <tr>\n",
       "      <th>2</th>\n",
       "      <td>ACCESORIES_1_003</td>\n",
       "      <td>1.2502</td>\n",
       "      <td>7.9401</td>\n",
       "      <td>3.944125</td>\n",
       "      <td>1435</td>\n",
       "    </tr>\n",
       "    <tr>\n",
       "      <th>3</th>\n",
       "      <td>ACCESORIES_1_004</td>\n",
       "      <td>5.0141</td>\n",
       "      <td>6.1712</td>\n",
       "      <td>5.983299</td>\n",
       "      <td>39175</td>\n",
       "    </tr>\n",
       "    <tr>\n",
       "      <th>4</th>\n",
       "      <td>ACCESORIES_1_005</td>\n",
       "      <td>1.9950</td>\n",
       "      <td>4.0964</td>\n",
       "      <td>3.832119</td>\n",
       "      <td>14621</td>\n",
       "    </tr>\n",
       "    <tr>\n",
       "      <th>...</th>\n",
       "      <td>...</td>\n",
       "      <td>...</td>\n",
       "      <td>...</td>\n",
       "      <td>...</td>\n",
       "      <td>...</td>\n",
       "    </tr>\n",
       "    <tr>\n",
       "      <th>3044</th>\n",
       "      <td>SUPERMARKET_3_823</td>\n",
       "      <td>1.1880</td>\n",
       "      <td>3.5760</td>\n",
       "      <td>3.344609</td>\n",
       "      <td>15388</td>\n",
       "    </tr>\n",
       "    <tr>\n",
       "      <th>3045</th>\n",
       "      <td>SUPERMARKET_3_824</td>\n",
       "      <td>2.4000</td>\n",
       "      <td>3.2160</td>\n",
       "      <td>3.026692</td>\n",
       "      <td>8325</td>\n",
       "    </tr>\n",
       "    <tr>\n",
       "      <th>3046</th>\n",
       "      <td>SUPERMARKET_3_825</td>\n",
       "      <td>2.3880</td>\n",
       "      <td>5.2560</td>\n",
       "      <td>4.934385</td>\n",
       "      <td>13526</td>\n",
       "    </tr>\n",
       "    <tr>\n",
       "      <th>3047</th>\n",
       "      <td>SUPERMARKET_3_826</td>\n",
       "      <td>1.2000</td>\n",
       "      <td>1.5360</td>\n",
       "      <td>1.535790</td>\n",
       "      <td>12188</td>\n",
       "    </tr>\n",
       "    <tr>\n",
       "      <th>3048</th>\n",
       "      <td>SUPERMARKET_3_827</td>\n",
       "      <td>0.6000</td>\n",
       "      <td>1.2000</td>\n",
       "      <td>1.199395</td>\n",
       "      <td>11377</td>\n",
       "    </tr>\n",
       "  </tbody>\n",
       "</table>\n",
       "<p>3049 rows × 5 columns</p>\n",
       "</div>"
      ],
      "text/plain": [
       "                   item  price_min  price_max  price_mean  sales\n",
       "0      ACCESORIES_1_001     6.6500    12.7414   11.032755   4093\n",
       "1      ACCESORIES_1_002     2.6600     5.2801    5.275708   5059\n",
       "2      ACCESORIES_1_003     1.2502     7.9401    3.944125   1435\n",
       "3      ACCESORIES_1_004     5.0141     6.1712    5.983299  39175\n",
       "4      ACCESORIES_1_005     1.9950     4.0964    3.832119  14621\n",
       "...                 ...        ...        ...         ...    ...\n",
       "3044  SUPERMARKET_3_823     1.1880     3.5760    3.344609  15388\n",
       "3045  SUPERMARKET_3_824     2.4000     3.2160    3.026692   8325\n",
       "3046  SUPERMARKET_3_825     2.3880     5.2560    4.934385  13526\n",
       "3047  SUPERMARKET_3_826     1.2000     1.5360    1.535790  12188\n",
       "3048  SUPERMARKET_3_827     0.6000     1.2000    1.199395  11377\n",
       "\n",
       "[3049 rows x 5 columns]"
      ]
     },
     "execution_count": 8,
     "metadata": {},
     "output_type": "execute_result"
    }
   ],
   "source": [
    "df_cluster"
   ]
  },
  {
   "cell_type": "code",
   "execution_count": null,
   "metadata": {},
   "outputs": [],
   "source": [
    "# price_max = precio max\n",
    "# price_min = precio min\n",
    "# price_mean = precio promedio\n",
    "# number_sales = total de productos vendidos"
   ]
  },
  {
   "cell_type": "markdown",
   "metadata": {},
   "source": [
    "### Create column \"total_income\" that represent the total income for product"
   ]
  },
  {
   "cell_type": "code",
   "execution_count": 10,
   "metadata": {},
   "outputs": [
    {
     "data": {
      "text/html": [
       "<div>\n",
       "<style scoped>\n",
       "    .dataframe tbody tr th:only-of-type {\n",
       "        vertical-align: middle;\n",
       "    }\n",
       "\n",
       "    .dataframe tbody tr th {\n",
       "        vertical-align: top;\n",
       "    }\n",
       "\n",
       "    .dataframe thead th {\n",
       "        text-align: right;\n",
       "    }\n",
       "</style>\n",
       "<table border=\"1\" class=\"dataframe\">\n",
       "  <thead>\n",
       "    <tr style=\"text-align: right;\">\n",
       "      <th></th>\n",
       "      <th>item</th>\n",
       "      <th>price_min</th>\n",
       "      <th>price_max</th>\n",
       "      <th>price_mean</th>\n",
       "      <th>sales</th>\n",
       "      <th>total_income</th>\n",
       "    </tr>\n",
       "  </thead>\n",
       "  <tbody>\n",
       "    <tr>\n",
       "      <th>0</th>\n",
       "      <td>ACCESORIES_1_001</td>\n",
       "      <td>6.65</td>\n",
       "      <td>12.7414</td>\n",
       "      <td>11.032755</td>\n",
       "      <td>4093</td>\n",
       "      <td>45157.065966</td>\n",
       "    </tr>\n",
       "    <tr>\n",
       "      <th>1</th>\n",
       "      <td>ACCESORIES_1_002</td>\n",
       "      <td>2.66</td>\n",
       "      <td>5.2801</td>\n",
       "      <td>5.275708</td>\n",
       "      <td>5059</td>\n",
       "      <td>26689.806185</td>\n",
       "    </tr>\n",
       "  </tbody>\n",
       "</table>\n",
       "</div>"
      ],
      "text/plain": [
       "               item  price_min  price_max  price_mean  sales  total_income\n",
       "0  ACCESORIES_1_001       6.65    12.7414   11.032755   4093  45157.065966\n",
       "1  ACCESORIES_1_002       2.66     5.2801    5.275708   5059  26689.806185"
      ]
     },
     "execution_count": 10,
     "metadata": {},
     "output_type": "execute_result"
    }
   ],
   "source": [
    "\n",
    "df_cluster['total_income']= df_cluster['price_mean']*df_cluster['sales']\n",
    "df_cluster.head(2)"
   ]
  },
  {
   "cell_type": "code",
   "execution_count": 14,
   "metadata": {},
   "outputs": [],
   "source": [
    "df_cluster[\"total_income\"]=df_cluster[\"total_income\"].round(2)"
   ]
  },
  {
   "cell_type": "code",
   "execution_count": 16,
   "metadata": {},
   "outputs": [
    {
     "data": {
      "text/html": [
       "<div>\n",
       "<style scoped>\n",
       "    .dataframe tbody tr th:only-of-type {\n",
       "        vertical-align: middle;\n",
       "    }\n",
       "\n",
       "    .dataframe tbody tr th {\n",
       "        vertical-align: top;\n",
       "    }\n",
       "\n",
       "    .dataframe thead th {\n",
       "        text-align: right;\n",
       "    }\n",
       "</style>\n",
       "<table border=\"1\" class=\"dataframe\">\n",
       "  <thead>\n",
       "    <tr style=\"text-align: right;\">\n",
       "      <th></th>\n",
       "      <th>item</th>\n",
       "      <th>price_min</th>\n",
       "      <th>price_max</th>\n",
       "      <th>price_mean</th>\n",
       "      <th>sales</th>\n",
       "      <th>total_income</th>\n",
       "    </tr>\n",
       "  </thead>\n",
       "  <tbody>\n",
       "    <tr>\n",
       "      <th>0</th>\n",
       "      <td>ACCESORIES_1_001</td>\n",
       "      <td>6.6500</td>\n",
       "      <td>12.7414</td>\n",
       "      <td>11.032755</td>\n",
       "      <td>4093</td>\n",
       "      <td>45157.07</td>\n",
       "    </tr>\n",
       "    <tr>\n",
       "      <th>1</th>\n",
       "      <td>ACCESORIES_1_002</td>\n",
       "      <td>2.6600</td>\n",
       "      <td>5.2801</td>\n",
       "      <td>5.275708</td>\n",
       "      <td>5059</td>\n",
       "      <td>26689.81</td>\n",
       "    </tr>\n",
       "    <tr>\n",
       "      <th>2</th>\n",
       "      <td>ACCESORIES_1_003</td>\n",
       "      <td>1.2502</td>\n",
       "      <td>7.9401</td>\n",
       "      <td>3.944125</td>\n",
       "      <td>1435</td>\n",
       "      <td>5659.82</td>\n",
       "    </tr>\n",
       "    <tr>\n",
       "      <th>3</th>\n",
       "      <td>ACCESORIES_1_004</td>\n",
       "      <td>5.0141</td>\n",
       "      <td>6.1712</td>\n",
       "      <td>5.983299</td>\n",
       "      <td>39175</td>\n",
       "      <td>234395.74</td>\n",
       "    </tr>\n",
       "    <tr>\n",
       "      <th>4</th>\n",
       "      <td>ACCESORIES_1_005</td>\n",
       "      <td>1.9950</td>\n",
       "      <td>4.0964</td>\n",
       "      <td>3.832119</td>\n",
       "      <td>14621</td>\n",
       "      <td>56029.42</td>\n",
       "    </tr>\n",
       "    <tr>\n",
       "      <th>...</th>\n",
       "      <td>...</td>\n",
       "      <td>...</td>\n",
       "      <td>...</td>\n",
       "      <td>...</td>\n",
       "      <td>...</td>\n",
       "      <td>...</td>\n",
       "    </tr>\n",
       "    <tr>\n",
       "      <th>3044</th>\n",
       "      <td>SUPERMARKET_3_823</td>\n",
       "      <td>1.1880</td>\n",
       "      <td>3.5760</td>\n",
       "      <td>3.344609</td>\n",
       "      <td>15388</td>\n",
       "      <td>51466.84</td>\n",
       "    </tr>\n",
       "    <tr>\n",
       "      <th>3045</th>\n",
       "      <td>SUPERMARKET_3_824</td>\n",
       "      <td>2.4000</td>\n",
       "      <td>3.2160</td>\n",
       "      <td>3.026692</td>\n",
       "      <td>8325</td>\n",
       "      <td>25197.21</td>\n",
       "    </tr>\n",
       "    <tr>\n",
       "      <th>3046</th>\n",
       "      <td>SUPERMARKET_3_825</td>\n",
       "      <td>2.3880</td>\n",
       "      <td>5.2560</td>\n",
       "      <td>4.934385</td>\n",
       "      <td>13526</td>\n",
       "      <td>66742.50</td>\n",
       "    </tr>\n",
       "    <tr>\n",
       "      <th>3047</th>\n",
       "      <td>SUPERMARKET_3_826</td>\n",
       "      <td>1.2000</td>\n",
       "      <td>1.5360</td>\n",
       "      <td>1.535790</td>\n",
       "      <td>12188</td>\n",
       "      <td>18718.21</td>\n",
       "    </tr>\n",
       "    <tr>\n",
       "      <th>3048</th>\n",
       "      <td>SUPERMARKET_3_827</td>\n",
       "      <td>0.6000</td>\n",
       "      <td>1.2000</td>\n",
       "      <td>1.199395</td>\n",
       "      <td>11377</td>\n",
       "      <td>13645.51</td>\n",
       "    </tr>\n",
       "  </tbody>\n",
       "</table>\n",
       "<p>3049 rows × 6 columns</p>\n",
       "</div>"
      ],
      "text/plain": [
       "                   item  price_min  price_max  price_mean  sales  total_income\n",
       "0      ACCESORIES_1_001     6.6500    12.7414   11.032755   4093      45157.07\n",
       "1      ACCESORIES_1_002     2.6600     5.2801    5.275708   5059      26689.81\n",
       "2      ACCESORIES_1_003     1.2502     7.9401    3.944125   1435       5659.82\n",
       "3      ACCESORIES_1_004     5.0141     6.1712    5.983299  39175     234395.74\n",
       "4      ACCESORIES_1_005     1.9950     4.0964    3.832119  14621      56029.42\n",
       "...                 ...        ...        ...         ...    ...           ...\n",
       "3044  SUPERMARKET_3_823     1.1880     3.5760    3.344609  15388      51466.84\n",
       "3045  SUPERMARKET_3_824     2.4000     3.2160    3.026692   8325      25197.21\n",
       "3046  SUPERMARKET_3_825     2.3880     5.2560    4.934385  13526      66742.50\n",
       "3047  SUPERMARKET_3_826     1.2000     1.5360    1.535790  12188      18718.21\n",
       "3048  SUPERMARKET_3_827     0.6000     1.2000    1.199395  11377      13645.51\n",
       "\n",
       "[3049 rows x 6 columns]"
      ]
     },
     "execution_count": 16,
     "metadata": {},
     "output_type": "execute_result"
    }
   ],
   "source": [
    "df_cluster"
   ]
  },
  {
   "cell_type": "code",
   "execution_count": 17,
   "metadata": {},
   "outputs": [
    {
     "data": {
      "text/html": [
       "<div>\n",
       "<style scoped>\n",
       "    .dataframe tbody tr th:only-of-type {\n",
       "        vertical-align: middle;\n",
       "    }\n",
       "\n",
       "    .dataframe tbody tr th {\n",
       "        vertical-align: top;\n",
       "    }\n",
       "\n",
       "    .dataframe thead th {\n",
       "        text-align: right;\n",
       "    }\n",
       "</style>\n",
       "<table border=\"1\" class=\"dataframe\">\n",
       "  <thead>\n",
       "    <tr style=\"text-align: right;\">\n",
       "      <th></th>\n",
       "      <th>count</th>\n",
       "      <th>mean</th>\n",
       "      <th>std</th>\n",
       "      <th>min</th>\n",
       "      <th>25%</th>\n",
       "      <th>50%</th>\n",
       "      <th>75%</th>\n",
       "      <th>max</th>\n",
       "    </tr>\n",
       "  </thead>\n",
       "  <tbody>\n",
       "    <tr>\n",
       "      <th>price_min</th>\n",
       "      <td>3049.0</td>\n",
       "      <td>3.630382</td>\n",
       "      <td>3.568067</td>\n",
       "      <td>0.012000</td>\n",
       "      <td>1.23750</td>\n",
       "      <td>2.400000</td>\n",
       "      <td>4.77600</td>\n",
       "      <td>3.588340e+01</td>\n",
       "    </tr>\n",
       "    <tr>\n",
       "      <th>price_max</th>\n",
       "      <td>3049.0</td>\n",
       "      <td>5.974956</td>\n",
       "      <td>5.517955</td>\n",
       "      <td>0.300000</td>\n",
       "      <td>2.85600</td>\n",
       "      <td>4.416000</td>\n",
       "      <td>7.47500</td>\n",
       "      <td>1.341500e+02</td>\n",
       "    </tr>\n",
       "    <tr>\n",
       "      <th>price_mean</th>\n",
       "      <td>3049.0</td>\n",
       "      <td>5.566813</td>\n",
       "      <td>4.538464</td>\n",
       "      <td>0.239601</td>\n",
       "      <td>2.62843</td>\n",
       "      <td>4.185494</td>\n",
       "      <td>7.19074</td>\n",
       "      <td>3.949448e+01</td>\n",
       "    </tr>\n",
       "    <tr>\n",
       "      <th>sales</th>\n",
       "      <td>3049.0</td>\n",
       "      <td>21546.542801</td>\n",
       "      <td>44252.433426</td>\n",
       "      <td>568.000000</td>\n",
       "      <td>4310.00000</td>\n",
       "      <td>9526.000000</td>\n",
       "      <td>21406.00000</td>\n",
       "      <td>1.002529e+06</td>\n",
       "    </tr>\n",
       "    <tr>\n",
       "      <th>total_income</th>\n",
       "      <td>3049.0</td>\n",
       "      <td>76059.791935</td>\n",
       "      <td>113715.621095</td>\n",
       "      <td>558.880000</td>\n",
       "      <td>21808.82000</td>\n",
       "      <td>43503.830000</td>\n",
       "      <td>84068.79000</td>\n",
       "      <td>1.759780e+06</td>\n",
       "    </tr>\n",
       "  </tbody>\n",
       "</table>\n",
       "</div>"
      ],
      "text/plain": [
       "               count          mean            std         min          25%  \\\n",
       "price_min     3049.0      3.630382       3.568067    0.012000      1.23750   \n",
       "price_max     3049.0      5.974956       5.517955    0.300000      2.85600   \n",
       "price_mean    3049.0      5.566813       4.538464    0.239601      2.62843   \n",
       "sales         3049.0  21546.542801   44252.433426  568.000000   4310.00000   \n",
       "total_income  3049.0  76059.791935  113715.621095  558.880000  21808.82000   \n",
       "\n",
       "                       50%          75%           max  \n",
       "price_min         2.400000      4.77600  3.588340e+01  \n",
       "price_max         4.416000      7.47500  1.341500e+02  \n",
       "price_mean        4.185494      7.19074  3.949448e+01  \n",
       "sales          9526.000000  21406.00000  1.002529e+06  \n",
       "total_income  43503.830000  84068.79000  1.759780e+06  "
      ]
     },
     "execution_count": 17,
     "metadata": {},
     "output_type": "execute_result"
    }
   ],
   "source": [
    "df_cluster.describe().T"
   ]
  },
  {
   "cell_type": "markdown",
   "metadata": {},
   "source": [
    "### draw scatter plot"
   ]
  },
  {
   "cell_type": "code",
   "execution_count": 19,
   "metadata": {},
   "outputs": [
    {
     "data": {
      "text/plain": [
       "<Axes: xlabel='sales', ylabel='total_income'>"
      ]
     },
     "execution_count": 19,
     "metadata": {},
     "output_type": "execute_result"
    },
    {
     "data": {
      "image/png": "[encoded data removed]",
      "text/plain": [
       "<Figure size 640x480 with 1 Axes>"
      ]
     },
     "metadata": {},
     "output_type": "display_data"
    }
   ],
   "source": [
    "sns.scatterplot(data= df_cluster , x='sales', y='total_income')"
   ]
  },
  {
   "cell_type": "code",
   "execution_count": 20,
   "metadata": {},
   "outputs": [],
   "source": [
    "df_cluster1 = df_cluster.copy()"
   ]
  },
  {
   "cell_type": "markdown",
   "metadata": {},
   "source": [
    "### drop unnecessary columns"
   ]
  },
  {
   "cell_type": "code",
   "execution_count": 21,
   "metadata": {},
   "outputs": [],
   "source": [
    "df_cluster1.drop(columns=['item','price_min','sales'], axis=1,inplace=True)"
   ]
  },
  {
   "cell_type": "code",
   "execution_count": 22,
   "metadata": {},
   "outputs": [
    {
     "data": {
      "text/html": [
       "<div>\n",
       "<style scoped>\n",
       "    .dataframe tbody tr th:only-of-type {\n",
       "        vertical-align: middle;\n",
       "    }\n",
       "\n",
       "    .dataframe tbody tr th {\n",
       "        vertical-align: top;\n",
       "    }\n",
       "\n",
       "    .dataframe thead th {\n",
       "        text-align: right;\n",
       "    }\n",
       "</style>\n",
       "<table border=\"1\" class=\"dataframe\">\n",
       "  <thead>\n",
       "    <tr style=\"text-align: right;\">\n",
       "      <th></th>\n",
       "      <th>price_max</th>\n",
       "      <th>price_mean</th>\n",
       "      <th>total_income</th>\n",
       "    </tr>\n",
       "  </thead>\n",
       "  <tbody>\n",
       "    <tr>\n",
       "      <th>0</th>\n",
       "      <td>12.7414</td>\n",
       "      <td>11.032755</td>\n",
       "      <td>45157.07</td>\n",
       "    </tr>\n",
       "  </tbody>\n",
       "</table>\n",
       "</div>"
      ],
      "text/plain": [
       "   price_max  price_mean  total_income\n",
       "0    12.7414   11.032755      45157.07"
      ]
     },
     "execution_count": 22,
     "metadata": {},
     "output_type": "execute_result"
    }
   ],
   "source": [
    "df_cluster1.head(1)"
   ]
  },
  {
   "cell_type": "markdown",
   "metadata": {},
   "source": [
    "## clustering"
   ]
  },
  {
   "cell_type": "markdown",
   "metadata": {},
   "source": [
    "### scale my variables"
   ]
  },
  {
   "cell_type": "code",
   "execution_count": 23,
   "metadata": {},
   "outputs": [],
   "source": [
    "from sklearn.preprocessing import StandardScaler\n",
    "scaaler = StandardScaler()\n",
    "df_cluster_scaled = scaaler.fit_transform(df_cluster1)"
   ]
  },
  {
   "cell_type": "code",
   "execution_count": 24,
   "metadata": {},
   "outputs": [
    {
     "data": {
      "text/html": [
       "<div>\n",
       "<style scoped>\n",
       "    .dataframe tbody tr th:only-of-type {\n",
       "        vertical-align: middle;\n",
       "    }\n",
       "\n",
       "    .dataframe tbody tr th {\n",
       "        vertical-align: top;\n",
       "    }\n",
       "\n",
       "    .dataframe thead th {\n",
       "        text-align: right;\n",
       "    }\n",
       "</style>\n",
       "<table border=\"1\" class=\"dataframe\">\n",
       "  <thead>\n",
       "    <tr style=\"text-align: right;\">\n",
       "      <th></th>\n",
       "      <th>price_max</th>\n",
       "      <th>price_mean</th>\n",
       "      <th>total_income</th>\n",
       "    </tr>\n",
       "  </thead>\n",
       "  <tbody>\n",
       "    <tr>\n",
       "      <th>0</th>\n",
       "      <td>1.226460</td>\n",
       "      <td>1.204557</td>\n",
       "      <td>-0.271799</td>\n",
       "    </tr>\n",
       "    <tr>\n",
       "      <th>1</th>\n",
       "      <td>-0.125947</td>\n",
       "      <td>-0.064152</td>\n",
       "      <td>-0.434224</td>\n",
       "    </tr>\n",
       "    <tr>\n",
       "      <th>2</th>\n",
       "      <td>0.356195</td>\n",
       "      <td>-0.357600</td>\n",
       "      <td>-0.619190</td>\n",
       "    </tr>\n",
       "    <tr>\n",
       "      <th>3</th>\n",
       "      <td>0.035570</td>\n",
       "      <td>0.091783</td>\n",
       "      <td>1.392614</td>\n",
       "    </tr>\n",
       "    <tr>\n",
       "      <th>4</th>\n",
       "      <td>-0.340500</td>\n",
       "      <td>-0.382283</td>\n",
       "      <td>-0.176173</td>\n",
       "    </tr>\n",
       "  </tbody>\n",
       "</table>\n",
       "</div>"
      ],
      "text/plain": [
       "   price_max  price_mean  total_income\n",
       "0   1.226460    1.204557     -0.271799\n",
       "1  -0.125947   -0.064152     -0.434224\n",
       "2   0.356195   -0.357600     -0.619190\n",
       "3   0.035570    0.091783      1.392614\n",
       "4  -0.340500   -0.382283     -0.176173"
      ]
     },
     "execution_count": 24,
     "metadata": {},
     "output_type": "execute_result"
    }
   ],
   "source": [
    "df_cluster_scaled.head()"
   ]
  },
  {
   "cell_type": "markdown",
   "metadata": {},
   "source": [
    "### use PCA so to reduce dimensionality, overfitting and noise"
   ]
  },
  {
   "cell_type": "code",
   "execution_count": 26,
   "metadata": {},
   "outputs": [],
   "source": [
    "from sklearn.decomposition import PCA"
   ]
  },
  {
   "cell_type": "code",
   "execution_count": 27,
   "metadata": {},
   "outputs": [
    {
     "data": {
      "text/html": [
       "<div>\n",
       "<style scoped>\n",
       "    .dataframe tbody tr th:only-of-type {\n",
       "        vertical-align: middle;\n",
       "    }\n",
       "\n",
       "    .dataframe tbody tr th {\n",
       "        vertical-align: top;\n",
       "    }\n",
       "\n",
       "    .dataframe thead th {\n",
       "        text-align: right;\n",
       "    }\n",
       "</style>\n",
       "<table border=\"1\" class=\"dataframe\">\n",
       "  <thead>\n",
       "    <tr style=\"text-align: right;\">\n",
       "      <th></th>\n",
       "      <th>pca0</th>\n",
       "      <th>pca1</th>\n",
       "      <th>pca2</th>\n",
       "    </tr>\n",
       "  </thead>\n",
       "  <tbody>\n",
       "    <tr>\n",
       "      <th>0</th>\n",
       "      <td>1.626421</td>\n",
       "      <td>-0.619428</td>\n",
       "      <td>-0.010100</td>\n",
       "    </tr>\n",
       "    <tr>\n",
       "      <th>1</th>\n",
       "      <td>-0.220739</td>\n",
       "      <td>-0.396789</td>\n",
       "      <td>0.048598</td>\n",
       "    </tr>\n",
       "    <tr>\n",
       "      <th>2</th>\n",
       "      <td>-0.128801</td>\n",
       "      <td>-0.611635</td>\n",
       "      <td>-0.497454</td>\n",
       "    </tr>\n",
       "    <tr>\n",
       "      <th>3</th>\n",
       "      <td>0.374372</td>\n",
       "      <td>1.344750</td>\n",
       "      <td>0.023575</td>\n",
       "    </tr>\n",
       "    <tr>\n",
       "      <th>4</th>\n",
       "      <td>-0.536415</td>\n",
       "      <td>-0.067714</td>\n",
       "      <td>-0.028139</td>\n",
       "    </tr>\n",
       "    <tr>\n",
       "      <th>...</th>\n",
       "      <td>...</td>\n",
       "      <td>...</td>\n",
       "      <td>...</td>\n",
       "    </tr>\n",
       "    <tr>\n",
       "      <th>3044</th>\n",
       "      <td>-0.684294</td>\n",
       "      <td>-0.077773</td>\n",
       "      <td>-0.037122</td>\n",
       "    </tr>\n",
       "    <tr>\n",
       "      <th>3045</th>\n",
       "      <td>-0.825419</td>\n",
       "      <td>-0.284251</td>\n",
       "      <td>-0.037943</td>\n",
       "    </tr>\n",
       "    <tr>\n",
       "      <th>3046</th>\n",
       "      <td>-0.203475</td>\n",
       "      <td>-0.041078</td>\n",
       "      <td>-0.005690</td>\n",
       "    </tr>\n",
       "    <tr>\n",
       "      <th>3047</th>\n",
       "      <td>-1.275241</td>\n",
       "      <td>-0.248219</td>\n",
       "      <td>-0.054854</td>\n",
       "    </tr>\n",
       "    <tr>\n",
       "      <th>3048</th>\n",
       "      <td>-1.377867</td>\n",
       "      <td>-0.272366</td>\n",
       "      <td>-0.063810</td>\n",
       "    </tr>\n",
       "  </tbody>\n",
       "</table>\n",
       "<p>3049 rows × 3 columns</p>\n",
       "</div>"
      ],
      "text/plain": [
       "          pca0      pca1      pca2\n",
       "0     1.626421 -0.619428 -0.010100\n",
       "1    -0.220739 -0.396789  0.048598\n",
       "2    -0.128801 -0.611635 -0.497454\n",
       "3     0.374372  1.344750  0.023575\n",
       "4    -0.536415 -0.067714 -0.028139\n",
       "...        ...       ...       ...\n",
       "3044 -0.684294 -0.077773 -0.037122\n",
       "3045 -0.825419 -0.284251 -0.037943\n",
       "3046 -0.203475 -0.041078 -0.005690\n",
       "3047 -1.275241 -0.248219 -0.054854\n",
       "3048 -1.377867 -0.272366 -0.063810\n",
       "\n",
       "[3049 rows x 3 columns]"
      ]
     },
     "execution_count": 27,
     "metadata": {},
     "output_type": "execute_result"
    }
   ],
   "source": [
    "pca = PCA()\n",
    "pca.fit(df_cluster_scaled)\n",
    "pca_data_scaled = pca.transform(df_cluster_scaled)\n",
    "pca_data_scaled"
   ]
  },
  {
   "cell_type": "code",
   "execution_count": 28,
   "metadata": {},
   "outputs": [
    {
     "name": "stdout",
     "output_type": "stream",
     "text": [
      "[0.64011615 0.31984516 0.04003869]\n"
     ]
    }
   ],
   "source": [
    "var = pca.explained_variance_ratio_\n",
    "print(var)"
   ]
  },
  {
   "cell_type": "code",
   "execution_count": 29,
   "metadata": {},
   "outputs": [
    {
     "data": {
      "image/png": "[encoded data removed]",
      "text/plain": [
       "<Figure size 1000x1000 with 1 Axes>"
      ]
     },
     "metadata": {},
     "output_type": "display_data"
    }
   ],
   "source": [
    "cum_var = np.cumsum(np.round(var, decimals=4)*100)\n",
    "plt.figure(figsize=(10,10))\n",
    "plt.plot(cum_var, 'r-x')\n",
    "plt.show()"
   ]
  },
  {
   "cell_type": "markdown",
   "metadata": {},
   "source": [
    "### visual test and evaluation\n"
   ]
  },
  {
   "cell_type": "code",
   "execution_count": 37,
   "metadata": {},
   "outputs": [],
   "source": [
    "sum_of_squared_distances = []\n",
    "K = range(2,15)\n",
    "for _ in K:\n",
    "    km = KMeans(n_clusters = _)\n",
    "    y = km.fit_predict(df_cluster1)\n",
    "    sum_of_squared_distances.append(km.inertia_)"
   ]
  },
  {
   "cell_type": "code",
   "execution_count": 38,
   "metadata": {},
   "outputs": [
    {
     "data": {
      "image/png": "[encoded data removed]",
      "text/plain": [
       "<Figure size 800x800 with 1 Axes>"
      ]
     },
     "metadata": {},
     "output_type": "display_data"
    }
   ],
   "source": [
    "plt.figure(figsize=(8,8))\n",
    "plt.plot(K, sum_of_squared_distances, 'bx-')\n",
    "plt.xlabel('k')\n",
    "plt.ylabel('Inertia')\n",
    "plt.show()"
   ]
  },
  {
   "cell_type": "markdown",
   "metadata": {},
   "source": [
    "### Use Kmean for identify \"the elbow\""
   ]
  },
  {
   "cell_type": "code",
   "execution_count": 40,
   "metadata": {},
   "outputs": [],
   "source": [
    "\n",
    "km = KMeans(n_clusters = 4,  random_state=42)\n",
    "y = km.fit_predict(df_cluster1)\n",
    "\n",
    "df_cluster['k_means'] = y"
   ]
  },
  {
   "cell_type": "code",
   "execution_count": 41,
   "metadata": {},
   "outputs": [
    {
     "data": {
      "text/html": [
       "<div>\n",
       "<style scoped>\n",
       "    .dataframe tbody tr th:only-of-type {\n",
       "        vertical-align: middle;\n",
       "    }\n",
       "\n",
       "    .dataframe tbody tr th {\n",
       "        vertical-align: top;\n",
       "    }\n",
       "\n",
       "    .dataframe thead th {\n",
       "        text-align: right;\n",
       "    }\n",
       "</style>\n",
       "<table border=\"1\" class=\"dataframe\">\n",
       "  <thead>\n",
       "    <tr style=\"text-align: right;\">\n",
       "      <th></th>\n",
       "      <th>item</th>\n",
       "      <th>price_min</th>\n",
       "      <th>price_max</th>\n",
       "      <th>price_mean</th>\n",
       "      <th>sales</th>\n",
       "      <th>total_income</th>\n",
       "      <th>k_means</th>\n",
       "    </tr>\n",
       "  </thead>\n",
       "  <tbody>\n",
       "    <tr>\n",
       "      <th>0</th>\n",
       "      <td>ACCESORIES_1_001</td>\n",
       "      <td>6.65</td>\n",
       "      <td>12.7414</td>\n",
       "      <td>11.032755</td>\n",
       "      <td>4093</td>\n",
       "      <td>45157.07</td>\n",
       "      <td>0</td>\n",
       "    </tr>\n",
       "    <tr>\n",
       "      <th>1</th>\n",
       "      <td>ACCESORIES_1_002</td>\n",
       "      <td>2.66</td>\n",
       "      <td>5.2801</td>\n",
       "      <td>5.275708</td>\n",
       "      <td>5059</td>\n",
       "      <td>26689.81</td>\n",
       "      <td>0</td>\n",
       "    </tr>\n",
       "  </tbody>\n",
       "</table>\n",
       "</div>"
      ],
      "text/plain": [
       "               item  price_min  price_max  price_mean  sales  total_income  \\\n",
       "0  ACCESORIES_1_001       6.65    12.7414   11.032755   4093      45157.07   \n",
       "1  ACCESORIES_1_002       2.66     5.2801    5.275708   5059      26689.81   \n",
       "\n",
       "   k_means  \n",
       "0        0  \n",
       "1        0  "
      ]
     },
     "execution_count": 41,
     "metadata": {},
     "output_type": "execute_result"
    }
   ],
   "source": [
    "\n",
    "df_cluster.head(2)"
   ]
  },
  {
   "cell_type": "code",
   "execution_count": 47,
   "metadata": {},
   "outputs": [
    {
     "data": {
      "text/html": [
       "<div>\n",
       "<style scoped>\n",
       "    .dataframe tbody tr th:only-of-type {\n",
       "        vertical-align: middle;\n",
       "    }\n",
       "\n",
       "    .dataframe tbody tr th {\n",
       "        vertical-align: top;\n",
       "    }\n",
       "\n",
       "    .dataframe thead th {\n",
       "        text-align: right;\n",
       "    }\n",
       "</style>\n",
       "<table border=\"1\" class=\"dataframe\">\n",
       "  <thead>\n",
       "    <tr style=\"text-align: right;\">\n",
       "      <th></th>\n",
       "      <th>price_max</th>\n",
       "      <th>price_mean</th>\n",
       "      <th>total_income</th>\n",
       "    </tr>\n",
       "  </thead>\n",
       "  <tbody>\n",
       "    <tr>\n",
       "      <th>0</th>\n",
       "      <td>12.7414</td>\n",
       "      <td>11.032755</td>\n",
       "      <td>45157.07</td>\n",
       "    </tr>\n",
       "    <tr>\n",
       "      <th>1</th>\n",
       "      <td>5.2801</td>\n",
       "      <td>5.275708</td>\n",
       "      <td>26689.81</td>\n",
       "    </tr>\n",
       "    <tr>\n",
       "      <th>2</th>\n",
       "      <td>7.9401</td>\n",
       "      <td>3.944125</td>\n",
       "      <td>5659.82</td>\n",
       "    </tr>\n",
       "    <tr>\n",
       "      <th>3</th>\n",
       "      <td>6.1712</td>\n",
       "      <td>5.983299</td>\n",
       "      <td>234395.74</td>\n",
       "    </tr>\n",
       "    <tr>\n",
       "      <th>4</th>\n",
       "      <td>4.0964</td>\n",
       "      <td>3.832119</td>\n",
       "      <td>56029.42</td>\n",
       "    </tr>\n",
       "    <tr>\n",
       "      <th>...</th>\n",
       "      <td>...</td>\n",
       "      <td>...</td>\n",
       "      <td>...</td>\n",
       "    </tr>\n",
       "    <tr>\n",
       "      <th>3044</th>\n",
       "      <td>3.5760</td>\n",
       "      <td>3.344609</td>\n",
       "      <td>51466.84</td>\n",
       "    </tr>\n",
       "    <tr>\n",
       "      <th>3045</th>\n",
       "      <td>3.2160</td>\n",
       "      <td>3.026692</td>\n",
       "      <td>25197.21</td>\n",
       "    </tr>\n",
       "    <tr>\n",
       "      <th>3046</th>\n",
       "      <td>5.2560</td>\n",
       "      <td>4.934385</td>\n",
       "      <td>66742.50</td>\n",
       "    </tr>\n",
       "    <tr>\n",
       "      <th>3047</th>\n",
       "      <td>1.5360</td>\n",
       "      <td>1.535790</td>\n",
       "      <td>18718.21</td>\n",
       "    </tr>\n",
       "    <tr>\n",
       "      <th>3048</th>\n",
       "      <td>1.2000</td>\n",
       "      <td>1.199395</td>\n",
       "      <td>13645.51</td>\n",
       "    </tr>\n",
       "  </tbody>\n",
       "</table>\n",
       "<p>3049 rows × 3 columns</p>\n",
       "</div>"
      ],
      "text/plain": [
       "      price_max  price_mean  total_income\n",
       "0       12.7414   11.032755      45157.07\n",
       "1        5.2801    5.275708      26689.81\n",
       "2        7.9401    3.944125       5659.82\n",
       "3        6.1712    5.983299     234395.74\n",
       "4        4.0964    3.832119      56029.42\n",
       "...         ...         ...           ...\n",
       "3044     3.5760    3.344609      51466.84\n",
       "3045     3.2160    3.026692      25197.21\n",
       "3046     5.2560    4.934385      66742.50\n",
       "3047     1.5360    1.535790      18718.21\n",
       "3048     1.2000    1.199395      13645.51\n",
       "\n",
       "[3049 rows x 3 columns]"
      ]
     },
     "execution_count": 47,
     "metadata": {},
     "output_type": "execute_result"
    }
   ],
   "source": [
    "df_cluster1"
   ]
  },
  {
   "cell_type": "markdown",
   "metadata": {},
   "source": [
    "# merge both df_cluster and df_clusteizado con originalso to plot the clusters"
   ]
  },
  {
   "cell_type": "code",
   "execution_count": 48,
   "metadata": {},
   "outputs": [
    {
     "data": {
      "text/html": [
       "<div>\n",
       "<style scoped>\n",
       "    .dataframe tbody tr th:only-of-type {\n",
       "        vertical-align: middle;\n",
       "    }\n",
       "\n",
       "    .dataframe tbody tr th {\n",
       "        vertical-align: top;\n",
       "    }\n",
       "\n",
       "    .dataframe thead th {\n",
       "        text-align: right;\n",
       "    }\n",
       "</style>\n",
       "<table border=\"1\" class=\"dataframe\">\n",
       "  <thead>\n",
       "    <tr style=\"text-align: right;\">\n",
       "      <th></th>\n",
       "      <th>item</th>\n",
       "      <th>price_min</th>\n",
       "      <th>price_max</th>\n",
       "      <th>price_mean</th>\n",
       "      <th>sales</th>\n",
       "      <th>total_income</th>\n",
       "      <th>k_means</th>\n",
       "    </tr>\n",
       "  </thead>\n",
       "  <tbody>\n",
       "    <tr>\n",
       "      <th>0</th>\n",
       "      <td>ACCESORIES_1_001</td>\n",
       "      <td>6.65</td>\n",
       "      <td>12.7414</td>\n",
       "      <td>11.032755</td>\n",
       "      <td>4093</td>\n",
       "      <td>45157.07</td>\n",
       "      <td>0</td>\n",
       "    </tr>\n",
       "    <tr>\n",
       "      <th>1</th>\n",
       "      <td>ACCESORIES_1_002</td>\n",
       "      <td>2.66</td>\n",
       "      <td>5.2801</td>\n",
       "      <td>5.275708</td>\n",
       "      <td>5059</td>\n",
       "      <td>26689.81</td>\n",
       "      <td>0</td>\n",
       "    </tr>\n",
       "  </tbody>\n",
       "</table>\n",
       "</div>"
      ],
      "text/plain": [
       "               item  price_min  price_max  price_mean  sales  total_income  \\\n",
       "0  ACCESORIES_1_001       6.65    12.7414   11.032755   4093      45157.07   \n",
       "1  ACCESORIES_1_002       2.66     5.2801    5.275708   5059      26689.81   \n",
       "\n",
       "   k_means  \n",
       "0        0  \n",
       "1        0  "
      ]
     },
     "execution_count": 48,
     "metadata": {},
     "output_type": "execute_result"
    }
   ],
   "source": [
    "\n",
    "df_clusterizado = df_cluster.merge(df_cluster1, on =['price_max','price_mean','total_income'], how='left')\n",
    "df_clusterizado.head(2)"
   ]
  },
  {
   "cell_type": "code",
   "execution_count": 54,
   "metadata": {},
   "outputs": [
    {
     "data": {
      "text/plain": [
       "<function matplotlib.pyplot.show(close=None, block=None)>"
      ]
     },
     "execution_count": 54,
     "metadata": {},
     "output_type": "execute_result"
    },
    {
     "data": {
      "image/png": "[encoded data removed]",
      "text/plain": [
       "<Figure size 800x600 with 1 Axes>"
      ]
     },
     "metadata": {},
     "output_type": "display_data"
    }
   ],
   "source": [
    "plt.figure(figsize=(8,6))\n",
    "plt.title('Cluster for K-means')\n",
    "sns.scatterplot(data=df_cluster, x='sales', y='total_income', hue='k_means',palette='coolwarm')\n",
    "plt.show"
   ]
  },
  {
   "cell_type": "code",
   "execution_count": 79,
   "metadata": {},
   "outputs": [
    {
     "data": {
      "text/html": [
       "<div>\n",
       "<style scoped>\n",
       "    .dataframe tbody tr th:only-of-type {\n",
       "        vertical-align: middle;\n",
       "    }\n",
       "\n",
       "    .dataframe tbody tr th {\n",
       "        vertical-align: top;\n",
       "    }\n",
       "\n",
       "    .dataframe thead th {\n",
       "        text-align: right;\n",
       "    }\n",
       "</style>\n",
       "<table border=\"1\" class=\"dataframe\">\n",
       "  <thead>\n",
       "    <tr style=\"text-align: right;\">\n",
       "      <th></th>\n",
       "      <th>item</th>\n",
       "      <th>category</th>\n",
       "      <th>price_min</th>\n",
       "      <th>price_max</th>\n",
       "      <th>price_mean</th>\n",
       "      <th>sales</th>\n",
       "      <th>total_income</th>\n",
       "      <th>k_means</th>\n",
       "    </tr>\n",
       "  </thead>\n",
       "  <tbody>\n",
       "    <tr>\n",
       "      <th>1127</th>\n",
       "      <td>HOME_&amp;_GARDEN_2_031</td>\n",
       "      <td>HOME_&amp;_GARDEN</td>\n",
       "      <td>7.425</td>\n",
       "      <td>7.425</td>\n",
       "      <td>7.425</td>\n",
       "      <td>3713</td>\n",
       "      <td>27569.02</td>\n",
       "      <td>0</td>\n",
       "    </tr>\n",
       "  </tbody>\n",
       "</table>\n",
       "</div>"
      ],
      "text/plain": [
       "                     item       category  price_min  price_max  price_mean  \\\n",
       "1127  HOME_&_GARDEN_2_031  HOME_&_GARDEN      7.425      7.425       7.425   \n",
       "\n",
       "      sales  total_income  k_means  \n",
       "1127   3713      27569.02        0  "
      ]
     },
     "execution_count": 79,
     "metadata": {},
     "output_type": "execute_result"
    }
   ],
   "source": [
    "df_cluster.sample(1)"
   ]
  },
  {
   "cell_type": "code",
   "execution_count": 56,
   "metadata": {},
   "outputs": [],
   "source": [
    "df_cluster[\"category\"] = df_cluster[\"item\"].apply(lambda x: x[:-6])"
   ]
  },
  {
   "cell_type": "code",
   "execution_count": 72,
   "metadata": {},
   "outputs": [],
   "source": [
    "del(df_cluster['percentage'])"
   ]
  },
  {
   "cell_type": "code",
   "execution_count": 74,
   "metadata": {},
   "outputs": [],
   "source": [
    "columns = [\"item\", \"category\", \"price_min\", \"price_max\", \"price_mean\", \"sales\", \"total_income\",\"k_means\", ]"
   ]
  },
  {
   "cell_type": "code",
   "execution_count": 75,
   "metadata": {},
   "outputs": [],
   "source": [
    "df_cluster = df_cluster[columns]"
   ]
  },
  {
   "cell_type": "code",
   "execution_count": 80,
   "metadata": {},
   "outputs": [
    {
     "data": {
      "text/html": [
       "<div>\n",
       "<style scoped>\n",
       "    .dataframe tbody tr th:only-of-type {\n",
       "        vertical-align: middle;\n",
       "    }\n",
       "\n",
       "    .dataframe tbody tr th {\n",
       "        vertical-align: top;\n",
       "    }\n",
       "\n",
       "    .dataframe thead th {\n",
       "        text-align: right;\n",
       "    }\n",
       "</style>\n",
       "<table border=\"1\" class=\"dataframe\">\n",
       "  <thead>\n",
       "    <tr style=\"text-align: right;\">\n",
       "      <th></th>\n",
       "      <th>item</th>\n",
       "      <th>category</th>\n",
       "      <th>price_min</th>\n",
       "      <th>price_max</th>\n",
       "      <th>price_mean</th>\n",
       "      <th>sales</th>\n",
       "      <th>total_income</th>\n",
       "      <th>k_means</th>\n",
       "    </tr>\n",
       "  </thead>\n",
       "  <tbody>\n",
       "    <tr>\n",
       "      <th>2032</th>\n",
       "      <td>SUPERMARKET_2_206</td>\n",
       "      <td>SUPERMARKET</td>\n",
       "      <td>9.576</td>\n",
       "      <td>13.848</td>\n",
       "      <td>12.796039</td>\n",
       "      <td>5012</td>\n",
       "      <td>64133.75</td>\n",
       "      <td>0</td>\n",
       "    </tr>\n",
       "  </tbody>\n",
       "</table>\n",
       "</div>"
      ],
      "text/plain": [
       "                   item     category  price_min  price_max  price_mean  sales  \\\n",
       "2032  SUPERMARKET_2_206  SUPERMARKET      9.576     13.848   12.796039   5012   \n",
       "\n",
       "      total_income  k_means  \n",
       "2032      64133.75        0  "
      ]
     },
     "execution_count": 80,
     "metadata": {},
     "output_type": "execute_result"
    }
   ],
   "source": [
    "df_cluster.sample(1)"
   ]
  },
  {
   "cell_type": "code",
   "execution_count": 77,
   "metadata": {},
   "outputs": [],
   "source": [
    "# file_name = \"df_cluster.csv\"\n",
    "# df_cluster.to_csv(file_name)"
   ]
  }
 ],
 "metadata": {
  "kernelspec": {
   "display_name": "env",
   "language": "python",
   "name": "python3"
  },
  "language_info": {
   "codemirror_mode": {
    "name": "ipython",
    "version": 3
   },
   "file_extension": ".py",
   "mimetype": "text/x-python",
   "name": "python",
   "nbconvert_exporter": "python",
   "pygments_lexer": "ipython3",
   "version": "3.11.9"
  }
 },
 "nbformat": 4,
 "nbformat_minor": 2
}
