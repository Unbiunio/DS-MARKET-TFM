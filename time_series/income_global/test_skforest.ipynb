{
 "cells": [
  {
   "cell_type": "code",
   "execution_count": 8,
   "metadata": {},
   "outputs": [],
   "source": [
    "from datetime import datetime\n",
    "import pandas as pd\n",
    "import numpy as np\n",
    "\n",
    "import matplotlib.pyplot as plt\n",
    "%matplotlib inline\n",
    "\n",
    "from sklearn.metrics import mean_squared_error\n",
    "from sklearn.preprocessing import OrdinalEncoder\n",
    "\n",
    "from statsmodels.graphics.tsaplots import plot_acf, plot_pacf\n",
    "\n",
    "from sklearn.linear_model import Ridge\n",
    "from sklearn.ensemble import RandomForestRegressor\n",
    "from sklearn.metrics import mean_squared_error\n",
    "from sklearn.metrics import mean_absolute_error\n",
    "from sklearn.preprocessing import StandardScaler\n",
    "\n",
    "import skforecast\n",
    "from skforecast.ForecasterAutoreg import ForecasterAutoreg\n",
    "from skforecast.ForecasterAutoregCustom import ForecasterAutoregCustom\n",
    "from skforecast.ForecasterAutoregDirect import ForecasterAutoregDirect\n",
    "from skforecast.model_selection import grid_search_forecaster\n",
    "from skforecast.model_selection import backtesting_forecaster\n",
    "from skforecast.utils import save_forecaster\n",
    "from skforecast.utils import load_forecaster\n",
    "import shap"
   ]
  },
  {
   "cell_type": "code",
   "execution_count": 9,
   "metadata": {},
   "outputs": [],
   "source": [
    "ts= pd.read_csv('../../data/ts_top100_prediction.csv')"
   ]
  },
  {
   "cell_type": "code",
   "execution_count": 10,
   "metadata": {},
   "outputs": [
    {
     "name": "stdout",
     "output_type": "stream",
     "text": [
      "(1739323, 6)\n"
     ]
    },
    {
     "data": {
      "text/html": [
       "<div>\n",
       "<style scoped>\n",
       "    .dataframe tbody tr th:only-of-type {\n",
       "        vertical-align: middle;\n",
       "    }\n",
       "\n",
       "    .dataframe tbody tr th {\n",
       "        vertical-align: top;\n",
       "    }\n",
       "\n",
       "    .dataframe thead th {\n",
       "        text-align: right;\n",
       "    }\n",
       "</style>\n",
       "<table border=\"1\" class=\"dataframe\">\n",
       "  <thead>\n",
       "    <tr style=\"text-align: right;\">\n",
       "      <th></th>\n",
       "      <th>date</th>\n",
       "      <th>id</th>\n",
       "      <th>item</th>\n",
       "      <th>sales</th>\n",
       "      <th>income</th>\n",
       "      <th>event</th>\n",
       "    </tr>\n",
       "  </thead>\n",
       "  <tbody>\n",
       "    <tr>\n",
       "      <th>701948</th>\n",
       "      <td>2013-06-07</td>\n",
       "      <td>SUPERMARKET_3_473_PHI_2</td>\n",
       "      <td>SUPERMARKET_3_473</td>\n",
       "      <td>3</td>\n",
       "      <td>13.968</td>\n",
       "      <td>0</td>\n",
       "    </tr>\n",
       "  </tbody>\n",
       "</table>\n",
       "</div>"
      ],
      "text/plain": [
       "              date                       id               item  sales  income  \\\n",
       "701948  2013-06-07  SUPERMARKET_3_473_PHI_2  SUPERMARKET_3_473      3  13.968   \n",
       "\n",
       "        event  \n",
       "701948      0  "
      ]
     },
     "execution_count": 10,
     "metadata": {},
     "output_type": "execute_result"
    }
   ],
   "source": [
    "print(ts.shape)\n",
    "ts.sample(1)"
   ]
  },
  {
   "cell_type": "code",
   "execution_count": 11,
   "metadata": {},
   "outputs": [],
   "source": [
    "ts['date']= pd.to_datetime(ts['date'], format='%Y-%m-%d')"
   ]
  },
  {
   "cell_type": "code",
   "execution_count": 12,
   "metadata": {},
   "outputs": [],
   "source": [
    "ts['weekday'] = ts['date'].dt.day_name()"
   ]
  },
  {
   "cell_type": "code",
   "execution_count": 13,
   "metadata": {},
   "outputs": [
    {
     "data": {
      "text/html": [
       "<div>\n",
       "<style scoped>\n",
       "    .dataframe tbody tr th:only-of-type {\n",
       "        vertical-align: middle;\n",
       "    }\n",
       "\n",
       "    .dataframe tbody tr th {\n",
       "        vertical-align: top;\n",
       "    }\n",
       "\n",
       "    .dataframe thead th {\n",
       "        text-align: right;\n",
       "    }\n",
       "</style>\n",
       "<table border=\"1\" class=\"dataframe\">\n",
       "  <thead>\n",
       "    <tr style=\"text-align: right;\">\n",
       "      <th></th>\n",
       "      <th>date</th>\n",
       "      <th>id</th>\n",
       "      <th>item</th>\n",
       "      <th>sales</th>\n",
       "      <th>income</th>\n",
       "      <th>event</th>\n",
       "      <th>weekday</th>\n",
       "    </tr>\n",
       "  </thead>\n",
       "  <tbody>\n",
       "    <tr>\n",
       "      <th>1640194</th>\n",
       "      <td>2016-01-16</td>\n",
       "      <td>SUPERMARKET_3_473_PHI_2</td>\n",
       "      <td>SUPERMARKET_3_473</td>\n",
       "      <td>2</td>\n",
       "      <td>10.032</td>\n",
       "      <td>0</td>\n",
       "      <td>Saturday</td>\n",
       "    </tr>\n",
       "    <tr>\n",
       "      <th>851808</th>\n",
       "      <td>2013-11-11</td>\n",
       "      <td>HOME_&amp;_GARDEN_1_027_BOS_3</td>\n",
       "      <td>HOME_&amp;_GARDEN_1_027</td>\n",
       "      <td>1</td>\n",
       "      <td>7.050</td>\n",
       "      <td>0</td>\n",
       "      <td>Monday</td>\n",
       "    </tr>\n",
       "    <tr>\n",
       "      <th>56347</th>\n",
       "      <td>2011-04-26</td>\n",
       "      <td>SUPERMARKET_3_516_NYC_2</td>\n",
       "      <td>SUPERMARKET_3_516</td>\n",
       "      <td>1</td>\n",
       "      <td>3.576</td>\n",
       "      <td>0</td>\n",
       "      <td>Tuesday</td>\n",
       "    </tr>\n",
       "    <tr>\n",
       "      <th>1413222</th>\n",
       "      <td>2015-06-03</td>\n",
       "      <td>SUPERMARKET_3_136_PHI_1</td>\n",
       "      <td>SUPERMARKET_3_136</td>\n",
       "      <td>3</td>\n",
       "      <td>15.984</td>\n",
       "      <td>0</td>\n",
       "      <td>Wednesday</td>\n",
       "    </tr>\n",
       "    <tr>\n",
       "      <th>1254152</th>\n",
       "      <td>2014-12-26</td>\n",
       "      <td>SUPERMARKET_3_499_NYC_2</td>\n",
       "      <td>SUPERMARKET_3_499</td>\n",
       "      <td>9</td>\n",
       "      <td>27.000</td>\n",
       "      <td>0</td>\n",
       "      <td>Friday</td>\n",
       "    </tr>\n",
       "  </tbody>\n",
       "</table>\n",
       "</div>"
      ],
      "text/plain": [
       "              date                         id                 item  sales  \\\n",
       "1640194 2016-01-16    SUPERMARKET_3_473_PHI_2    SUPERMARKET_3_473      2   \n",
       "851808  2013-11-11  HOME_&_GARDEN_1_027_BOS_3  HOME_&_GARDEN_1_027      1   \n",
       "56347   2011-04-26    SUPERMARKET_3_516_NYC_2    SUPERMARKET_3_516      1   \n",
       "1413222 2015-06-03    SUPERMARKET_3_136_PHI_1    SUPERMARKET_3_136      3   \n",
       "1254152 2014-12-26    SUPERMARKET_3_499_NYC_2    SUPERMARKET_3_499      9   \n",
       "\n",
       "         income  event    weekday  \n",
       "1640194  10.032      0   Saturday  \n",
       "851808    7.050      0     Monday  \n",
       "56347     3.576      0    Tuesday  \n",
       "1413222  15.984      0  Wednesday  \n",
       "1254152  27.000      0     Friday  "
      ]
     },
     "execution_count": 13,
     "metadata": {},
     "output_type": "execute_result"
    }
   ],
   "source": [
    "ts.sample(5)"
   ]
  },
  {
   "cell_type": "code",
   "execution_count": 14,
   "metadata": {},
   "outputs": [],
   "source": [
    "ts = ts[ts['item']=='SUPERMARKET_3_586']"
   ]
  },
  {
   "cell_type": "code",
   "execution_count": 16,
   "metadata": {},
   "outputs": [],
   "source": [
    "resultados = []\n",
    "\n",
    "# Copy origina DataFrame\n",
    "df_original = ts.copy()\n",
    "\n",
    "dataset = df_original[['item','date','income','weekday','event']]\n",
    "df_product = dataset[dataset['item']=='SUPERMARKET_3_586']\n",
    "df_product_sin_duplicates = df_product[['date','weekday', 'event']].drop_duplicates()\n",
    "ts_predict = df_product.groupby(['date'])['income'].sum().reset_index()\n",
    "ts_predict = ts_predict.merge(df_product_sin_duplicates, on=['date'], how='left')\n",
    "ts_predict = pd.get_dummies(data=ts_predict, columns=['weekday'], dtype=int)\n",
    "ts_predict['date'] = pd.to_datetime(ts_predict['date'])\n",
    "ts_predict.sort_values('date', ascending=True, inplace=True)\n",
    "ts_predict.set_index('date', inplace=True)\n",
    "steps = 30\n",
    "ts_predict = ts_predict.asfreq('D')\n",
    "y, exog = ts_predict['income'], ts_predict.drop(columns=['income'])\n",
    "y_train, y_test = y[:-steps], y[-steps:]\n",
    "exog_train, exog_test = exog[:-steps], exog[-steps:]        \n",
    "forecaster = ForecasterAutoreg(\n",
    "        regressor = RandomForestRegressor(random_state=123,\n",
    "                                        max_depth=None,\n",
    "                                        min_samples_leaf=1, \n",
    "                                        min_samples_split=2,\n",
    "                                        n_estimators=50),\n",
    "        lags=14\n",
    ")\n",
    "     \n",
    "# Prepare for prediction(next mounth)\n",
    "start_date = '2016-04-25' \n",
    "end_date ='2016-05-30'\n",
    "# Create range date\n",
    "date_range = pd.date_range(start=start_date, end=end_date)\n",
    "# Create DataFrame\n",
    "df1 = pd.DataFrame(date_range, columns=['date'])\n",
    "df1['date'] = pd.to_datetime(df1['date'])\n",
    "df1['weekday'] = df1['date'].dt.day_name()\n",
    "df1['event'] = 0\n",
    "df1 = pd.get_dummies(data=df1, columns=['weekday'], dtype=int)\n",
    "df1.sort_values('date', inplace=True, ascending=True)\n",
    "df1.set_index('date', inplace=True)\n",
    "df1 = df1.asfreq('D')\n",
    "exog_test = pd.concat([exog_test, df1], ignore_index=False)\n",
    "forecaster.fit(y=y_train, exog=exog_train)\n",
    "predictions = forecaster.predict(steps=30, exog=exog_test).to_list()\n",
    "resultados.append({'prediction':predictions,'test':y_test.values})"
   ]
  },
  {
   "cell_type": "code",
   "execution_count": 17,
   "metadata": {},
   "outputs": [
    {
     "data": {
      "text/html": [
       "<div>\n",
       "<style scoped>\n",
       "    .dataframe tbody tr th:only-of-type {\n",
       "        vertical-align: middle;\n",
       "    }\n",
       "\n",
       "    .dataframe tbody tr th {\n",
       "        vertical-align: top;\n",
       "    }\n",
       "\n",
       "    .dataframe thead th {\n",
       "        text-align: right;\n",
       "    }\n",
       "</style>\n",
       "<table border=\"1\" class=\"dataframe\">\n",
       "  <thead>\n",
       "    <tr style=\"text-align: right;\">\n",
       "      <th></th>\n",
       "      <th>prediction</th>\n",
       "      <th>test</th>\n",
       "    </tr>\n",
       "  </thead>\n",
       "  <tbody>\n",
       "    <tr>\n",
       "      <th>0</th>\n",
       "      <td>[998.7158399999996, 1020.41616, 771.78432, 715...</td>\n",
       "      <td>[1280.16, 1167.264, 683.424, 584.64, 604.8, 66...</td>\n",
       "    </tr>\n",
       "  </tbody>\n",
       "</table>\n",
       "</div>"
      ],
      "text/plain": [
       "                                          prediction  \\\n",
       "0  [998.7158399999996, 1020.41616, 771.78432, 715...   \n",
       "\n",
       "                                                test  \n",
       "0  [1280.16, 1167.264, 683.424, 584.64, 604.8, 66...  "
      ]
     },
     "execution_count": 17,
     "metadata": {},
     "output_type": "execute_result"
    }
   ],
   "source": [
    "pd.DataFrame(resultados)"
   ]
  },
  {
   "cell_type": "code",
   "execution_count": 18,
   "metadata": {},
   "outputs": [
    {
     "name": "stdout",
     "output_type": "stream",
     "text": [
      "Test error (MSE): 9132.155026421757\n"
     ]
    }
   ],
   "source": [
    "# Test error\n",
    "# ==============================================================================\n",
    "error_mse = mean_squared_error(\n",
    "                y_true = y_test,\n",
    "                y_pred = predictions\n",
    "            )\n",
    "print(f\"Test error (MSE): {error_mse}\")\n",
    "rmspe = np.sqrt(np.mean(((y_test - predictions) / y_test) ** 2)) * 100"
   ]
  },
  {
   "cell_type": "code",
   "execution_count": 19,
   "metadata": {},
   "outputs": [],
   "source": [
    "result = pd.DataFrame(predictions, columns=['prediction'])"
   ]
  },
  {
   "cell_type": "code",
   "execution_count": 20,
   "metadata": {},
   "outputs": [],
   "source": [
    "result['date'] = pd.DataFrame(list(y_test.index.values))"
   ]
  },
  {
   "cell_type": "code",
   "execution_count": 21,
   "metadata": {},
   "outputs": [],
   "source": [
    "result.set_index('date', inplace=True)"
   ]
  },
  {
   "cell_type": "code",
   "execution_count": 22,
   "metadata": {},
   "outputs": [
    {
     "data": {
      "image/png": "[encoded data removed]",
      "text/plain": [
       "<Figure size 1000x500 with 1 Axes>"
      ]
     },
     "metadata": {},
     "output_type": "display_data"
    }
   ],
   "source": [
    "fig, ax = plt.subplots(figsize=(10, 5))\n",
    "y_test[-30:].plot(ax=ax, label='Test')\n",
    "result.plot(ax=ax, label='Predictions')\n",
    "ax.legend()\n",
    "plt.show()"
   ]
  }
 ],
 "metadata": {
  "kernelspec": {
   "display_name": "env",
   "language": "python",
   "name": "python3"
  },
  "language_info": {
   "codemirror_mode": {
    "name": "ipython",
    "version": 3
   },
   "file_extension": ".py",
   "mimetype": "text/x-python",
   "name": "python",
   "nbconvert_exporter": "python",
   "pygments_lexer": "ipython3",
   "version": "3.12.6"
  }
 },
 "nbformat": 4,
 "nbformat_minor": 2
}
