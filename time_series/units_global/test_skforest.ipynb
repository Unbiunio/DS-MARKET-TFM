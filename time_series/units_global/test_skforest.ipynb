{
 "cells": [
  {
   "cell_type": "code",
   "execution_count": 76,
   "metadata": {},
   "outputs": [],
   "source": [
    "from datetime import datetime\n",
    "import pandas as pd\n",
    "import numpy as np\n",
    "\n",
    "import matplotlib.pyplot as plt\n",
    "%matplotlib inline\n",
    "\n",
    "from sklearn.metrics import mean_squared_error\n",
    "from sklearn.preprocessing import OrdinalEncoder\n",
    "\n",
    "from statsmodels.graphics.tsaplots import plot_acf, plot_pacf\n",
    "\n",
    "from sklearn.linear_model import Ridge\n",
    "from sklearn.ensemble import RandomForestRegressor\n",
    "from sklearn.metrics import mean_squared_error\n",
    "from sklearn.metrics import mean_absolute_error\n",
    "from sklearn.preprocessing import StandardScaler\n",
    "\n",
    "import skforecast\n",
    "from skforecast.ForecasterAutoreg import ForecasterAutoreg\n",
    "from skforecast.ForecasterAutoregCustom import ForecasterAutoregCustom\n",
    "from skforecast.ForecasterAutoregDirect import ForecasterAutoregDirect\n",
    "from skforecast.model_selection import grid_search_forecaster\n",
    "from skforecast.model_selection import backtesting_forecaster\n",
    "from skforecast.utils import save_forecaster\n",
    "from skforecast.utils import load_forecaster\n",
    "import shap"
   ]
  },
  {
   "cell_type": "code",
   "execution_count": 77,
   "metadata": {},
   "outputs": [],
   "source": [
    "ts= pd.read_csv('../../data/ts_top100_prediction.csv')"
   ]
  },
  {
   "cell_type": "code",
   "execution_count": 78,
   "metadata": {},
   "outputs": [
    {
     "name": "stdout",
     "output_type": "stream",
     "text": [
      "(1739323, 6)\n"
     ]
    },
    {
     "data": {
      "text/html": [
       "<div>\n",
       "<style scoped>\n",
       "    .dataframe tbody tr th:only-of-type {\n",
       "        vertical-align: middle;\n",
       "    }\n",
       "\n",
       "    .dataframe tbody tr th {\n",
       "        vertical-align: top;\n",
       "    }\n",
       "\n",
       "    .dataframe thead th {\n",
       "        text-align: right;\n",
       "    }\n",
       "</style>\n",
       "<table border=\"1\" class=\"dataframe\">\n",
       "  <thead>\n",
       "    <tr style=\"text-align: right;\">\n",
       "      <th></th>\n",
       "      <th>date</th>\n",
       "      <th>id</th>\n",
       "      <th>item</th>\n",
       "      <th>sales</th>\n",
       "      <th>income</th>\n",
       "      <th>event</th>\n",
       "    </tr>\n",
       "  </thead>\n",
       "  <tbody>\n",
       "    <tr>\n",
       "      <th>1248163</th>\n",
       "      <td>2014-12-20</td>\n",
       "      <td>HOME_&amp;_GARDEN_1_272_NYC_2</td>\n",
       "      <td>HOME_&amp;_GARDEN_1_272</td>\n",
       "      <td>0</td>\n",
       "      <td>0.0</td>\n",
       "      <td>0</td>\n",
       "    </tr>\n",
       "  </tbody>\n",
       "</table>\n",
       "</div>"
      ],
      "text/plain": [
       "               date                         id                 item  sales  \\\n",
       "1248163  2014-12-20  HOME_&_GARDEN_1_272_NYC_2  HOME_&_GARDEN_1_272      0   \n",
       "\n",
       "         income  event  \n",
       "1248163     0.0      0  "
      ]
     },
     "execution_count": 78,
     "metadata": {},
     "output_type": "execute_result"
    }
   ],
   "source": [
    "print(ts.shape)\n",
    "ts.sample(1)"
   ]
  },
  {
   "cell_type": "code",
   "execution_count": 79,
   "metadata": {},
   "outputs": [],
   "source": [
    "ts['date']= pd.to_datetime(ts['date'], format='%Y-%m-%d')"
   ]
  },
  {
   "cell_type": "code",
   "execution_count": 80,
   "metadata": {},
   "outputs": [],
   "source": [
    "ts['weekday'] = ts['date'].dt.day_name()"
   ]
  },
  {
   "cell_type": "code",
   "execution_count": 81,
   "metadata": {},
   "outputs": [
    {
     "data": {
      "text/html": [
       "<div>\n",
       "<style scoped>\n",
       "    .dataframe tbody tr th:only-of-type {\n",
       "        vertical-align: middle;\n",
       "    }\n",
       "\n",
       "    .dataframe tbody tr th {\n",
       "        vertical-align: top;\n",
       "    }\n",
       "\n",
       "    .dataframe thead th {\n",
       "        text-align: right;\n",
       "    }\n",
       "</style>\n",
       "<table border=\"1\" class=\"dataframe\">\n",
       "  <thead>\n",
       "    <tr style=\"text-align: right;\">\n",
       "      <th></th>\n",
       "      <th>date</th>\n",
       "      <th>id</th>\n",
       "      <th>item</th>\n",
       "      <th>sales</th>\n",
       "      <th>income</th>\n",
       "      <th>event</th>\n",
       "      <th>weekday</th>\n",
       "    </tr>\n",
       "  </thead>\n",
       "  <tbody>\n",
       "    <tr>\n",
       "      <th>895117</th>\n",
       "      <td>2013-12-26</td>\n",
       "      <td>SUPERMARKET_3_455_BOS_1</td>\n",
       "      <td>SUPERMARKET_3_455</td>\n",
       "      <td>11</td>\n",
       "      <td>26.1360</td>\n",
       "      <td>0</td>\n",
       "      <td>Thursday</td>\n",
       "    </tr>\n",
       "    <tr>\n",
       "      <th>1396644</th>\n",
       "      <td>2015-05-18</td>\n",
       "      <td>SUPERMARKET_3_252_NYC_2</td>\n",
       "      <td>SUPERMARKET_3_252</td>\n",
       "      <td>8</td>\n",
       "      <td>15.1680</td>\n",
       "      <td>0</td>\n",
       "      <td>Monday</td>\n",
       "    </tr>\n",
       "    <tr>\n",
       "      <th>449725</th>\n",
       "      <td>2012-09-05</td>\n",
       "      <td>HOME_&amp;_GARDEN_1_140_PHI_2</td>\n",
       "      <td>HOME_&amp;_GARDEN_1_140</td>\n",
       "      <td>1</td>\n",
       "      <td>18.7125</td>\n",
       "      <td>0</td>\n",
       "      <td>Wednesday</td>\n",
       "    </tr>\n",
       "    <tr>\n",
       "      <th>1699037</th>\n",
       "      <td>2016-03-15</td>\n",
       "      <td>HOME_&amp;_GARDEN_1_140_PHI_1</td>\n",
       "      <td>HOME_&amp;_GARDEN_1_140</td>\n",
       "      <td>0</td>\n",
       "      <td>0.0000</td>\n",
       "      <td>0</td>\n",
       "      <td>Tuesday</td>\n",
       "    </tr>\n",
       "    <tr>\n",
       "      <th>325814</th>\n",
       "      <td>2012-04-14</td>\n",
       "      <td>SUPERMARKET_2_029_NYC_1</td>\n",
       "      <td>SUPERMARKET_2_029</td>\n",
       "      <td>3</td>\n",
       "      <td>39.5280</td>\n",
       "      <td>0</td>\n",
       "      <td>Saturday</td>\n",
       "    </tr>\n",
       "  </tbody>\n",
       "</table>\n",
       "</div>"
      ],
      "text/plain": [
       "              date                         id                 item  sales  \\\n",
       "895117  2013-12-26    SUPERMARKET_3_455_BOS_1    SUPERMARKET_3_455     11   \n",
       "1396644 2015-05-18    SUPERMARKET_3_252_NYC_2    SUPERMARKET_3_252      8   \n",
       "449725  2012-09-05  HOME_&_GARDEN_1_140_PHI_2  HOME_&_GARDEN_1_140      1   \n",
       "1699037 2016-03-15  HOME_&_GARDEN_1_140_PHI_1  HOME_&_GARDEN_1_140      0   \n",
       "325814  2012-04-14    SUPERMARKET_2_029_NYC_1    SUPERMARKET_2_029      3   \n",
       "\n",
       "          income  event    weekday  \n",
       "895117   26.1360      0   Thursday  \n",
       "1396644  15.1680      0     Monday  \n",
       "449725   18.7125      0  Wednesday  \n",
       "1699037   0.0000      0    Tuesday  \n",
       "325814   39.5280      0   Saturday  "
      ]
     },
     "execution_count": 81,
     "metadata": {},
     "output_type": "execute_result"
    }
   ],
   "source": [
    "ts.sample(5)"
   ]
  },
  {
   "cell_type": "code",
   "execution_count": 82,
   "metadata": {},
   "outputs": [],
   "source": [
    "ts = ts[ts['item']=='SUPERMARKET_3_586']"
   ]
  },
  {
   "cell_type": "code",
   "execution_count": 83,
   "metadata": {},
   "outputs": [],
   "source": [
    "resultados = []\n",
    "\n",
    "# Copy origina DataFrame\n",
    "df_original = ts.copy()\n",
    "\n",
    "dataset = df_original[['item','date','sales','weekday','event']]\n",
    "df_product = dataset[dataset['item']=='SUPERMARKET_3_586']\n",
    "df_product_sin_duplicates = df_product[['date','weekday', 'event']].drop_duplicates()\n",
    "ts_predict = df_product.groupby(['date'])['sales'].sum().reset_index()\n",
    "ts_predict = ts_predict.merge(df_product_sin_duplicates, on=['date'], how='left')\n",
    "ts_predict = pd.get_dummies(data=ts_predict, columns=['weekday'], dtype=int)\n",
    "ts_predict['date'] = pd.to_datetime(ts_predict['date'])\n",
    "ts_predict.sort_values('date', ascending=True, inplace=True)\n",
    "ts_predict.set_index('date', inplace=True)\n",
    "steps = 30\n",
    "ts_predict = ts_predict.asfreq('D')\n",
    "y, exog = ts_predict['sales'], ts_predict.drop(columns=['sales'])\n",
    "y_train, y_test = y[:-steps], y[-steps:]\n",
    "exog_train, exog_test = exog[:-steps], exog[-steps:]        \n",
    "forecaster = ForecasterAutoreg(\n",
    "        regressor = RandomForestRegressor(random_state=123,\n",
    "                                        max_depth=None,\n",
    "                                        min_samples_leaf=1, \n",
    "                                        min_samples_split=2,\n",
    "                                        n_estimators=50),\n",
    "        lags=14\n",
    ")\n",
    "     \n",
    "# Prepare for prediction(next mounth)\n",
    "start_date = '2016-04-25' \n",
    "end_date ='2016-05-30'\n",
    "# Create range date\n",
    "date_range = pd.date_range(start=start_date, end=end_date)\n",
    "# Create DataFrame\n",
    "df1 = pd.DataFrame(date_range, columns=['date'])\n",
    "df1['date'] = pd.to_datetime(df1['date'])\n",
    "df1['weekday'] = df1['date'].dt.day_name()\n",
    "df1['event'] = 0\n",
    "df1 = pd.get_dummies(data=df1, columns=['weekday'], dtype=int)\n",
    "df1.sort_values('date', inplace=True, ascending=True)\n",
    "df1.set_index('date', inplace=True)\n",
    "df1 = df1.asfreq('D')\n",
    "exog_test = pd.concat([exog_test, df1], ignore_index=False)\n",
    "forecaster.fit(y=y_train, exog=exog_train)\n",
    "predictions = forecaster.predict(steps=30, exog=exog_test).to_list()\n",
    "resultados.append({'prediction':predictions,'test':y_test.values})"
   ]
  },
  {
   "cell_type": "code",
   "execution_count": 84,
   "metadata": {},
   "outputs": [
    {
     "data": {
      "text/html": [
       "<div>\n",
       "<style scoped>\n",
       "    .dataframe tbody tr th:only-of-type {\n",
       "        vertical-align: middle;\n",
       "    }\n",
       "\n",
       "    .dataframe tbody tr th {\n",
       "        vertical-align: top;\n",
       "    }\n",
       "\n",
       "    .dataframe thead th {\n",
       "        text-align: right;\n",
       "    }\n",
       "</style>\n",
       "<table border=\"1\" class=\"dataframe\">\n",
       "  <thead>\n",
       "    <tr style=\"text-align: right;\">\n",
       "      <th></th>\n",
       "      <th>prediction</th>\n",
       "      <th>test</th>\n",
       "    </tr>\n",
       "  </thead>\n",
       "  <tbody>\n",
       "    <tr>\n",
       "      <th>0</th>\n",
       "      <td>[521.26, 530.9, 359.82, 364.9, 363.08, 405.74,...</td>\n",
       "      <td>[635, 579, 339, 290, 300, 332, 405, 485, 506, ...</td>\n",
       "    </tr>\n",
       "  </tbody>\n",
       "</table>\n",
       "</div>"
      ],
      "text/plain": [
       "                                          prediction  \\\n",
       "0  [521.26, 530.9, 359.82, 364.9, 363.08, 405.74,...   \n",
       "\n",
       "                                                test  \n",
       "0  [635, 579, 339, 290, 300, 332, 405, 485, 506, ...  "
      ]
     },
     "execution_count": 84,
     "metadata": {},
     "output_type": "execute_result"
    }
   ],
   "source": [
    "pd.DataFrame(resultados)"
   ]
  },
  {
   "cell_type": "code",
   "execution_count": 85,
   "metadata": {},
   "outputs": [
    {
     "name": "stdout",
     "output_type": "stream",
     "text": [
      "Test error (MSE): 2326.335706666666\n"
     ]
    }
   ],
   "source": [
    "# Test error\n",
    "# ==============================================================================\n",
    "error_mse = mean_squared_error(\n",
    "                y_true = y_test,\n",
    "                y_pred = predictions\n",
    "            )\n",
    "print(f\"Test error (MSE): {error_mse}\")\n",
    "rmspe = np.sqrt(np.mean(((y_test - predictions) / y_test) ** 2)) * 100"
   ]
  },
  {
   "cell_type": "code",
   "execution_count": 86,
   "metadata": {},
   "outputs": [],
   "source": [
    "result = pd.DataFrame(predictions, columns=['prediction'])"
   ]
  },
  {
   "cell_type": "code",
   "execution_count": 87,
   "metadata": {},
   "outputs": [],
   "source": [
    "result['date'] = pd.DataFrame(list(y_test.index.values))"
   ]
  },
  {
   "cell_type": "code",
   "execution_count": 88,
   "metadata": {},
   "outputs": [],
   "source": [
    "result.set_index('date', inplace=True)"
   ]
  },
  {
   "cell_type": "code",
   "execution_count": 89,
   "metadata": {},
   "outputs": [
    {
     "data": {
      "image/png": "[encoded data removed]",
      "text/plain": [
       "<Figure size 1000x500 with 1 Axes>"
      ]
     },
     "metadata": {},
     "output_type": "display_data"
    }
   ],
   "source": [
    "fig, ax = plt.subplots(figsize=(10, 5))\n",
    "y_test[-30:].plot(ax=ax, label='Test')\n",
    "result.plot(ax=ax, label='Predictions')\n",
    "ax.legend()\n",
    "plt.show()"
   ]
  }
 ],
 "metadata": {
  "kernelspec": {
   "display_name": "env",
   "language": "python",
   "name": "python3"
  },
  "language_info": {
   "codemirror_mode": {
    "name": "ipython",
    "version": 3
   },
   "file_extension": ".py",
   "mimetype": "text/x-python",
   "name": "python",
   "nbconvert_exporter": "python",
   "pygments_lexer": "ipython3",
   "version": "3.12.6"
  }
 },
 "nbformat": 4,
 "nbformat_minor": 2
}
