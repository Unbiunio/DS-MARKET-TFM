{
 "cells": [
  {
   "cell_type": "code",
   "execution_count": 5,
   "metadata": {},
   "outputs": [
    {
     "name": "stderr",
     "output_type": "stream",
     "text": [
      "c:\\Users\\harol\\Nuclio\\DS-MARKET-TFM\\env\\Lib\\site-packages\\tqdm\\auto.py:21: TqdmWarning: IProgress not found. Please update jupyter and ipywidgets. See https://ipywidgets.readthedocs.io/en/stable/user_install.html\n",
      "  from .autonotebook import tqdm as notebook_tqdm\n"
     ]
    }
   ],
   "source": [
    "from datetime import datetime\n",
    "import pandas as pd\n",
    "import numpy as np\n",
    "\n",
    "import matplotlib.pyplot as plt\n",
    "%matplotlib inline\n",
    "\n",
    "from sklearn.metrics import mean_squared_error\n",
    "from sklearn.preprocessing import OrdinalEncoder\n",
    "\n",
    "from statsmodels.graphics.tsaplots import plot_acf, plot_pacf\n",
    "\n",
    "from sklearn.linear_model import Ridge\n",
    "from sklearn.ensemble import RandomForestRegressor\n",
    "from sklearn.metrics import mean_squared_error\n",
    "from sklearn.metrics import mean_absolute_error\n",
    "from sklearn.preprocessing import StandardScaler\n",
    "\n",
    "import skforecast\n",
    "from skforecast.ForecasterAutoreg import ForecasterAutoreg\n",
    "from skforecast.ForecasterAutoregCustom import ForecasterAutoregCustom\n",
    "from skforecast.ForecasterAutoregDirect import ForecasterAutoregDirect\n",
    "from skforecast.model_selection import grid_search_forecaster\n",
    "from skforecast.model_selection import backtesting_forecaster\n",
    "from skforecast.utils import save_forecaster\n",
    "from skforecast.utils import load_forecaster\n",
    "import shap"
   ]
  },
  {
   "cell_type": "code",
   "execution_count": 8,
   "metadata": {},
   "outputs": [
    {
     "name": "stdout",
     "output_type": "stream",
     "text": [
      "(1739323, 5)\n"
     ]
    },
    {
     "data": {
      "text/html": [
       "<div>\n",
       "<style scoped>\n",
       "    .dataframe tbody tr th:only-of-type {\n",
       "        vertical-align: middle;\n",
       "    }\n",
       "\n",
       "    .dataframe tbody tr th {\n",
       "        vertical-align: top;\n",
       "    }\n",
       "\n",
       "    .dataframe thead th {\n",
       "        text-align: right;\n",
       "    }\n",
       "</style>\n",
       "<table border=\"1\" class=\"dataframe\">\n",
       "  <thead>\n",
       "    <tr style=\"text-align: right;\">\n",
       "      <th></th>\n",
       "      <th>date</th>\n",
       "      <th>item</th>\n",
       "      <th>sales</th>\n",
       "      <th>income</th>\n",
       "      <th>event</th>\n",
       "    </tr>\n",
       "  </thead>\n",
       "  <tbody>\n",
       "    <tr>\n",
       "      <th>1468162</th>\n",
       "      <td>2015-07-28</td>\n",
       "      <td>SUPERMARKET_3_090</td>\n",
       "      <td>38</td>\n",
       "      <td>62.928</td>\n",
       "      <td>0</td>\n",
       "    </tr>\n",
       "  </tbody>\n",
       "</table>\n",
       "</div>"
      ],
      "text/plain": [
       "               date               item  sales  income  event\n",
       "1468162  2015-07-28  SUPERMARKET_3_090     38  62.928      0"
      ]
     },
     "execution_count": 8,
     "metadata": {},
     "output_type": "execute_result"
    }
   ],
   "source": [
    "ts= pd.read_csv('../../data/ts_top100_prediction.csv')"
   ]
  },
  {
   "cell_type": "code",
   "execution_count": 11,
   "metadata": {},
   "outputs": [
    {
     "name": "stdout",
     "output_type": "stream",
     "text": [
      "(1739323, 5)\n"
     ]
    },
    {
     "data": {
      "text/html": [
       "<div>\n",
       "<style scoped>\n",
       "    .dataframe tbody tr th:only-of-type {\n",
       "        vertical-align: middle;\n",
       "    }\n",
       "\n",
       "    .dataframe tbody tr th {\n",
       "        vertical-align: top;\n",
       "    }\n",
       "\n",
       "    .dataframe thead th {\n",
       "        text-align: right;\n",
       "    }\n",
       "</style>\n",
       "<table border=\"1\" class=\"dataframe\">\n",
       "  <thead>\n",
       "    <tr style=\"text-align: right;\">\n",
       "      <th></th>\n",
       "      <th>date</th>\n",
       "      <th>item</th>\n",
       "      <th>sales</th>\n",
       "      <th>income</th>\n",
       "      <th>event</th>\n",
       "    </tr>\n",
       "  </thead>\n",
       "  <tbody>\n",
       "    <tr>\n",
       "      <th>596905</th>\n",
       "      <td>2013-02-15</td>\n",
       "      <td>SUPERMARKET_1_170</td>\n",
       "      <td>3</td>\n",
       "      <td>21.096</td>\n",
       "      <td>0</td>\n",
       "    </tr>\n",
       "  </tbody>\n",
       "</table>\n",
       "</div>"
      ],
      "text/plain": [
       "              date               item  sales  income  event\n",
       "596905  2013-02-15  SUPERMARKET_1_170      3  21.096      0"
      ]
     },
     "execution_count": 11,
     "metadata": {},
     "output_type": "execute_result"
    }
   ],
   "source": [
    "print(ts.shape)\n",
    "ts.sample(1)"
   ]
  },
  {
   "cell_type": "code",
   "execution_count": 13,
   "metadata": {},
   "outputs": [],
   "source": [
    "ts['date']= pd.to_datetime(ts['date'], format='%Y-%m-%d')"
   ]
  },
  {
   "cell_type": "code",
   "execution_count": 14,
   "metadata": {},
   "outputs": [],
   "source": [
    "ts['weekday'] = ts['date'].dt.day_name()"
   ]
  },
  {
   "cell_type": "code",
   "execution_count": 15,
   "metadata": {},
   "outputs": [
    {
     "data": {
      "text/html": [
       "<div>\n",
       "<style scoped>\n",
       "    .dataframe tbody tr th:only-of-type {\n",
       "        vertical-align: middle;\n",
       "    }\n",
       "\n",
       "    .dataframe tbody tr th {\n",
       "        vertical-align: top;\n",
       "    }\n",
       "\n",
       "    .dataframe thead th {\n",
       "        text-align: right;\n",
       "    }\n",
       "</style>\n",
       "<table border=\"1\" class=\"dataframe\">\n",
       "  <thead>\n",
       "    <tr style=\"text-align: right;\">\n",
       "      <th></th>\n",
       "      <th>date</th>\n",
       "      <th>item</th>\n",
       "      <th>sales</th>\n",
       "      <th>income</th>\n",
       "      <th>event</th>\n",
       "      <th>weekday</th>\n",
       "    </tr>\n",
       "  </thead>\n",
       "  <tbody>\n",
       "    <tr>\n",
       "      <th>206240</th>\n",
       "      <td>2011-11-17</td>\n",
       "      <td>SUPERMARKET_3_516</td>\n",
       "      <td>0</td>\n",
       "      <td>0.000</td>\n",
       "      <td>0</td>\n",
       "      <td>Thursday</td>\n",
       "    </tr>\n",
       "    <tr>\n",
       "      <th>1413006</th>\n",
       "      <td>2015-06-03</td>\n",
       "      <td>SUPERMARKET_2_056</td>\n",
       "      <td>5</td>\n",
       "      <td>41.880</td>\n",
       "      <td>0</td>\n",
       "      <td>Wednesday</td>\n",
       "    </tr>\n",
       "    <tr>\n",
       "      <th>316152</th>\n",
       "      <td>2012-04-02</td>\n",
       "      <td>SUPERMARKET_3_607</td>\n",
       "      <td>16</td>\n",
       "      <td>43.776</td>\n",
       "      <td>0</td>\n",
       "      <td>Monday</td>\n",
       "    </tr>\n",
       "    <tr>\n",
       "      <th>1389332</th>\n",
       "      <td>2015-05-10</td>\n",
       "      <td>SUPERMARKET_2_183</td>\n",
       "      <td>0</td>\n",
       "      <td>0.000</td>\n",
       "      <td>0</td>\n",
       "      <td>Sunday</td>\n",
       "    </tr>\n",
       "    <tr>\n",
       "      <th>1074234</th>\n",
       "      <td>2014-06-27</td>\n",
       "      <td>SUPERMARKET_3_753</td>\n",
       "      <td>0</td>\n",
       "      <td>0.000</td>\n",
       "      <td>0</td>\n",
       "      <td>Friday</td>\n",
       "    </tr>\n",
       "  </tbody>\n",
       "</table>\n",
       "</div>"
      ],
      "text/plain": [
       "              date               item  sales  income  event    weekday\n",
       "206240  2011-11-17  SUPERMARKET_3_516      0   0.000      0   Thursday\n",
       "1413006 2015-06-03  SUPERMARKET_2_056      5  41.880      0  Wednesday\n",
       "316152  2012-04-02  SUPERMARKET_3_607     16  43.776      0     Monday\n",
       "1389332 2015-05-10  SUPERMARKET_2_183      0   0.000      0     Sunday\n",
       "1074234 2014-06-27  SUPERMARKET_3_753      0   0.000      0     Friday"
      ]
     },
     "execution_count": 15,
     "metadata": {},
     "output_type": "execute_result"
    }
   ],
   "source": [
    "ts.sample(5)"
   ]
  },
  {
   "cell_type": "code",
   "execution_count": 16,
   "metadata": {},
   "outputs": [],
   "source": [
    "lista_productos100 = list(ts['item'].unique())"
   ]
  },
  {
   "cell_type": "code",
   "execution_count": 17,
   "metadata": {},
   "outputs": [
    {
     "name": "stderr",
     "output_type": "stream",
     "text": [
      "c:\\Users\\harol\\Nuclio\\DS-MARKET-TFM\\env\\Lib\\site-packages\\sklearn\\preprocessing\\_discretization.py:307: UserWarning: Bins whose width are too small (i.e., <= 1e-8) in feature 0 are removed. Consider decreasing the number of bins.\n",
      "  warnings.warn(\n",
      "c:\\Users\\harol\\Nuclio\\DS-MARKET-TFM\\env\\Lib\\site-packages\\sklearn\\preprocessing\\_discretization.py:307: UserWarning: Bins whose width are too small (i.e., <= 1e-8) in feature 0 are removed. Consider decreasing the number of bins.\n",
      "  warnings.warn(\n",
      "c:\\Users\\harol\\Nuclio\\DS-MARKET-TFM\\env\\Lib\\site-packages\\sklearn\\preprocessing\\_discretization.py:307: UserWarning: Bins whose width are too small (i.e., <= 1e-8) in feature 0 are removed. Consider decreasing the number of bins.\n",
      "  warnings.warn(\n",
      "c:\\Users\\harol\\Nuclio\\DS-MARKET-TFM\\env\\Lib\\site-packages\\sklearn\\preprocessing\\_discretization.py:307: UserWarning: Bins whose width are too small (i.e., <= 1e-8) in feature 0 are removed. Consider decreasing the number of bins.\n",
      "  warnings.warn(\n",
      "c:\\Users\\harol\\Nuclio\\DS-MARKET-TFM\\env\\Lib\\site-packages\\sklearn\\preprocessing\\_discretization.py:307: UserWarning: Bins whose width are too small (i.e., <= 1e-8) in feature 0 are removed. Consider decreasing the number of bins.\n",
      "  warnings.warn(\n",
      "c:\\Users\\harol\\Nuclio\\DS-MARKET-TFM\\env\\Lib\\site-packages\\sklearn\\preprocessing\\_discretization.py:307: UserWarning: Bins whose width are too small (i.e., <= 1e-8) in feature 0 are removed. Consider decreasing the number of bins.\n",
      "  warnings.warn(\n"
     ]
    }
   ],
   "source": [
    "resultados = []\n",
    "\n",
    "# Copia del DataFrame original\n",
    "df_original = ts.copy()\n",
    "\n",
    "# Seleccionar los primeros 5 productos únicos\n",
    "productos = list(df_original['item'].unique())\n",
    "\n",
    "for i in lista_productos100:\n",
    "        dataset = df_original[['item','date','sales','weekday','event']]\n",
    "        df_product = dataset[dataset['item']==i]\n",
    "        df_product_sin_duplicates = df_product[['date','weekday', 'event']].drop_duplicates()\n",
    "        ts_predict = df_product.groupby(['date'])['sales'].sum().reset_index()\n",
    "        ts_predict = ts_predict.merge(df_product_sin_duplicates, on=['date'], how='left')\n",
    "        ts_predict = pd.get_dummies(data=ts_predict, columns=['weekday'], dtype=int)\n",
    "        ts_predict['date'] = pd.to_datetime(ts_predict['date'])\n",
    "        ts_predict.sort_values('date', ascending=True, inplace=True)\n",
    "        ts_predict.set_index('date', inplace=True)\n",
    "        steps = 30\n",
    "        ts_predict = ts_predict.asfreq('D')\n",
    "        y, exog = ts_predict['sales'], ts_predict.drop(columns=['sales'])\n",
    "        y_train, y_test = y[:-30], y[-30:]\n",
    "        exog_train, exog_test = exog[:-30], exog[-30:]        \n",
    "        forecaster = ForecasterAutoreg(\n",
    "                    regressor = RandomForestRegressor(random_state=123,\n",
    "                                                        max_depth=None,\n",
    "                                                        min_samples_leaf=2, \n",
    "                                                        min_samples_split=2,\n",
    "                                                        n_estimators=50),\n",
    "                    lags      =  14\n",
    "                )\n",
    "        \n",
    "        start_date = '2016-04-25' \n",
    "        end_date ='2016-05-30'\n",
    "        # Crear un rango de fechas\n",
    "        date_range = pd.date_range(start=start_date, end=end_date)\n",
    "        # Crear el dataframe\n",
    "        df1 = pd.DataFrame(date_range, columns=['date'])\n",
    "        df1['date'] = pd.to_datetime(df1['date'])\n",
    "        df1['weekday'] = df1['date'].dt.day_name()\n",
    "        df1['event'] = 0\n",
    "        df1 = pd.get_dummies(data=df1, columns=['weekday'], dtype=int)\n",
    "        df1.sort_values('date', inplace=True, ascending=True)\n",
    "        df1.set_index('date', inplace=True)\n",
    "        df1 = df1.asfreq('D')\n",
    "        exog_test = pd.concat([exog_test, df1], ignore_index=False)\n",
    "        forecaster.fit(y=y_train, exog=exog_train)\n",
    "        predictions = forecaster.predict(steps=60, exog=exog_test).to_list()\n",
    "        resultados.append({'i':i, 'prediction':predictions,'test':y_test.values})"
   ]
  },
  {
   "cell_type": "code",
   "execution_count": null,
   "metadata": {},
   "outputs": [],
   "source": [
    "tiendas_inventario = pd.DataFrame(resultados)\n",
    "tiendas_inventario['test_suma'] = tiendas_inventario['test'].apply(sum)\n",
    "suma = tiendas_inventario['test_suma'].sum()\n",
    "tiendas_inventario['prediction'] = tiendas_inventario['prediction'].apply(lambda x: np.round(x, decimals=0))\n",
    "tiendas_inventario['tiendas_inventario_test'] = tiendas_inventario['prediction'].apply(lambda x: sum(x[:30]))\n",
    "tiendas_inventario['tiendas_inventario_prediction'] = tiendas_inventario['prediction'].apply(lambda x: sum(x[30:]))\n",
    "tiendas_inventario[['i','test_suma','tiendas_inventario_test','tiendas_inventario_prediction']]"
   ]
  },
  {
   "cell_type": "code",
   "execution_count": 26,
   "metadata": {},
   "outputs": [
    {
     "name": "stdout",
     "output_type": "stream",
     "text": [
      "240920\n",
      "239651.0\n",
      "1269.0\n"
     ]
    }
   ],
   "source": [
    "total_inventario_productos_real = tiendas_inventario['test_suma'].sum()\n",
    "total_inventario_productos_predicho = tiendas_inventario['tiendas_inventario_test'].sum()\n",
    "print(total_inventario_productos_real)\n",
    "print(total_inventario_productos_predicho)\n",
    "print(total_inventario_productos_real - total_inventario_productos_predicho)"
   ]
  },
  {
   "cell_type": "code",
   "execution_count": null,
   "metadata": {},
   "outputs": [],
   "source": [
    "units_globales = pd.DataFrame(resultados) "
   ]
  },
  {
   "cell_type": "code",
   "execution_count": 17,
   "metadata": {},
   "outputs": [],
   "source": [
    "file_name = \"productos_global_unidades_vendidas.xlsx\"\n",
    "units_globales.to_excel(file_name)"
   ]
  }
 ],
 "metadata": {
  "kernelspec": {
   "display_name": "env",
   "language": "python",
   "name": "python3"
  },
  "language_info": {
   "codemirror_mode": {
    "name": "ipython",
    "version": 3
   },
   "file_extension": ".py",
   "mimetype": "text/x-python",
   "name": "python",
   "nbconvert_exporter": "python",
   "pygments_lexer": "ipython3",
   "version": "3.12.6"
  }
 },
 "nbformat": 4,
 "nbformat_minor": 2
}
