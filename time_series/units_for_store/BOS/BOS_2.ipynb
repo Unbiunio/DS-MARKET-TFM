{
 "cells": [
  {
   "cell_type": "code",
   "execution_count": 1,
   "metadata": {},
   "outputs": [
    {
     "name": "stderr",
     "output_type": "stream",
     "text": [
      "/home/haroldavis/Projects/DS-MARKET-TFM/env/lib/python3.10/site-packages/tqdm/auto.py:21: TqdmWarning: IProgress not found. Please update jupyter and ipywidgets. See https://ipywidgets.readthedocs.io/en/stable/user_install.html\n",
      "  from .autonotebook import tqdm as notebook_tqdm\n"
     ]
    }
   ],
   "source": [
    "import pickle\n",
    "import os\n",
    "\n",
    "from datetime import datetime\n",
    "import pandas as pd\n",
    "import numpy as np\n",
    "\n",
    "import matplotlib.pyplot as plt\n",
    "%matplotlib inline\n",
    "\n",
    "from sklearn.metrics import mean_squared_error\n",
    "from sklearn.preprocessing import OrdinalEncoder\n",
    "\n",
    "import xgboost as xgb\n",
    "\n",
    "from statsmodels.graphics.tsaplots import plot_acf, plot_pacf\n",
    "\n",
    "from sklearn.linear_model import Ridge\n",
    "from sklearn.ensemble import RandomForestRegressor\n",
    "from sklearn.metrics import mean_squared_error\n",
    "from sklearn.metrics import mean_absolute_error\n",
    "from sklearn.preprocessing import StandardScaler\n",
    "\n",
    "import skforecast\n",
    "from skforecast.ForecasterAutoreg import ForecasterAutoreg\n",
    "from skforecast.ForecasterAutoregCustom import ForecasterAutoregCustom\n",
    "from skforecast.ForecasterAutoregDirect import ForecasterAutoregDirect\n",
    "from skforecast.model_selection import grid_search_forecaster\n",
    "from skforecast.model_selection import backtesting_forecaster\n",
    "from skforecast.utils import save_forecaster\n",
    "from skforecast.utils import load_forecaster\n",
    "import shap\n"
   ]
  },
  {
   "cell_type": "markdown",
   "metadata": {},
   "source": [
    "## Cargo Dataset principal"
   ]
  },
  {
   "cell_type": "code",
   "execution_count": 2,
   "metadata": {},
   "outputs": [],
   "source": [
    "df = pd.read_csv('../../data/Top100_prediction_con.csv')"
   ]
  },
  {
   "cell_type": "code",
   "execution_count": null,
   "metadata": {},
   "outputs": [],
   "source": [
    "# Lista para guardar resultados\n",
    "resultados = []\n",
    "\n",
    "# Copia del DataFrame original\n",
    "df_original = df.copy()\n",
    "\n",
    "# Seleccionar los primeros 5 productos únicos\n",
    "productos = list(df_original['item'].unique())\n",
    "\n",
    "for producto in productos:\n",
    "    # Filtrar el DataFrame para el producto actual\n",
    "    df_filtrado = df_original[(df_original['store_code'] == 'BOS_2') & (df_original['item'] == producto)]\n",
    "    \n",
    "    # Verificar si hay suficientes datos\n",
    "    if len(df_filtrado) < 30 + 14:  # Necesitas al menos 44 registros\n",
    "        print(f\"Advertencia: No hay suficientes datos para el producto {producto}. Saltando...\")\n",
    "        continue\n",
    "    \n",
    "    # Preparar los datos\n",
    "    ts_predict = df_filtrado[['date', 'sales', 'weekday', 'event']]\n",
    "    ts_predict = pd.get_dummies(data=ts_predict, columns=['weekday'], dtype=int)\n",
    "    ts_predict['date'] = pd.to_datetime(ts_predict['date'])\n",
    "    ts_predict.sort_values('date', ascending=True, inplace=True)\n",
    "    ts_predict.set_index('date', inplace=True)\n",
    "    ts_predict = ts_predict.asfreq('D')\n",
    "\n",
    "    # Separar en entrenamiento y prueba\n",
    "    y, exog = ts_predict['sales'], ts_predict.drop(columns=['sales'])\n",
    "    y_train, y_test = y[:-30], y[-30:]\n",
    "    exog_train, exog_test = exog[:-30], exog[-30:]\n",
    "\n",
    "    # Inicializar el modelo Forecaster\n",
    "    forecaster = ForecasterAutoreg(\n",
    "        regressor=RandomForestRegressor(max_depth=None, min_samples_leaf=2, min_samples_split=5, n_estimators=100),\n",
    "        lags=14\n",
    "    )\n",
    "    \n",
    "    # Ajustar el modelo\n",
    "    forecaster.fit(y=y_train, exog=exog_train)\n",
    "    \n",
    "    # Predecir\n",
    "    predicciones = forecaster.predict(steps=30, exog=exog_test)\n",
    "    \n",
    "    # Almacenar resultados\n",
    "    resultados.append({\n",
    "        'producto': producto,\n",
    "        'prediccion': predicciones.values,\n",
    "        'test': y_test.values\n",
    "    })\n",
    "    \n",
    "    print(f\"Predicciones generadas para el producto: {producto}\")\n"
   ]
  },
  {
   "cell_type": "code",
   "execution_count": 4,
   "metadata": {},
   "outputs": [
    {
     "data": {
      "text/html": [
       "<div>\n",
       "<style scoped>\n",
       "    .dataframe tbody tr th:only-of-type {\n",
       "        vertical-align: middle;\n",
       "    }\n",
       "\n",
       "    .dataframe tbody tr th {\n",
       "        vertical-align: top;\n",
       "    }\n",
       "\n",
       "    .dataframe thead th {\n",
       "        text-align: right;\n",
       "    }\n",
       "</style>\n",
       "<table border=\"1\" class=\"dataframe\">\n",
       "  <thead>\n",
       "    <tr style=\"text-align: right;\">\n",
       "      <th></th>\n",
       "      <th>producto</th>\n",
       "      <th>test_suma</th>\n",
       "      <th>tiendas_inventario_test</th>\n",
       "      <th>tiendas_inventario_prediction</th>\n",
       "    </tr>\n",
       "  </thead>\n",
       "  <tbody>\n",
       "    <tr>\n",
       "      <th>0</th>\n",
       "      <td>ACCESORIES_1_108</td>\n",
       "      <td>27</td>\n",
       "      <td>18.0</td>\n",
       "      <td>0</td>\n",
       "    </tr>\n",
       "    <tr>\n",
       "      <th>1</th>\n",
       "      <td>HOME_&amp;_GARDEN_1_027</td>\n",
       "      <td>43</td>\n",
       "      <td>51.0</td>\n",
       "      <td>0</td>\n",
       "    </tr>\n",
       "    <tr>\n",
       "      <th>2</th>\n",
       "      <td>HOME_&amp;_GARDEN_1_053</td>\n",
       "      <td>115</td>\n",
       "      <td>107.0</td>\n",
       "      <td>0</td>\n",
       "    </tr>\n",
       "    <tr>\n",
       "      <th>3</th>\n",
       "      <td>HOME_&amp;_GARDEN_1_140</td>\n",
       "      <td>64</td>\n",
       "      <td>62.0</td>\n",
       "      <td>0</td>\n",
       "    </tr>\n",
       "    <tr>\n",
       "      <th>4</th>\n",
       "      <td>HOME_&amp;_GARDEN_1_177</td>\n",
       "      <td>34</td>\n",
       "      <td>64.0</td>\n",
       "      <td>0</td>\n",
       "    </tr>\n",
       "    <tr>\n",
       "      <th>...</th>\n",
       "      <td>...</td>\n",
       "      <td>...</td>\n",
       "      <td>...</td>\n",
       "      <td>...</td>\n",
       "    </tr>\n",
       "    <tr>\n",
       "      <th>95</th>\n",
       "      <td>SUPERMARKET_3_499</td>\n",
       "      <td>388</td>\n",
       "      <td>394.0</td>\n",
       "      <td>0</td>\n",
       "    </tr>\n",
       "    <tr>\n",
       "      <th>96</th>\n",
       "      <td>ACCESORIES_1_158</td>\n",
       "      <td>229</td>\n",
       "      <td>258.0</td>\n",
       "      <td>0</td>\n",
       "    </tr>\n",
       "    <tr>\n",
       "      <th>97</th>\n",
       "      <td>SUPERMARKET_3_282</td>\n",
       "      <td>758</td>\n",
       "      <td>488.0</td>\n",
       "      <td>0</td>\n",
       "    </tr>\n",
       "    <tr>\n",
       "      <th>98</th>\n",
       "      <td>ACCESORIES_1_354</td>\n",
       "      <td>298</td>\n",
       "      <td>347.0</td>\n",
       "      <td>0</td>\n",
       "    </tr>\n",
       "    <tr>\n",
       "      <th>99</th>\n",
       "      <td>HOME_&amp;_GARDEN_1_106</td>\n",
       "      <td>274</td>\n",
       "      <td>200.0</td>\n",
       "      <td>0</td>\n",
       "    </tr>\n",
       "  </tbody>\n",
       "</table>\n",
       "<p>100 rows × 4 columns</p>\n",
       "</div>"
      ],
      "text/plain": [
       "               producto  test_suma  tiendas_inventario_test  \\\n",
       "0      ACCESORIES_1_108         27                     18.0   \n",
       "1   HOME_&_GARDEN_1_027         43                     51.0   \n",
       "2   HOME_&_GARDEN_1_053        115                    107.0   \n",
       "3   HOME_&_GARDEN_1_140         64                     62.0   \n",
       "4   HOME_&_GARDEN_1_177         34                     64.0   \n",
       "..                  ...        ...                      ...   \n",
       "95    SUPERMARKET_3_499        388                    394.0   \n",
       "96     ACCESORIES_1_158        229                    258.0   \n",
       "97    SUPERMARKET_3_282        758                    488.0   \n",
       "98     ACCESORIES_1_354        298                    347.0   \n",
       "99  HOME_&_GARDEN_1_106        274                    200.0   \n",
       "\n",
       "    tiendas_inventario_prediction  \n",
       "0                               0  \n",
       "1                               0  \n",
       "2                               0  \n",
       "3                               0  \n",
       "4                               0  \n",
       "..                            ...  \n",
       "95                              0  \n",
       "96                              0  \n",
       "97                              0  \n",
       "98                              0  \n",
       "99                              0  \n",
       "\n",
       "[100 rows x 4 columns]"
      ]
     },
     "execution_count": 4,
     "metadata": {},
     "output_type": "execute_result"
    }
   ],
   "source": [
    "tiendas_inventario = pd.DataFrame(resultados)\n",
    "tiendas_inventario['test_suma'] = tiendas_inventario['test'].apply(sum)\n",
    "suma = tiendas_inventario['test_suma'].sum()\n",
    "tiendas_inventario['prediccion'] = tiendas_inventario['prediccion'].apply(lambda x: np.round(x, decimals=0))\n",
    "tiendas_inventario['tiendas_inventario_test'] = tiendas_inventario['prediccion'].apply(lambda x: sum(x[:30]))\n",
    "tiendas_inventario['tiendas_inventario_prediction'] = tiendas_inventario['prediccion'].apply(lambda x: sum(x[30:]))\n",
    "tiendas_inventario[['producto','test_suma','tiendas_inventario_test','tiendas_inventario_prediction']]"
   ]
  },
  {
   "cell_type": "code",
   "execution_count": 5,
   "metadata": {},
   "outputs": [
    {
     "name": "stdout",
     "output_type": "stream",
     "text": [
      "27640\n",
      "29315.0\n",
      "-1675.0\n"
     ]
    }
   ],
   "source": [
    "total_inventario_productos_real = tiendas_inventario['test_suma'].sum()\n",
    "total_inventario_productos_predicho = tiendas_inventario['tiendas_inventario_test'].sum()\n",
    "print(total_inventario_productos_real)\n",
    "print(total_inventario_productos_predicho)\n",
    "print(total_inventario_productos_real - total_inventario_productos_predicho)"
   ]
  },
  {
   "cell_type": "markdown",
   "metadata": {},
   "source": [
    "## Predicción"
   ]
  },
  {
   "cell_type": "code",
   "execution_count": 3,
   "metadata": {},
   "outputs": [
    {
     "name": "stdout",
     "output_type": "stream",
     "text": [
      "Predicciones generadas para el producto: ACCESORIES_1_108\n",
      "Predicciones generadas para el producto: HOME_&_GARDEN_1_027\n",
      "Predicciones generadas para el producto: HOME_&_GARDEN_1_053\n",
      "Predicciones generadas para el producto: HOME_&_GARDEN_1_140\n"
     ]
    },
    {
     "name": "stderr",
     "output_type": "stream",
     "text": [
      "/home/haroldavis/Projects/DS-MARKET-TFM/env/lib/python3.10/site-packages/sklearn/preprocessing/_discretization.py:307: UserWarning: Bins whose width are too small (i.e., <= 1e-8) in feature 0 are removed. Consider decreasing the number of bins.\n",
      "  warnings.warn(\n"
     ]
    },
    {
     "name": "stdout",
     "output_type": "stream",
     "text": [
      "Predicciones generadas para el producto: HOME_&_GARDEN_1_177\n",
      "Predicciones generadas para el producto: HOME_&_GARDEN_1_272\n",
      "Predicciones generadas para el producto: HOME_&_GARDEN_1_344\n",
      "Predicciones generadas para el producto: HOME_&_GARDEN_1_373\n",
      "Predicciones generadas para el producto: HOME_&_GARDEN_1_440\n",
      "Predicciones generadas para el producto: HOME_&_GARDEN_1_537\n",
      "Predicciones generadas para el producto: SUPERMARKET_1_096\n",
      "Predicciones generadas para el producto: SUPERMARKET_2_019\n"
     ]
    },
    {
     "name": "stderr",
     "output_type": "stream",
     "text": [
      "/home/haroldavis/Projects/DS-MARKET-TFM/env/lib/python3.10/site-packages/sklearn/preprocessing/_discretization.py:307: UserWarning: Bins whose width are too small (i.e., <= 1e-8) in feature 0 are removed. Consider decreasing the number of bins.\n",
      "  warnings.warn(\n"
     ]
    },
    {
     "name": "stdout",
     "output_type": "stream",
     "text": [
      "Predicciones generadas para el producto: SUPERMARKET_2_029\n",
      "Predicciones generadas para el producto: SUPERMARKET_2_052\n"
     ]
    },
    {
     "name": "stderr",
     "output_type": "stream",
     "text": [
      "/home/haroldavis/Projects/DS-MARKET-TFM/env/lib/python3.10/site-packages/sklearn/preprocessing/_discretization.py:307: UserWarning: Bins whose width are too small (i.e., <= 1e-8) in feature 0 are removed. Consider decreasing the number of bins.\n",
      "  warnings.warn(\n"
     ]
    },
    {
     "name": "stdout",
     "output_type": "stream",
     "text": [
      "Predicciones generadas para el producto: SUPERMARKET_2_056\n",
      "Predicciones generadas para el producto: SUPERMARKET_2_181\n",
      "Predicciones generadas para el producto: SUPERMARKET_2_183\n",
      "Predicciones generadas para el producto: SUPERMARKET_2_197\n",
      "Predicciones generadas para el producto: SUPERMARKET_2_244\n",
      "Predicciones generadas para el producto: SUPERMARKET_2_276\n"
     ]
    },
    {
     "name": "stderr",
     "output_type": "stream",
     "text": [
      "/home/haroldavis/Projects/DS-MARKET-TFM/env/lib/python3.10/site-packages/sklearn/preprocessing/_discretization.py:307: UserWarning: Bins whose width are too small (i.e., <= 1e-8) in feature 0 are removed. Consider decreasing the number of bins.\n",
      "  warnings.warn(\n"
     ]
    },
    {
     "name": "stdout",
     "output_type": "stream",
     "text": [
      "Predicciones generadas para el producto: SUPERMARKET_2_368\n",
      "Predicciones generadas para el producto: SUPERMARKET_3_079\n",
      "Predicciones generadas para el producto: SUPERMARKET_3_080\n"
     ]
    },
    {
     "name": "stderr",
     "output_type": "stream",
     "text": [
      "/home/haroldavis/Projects/DS-MARKET-TFM/env/lib/python3.10/site-packages/sklearn/preprocessing/_discretization.py:307: UserWarning: Bins whose width are too small (i.e., <= 1e-8) in feature 0 are removed. Consider decreasing the number of bins.\n",
      "  warnings.warn(\n"
     ]
    },
    {
     "name": "stdout",
     "output_type": "stream",
     "text": [
      "Predicciones generadas para el producto: SUPERMARKET_3_083\n"
     ]
    },
    {
     "name": "stderr",
     "output_type": "stream",
     "text": [
      "/home/haroldavis/Projects/DS-MARKET-TFM/env/lib/python3.10/site-packages/sklearn/preprocessing/_discretization.py:307: UserWarning: Bins whose width are too small (i.e., <= 1e-8) in feature 0 are removed. Consider decreasing the number of bins.\n",
      "  warnings.warn(\n"
     ]
    },
    {
     "name": "stdout",
     "output_type": "stream",
     "text": [
      "Predicciones generadas para el producto: SUPERMARKET_3_090\n",
      "Predicciones generadas para el producto: SUPERMARKET_3_124\n",
      "Predicciones generadas para el producto: SUPERMARKET_3_136\n"
     ]
    },
    {
     "name": "stderr",
     "output_type": "stream",
     "text": [
      "/home/haroldavis/Projects/DS-MARKET-TFM/env/lib/python3.10/site-packages/sklearn/preprocessing/_discretization.py:307: UserWarning: Bins whose width are too small (i.e., <= 1e-8) in feature 0 are removed. Consider decreasing the number of bins.\n",
      "  warnings.warn(\n"
     ]
    },
    {
     "name": "stdout",
     "output_type": "stream",
     "text": [
      "Predicciones generadas para el producto: SUPERMARKET_3_150\n",
      "Predicciones generadas para el producto: SUPERMARKET_3_154\n",
      "Predicciones generadas para el producto: SUPERMARKET_3_202\n",
      "Predicciones generadas para el producto: SUPERMARKET_3_226\n",
      "Predicciones generadas para el producto: SUPERMARKET_3_231\n",
      "Predicciones generadas para el producto: SUPERMARKET_3_252\n"
     ]
    },
    {
     "name": "stderr",
     "output_type": "stream",
     "text": [
      "/home/haroldavis/Projects/DS-MARKET-TFM/env/lib/python3.10/site-packages/sklearn/preprocessing/_discretization.py:307: UserWarning: Bins whose width are too small (i.e., <= 1e-8) in feature 0 are removed. Consider decreasing the number of bins.\n",
      "  warnings.warn(\n"
     ]
    },
    {
     "name": "stdout",
     "output_type": "stream",
     "text": [
      "Predicciones generadas para el producto: SUPERMARKET_3_318\n",
      "Predicciones generadas para el producto: SUPERMARKET_3_368\n",
      "Predicciones generadas para el producto: SUPERMARKET_3_377\n",
      "Predicciones generadas para el producto: SUPERMARKET_3_389\n",
      "Predicciones generadas para el producto: SUPERMARKET_3_458\n",
      "Predicciones generadas para el producto: SUPERMARKET_3_469\n",
      "Predicciones generadas para el producto: SUPERMARKET_3_473\n",
      "Predicciones generadas para el producto: SUPERMARKET_3_476\n",
      "Predicciones generadas para el producto: SUPERMARKET_3_541\n",
      "Predicciones generadas para el producto: SUPERMARKET_3_546\n",
      "Predicciones generadas para el producto: SUPERMARKET_3_555\n",
      "Predicciones generadas para el producto: SUPERMARKET_3_574\n",
      "Predicciones generadas para el producto: SUPERMARKET_3_586\n"
     ]
    },
    {
     "name": "stderr",
     "output_type": "stream",
     "text": [
      "/home/haroldavis/Projects/DS-MARKET-TFM/env/lib/python3.10/site-packages/sklearn/preprocessing/_discretization.py:307: UserWarning: Bins whose width are too small (i.e., <= 1e-8) in feature 0 are removed. Consider decreasing the number of bins.\n",
      "  warnings.warn(\n"
     ]
    },
    {
     "name": "stdout",
     "output_type": "stream",
     "text": [
      "Predicciones generadas para el producto: SUPERMARKET_3_587\n",
      "Predicciones generadas para el producto: SUPERMARKET_3_635\n",
      "Predicciones generadas para el producto: SUPERMARKET_3_681\n",
      "Predicciones generadas para el producto: SUPERMARKET_3_694\n",
      "Predicciones generadas para el producto: SUPERMARKET_3_695\n",
      "Predicciones generadas para el producto: SUPERMARKET_3_697\n",
      "Predicciones generadas para el producto: SUPERMARKET_3_702\n",
      "Predicciones generadas para el producto: SUPERMARKET_3_704\n",
      "Predicciones generadas para el producto: SUPERMARKET_3_714\n",
      "Predicciones generadas para el producto: SUPERMARKET_3_723\n",
      "Predicciones generadas para el producto: SUPERMARKET_3_753\n",
      "Predicciones generadas para el producto: SUPERMARKET_3_756\n",
      "Predicciones generadas para el producto: SUPERMARKET_3_783\n",
      "Predicciones generadas para el producto: SUPERMARKET_3_785\n",
      "Predicciones generadas para el producto: SUPERMARKET_3_804\n",
      "Predicciones generadas para el producto: SUPERMARKET_3_808\n",
      "Predicciones generadas para el producto: ACCESORIES_1_064\n"
     ]
    },
    {
     "name": "stderr",
     "output_type": "stream",
     "text": [
      "/home/haroldavis/Projects/DS-MARKET-TFM/env/lib/python3.10/site-packages/sklearn/preprocessing/_discretization.py:307: UserWarning: Bins whose width are too small (i.e., <= 1e-8) in feature 0 are removed. Consider decreasing the number of bins.\n",
      "  warnings.warn(\n"
     ]
    },
    {
     "name": "stdout",
     "output_type": "stream",
     "text": [
      "Predicciones generadas para el producto: HOME_&_GARDEN_1_413\n",
      "Predicciones generadas para el producto: HOME_&_GARDEN_1_469\n",
      "Predicciones generadas para el producto: HOME_&_GARDEN_1_072\n",
      "Predicciones generadas para el producto: ACCESORIES_1_147\n",
      "Predicciones generadas para el producto: SUPERMARKET_3_099\n",
      "Predicciones generadas para el producto: HOME_&_GARDEN_1_535\n",
      "Predicciones generadas para el producto: SUPERMARKET_3_516\n",
      "Predicciones generadas para el producto: HOME_&_GARDEN_1_494\n"
     ]
    },
    {
     "name": "stderr",
     "output_type": "stream",
     "text": [
      "/home/haroldavis/Projects/DS-MARKET-TFM/env/lib/python3.10/site-packages/sklearn/preprocessing/_discretization.py:307: UserWarning: Bins whose width are too small (i.e., <= 1e-8) in feature 0 are removed. Consider decreasing the number of bins.\n",
      "  warnings.warn(\n"
     ]
    },
    {
     "name": "stdout",
     "output_type": "stream",
     "text": [
      "Predicciones generadas para el producto: SUPERMARKET_2_380\n"
     ]
    },
    {
     "name": "stderr",
     "output_type": "stream",
     "text": [
      "/home/haroldavis/Projects/DS-MARKET-TFM/env/lib/python3.10/site-packages/sklearn/preprocessing/_discretization.py:307: UserWarning: Bins whose width are too small (i.e., <= 1e-8) in feature 0 are removed. Consider decreasing the number of bins.\n",
      "  warnings.warn(\n"
     ]
    },
    {
     "name": "stdout",
     "output_type": "stream",
     "text": [
      "Predicciones generadas para el producto: ACCESORIES_1_236\n",
      "Predicciones generadas para el producto: SUPERMARKET_1_012\n",
      "Predicciones generadas para el producto: SUPERMARKET_1_170\n",
      "Predicciones generadas para el producto: HOME_&_GARDEN_1_040\n"
     ]
    },
    {
     "name": "stderr",
     "output_type": "stream",
     "text": [
      "/home/haroldavis/Projects/DS-MARKET-TFM/env/lib/python3.10/site-packages/sklearn/preprocessing/_discretization.py:307: UserWarning: Bins whose width are too small (i.e., <= 1e-8) in feature 0 are removed. Consider decreasing the number of bins.\n",
      "  warnings.warn(\n"
     ]
    },
    {
     "name": "stdout",
     "output_type": "stream",
     "text": [
      "Predicciones generadas para el producto: HOME_&_GARDEN_1_366\n"
     ]
    },
    {
     "name": "stderr",
     "output_type": "stream",
     "text": [
      "/home/haroldavis/Projects/DS-MARKET-TFM/env/lib/python3.10/site-packages/sklearn/preprocessing/_discretization.py:307: UserWarning: Bins whose width are too small (i.e., <= 1e-8) in feature 0 are removed. Consider decreasing the number of bins.\n",
      "  warnings.warn(\n"
     ]
    },
    {
     "name": "stdout",
     "output_type": "stream",
     "text": [
      "Predicciones generadas para el producto: HOME_&_GARDEN_1_427\n",
      "Predicciones generadas para el producto: SUPERMARKET_3_764\n"
     ]
    },
    {
     "name": "stderr",
     "output_type": "stream",
     "text": [
      "/home/haroldavis/Projects/DS-MARKET-TFM/env/lib/python3.10/site-packages/sklearn/preprocessing/_discretization.py:307: UserWarning: Bins whose width are too small (i.e., <= 1e-8) in feature 0 are removed. Consider decreasing the number of bins.\n",
      "  warnings.warn(\n"
     ]
    },
    {
     "name": "stdout",
     "output_type": "stream",
     "text": [
      "Predicciones generadas para el producto: SUPERMARKET_3_511\n"
     ]
    },
    {
     "name": "stderr",
     "output_type": "stream",
     "text": [
      "/home/haroldavis/Projects/DS-MARKET-TFM/env/lib/python3.10/site-packages/sklearn/preprocessing/_discretization.py:307: UserWarning: Bins whose width are too small (i.e., <= 1e-8) in feature 0 are removed. Consider decreasing the number of bins.\n",
      "  warnings.warn(\n"
     ]
    },
    {
     "name": "stdout",
     "output_type": "stream",
     "text": [
      "Predicciones generadas para el producto: SUPERMARKET_3_134\n"
     ]
    },
    {
     "name": "stderr",
     "output_type": "stream",
     "text": [
      "/home/haroldavis/Projects/DS-MARKET-TFM/env/lib/python3.10/site-packages/sklearn/preprocessing/_discretization.py:307: UserWarning: Bins whose width are too small (i.e., <= 1e-8) in feature 0 are removed. Consider decreasing the number of bins.\n",
      "  warnings.warn(\n"
     ]
    },
    {
     "name": "stdout",
     "output_type": "stream",
     "text": [
      "Predicciones generadas para el producto: HOME_&_GARDEN_1_032\n",
      "Predicciones generadas para el producto: SUPERMARKET_3_120\n",
      "Predicciones generadas para el producto: SUPERMARKET_3_455\n",
      "Predicciones generadas para el producto: SUPERMARKET_3_607\n",
      "Predicciones generadas para el producto: SUPERMARKET_3_811\n"
     ]
    },
    {
     "name": "stderr",
     "output_type": "stream",
     "text": [
      "/home/haroldavis/Projects/DS-MARKET-TFM/env/lib/python3.10/site-packages/sklearn/preprocessing/_discretization.py:307: UserWarning: Bins whose width are too small (i.e., <= 1e-8) in feature 0 are removed. Consider decreasing the number of bins.\n",
      "  warnings.warn(\n"
     ]
    },
    {
     "name": "stdout",
     "output_type": "stream",
     "text": [
      "Predicciones generadas para el producto: SUPERMARKET_3_441\n"
     ]
    },
    {
     "name": "stderr",
     "output_type": "stream",
     "text": [
      "/home/haroldavis/Projects/DS-MARKET-TFM/env/lib/python3.10/site-packages/sklearn/preprocessing/_discretization.py:307: UserWarning: Bins whose width are too small (i.e., <= 1e-8) in feature 0 are removed. Consider decreasing the number of bins.\n",
      "  warnings.warn(\n"
     ]
    },
    {
     "name": "stdout",
     "output_type": "stream",
     "text": [
      "Predicciones generadas para el producto: SUPERMARKET_3_444\n"
     ]
    },
    {
     "name": "stderr",
     "output_type": "stream",
     "text": [
      "/home/haroldavis/Projects/DS-MARKET-TFM/env/lib/python3.10/site-packages/sklearn/preprocessing/_discretization.py:307: UserWarning: Bins whose width are too small (i.e., <= 1e-8) in feature 0 are removed. Consider decreasing the number of bins.\n",
      "  warnings.warn(\n"
     ]
    },
    {
     "name": "stdout",
     "output_type": "stream",
     "text": [
      "Predicciones generadas para el producto: HOME_&_GARDEN_1_497\n",
      "Predicciones generadas para el producto: HOME_&_GARDEN_1_110\n",
      "Predicciones generadas para el producto: HOME_&_GARDEN_1_409\n",
      "Predicciones generadas para el producto: HOME_&_GARDEN_1_514\n",
      "Predicciones generadas para el producto: HOME_&_GARDEN_1_096\n"
     ]
    },
    {
     "name": "stderr",
     "output_type": "stream",
     "text": [
      "/home/haroldavis/Projects/DS-MARKET-TFM/env/lib/python3.10/site-packages/sklearn/preprocessing/_discretization.py:307: UserWarning: Bins whose width are too small (i.e., <= 1e-8) in feature 0 are removed. Consider decreasing the number of bins.\n",
      "  warnings.warn(\n"
     ]
    },
    {
     "name": "stdout",
     "output_type": "stream",
     "text": [
      "Predicciones generadas para el producto: SUPERMARKET_3_329\n"
     ]
    },
    {
     "name": "stderr",
     "output_type": "stream",
     "text": [
      "/home/haroldavis/Projects/DS-MARKET-TFM/env/lib/python3.10/site-packages/sklearn/preprocessing/_discretization.py:307: UserWarning: Bins whose width are too small (i.e., <= 1e-8) in feature 0 are removed. Consider decreasing the number of bins.\n",
      "  warnings.warn(\n"
     ]
    },
    {
     "name": "stdout",
     "output_type": "stream",
     "text": [
      "Predicciones generadas para el producto: SUPERMARKET_3_362\n",
      "Predicciones generadas para el producto: SUPERMARKET_3_499\n"
     ]
    },
    {
     "name": "stderr",
     "output_type": "stream",
     "text": [
      "/home/haroldavis/Projects/DS-MARKET-TFM/env/lib/python3.10/site-packages/sklearn/preprocessing/_discretization.py:307: UserWarning: Bins whose width are too small (i.e., <= 1e-8) in feature 0 are removed. Consider decreasing the number of bins.\n",
      "  warnings.warn(\n"
     ]
    },
    {
     "name": "stdout",
     "output_type": "stream",
     "text": [
      "Predicciones generadas para el producto: ACCESORIES_1_158\n",
      "Predicciones generadas para el producto: SUPERMARKET_3_282\n"
     ]
    },
    {
     "name": "stderr",
     "output_type": "stream",
     "text": [
      "/home/haroldavis/Projects/DS-MARKET-TFM/env/lib/python3.10/site-packages/sklearn/preprocessing/_discretization.py:307: UserWarning: Bins whose width are too small (i.e., <= 1e-8) in feature 0 are removed. Consider decreasing the number of bins.\n",
      "  warnings.warn(\n"
     ]
    },
    {
     "name": "stdout",
     "output_type": "stream",
     "text": [
      "Predicciones generadas para el producto: ACCESORIES_1_354\n",
      "Predicciones generadas para el producto: HOME_&_GARDEN_1_106\n"
     ]
    }
   ],
   "source": [
    "# Lista para guardar resultados\n",
    "resultados = []\n",
    "\n",
    "# Copia del DataFrame original\n",
    "df_original = df.copy()\n",
    "\n",
    "# Seleccionar los primeros 5 productos únicos\n",
    "productos = list(df_original['item'].unique())\n",
    "\n",
    "for producto in productos:\n",
    "    # Filtrar el DataFrame para el producto actual\n",
    "    df_filtrado = df_original[(df_original['store_code'] == 'BOS_2') & (df_original['item'] == producto)]\n",
    "    \n",
    "    # Verificar si hay suficientes datos\n",
    "    if len(df_filtrado) < 30 + 14:  # Necesitas al menos 44 registros\n",
    "        print(f\"Advertencia: No hay suficientes datos para el producto {producto}. Saltando...\")\n",
    "        continue\n",
    "    \n",
    "    # Preparar los datos\n",
    "    ts_predict = df_filtrado[['date', 'sales', 'weekday', 'event']]\n",
    "    ts_predict = pd.get_dummies(data=ts_predict, columns=['weekday'], dtype=int)\n",
    "    ts_predict['date'] = pd.to_datetime(ts_predict['date'])\n",
    "    ts_predict.sort_values('date', ascending=True, inplace=True)\n",
    "    ts_predict.set_index('date', inplace=True)\n",
    "    ts_predict = ts_predict.asfreq('D')\n",
    "\n",
    "    # Separar en entrenamiento y prueba\n",
    "    y, exog = ts_predict['sales'], ts_predict.drop(columns=['sales'])\n",
    "    y_train, y_test = y[:-30], y[-30:]\n",
    "    exog_train, exog_test = exog[:-30], exog[-30:]\n",
    "\n",
    "    # Inicializar el modelo Forecaster\n",
    "    forecaster = ForecasterAutoreg(\n",
    "        regressor=RandomForestRegressor(max_depth=None, min_samples_leaf=2, min_samples_split=5, n_estimators=100),\n",
    "        lags=14\n",
    "    )\n",
    "    \n",
    "    # Ajustar el modelo\n",
    "    forecaster.fit(y=y_train, exog=exog_train)\n",
    "\n",
    "    start_date = '2016-04-25' \n",
    "    end_date ='2016-05-30'\n",
    "    # Crear un rango de fechas\n",
    "    date_range = pd.date_range(start=start_date, end=end_date)\n",
    "    # Crear el dataframe\n",
    "    df1 = pd.DataFrame(date_range, columns=['date'])\n",
    "    df1['date'] = pd.to_datetime(df1['date'])\n",
    "    df1['weekday'] = df1['date'].dt.day_name()\n",
    "    df1['event'] = 0\n",
    "    df1 = pd.get_dummies(data=df1, columns=['weekday'], dtype=int)\n",
    "    df1.sort_values('date', inplace=True, ascending=True)\n",
    "    df1.set_index('date', inplace=True)\n",
    "    df1 = df1.asfreq('D')\n",
    "    exog_test = pd.concat([exog_test, df1], ignore_index=False)\n",
    "    \n",
    "    \n",
    "    # Predecir\n",
    "    predicciones = forecaster.predict(steps=60, exog=exog_test)\n",
    "    \n",
    "    # Almacenar resultados\n",
    "    resultados.append({\n",
    "        'producto': producto,\n",
    "        'prediccion': predicciones.values,\n",
    "        'test': y_test.values\n",
    "    })\n",
    "    \n",
    "    print(f\"Predicciones generadas para el producto: {producto}\")"
   ]
  },
  {
   "cell_type": "code",
   "execution_count": 4,
   "metadata": {},
   "outputs": [],
   "source": [
    "tienda =  pd.DataFrame(resultados)"
   ]
  },
  {
   "cell_type": "code",
   "execution_count": 5,
   "metadata": {},
   "outputs": [],
   "source": [
    "file_name = \"BOS_2_unidades.xlsx\"\n",
    "tienda.to_excel(file_name)"
   ]
  }
 ],
 "metadata": {
  "kernelspec": {
   "display_name": "env",
   "language": "python",
   "name": "python3"
  },
  "language_info": {
   "codemirror_mode": {
    "name": "ipython",
    "version": 3
   },
   "file_extension": ".py",
   "mimetype": "text/x-python",
   "name": "python",
   "nbconvert_exporter": "python",
   "pygments_lexer": "ipython3",
   "version": "3.10.12"
  }
 },
 "nbformat": 4,
 "nbformat_minor": 2
}
