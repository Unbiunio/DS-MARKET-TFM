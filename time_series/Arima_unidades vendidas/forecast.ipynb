{
 "cells": [
  {
   "cell_type": "code",
   "execution_count": 13,
   "metadata": {},
   "outputs": [],
   "source": [
    "from datetime import datetime\n",
    "import pandas as pd\n",
    "import numpy as np\n",
    "\n",
    "import matplotlib.pyplot as plt\n",
    "%matplotlib inline\n",
    "\n",
    "from sklearn.metrics import mean_squared_error\n",
    "from sklearn.preprocessing import OrdinalEncoder\n",
    "\n",
    "import xgboost as xgb\n",
    "\n",
    "from statsmodels.graphics.tsaplots import plot_acf, plot_pacf\n",
    "\n",
    "from sklearn.linear_model import Ridge\n",
    "from sklearn.ensemble import RandomForestRegressor\n",
    "from sklearn.metrics import mean_squared_error\n",
    "from sklearn.metrics import mean_absolute_error\n",
    "from sklearn.preprocessing import StandardScaler\n",
    "\n",
    "import skforecast\n",
    "from skforecast.ForecasterAutoreg import ForecasterAutoreg\n",
    "from skforecast.ForecasterAutoregCustom import ForecasterAutoregCustom\n",
    "from skforecast.ForecasterAutoregDirect import ForecasterAutoregDirect\n",
    "from skforecast.model_selection import grid_search_forecaster\n",
    "from skforecast.model_selection import backtesting_forecaster\n",
    "from skforecast.utils import save_forecaster\n",
    "from skforecast.utils import load_forecaster\n",
    "import shap\n"
   ]
  },
  {
   "cell_type": "code",
   "execution_count": 14,
   "metadata": {},
   "outputs": [
    {
     "name": "stdout",
     "output_type": "stream",
     "text": [
      "(1739323, 12)\n"
     ]
    },
    {
     "data": {
      "text/html": [
       "<div>\n",
       "<style scoped>\n",
       "    .dataframe tbody tr th:only-of-type {\n",
       "        vertical-align: middle;\n",
       "    }\n",
       "\n",
       "    .dataframe tbody tr th {\n",
       "        vertical-align: top;\n",
       "    }\n",
       "\n",
       "    .dataframe thead th {\n",
       "        text-align: right;\n",
       "    }\n",
       "</style>\n",
       "<table border=\"1\" class=\"dataframe\">\n",
       "  <thead>\n",
       "    <tr style=\"text-align: right;\">\n",
       "      <th></th>\n",
       "      <th>Unnamed: 0</th>\n",
       "      <th>id</th>\n",
       "      <th>store</th>\n",
       "      <th>date</th>\n",
       "      <th>sales</th>\n",
       "      <th>item</th>\n",
       "      <th>store_code</th>\n",
       "      <th>yearweek</th>\n",
       "      <th>sell_price</th>\n",
       "      <th>weekday</th>\n",
       "      <th>event</th>\n",
       "      <th>income</th>\n",
       "    </tr>\n",
       "  </thead>\n",
       "  <tbody>\n",
       "    <tr>\n",
       "      <th>919594</th>\n",
       "      <td>33166347</td>\n",
       "      <td>SUPERMARKET_3_150_PHI_1</td>\n",
       "      <td>Midtown_Village</td>\n",
       "      <td>2014-01-20</td>\n",
       "      <td>3</td>\n",
       "      <td>SUPERMARKET_3_150</td>\n",
       "      <td>PHI_1</td>\n",
       "      <td>201402</td>\n",
       "      <td>2.7</td>\n",
       "      <td>Monday</td>\n",
       "      <td>0.0</td>\n",
       "      <td>8.1</td>\n",
       "    </tr>\n",
       "  </tbody>\n",
       "</table>\n",
       "</div>"
      ],
      "text/plain": [
       "        Unnamed: 0                       id            store        date  \\\n",
       "919594    33166347  SUPERMARKET_3_150_PHI_1  Midtown_Village  2014-01-20   \n",
       "\n",
       "        sales               item store_code  yearweek  sell_price weekday  \\\n",
       "919594      3  SUPERMARKET_3_150      PHI_1    201402         2.7  Monday   \n",
       "\n",
       "        event  income  \n",
       "919594    0.0     8.1  "
      ]
     },
     "execution_count": 14,
     "metadata": {},
     "output_type": "execute_result"
    }
   ],
   "source": [
    "df = pd.read_csv('../data/Top100_prediction_con.csv')\n",
    "print(df.shape)\n",
    "df.sample(1)"
   ]
  },
  {
   "cell_type": "code",
   "execution_count": 15,
   "metadata": {},
   "outputs": [],
   "source": [
    "lista_productos100 = list(df['item'].unique())"
   ]
  },
  {
   "cell_type": "code",
   "execution_count": 16,
   "metadata": {},
   "outputs": [
    {
     "name": "stderr",
     "output_type": "stream",
     "text": [
      "/home/haroldavis/Projects/DS-MARKET-TFM/env/lib/python3.10/site-packages/sklearn/preprocessing/_discretization.py:307: UserWarning: Bins whose width are too small (i.e., <= 1e-8) in feature 0 are removed. Consider decreasing the number of bins.\n",
      "  warnings.warn(\n",
      "/home/haroldavis/Projects/DS-MARKET-TFM/env/lib/python3.10/site-packages/sklearn/preprocessing/_discretization.py:307: UserWarning: Bins whose width are too small (i.e., <= 1e-8) in feature 0 are removed. Consider decreasing the number of bins.\n",
      "  warnings.warn(\n",
      "/home/haroldavis/Projects/DS-MARKET-TFM/env/lib/python3.10/site-packages/sklearn/preprocessing/_discretization.py:307: UserWarning: Bins whose width are too small (i.e., <= 1e-8) in feature 0 are removed. Consider decreasing the number of bins.\n",
      "  warnings.warn(\n",
      "/home/haroldavis/Projects/DS-MARKET-TFM/env/lib/python3.10/site-packages/sklearn/preprocessing/_discretization.py:307: UserWarning: Bins whose width are too small (i.e., <= 1e-8) in feature 0 are removed. Consider decreasing the number of bins.\n",
      "  warnings.warn(\n",
      "/home/haroldavis/Projects/DS-MARKET-TFM/env/lib/python3.10/site-packages/sklearn/preprocessing/_discretization.py:307: UserWarning: Bins whose width are too small (i.e., <= 1e-8) in feature 0 are removed. Consider decreasing the number of bins.\n",
      "  warnings.warn(\n",
      "/home/haroldavis/Projects/DS-MARKET-TFM/env/lib/python3.10/site-packages/sklearn/preprocessing/_discretization.py:307: UserWarning: Bins whose width are too small (i.e., <= 1e-8) in feature 0 are removed. Consider decreasing the number of bins.\n",
      "  warnings.warn(\n"
     ]
    }
   ],
   "source": [
    "resultados = []\n",
    "\n",
    "# Copia del DataFrame original\n",
    "df_original = df.copy()\n",
    "\n",
    "# Seleccionar los primeros 5 productos únicos\n",
    "productos = list(df_original['item'].unique())\n",
    "\n",
    "for i in lista_productos100:\n",
    "        dataset = df_original[['item','date','sales','weekday','event']]\n",
    "        df_product = dataset[dataset['item']==i]\n",
    "        df_product_sin_duplicates = df_product[['date','weekday', 'event']].drop_duplicates()\n",
    "        ts_predict = df_product.groupby(['date'])['sales'].sum().reset_index()\n",
    "        ts_predict = ts_predict.merge(df_product_sin_duplicates, on=['date'], how='left')\n",
    "        ts_predict = pd.get_dummies(data=ts_predict, columns=['weekday'], dtype=int)\n",
    "        ts_predict['date'] = pd.to_datetime(ts_predict['date'])\n",
    "        ts_predict.sort_values('date', ascending=True, inplace=True)\n",
    "        ts_predict.set_index('date', inplace=True)\n",
    "        steps = 30\n",
    "        ts_predict = ts_predict.asfreq('D')\n",
    "        y, exog = ts_predict['sales'], ts_predict.drop(columns=['sales'])\n",
    "        y_train, y_test = y[:-30], y[-30:]\n",
    "        exog_train, exog_test = exog[:-30], exog[-30:]        \n",
    "        forecaster = ForecasterAutoreg(\n",
    "                    regressor = RandomForestRegressor(random_state=123,\n",
    "                                                        max_depth=None,\n",
    "                                                        min_samples_leaf=2, \n",
    "                                                        min_samples_split=2,\n",
    "                                                        n_estimators=50),\n",
    "                    lags      =  14\n",
    "                )\n",
    "        \n",
    "        start_date = '2016-04-25' \n",
    "        end_date ='2016-05-30'\n",
    "        # Crear un rango de fechas\n",
    "        date_range = pd.date_range(start=start_date, end=end_date)\n",
    "        # Crear el dataframe\n",
    "        df1 = pd.DataFrame(date_range, columns=['date'])\n",
    "        df1['date'] = pd.to_datetime(df1['date'])\n",
    "        df1['weekday'] = df1['date'].dt.day_name()\n",
    "        df1['event'] = 0\n",
    "        df1 = pd.get_dummies(data=df1, columns=['weekday'], dtype=int)\n",
    "        df1.sort_values('date', inplace=True, ascending=True)\n",
    "        df1.set_index('date', inplace=True)\n",
    "        df1 = df1.asfreq('D')\n",
    "        exog_test = pd.concat([exog_test, df1], ignore_index=False)\n",
    "        forecaster.fit(y=y_train, exog=exog_train)\n",
    "        predictions = forecaster.predict(steps=60, exog=exog_test).to_list()\n",
    "        resultados.append({'i':i, 'prediction':predictions,'test':y_test.values})"
   ]
  },
  {
   "cell_type": "code",
   "execution_count": 17,
   "metadata": {},
   "outputs": [],
   "source": [
    "tiendas_inventario = pd.DataFrame(resultados)"
   ]
  },
  {
   "cell_type": "code",
   "execution_count": 20,
   "metadata": {},
   "outputs": [
    {
     "data": {
      "text/html": [
       "<div>\n",
       "<style scoped>\n",
       "    .dataframe tbody tr th:only-of-type {\n",
       "        vertical-align: middle;\n",
       "    }\n",
       "\n",
       "    .dataframe tbody tr th {\n",
       "        vertical-align: top;\n",
       "    }\n",
       "\n",
       "    .dataframe thead th {\n",
       "        text-align: right;\n",
       "    }\n",
       "</style>\n",
       "<table border=\"1\" class=\"dataframe\">\n",
       "  <thead>\n",
       "    <tr style=\"text-align: right;\">\n",
       "      <th></th>\n",
       "      <th>i</th>\n",
       "      <th>test</th>\n",
       "    </tr>\n",
       "  </thead>\n",
       "  <tbody>\n",
       "    <tr>\n",
       "      <th>0</th>\n",
       "      <td>ACCESORIES_1_108</td>\n",
       "      <td>[10, 13, 4, 10, 5, 13, 12, 12, 18, 7, 10, 5, 3...</td>\n",
       "    </tr>\n",
       "    <tr>\n",
       "      <th>1</th>\n",
       "      <td>HOME_&amp;_GARDEN_1_027</td>\n",
       "      <td>[29, 23, 26, 20, 17, 26, 20, 31, 23, 23, 18, 2...</td>\n",
       "    </tr>\n",
       "    <tr>\n",
       "      <th>2</th>\n",
       "      <td>HOME_&amp;_GARDEN_1_053</td>\n",
       "      <td>[43, 47, 40, 21, 22, 27, 42, 46, 57, 27, 32, 2...</td>\n",
       "    </tr>\n",
       "    <tr>\n",
       "      <th>3</th>\n",
       "      <td>HOME_&amp;_GARDEN_1_140</td>\n",
       "      <td>[16, 22, 7, 9, 19, 14, 17, 22, 25, 10, 12, 11,...</td>\n",
       "    </tr>\n",
       "    <tr>\n",
       "      <th>4</th>\n",
       "      <td>HOME_&amp;_GARDEN_1_177</td>\n",
       "      <td>[38, 41, 25, 30, 21, 28, 37, 59, 68, 52, 43, 1...</td>\n",
       "    </tr>\n",
       "    <tr>\n",
       "      <th>...</th>\n",
       "      <td>...</td>\n",
       "      <td>...</td>\n",
       "    </tr>\n",
       "    <tr>\n",
       "      <th>95</th>\n",
       "      <td>SUPERMARKET_3_499</td>\n",
       "      <td>[58, 38, 59, 71, 92, 97, 116, 147, 122, 160, 1...</td>\n",
       "    </tr>\n",
       "    <tr>\n",
       "      <th>96</th>\n",
       "      <td>ACCESORIES_1_158</td>\n",
       "      <td>[72, 56, 64, 52, 55, 53, 56, 41, 77, 55, 57, 5...</td>\n",
       "    </tr>\n",
       "    <tr>\n",
       "      <th>97</th>\n",
       "      <td>SUPERMARKET_3_282</td>\n",
       "      <td>[275, 296, 182, 152, 162, 153, 203, 289, 336, ...</td>\n",
       "    </tr>\n",
       "    <tr>\n",
       "      <th>98</th>\n",
       "      <td>ACCESORIES_1_354</td>\n",
       "      <td>[70, 45, 44, 45, 47, 32, 50, 61, 69, 49, 49, 5...</td>\n",
       "    </tr>\n",
       "    <tr>\n",
       "      <th>99</th>\n",
       "      <td>HOME_&amp;_GARDEN_1_106</td>\n",
       "      <td>[65, 61, 38, 43, 40, 32, 57, 54, 67, 44, 40, 4...</td>\n",
       "    </tr>\n",
       "  </tbody>\n",
       "</table>\n",
       "<p>100 rows × 2 columns</p>\n",
       "</div>"
      ],
      "text/plain": [
       "                      i                                               test\n",
       "0      ACCESORIES_1_108  [10, 13, 4, 10, 5, 13, 12, 12, 18, 7, 10, 5, 3...\n",
       "1   HOME_&_GARDEN_1_027  [29, 23, 26, 20, 17, 26, 20, 31, 23, 23, 18, 2...\n",
       "2   HOME_&_GARDEN_1_053  [43, 47, 40, 21, 22, 27, 42, 46, 57, 27, 32, 2...\n",
       "3   HOME_&_GARDEN_1_140  [16, 22, 7, 9, 19, 14, 17, 22, 25, 10, 12, 11,...\n",
       "4   HOME_&_GARDEN_1_177  [38, 41, 25, 30, 21, 28, 37, 59, 68, 52, 43, 1...\n",
       "..                  ...                                                ...\n",
       "95    SUPERMARKET_3_499  [58, 38, 59, 71, 92, 97, 116, 147, 122, 160, 1...\n",
       "96     ACCESORIES_1_158  [72, 56, 64, 52, 55, 53, 56, 41, 77, 55, 57, 5...\n",
       "97    SUPERMARKET_3_282  [275, 296, 182, 152, 162, 153, 203, 289, 336, ...\n",
       "98     ACCESORIES_1_354  [70, 45, 44, 45, 47, 32, 50, 61, 69, 49, 49, 5...\n",
       "99  HOME_&_GARDEN_1_106  [65, 61, 38, 43, 40, 32, 57, 54, 67, 44, 40, 4...\n",
       "\n",
       "[100 rows x 2 columns]"
      ]
     },
     "execution_count": 20,
     "metadata": {},
     "output_type": "execute_result"
    }
   ],
   "source": [
    "tiendas_inventario[['i','test']]"
   ]
  },
  {
   "cell_type": "code",
   "execution_count": null,
   "metadata": {},
   "outputs": [],
   "source": [
    "tiendas_inventario['test_suma'] = tiendas_inventario['test'].apply(sum)\n",
    "tiendas_inventario"
   ]
  },
  {
   "cell_type": "code",
   "execution_count": 22,
   "metadata": {},
   "outputs": [],
   "source": [
    "suma = tiendas_inventario['test_suma'].sum()"
   ]
  },
  {
   "cell_type": "code",
   "execution_count": 23,
   "metadata": {},
   "outputs": [
    {
     "data": {
      "text/plain": [
       "240920"
      ]
     },
     "execution_count": 23,
     "metadata": {},
     "output_type": "execute_result"
    }
   ],
   "source": [
    "suma"
   ]
  },
  {
   "cell_type": "code",
   "execution_count": 24,
   "metadata": {},
   "outputs": [],
   "source": [
    "tiendas_inventario['prediction'] = tiendas_inventario['prediction'].apply(lambda x: np.round(x, decimals=0))"
   ]
  },
  {
   "cell_type": "code",
   "execution_count": 27,
   "metadata": {},
   "outputs": [],
   "source": [
    "tiendas_inventario['tiendas_inventario_test'] = tiendas_inventario['prediction'].apply(lambda x: sum(x[:30]))\n",
    "tiendas_inventario['tiendas_inventario_prediction'] = tiendas_inventario['prediction'].apply(lambda x: sum(x[30:]))"
   ]
  },
  {
   "cell_type": "code",
   "execution_count": 29,
   "metadata": {},
   "outputs": [
    {
     "data": {
      "text/html": [
       "<div>\n",
       "<style scoped>\n",
       "    .dataframe tbody tr th:only-of-type {\n",
       "        vertical-align: middle;\n",
       "    }\n",
       "\n",
       "    .dataframe tbody tr th {\n",
       "        vertical-align: top;\n",
       "    }\n",
       "\n",
       "    .dataframe thead th {\n",
       "        text-align: right;\n",
       "    }\n",
       "</style>\n",
       "<table border=\"1\" class=\"dataframe\">\n",
       "  <thead>\n",
       "    <tr style=\"text-align: right;\">\n",
       "      <th></th>\n",
       "      <th>i</th>\n",
       "      <th>test_suma</th>\n",
       "      <th>tiendas_inventario_test</th>\n",
       "      <th>tiendas_inventario_prediction</th>\n",
       "    </tr>\n",
       "  </thead>\n",
       "  <tbody>\n",
       "    <tr>\n",
       "      <th>0</th>\n",
       "      <td>ACCESORIES_1_108</td>\n",
       "      <td>266</td>\n",
       "      <td>293.0</td>\n",
       "      <td>221.0</td>\n",
       "    </tr>\n",
       "    <tr>\n",
       "      <th>1</th>\n",
       "      <td>HOME_&amp;_GARDEN_1_027</td>\n",
       "      <td>624</td>\n",
       "      <td>683.0</td>\n",
       "      <td>703.0</td>\n",
       "    </tr>\n",
       "    <tr>\n",
       "      <th>2</th>\n",
       "      <td>HOME_&amp;_GARDEN_1_053</td>\n",
       "      <td>1012</td>\n",
       "      <td>909.0</td>\n",
       "      <td>836.0</td>\n",
       "    </tr>\n",
       "    <tr>\n",
       "      <th>3</th>\n",
       "      <td>HOME_&amp;_GARDEN_1_140</td>\n",
       "      <td>485</td>\n",
       "      <td>437.0</td>\n",
       "      <td>397.0</td>\n",
       "    </tr>\n",
       "    <tr>\n",
       "      <th>4</th>\n",
       "      <td>HOME_&amp;_GARDEN_1_177</td>\n",
       "      <td>477</td>\n",
       "      <td>892.0</td>\n",
       "      <td>775.0</td>\n",
       "    </tr>\n",
       "    <tr>\n",
       "      <th>...</th>\n",
       "      <td>...</td>\n",
       "      <td>...</td>\n",
       "      <td>...</td>\n",
       "      <td>...</td>\n",
       "    </tr>\n",
       "    <tr>\n",
       "      <th>95</th>\n",
       "      <td>SUPERMARKET_3_499</td>\n",
       "      <td>3379</td>\n",
       "      <td>2829.0</td>\n",
       "      <td>3190.0</td>\n",
       "    </tr>\n",
       "    <tr>\n",
       "      <th>96</th>\n",
       "      <td>ACCESORIES_1_158</td>\n",
       "      <td>1633</td>\n",
       "      <td>1509.0</td>\n",
       "      <td>1381.0</td>\n",
       "    </tr>\n",
       "    <tr>\n",
       "      <th>97</th>\n",
       "      <td>SUPERMARKET_3_282</td>\n",
       "      <td>6010</td>\n",
       "      <td>5594.0</td>\n",
       "      <td>5289.0</td>\n",
       "    </tr>\n",
       "    <tr>\n",
       "      <th>98</th>\n",
       "      <td>ACCESORIES_1_354</td>\n",
       "      <td>1602</td>\n",
       "      <td>1672.0</td>\n",
       "      <td>1657.0</td>\n",
       "    </tr>\n",
       "    <tr>\n",
       "      <th>99</th>\n",
       "      <td>HOME_&amp;_GARDEN_1_106</td>\n",
       "      <td>1669</td>\n",
       "      <td>1503.0</td>\n",
       "      <td>1464.0</td>\n",
       "    </tr>\n",
       "  </tbody>\n",
       "</table>\n",
       "<p>100 rows × 4 columns</p>\n",
       "</div>"
      ],
      "text/plain": [
       "                      i  test_suma  tiendas_inventario_test  \\\n",
       "0      ACCESORIES_1_108        266                    293.0   \n",
       "1   HOME_&_GARDEN_1_027        624                    683.0   \n",
       "2   HOME_&_GARDEN_1_053       1012                    909.0   \n",
       "3   HOME_&_GARDEN_1_140        485                    437.0   \n",
       "4   HOME_&_GARDEN_1_177        477                    892.0   \n",
       "..                  ...        ...                      ...   \n",
       "95    SUPERMARKET_3_499       3379                   2829.0   \n",
       "96     ACCESORIES_1_158       1633                   1509.0   \n",
       "97    SUPERMARKET_3_282       6010                   5594.0   \n",
       "98     ACCESORIES_1_354       1602                   1672.0   \n",
       "99  HOME_&_GARDEN_1_106       1669                   1503.0   \n",
       "\n",
       "    tiendas_inventario_prediction  \n",
       "0                           221.0  \n",
       "1                           703.0  \n",
       "2                           836.0  \n",
       "3                           397.0  \n",
       "4                           775.0  \n",
       "..                            ...  \n",
       "95                         3190.0  \n",
       "96                         1381.0  \n",
       "97                         5289.0  \n",
       "98                         1657.0  \n",
       "99                         1464.0  \n",
       "\n",
       "[100 rows x 4 columns]"
      ]
     },
     "execution_count": 29,
     "metadata": {},
     "output_type": "execute_result"
    }
   ],
   "source": [
    "tiendas_inventario[['i','test_suma','tiendas_inventario_test','tiendas_inventario_prediction']]"
   ]
  },
  {
   "cell_type": "code",
   "execution_count": 34,
   "metadata": {},
   "outputs": [
    {
     "name": "stdout",
     "output_type": "stream",
     "text": [
      "240920\n",
      "239651.0\n"
     ]
    },
    {
     "ename": "",
     "evalue": "",
     "output_type": "error",
     "traceback": [
      "\u001b[1;31mThe Kernel crashed while executing code in the current cell or a previous cell. \n",
      "\u001b[1;31mPlease review the code in the cell(s) to identify a possible cause of the failure. \n",
      "\u001b[1;31mClick <a href='https://aka.ms/vscodeJupyterKernelCrash'>here</a> for more info. \n",
      "\u001b[1;31mView Jupyter <a href='command:jupyter.viewOutput'>log</a> for further details."
     ]
    }
   ],
   "source": [
    "total_inventario_productos_real = tiendas_inventario['test_suma'].sum()\n",
    "total_inventario_productos_predicho = tiendas_inventario['tiendas_inventario_test'].sum()\n",
    "print(total_inventario_productos_real)\n",
    "print(total_inventario_productos_predicho)\n",
    "print(total_inventario_productos_real - total_inventario_productos_predicho)"
   ]
  },
  {
   "cell_type": "code",
   "execution_count": 33,
   "metadata": {},
   "outputs": [
    {
     "data": {
      "text/plain": [
       "1269.0"
      ]
     },
     "execution_count": 33,
     "metadata": {},
     "output_type": "execute_result"
    }
   ],
   "source": [
    "total_inventario_productos_real - total_inventario_productos_predicho"
   ]
  },
  {
   "cell_type": "markdown",
   "metadata": {},
   "source": [
    "## PREDICCION"
   ]
  },
  {
   "cell_type": "code",
   "execution_count": null,
   "metadata": {},
   "outputs": [],
   "source": []
  },
  {
   "cell_type": "code",
   "execution_count": 1,
   "metadata": {},
   "outputs": [
    {
     "ename": "NameError",
     "evalue": "name 'df' is not defined",
     "output_type": "error",
     "traceback": [
      "\u001b[0;31m---------------------------------------------------------------------------\u001b[0m",
      "\u001b[0;31mNameError\u001b[0m                                 Traceback (most recent call last)",
      "Cell \u001b[0;32mIn[1], line 4\u001b[0m\n\u001b[1;32m      1\u001b[0m resultados \u001b[38;5;241m=\u001b[39m []\n\u001b[1;32m      3\u001b[0m \u001b[38;5;66;03m# Copia del DataFrame original\u001b[39;00m\n\u001b[0;32m----> 4\u001b[0m df_original \u001b[38;5;241m=\u001b[39m \u001b[43mdf\u001b[49m\u001b[38;5;241m.\u001b[39mcopy()\n\u001b[1;32m      6\u001b[0m \u001b[38;5;66;03m# Seleccionar los primeros 5 productos únicos\u001b[39;00m\n\u001b[1;32m      7\u001b[0m productos \u001b[38;5;241m=\u001b[39m \u001b[38;5;28mlist\u001b[39m(df_original[\u001b[38;5;124m'\u001b[39m\u001b[38;5;124mitem\u001b[39m\u001b[38;5;124m'\u001b[39m]\u001b[38;5;241m.\u001b[39munique())\n",
      "\u001b[0;31mNameError\u001b[0m: name 'df' is not defined"
     ]
    }
   ],
   "source": [
    "resultados = []\n",
    "\n",
    "# Copia del DataFrame original\n",
    "df_original = df.copy()\n",
    "\n",
    "# Seleccionar los primeros 5 productos únicos\n",
    "productos = list(df_original['item'].unique())\n",
    "\n",
    "for i in lista_productos100:\n",
    "        dataset = df_original[['item','date','sales','weekday','event']]\n",
    "        df_product = dataset[dataset['item']==i]\n",
    "        df_product_sin_duplicates = df_product[['date','weekday', 'event']].drop_duplicates()\n",
    "        ts_predict = df_product.groupby(['date'])['sales'].sum().reset_index()\n",
    "        ts_predict = ts_predict.merge(df_product_sin_duplicates, on=['date'], how='left')\n",
    "        ts_predict = pd.get_dummies(data=ts_predict, columns=['weekday'], dtype=int)\n",
    "        ts_predict['date'] = pd.to_datetime(ts_predict['date'])\n",
    "        ts_predict.sort_values('date', ascending=True, inplace=True)\n",
    "        ts_predict.set_index('date', inplace=True)\n",
    "        ts_predict = ts_predict.asfreq('D')\n",
    "        y, exog = ts_predict['sales'], ts_predict.drop(columns=['sales'])\n",
    "        y_train, y_test = y[:-30], y[-30:]\n",
    "        exog_train, exog_test = exog[:-30], exog[-30:]\n",
    "        \n",
    "        forecaster = ForecasterAutoreg(\n",
    "                    regressor = RandomForestRegressor(random_state=123,\n",
    "                                                        max_depth=None,\n",
    "                                                        min_samples_leaf=2, \n",
    "                                                        min_samples_split=2,\n",
    "                                                        n_estimators=50),\n",
    "                    lags      =  14\n",
    "                )\n",
    "        \n",
    "        start_date = '2016-04-25' \n",
    "        end_date ='2016-05-30'\n",
    "        # Crear un rango de fechas\n",
    "        date_range = pd.date_range(start=start_date, end=end_date)\n",
    "        # Crear el dataframe\n",
    "        df1 = pd.DataFrame(date_range, columns=['date'])\n",
    "        df1['date'] = pd.to_datetime(df1['date'])\n",
    "        df1['weekday'] = df1['date'].dt.day_name()\n",
    "        df1['event'] = 0\n",
    "        df1 = pd.get_dummies(data=df1, columns=['weekday'], dtype=int)\n",
    "        df1.sort_values('date', inplace=True, ascending=True)\n",
    "        df1.set_index('date', inplace=True)\n",
    "        df1 = df1.asfreq('D')\n",
    "        exog_test = pd.concat([exog_test, df1], ignore_index=False)\n",
    "\n",
    "        forecaster.fit(y=y_train, exog=exog_train)\n",
    "        predictions = forecaster.predict(steps=60, exog=exog_test).to_list()\n",
    "        resultados.append({'i':i, 'prediction':predictions,'test':y_test.values})"
   ]
  },
  {
   "cell_type": "code",
   "execution_count": 16,
   "metadata": {},
   "outputs": [
    {
     "data": {
      "text/html": [
       "<div>\n",
       "<style scoped>\n",
       "    .dataframe tbody tr th:only-of-type {\n",
       "        vertical-align: middle;\n",
       "    }\n",
       "\n",
       "    .dataframe tbody tr th {\n",
       "        vertical-align: top;\n",
       "    }\n",
       "\n",
       "    .dataframe thead th {\n",
       "        text-align: right;\n",
       "    }\n",
       "</style>\n",
       "<table border=\"1\" class=\"dataframe\">\n",
       "  <thead>\n",
       "    <tr style=\"text-align: right;\">\n",
       "      <th></th>\n",
       "      <th>i</th>\n",
       "      <th>prediction</th>\n",
       "      <th>test</th>\n",
       "    </tr>\n",
       "  </thead>\n",
       "  <tbody>\n",
       "    <tr>\n",
       "      <th>0</th>\n",
       "      <td>ACCESORIES_1_108</td>\n",
       "      <td>[10.923238095238096, 10.905142857142856, 11.17...</td>\n",
       "      <td>[[0.0, 0.0, 0.0, 1.0, 0.0, 0.0, 0.0, 0.0], [1....</td>\n",
       "    </tr>\n",
       "    <tr>\n",
       "      <th>1</th>\n",
       "      <td>HOME_&amp;_GARDEN_1_027</td>\n",
       "      <td>[28.29742857142857, 27.403476190476194, 22.649...</td>\n",
       "      <td>[[0.0, 0.0, 0.0, 1.0, 0.0, 0.0, 0.0, 0.0], [1....</td>\n",
       "    </tr>\n",
       "    <tr>\n",
       "      <th>2</th>\n",
       "      <td>HOME_&amp;_GARDEN_1_053</td>\n",
       "      <td>[36.19519841269842, 39.81838095238094, 29.6421...</td>\n",
       "      <td>[[0.0, 0.0, 0.0, 1.0, 0.0, 0.0, 0.0, 0.0], [1....</td>\n",
       "    </tr>\n",
       "    <tr>\n",
       "      <th>3</th>\n",
       "      <td>HOME_&amp;_GARDEN_1_140</td>\n",
       "      <td>[17.884714285714278, 18.459428571428568, 13.71...</td>\n",
       "      <td>[[0.0, 0.0, 0.0, 1.0, 0.0, 0.0, 0.0, 0.0], [1....</td>\n",
       "    </tr>\n",
       "    <tr>\n",
       "      <th>4</th>\n",
       "      <td>HOME_&amp;_GARDEN_1_177</td>\n",
       "      <td>[34.91716666666666, 42.13176190476191, 29.9955...</td>\n",
       "      <td>[[0.0, 0.0, 0.0, 1.0, 0.0, 0.0, 0.0, 0.0], [1....</td>\n",
       "    </tr>\n",
       "    <tr>\n",
       "      <th>...</th>\n",
       "      <td>...</td>\n",
       "      <td>...</td>\n",
       "      <td>...</td>\n",
       "    </tr>\n",
       "    <tr>\n",
       "      <th>95</th>\n",
       "      <td>SUPERMARKET_3_499</td>\n",
       "      <td>[76.10561904761906, 71.27733333333336, 85.6287...</td>\n",
       "      <td>[[0.0, 0.0, 0.0, 1.0, 0.0, 0.0, 0.0, 0.0], [1....</td>\n",
       "    </tr>\n",
       "    <tr>\n",
       "      <th>96</th>\n",
       "      <td>ACCESORIES_1_158</td>\n",
       "      <td>[51.30011904761905, 56.08266666666666, 50.5970...</td>\n",
       "      <td>[[0.0, 0.0, 0.0, 1.0, 0.0, 0.0, 0.0, 0.0], [1....</td>\n",
       "    </tr>\n",
       "    <tr>\n",
       "      <th>97</th>\n",
       "      <td>SUPERMARKET_3_282</td>\n",
       "      <td>[220.25947619047616, 245.74099999999999, 177.0...</td>\n",
       "      <td>[[0.0, 0.0, 0.0, 1.0, 0.0, 0.0, 0.0, 0.0], [1....</td>\n",
       "    </tr>\n",
       "    <tr>\n",
       "      <th>98</th>\n",
       "      <td>ACCESORIES_1_354</td>\n",
       "      <td>[62.202055555555546, 64.70076190476189, 55.185...</td>\n",
       "      <td>[[0.0, 0.0, 0.0, 1.0, 0.0, 0.0, 0.0, 0.0], [1....</td>\n",
       "    </tr>\n",
       "    <tr>\n",
       "      <th>99</th>\n",
       "      <td>HOME_&amp;_GARDEN_1_106</td>\n",
       "      <td>[57.461476190476205, 63.027976190476195, 52.71...</td>\n",
       "      <td>[[0.0, 0.0, 0.0, 1.0, 0.0, 0.0, 0.0, 0.0], [1....</td>\n",
       "    </tr>\n",
       "  </tbody>\n",
       "</table>\n",
       "<p>100 rows × 3 columns</p>\n",
       "</div>"
      ],
      "text/plain": [
       "                      i                                         prediction  \\\n",
       "0      ACCESORIES_1_108  [10.923238095238096, 10.905142857142856, 11.17...   \n",
       "1   HOME_&_GARDEN_1_027  [28.29742857142857, 27.403476190476194, 22.649...   \n",
       "2   HOME_&_GARDEN_1_053  [36.19519841269842, 39.81838095238094, 29.6421...   \n",
       "3   HOME_&_GARDEN_1_140  [17.884714285714278, 18.459428571428568, 13.71...   \n",
       "4   HOME_&_GARDEN_1_177  [34.91716666666666, 42.13176190476191, 29.9955...   \n",
       "..                  ...                                                ...   \n",
       "95    SUPERMARKET_3_499  [76.10561904761906, 71.27733333333336, 85.6287...   \n",
       "96     ACCESORIES_1_158  [51.30011904761905, 56.08266666666666, 50.5970...   \n",
       "97    SUPERMARKET_3_282  [220.25947619047616, 245.74099999999999, 177.0...   \n",
       "98     ACCESORIES_1_354  [62.202055555555546, 64.70076190476189, 55.185...   \n",
       "99  HOME_&_GARDEN_1_106  [57.461476190476205, 63.027976190476195, 52.71...   \n",
       "\n",
       "                                                 test  \n",
       "0   [[0.0, 0.0, 0.0, 1.0, 0.0, 0.0, 0.0, 0.0], [1....  \n",
       "1   [[0.0, 0.0, 0.0, 1.0, 0.0, 0.0, 0.0, 0.0], [1....  \n",
       "2   [[0.0, 0.0, 0.0, 1.0, 0.0, 0.0, 0.0, 0.0], [1....  \n",
       "3   [[0.0, 0.0, 0.0, 1.0, 0.0, 0.0, 0.0, 0.0], [1....  \n",
       "4   [[0.0, 0.0, 0.0, 1.0, 0.0, 0.0, 0.0, 0.0], [1....  \n",
       "..                                                ...  \n",
       "95  [[0.0, 0.0, 0.0, 1.0, 0.0, 0.0, 0.0, 0.0], [1....  \n",
       "96  [[0.0, 0.0, 0.0, 1.0, 0.0, 0.0, 0.0, 0.0], [1....  \n",
       "97  [[0.0, 0.0, 0.0, 1.0, 0.0, 0.0, 0.0, 0.0], [1....  \n",
       "98  [[0.0, 0.0, 0.0, 1.0, 0.0, 0.0, 0.0, 0.0], [1....  \n",
       "99  [[0.0, 0.0, 0.0, 1.0, 0.0, 0.0, 0.0, 0.0], [1....  \n",
       "\n",
       "[100 rows x 3 columns]"
      ]
     },
     "execution_count": 16,
     "metadata": {},
     "output_type": "execute_result"
    }
   ],
   "source": [
    "pd.DataFrame(resultados)"
   ]
  },
  {
   "cell_type": "code",
   "execution_count": 14,
   "metadata": {},
   "outputs": [
    {
     "data": {
      "text/html": [
       "<div>\n",
       "<style scoped>\n",
       "    .dataframe tbody tr th:only-of-type {\n",
       "        vertical-align: middle;\n",
       "    }\n",
       "\n",
       "    .dataframe tbody tr th {\n",
       "        vertical-align: top;\n",
       "    }\n",
       "\n",
       "    .dataframe thead th {\n",
       "        text-align: right;\n",
       "    }\n",
       "</style>\n",
       "<table border=\"1\" class=\"dataframe\">\n",
       "  <thead>\n",
       "    <tr style=\"text-align: right;\">\n",
       "      <th></th>\n",
       "      <th>i</th>\n",
       "      <th>prediction</th>\n",
       "    </tr>\n",
       "  </thead>\n",
       "  <tbody>\n",
       "    <tr>\n",
       "      <th>0</th>\n",
       "      <td>ACCESORIES_1_108</td>\n",
       "      <td>[10.923238095238096, 10.905142857142856, 11.17...</td>\n",
       "    </tr>\n",
       "  </tbody>\n",
       "</table>\n",
       "</div>"
      ],
      "text/plain": [
       "                  i                                         prediction\n",
       "0  ACCESORIES_1_108  [10.923238095238096, 10.905142857142856, 11.17..."
      ]
     },
     "execution_count": 14,
     "metadata": {},
     "output_type": "execute_result"
    }
   ],
   "source": [
    "tiendas = pd.DataFrame(resultados)\n",
    "tiendas.head(1)"
   ]
  },
  {
   "cell_type": "code",
   "execution_count": 17,
   "metadata": {},
   "outputs": [],
   "source": [
    "file_name = \"productos_global_unidades_vendidas.xlsx\"\n",
    "tiendas.to_excel(file_name)"
   ]
  }
 ],
 "metadata": {
  "kernelspec": {
   "display_name": "env",
   "language": "python",
   "name": "python3"
  },
  "language_info": {
   "codemirror_mode": {
    "name": "ipython",
    "version": 3
   },
   "file_extension": ".py",
   "mimetype": "text/x-python",
   "name": "python",
   "nbconvert_exporter": "python",
   "pygments_lexer": "ipython3",
   "version": "3.10.12"
  }
 },
 "nbformat": 4,
 "nbformat_minor": 2
}
