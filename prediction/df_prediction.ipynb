{
 "cells": [
  {
   "cell_type": "markdown",
   "metadata": {},
   "source": [
    "# create df_prediction"
   ]
  },
  {
   "cell_type": "markdown",
   "metadata": {},
   "source": [
    "### load libraries"
   ]
  },
  {
   "cell_type": "code",
   "execution_count": 2,
   "metadata": {},
   "outputs": [],
   "source": [
    "import pandas as pd\n",
    "import numpy as np\n",
    "import datetime"
   ]
  },
  {
   "cell_type": "markdown",
   "metadata": {},
   "source": [
    "### load csv files"
   ]
  },
  {
   "cell_type": "code",
   "execution_count": 6,
   "metadata": {},
   "outputs": [],
   "source": [
    "df_sales = pd.read_csv(\"./EDA/data/sales_prediction.csv\")\n",
    "df_prices = pd.read_csv(\"./EDA/data/prices_prediction.csv\")\n",
    "df_calendar_with_events = pd.read_csv(\"./data/daily_calendar_with_events.csv\")"
   ]
  },
  {
   "cell_type": "code",
   "execution_count": 10,
   "metadata": {},
   "outputs": [],
   "source": [
    "\n",
    "del(df_sales[\"Unnamed: 0\"])\n",
    "del(df_prices[\"Unnamed: 0\"])"
   ]
  },
  {
   "cell_type": "markdown",
   "metadata": {},
   "source": [
    "### fullfill df_calendar nulls by 0 and replace event with 1"
   ]
  },
  {
   "cell_type": "code",
   "execution_count": 14,
   "metadata": {},
   "outputs": [],
   "source": [
    "df_calendar_with_events[\"event\"].fillna(0, inplace=True)"
   ]
  },
  {
   "cell_type": "code",
   "execution_count": 15,
   "metadata": {},
   "outputs": [],
   "source": [
    "df_calendar_with_events[\"event\"] = df_calendar_with_events[\"event\"].apply(lambda x: 1 if x != 0 else 0)"
   ]
  },
  {
   "cell_type": "code",
   "execution_count": 16,
   "metadata": {},
   "outputs": [],
   "source": [
    "df_calendar_with_events[\"date\"]= pd.to_datetime(df_calendar_with_events['date'], format='%Y-%m-%d') # change type to datetime"
   ]
  },
  {
   "cell_type": "code",
   "execution_count": 37,
   "metadata": {},
   "outputs": [
    {
     "data": {
      "text/html": [
       "<div>\n",
       "<style scoped>\n",
       "    .dataframe tbody tr th:only-of-type {\n",
       "        vertical-align: middle;\n",
       "    }\n",
       "\n",
       "    .dataframe tbody tr th {\n",
       "        vertical-align: top;\n",
       "    }\n",
       "\n",
       "    .dataframe thead th {\n",
       "        text-align: right;\n",
       "    }\n",
       "</style>\n",
       "<table border=\"1\" class=\"dataframe\">\n",
       "  <thead>\n",
       "    <tr style=\"text-align: right;\">\n",
       "      <th></th>\n",
       "      <th>id</th>\n",
       "      <th>date</th>\n",
       "      <th>sales</th>\n",
       "    </tr>\n",
       "  </thead>\n",
       "  <tbody>\n",
       "    <tr>\n",
       "      <th>0</th>\n",
       "      <td>ACCESORIES_1_001_NYC_1</td>\n",
       "      <td>2011-01-29</td>\n",
       "      <td>0</td>\n",
       "    </tr>\n",
       "    <tr>\n",
       "      <th>1</th>\n",
       "      <td>ACCESORIES_1_002_NYC_1</td>\n",
       "      <td>2011-01-29</td>\n",
       "      <td>0</td>\n",
       "    </tr>\n",
       "    <tr>\n",
       "      <th>2</th>\n",
       "      <td>ACCESORIES_1_003_NYC_1</td>\n",
       "      <td>2011-01-29</td>\n",
       "      <td>0</td>\n",
       "    </tr>\n",
       "    <tr>\n",
       "      <th>3</th>\n",
       "      <td>ACCESORIES_1_004_NYC_1</td>\n",
       "      <td>2011-01-29</td>\n",
       "      <td>0</td>\n",
       "    </tr>\n",
       "    <tr>\n",
       "      <th>4</th>\n",
       "      <td>ACCESORIES_1_005_NYC_1</td>\n",
       "      <td>2011-01-29</td>\n",
       "      <td>0</td>\n",
       "    </tr>\n",
       "    <tr>\n",
       "      <th>...</th>\n",
       "      <td>...</td>\n",
       "      <td>...</td>\n",
       "      <td>...</td>\n",
       "    </tr>\n",
       "    <tr>\n",
       "      <th>58327365</th>\n",
       "      <td>SUPERMARKET_3_823_PHI_3</td>\n",
       "      <td>2016-04-24</td>\n",
       "      <td>1</td>\n",
       "    </tr>\n",
       "    <tr>\n",
       "      <th>58327366</th>\n",
       "      <td>SUPERMARKET_3_824_PHI_3</td>\n",
       "      <td>2016-04-24</td>\n",
       "      <td>0</td>\n",
       "    </tr>\n",
       "    <tr>\n",
       "      <th>58327367</th>\n",
       "      <td>SUPERMARKET_3_825_PHI_3</td>\n",
       "      <td>2016-04-24</td>\n",
       "      <td>0</td>\n",
       "    </tr>\n",
       "    <tr>\n",
       "      <th>58327368</th>\n",
       "      <td>SUPERMARKET_3_826_PHI_3</td>\n",
       "      <td>2016-04-24</td>\n",
       "      <td>3</td>\n",
       "    </tr>\n",
       "    <tr>\n",
       "      <th>58327369</th>\n",
       "      <td>SUPERMARKET_3_827_PHI_3</td>\n",
       "      <td>2016-04-24</td>\n",
       "      <td>0</td>\n",
       "    </tr>\n",
       "  </tbody>\n",
       "</table>\n",
       "<p>58327370 rows × 3 columns</p>\n",
       "</div>"
      ],
      "text/plain": [
       "                               id       date  sales\n",
       "0          ACCESORIES_1_001_NYC_1 2011-01-29      0\n",
       "1          ACCESORIES_1_002_NYC_1 2011-01-29      0\n",
       "2          ACCESORIES_1_003_NYC_1 2011-01-29      0\n",
       "3          ACCESORIES_1_004_NYC_1 2011-01-29      0\n",
       "4          ACCESORIES_1_005_NYC_1 2011-01-29      0\n",
       "...                           ...        ...    ...\n",
       "58327365  SUPERMARKET_3_823_PHI_3 2016-04-24      1\n",
       "58327366  SUPERMARKET_3_824_PHI_3 2016-04-24      0\n",
       "58327367  SUPERMARKET_3_825_PHI_3 2016-04-24      0\n",
       "58327368  SUPERMARKET_3_826_PHI_3 2016-04-24      3\n",
       "58327369  SUPERMARKET_3_827_PHI_3 2016-04-24      0\n",
       "\n",
       "[58327370 rows x 3 columns]"
      ]
     },
     "execution_count": 37,
     "metadata": {},
     "output_type": "execute_result"
    }
   ],
   "source": [
    "df_sales"
   ]
  },
  {
   "cell_type": "markdown",
   "metadata": {},
   "source": [
    "### create new columns so to merge by it"
   ]
  },
  {
   "cell_type": "code",
   "execution_count": null,
   "metadata": {},
   "outputs": [],
   "source": [
    "df_prices[\"id\"] = df_prices[\"item\"] + \"_\" + df_prices[\"store_code\"]"
   ]
  },
  {
   "cell_type": "markdown",
   "metadata": {},
   "source": [
    "### drop unnecessary files"
   ]
  },
  {
   "cell_type": "code",
   "execution_count": 21,
   "metadata": {},
   "outputs": [],
   "source": [
    "df_prices.drop([\"item\", \"store_code\"], axis=1, inplace=True)"
   ]
  },
  {
   "cell_type": "code",
   "execution_count": 50,
   "metadata": {},
   "outputs": [],
   "source": [
    "del(df_sales[\"Unnamed: 0\"])\n",
    "del(df_prices[\"Unnamed: 0\"])\n"
   ]
  },
  {
   "cell_type": "markdown",
   "metadata": {},
   "source": [
    "### sort columns so to make df_prieces easier to read"
   ]
  },
  {
   "cell_type": "code",
   "execution_count": 26,
   "metadata": {},
   "outputs": [],
   "source": [
    "columns=[\"id\",\"date\",\"sell_price\"]"
   ]
  },
  {
   "cell_type": "code",
   "execution_count": 27,
   "metadata": {},
   "outputs": [],
   "source": [
    "df_prices = df_prices[columns]"
   ]
  },
  {
   "cell_type": "code",
   "execution_count": 35,
   "metadata": {},
   "outputs": [
    {
     "data": {
      "text/html": [
       "<div>\n",
       "<style scoped>\n",
       "    .dataframe tbody tr th:only-of-type {\n",
       "        vertical-align: middle;\n",
       "    }\n",
       "\n",
       "    .dataframe tbody tr th {\n",
       "        vertical-align: top;\n",
       "    }\n",
       "\n",
       "    .dataframe thead th {\n",
       "        text-align: right;\n",
       "    }\n",
       "</style>\n",
       "<table border=\"1\" class=\"dataframe\">\n",
       "  <thead>\n",
       "    <tr style=\"text-align: right;\">\n",
       "      <th></th>\n",
       "      <th>id</th>\n",
       "      <th>date</th>\n",
       "      <th>sell_price</th>\n",
       "    </tr>\n",
       "  </thead>\n",
       "  <tbody>\n",
       "    <tr>\n",
       "      <th>0</th>\n",
       "      <td>ACCESORIES_1_001_NYC_1</td>\n",
       "      <td>2013-07-16</td>\n",
       "      <td>12.7414</td>\n",
       "    </tr>\n",
       "    <tr>\n",
       "      <th>1</th>\n",
       "      <td>ACCESORIES_1_001_NYC_1</td>\n",
       "      <td>2013-07-17</td>\n",
       "      <td>12.7414</td>\n",
       "    </tr>\n",
       "    <tr>\n",
       "      <th>2</th>\n",
       "      <td>ACCESORIES_1_001_NYC_1</td>\n",
       "      <td>2013-07-18</td>\n",
       "      <td>12.7414</td>\n",
       "    </tr>\n",
       "    <tr>\n",
       "      <th>3</th>\n",
       "      <td>ACCESORIES_1_001_NYC_1</td>\n",
       "      <td>2013-07-19</td>\n",
       "      <td>12.7414</td>\n",
       "    </tr>\n",
       "    <tr>\n",
       "      <th>4</th>\n",
       "      <td>ACCESORIES_1_001_NYC_1</td>\n",
       "      <td>2013-07-20</td>\n",
       "      <td>12.7414</td>\n",
       "    </tr>\n",
       "    <tr>\n",
       "      <th>...</th>\n",
       "      <td>...</td>\n",
       "      <td>...</td>\n",
       "      <td>...</td>\n",
       "    </tr>\n",
       "    <tr>\n",
       "      <th>45986371</th>\n",
       "      <td>SUPERMARKET_3_827_PHI_3</td>\n",
       "      <td>2016-04-20</td>\n",
       "      <td>1.2000</td>\n",
       "    </tr>\n",
       "    <tr>\n",
       "      <th>45986372</th>\n",
       "      <td>SUPERMARKET_3_827_PHI_3</td>\n",
       "      <td>2016-04-21</td>\n",
       "      <td>1.2000</td>\n",
       "    </tr>\n",
       "    <tr>\n",
       "      <th>45986373</th>\n",
       "      <td>SUPERMARKET_3_827_PHI_3</td>\n",
       "      <td>2016-04-22</td>\n",
       "      <td>1.2000</td>\n",
       "    </tr>\n",
       "    <tr>\n",
       "      <th>45986374</th>\n",
       "      <td>SUPERMARKET_3_827_PHI_3</td>\n",
       "      <td>2016-04-23</td>\n",
       "      <td>1.2000</td>\n",
       "    </tr>\n",
       "    <tr>\n",
       "      <th>45986375</th>\n",
       "      <td>SUPERMARKET_3_827_PHI_3</td>\n",
       "      <td>2016-04-24</td>\n",
       "      <td>1.2000</td>\n",
       "    </tr>\n",
       "  </tbody>\n",
       "</table>\n",
       "<p>45986376 rows × 3 columns</p>\n",
       "</div>"
      ],
      "text/plain": [
       "                               id       date  sell_price\n",
       "0          ACCESORIES_1_001_NYC_1 2013-07-16     12.7414\n",
       "1          ACCESORIES_1_001_NYC_1 2013-07-17     12.7414\n",
       "2          ACCESORIES_1_001_NYC_1 2013-07-18     12.7414\n",
       "3          ACCESORIES_1_001_NYC_1 2013-07-19     12.7414\n",
       "4          ACCESORIES_1_001_NYC_1 2013-07-20     12.7414\n",
       "...                           ...        ...         ...\n",
       "45986371  SUPERMARKET_3_827_PHI_3 2016-04-20      1.2000\n",
       "45986372  SUPERMARKET_3_827_PHI_3 2016-04-21      1.2000\n",
       "45986373  SUPERMARKET_3_827_PHI_3 2016-04-22      1.2000\n",
       "45986374  SUPERMARKET_3_827_PHI_3 2016-04-23      1.2000\n",
       "45986375  SUPERMARKET_3_827_PHI_3 2016-04-24      1.2000\n",
       "\n",
       "[45986376 rows x 3 columns]"
      ]
     },
     "execution_count": 35,
     "metadata": {},
     "output_type": "execute_result"
    }
   ],
   "source": [
    "df_prices"
   ]
  },
  {
   "cell_type": "markdown",
   "metadata": {},
   "source": [
    "### ensure all df are in datetime format"
   ]
  },
  {
   "cell_type": "code",
   "execution_count": 29,
   "metadata": {},
   "outputs": [],
   "source": [
    "df_sales[\"date\"] = pd.to_datetime(df_sales[\"date\"])\n",
    "df_calendar_with_events[\"date\"] = pd.to_datetime(df_calendar_with_events[\"date\"])\n",
    "df_prices[\"date\"] = pd.to_datetime(df_prices[\"date\"])"
   ]
  },
  {
   "cell_type": "markdown",
   "metadata": {},
   "source": [
    "### merge all df_prices df_sales df_calendar"
   ]
  },
  {
   "cell_type": "code",
   "execution_count": 38,
   "metadata": {},
   "outputs": [],
   "source": [
    "df_merge = df_sales.merge(df_prices, on=['id', 'date'], how='left') "
   ]
  },
  {
   "cell_type": "code",
   "execution_count": null,
   "metadata": {},
   "outputs": [],
   "source": [
    "df_merge.dropna(subset=[\"sell_price\"], inplace=True)"
   ]
  },
  {
   "cell_type": "code",
   "execution_count": 42,
   "metadata": {},
   "outputs": [],
   "source": [
    "df_merge = df_merge.merge(df_calendar_with_events, on=['date'], how='left')"
   ]
  },
  {
   "cell_type": "code",
   "execution_count": 44,
   "metadata": {},
   "outputs": [],
   "source": [
    "df_merge.drop([\"weekday_int\",\"d\"], axis=1, inplace=True)"
   ]
  },
  {
   "cell_type": "code",
   "execution_count": 45,
   "metadata": {},
   "outputs": [
    {
     "data": {
      "text/html": [
       "<div>\n",
       "<style scoped>\n",
       "    .dataframe tbody tr th:only-of-type {\n",
       "        vertical-align: middle;\n",
       "    }\n",
       "\n",
       "    .dataframe tbody tr th {\n",
       "        vertical-align: top;\n",
       "    }\n",
       "\n",
       "    .dataframe thead th {\n",
       "        text-align: right;\n",
       "    }\n",
       "</style>\n",
       "<table border=\"1\" class=\"dataframe\">\n",
       "  <thead>\n",
       "    <tr style=\"text-align: right;\">\n",
       "      <th></th>\n",
       "      <th>id</th>\n",
       "      <th>date</th>\n",
       "      <th>sales</th>\n",
       "      <th>sell_price</th>\n",
       "      <th>weekday</th>\n",
       "      <th>event</th>\n",
       "    </tr>\n",
       "  </thead>\n",
       "  <tbody>\n",
       "    <tr>\n",
       "      <th>0</th>\n",
       "      <td>ACCESORIES_1_008_NYC_1</td>\n",
       "      <td>2011-01-29</td>\n",
       "      <td>12</td>\n",
       "      <td>0.6118</td>\n",
       "      <td>Saturday</td>\n",
       "      <td>0</td>\n",
       "    </tr>\n",
       "    <tr>\n",
       "      <th>1</th>\n",
       "      <td>ACCESORIES_1_009_NYC_1</td>\n",
       "      <td>2011-01-29</td>\n",
       "      <td>2</td>\n",
       "      <td>2.0748</td>\n",
       "      <td>Saturday</td>\n",
       "      <td>0</td>\n",
       "    </tr>\n",
       "    <tr>\n",
       "      <th>2</th>\n",
       "      <td>ACCESORIES_1_010_NYC_1</td>\n",
       "      <td>2011-01-29</td>\n",
       "      <td>0</td>\n",
       "      <td>4.2161</td>\n",
       "      <td>Saturday</td>\n",
       "      <td>0</td>\n",
       "    </tr>\n",
       "    <tr>\n",
       "      <th>3</th>\n",
       "      <td>ACCESORIES_1_012_NYC_1</td>\n",
       "      <td>2011-01-29</td>\n",
       "      <td>0</td>\n",
       "      <td>7.9534</td>\n",
       "      <td>Saturday</td>\n",
       "      <td>0</td>\n",
       "    </tr>\n",
       "    <tr>\n",
       "      <th>4</th>\n",
       "      <td>ACCESORIES_1_015_NYC_1</td>\n",
       "      <td>2011-01-29</td>\n",
       "      <td>4</td>\n",
       "      <td>0.9310</td>\n",
       "      <td>Saturday</td>\n",
       "      <td>0</td>\n",
       "    </tr>\n",
       "    <tr>\n",
       "      <th>...</th>\n",
       "      <td>...</td>\n",
       "      <td>...</td>\n",
       "      <td>...</td>\n",
       "      <td>...</td>\n",
       "      <td>...</td>\n",
       "      <td>...</td>\n",
       "    </tr>\n",
       "    <tr>\n",
       "      <th>45986371</th>\n",
       "      <td>SUPERMARKET_3_823_PHI_3</td>\n",
       "      <td>2016-04-24</td>\n",
       "      <td>1</td>\n",
       "      <td>3.5760</td>\n",
       "      <td>Sunday</td>\n",
       "      <td>0</td>\n",
       "    </tr>\n",
       "    <tr>\n",
       "      <th>45986372</th>\n",
       "      <td>SUPERMARKET_3_824_PHI_3</td>\n",
       "      <td>2016-04-24</td>\n",
       "      <td>0</td>\n",
       "      <td>2.9760</td>\n",
       "      <td>Sunday</td>\n",
       "      <td>0</td>\n",
       "    </tr>\n",
       "    <tr>\n",
       "      <th>45986373</th>\n",
       "      <td>SUPERMARKET_3_825_PHI_3</td>\n",
       "      <td>2016-04-24</td>\n",
       "      <td>0</td>\n",
       "      <td>4.7760</td>\n",
       "      <td>Sunday</td>\n",
       "      <td>0</td>\n",
       "    </tr>\n",
       "    <tr>\n",
       "      <th>45986374</th>\n",
       "      <td>SUPERMARKET_3_826_PHI_3</td>\n",
       "      <td>2016-04-24</td>\n",
       "      <td>3</td>\n",
       "      <td>1.5360</td>\n",
       "      <td>Sunday</td>\n",
       "      <td>0</td>\n",
       "    </tr>\n",
       "    <tr>\n",
       "      <th>45986375</th>\n",
       "      <td>SUPERMARKET_3_827_PHI_3</td>\n",
       "      <td>2016-04-24</td>\n",
       "      <td>0</td>\n",
       "      <td>1.2000</td>\n",
       "      <td>Sunday</td>\n",
       "      <td>0</td>\n",
       "    </tr>\n",
       "  </tbody>\n",
       "</table>\n",
       "<p>45986376 rows × 6 columns</p>\n",
       "</div>"
      ],
      "text/plain": [
       "                               id       date  sales  sell_price   weekday  \\\n",
       "0          ACCESORIES_1_008_NYC_1 2011-01-29     12      0.6118  Saturday   \n",
       "1          ACCESORIES_1_009_NYC_1 2011-01-29      2      2.0748  Saturday   \n",
       "2          ACCESORIES_1_010_NYC_1 2011-01-29      0      4.2161  Saturday   \n",
       "3          ACCESORIES_1_012_NYC_1 2011-01-29      0      7.9534  Saturday   \n",
       "4          ACCESORIES_1_015_NYC_1 2011-01-29      4      0.9310  Saturday   \n",
       "...                           ...        ...    ...         ...       ...   \n",
       "45986371  SUPERMARKET_3_823_PHI_3 2016-04-24      1      3.5760    Sunday   \n",
       "45986372  SUPERMARKET_3_824_PHI_3 2016-04-24      0      2.9760    Sunday   \n",
       "45986373  SUPERMARKET_3_825_PHI_3 2016-04-24      0      4.7760    Sunday   \n",
       "45986374  SUPERMARKET_3_826_PHI_3 2016-04-24      3      1.5360    Sunday   \n",
       "45986375  SUPERMARKET_3_827_PHI_3 2016-04-24      0      1.2000    Sunday   \n",
       "\n",
       "          event  \n",
       "0             0  \n",
       "1             0  \n",
       "2             0  \n",
       "3             0  \n",
       "4             0  \n",
       "...         ...  \n",
       "45986371      0  \n",
       "45986372      0  \n",
       "45986373      0  \n",
       "45986374      0  \n",
       "45986375      0  \n",
       "\n",
       "[45986376 rows x 6 columns]"
      ]
     },
     "execution_count": 45,
     "metadata": {},
     "output_type": "execute_result"
    }
   ],
   "source": [
    "df_merge"
   ]
  },
  {
   "cell_type": "markdown",
   "metadata": {},
   "source": [
    "### Top 100 of items that generate best glonal income"
   ]
  },
  {
   "cell_type": "code",
   "execution_count": 46,
   "metadata": {},
   "outputs": [],
   "source": [
    "df_merge.set_index(\"date\",inplace=True)"
   ]
  },
  {
   "cell_type": "code",
   "execution_count": 47,
   "metadata": {},
   "outputs": [],
   "source": [
    "df_merge[\"income\"] = df_merge[\"sales\"] * df_merge[\"sell_price\"]"
   ]
  },
  {
   "cell_type": "code",
   "execution_count": 48,
   "metadata": {},
   "outputs": [],
   "source": [
    "df_merge[\"item\"]= df_merge[\"id\"].apply(lambda x: x[:-6])"
   ]
  },
  {
   "cell_type": "code",
   "execution_count": 49,
   "metadata": {},
   "outputs": [],
   "source": [
    "top100= df_merge.groupby( [\"item\"])[\"income\"].sum().sort_values(ascending=False).head(100).reset_index()"
   ]
  },
  {
   "cell_type": "code",
   "execution_count": 50,
   "metadata": {},
   "outputs": [
    {
     "data": {
      "text/html": [
       "<div>\n",
       "<style scoped>\n",
       "    .dataframe tbody tr th:only-of-type {\n",
       "        vertical-align: middle;\n",
       "    }\n",
       "\n",
       "    .dataframe tbody tr th {\n",
       "        vertical-align: top;\n",
       "    }\n",
       "\n",
       "    .dataframe thead th {\n",
       "        text-align: right;\n",
       "    }\n",
       "</style>\n",
       "<table border=\"1\" class=\"dataframe\">\n",
       "  <thead>\n",
       "    <tr style=\"text-align: right;\">\n",
       "      <th></th>\n",
       "      <th>item</th>\n",
       "      <th>income</th>\n",
       "    </tr>\n",
       "  </thead>\n",
       "  <tbody>\n",
       "    <tr>\n",
       "      <th>0</th>\n",
       "      <td>SUPERMARKET_3_586</td>\n",
       "      <td>1.754179e+06</td>\n",
       "    </tr>\n",
       "    <tr>\n",
       "      <th>1</th>\n",
       "      <td>SUPERMARKET_3_120</td>\n",
       "      <td>1.690645e+06</td>\n",
       "    </tr>\n",
       "    <tr>\n",
       "      <th>2</th>\n",
       "      <td>SUPERMARKET_3_090</td>\n",
       "      <td>1.623844e+06</td>\n",
       "    </tr>\n",
       "    <tr>\n",
       "      <th>3</th>\n",
       "      <td>SUPERMARKET_3_202</td>\n",
       "      <td>1.501405e+06</td>\n",
       "    </tr>\n",
       "    <tr>\n",
       "      <th>4</th>\n",
       "      <td>SUPERMARKET_3_587</td>\n",
       "      <td>1.171340e+06</td>\n",
       "    </tr>\n",
       "    <tr>\n",
       "      <th>...</th>\n",
       "      <td>...</td>\n",
       "      <td>...</td>\n",
       "    </tr>\n",
       "    <tr>\n",
       "      <th>95</th>\n",
       "      <td>SUPERMARKET_3_389</td>\n",
       "      <td>3.248685e+05</td>\n",
       "    </tr>\n",
       "    <tr>\n",
       "      <th>96</th>\n",
       "      <td>SUPERMARKET_3_541</td>\n",
       "      <td>3.231147e+05</td>\n",
       "    </tr>\n",
       "    <tr>\n",
       "      <th>97</th>\n",
       "      <td>SUPERMARKET_3_681</td>\n",
       "      <td>3.180257e+05</td>\n",
       "    </tr>\n",
       "    <tr>\n",
       "      <th>98</th>\n",
       "      <td>HOME_&amp;_GARDEN_1_497</td>\n",
       "      <td>3.177413e+05</td>\n",
       "    </tr>\n",
       "    <tr>\n",
       "      <th>99</th>\n",
       "      <td>SUPERMARKET_2_181</td>\n",
       "      <td>3.173410e+05</td>\n",
       "    </tr>\n",
       "  </tbody>\n",
       "</table>\n",
       "<p>100 rows × 2 columns</p>\n",
       "</div>"
      ],
      "text/plain": [
       "                   item        income\n",
       "0     SUPERMARKET_3_586  1.754179e+06\n",
       "1     SUPERMARKET_3_120  1.690645e+06\n",
       "2     SUPERMARKET_3_090  1.623844e+06\n",
       "3     SUPERMARKET_3_202  1.501405e+06\n",
       "4     SUPERMARKET_3_587  1.171340e+06\n",
       "..                  ...           ...\n",
       "95    SUPERMARKET_3_389  3.248685e+05\n",
       "96    SUPERMARKET_3_541  3.231147e+05\n",
       "97    SUPERMARKET_3_681  3.180257e+05\n",
       "98  HOME_&_GARDEN_1_497  3.177413e+05\n",
       "99    SUPERMARKET_2_181  3.173410e+05\n",
       "\n",
       "[100 rows x 2 columns]"
      ]
     },
     "execution_count": 50,
     "metadata": {},
     "output_type": "execute_result"
    }
   ],
   "source": [
    "top100"
   ]
  },
  {
   "cell_type": "markdown",
   "metadata": {},
   "source": [
    "### save them in to a list"
   ]
  },
  {
   "cell_type": "code",
   "execution_count": 51,
   "metadata": {},
   "outputs": [],
   "source": [
    "Lista_top100=list(top100[\"item\"])"
   ]
  },
  {
   "cell_type": "markdown",
   "metadata": {},
   "source": [
    "### Filter df with top100 list."
   ]
  },
  {
   "cell_type": "code",
   "execution_count": 52,
   "metadata": {},
   "outputs": [],
   "source": [
    "df_top100 = df_merge[df_merge['item'].isin(Lista_top100)]"
   ]
  },
  {
   "cell_type": "code",
   "execution_count": 54,
   "metadata": {},
   "outputs": [
    {
     "name": "stderr",
     "output_type": "stream",
     "text": [
      "C:\\Users\\rafas\\AppData\\Local\\Temp\\ipykernel_19628\\2593699802.py:1: SettingWithCopyWarning: \n",
      "A value is trying to be set on a copy of a slice from a DataFrame\n",
      "\n",
      "See the caveats in the documentation: https://pandas.pydata.org/pandas-docs/stable/user_guide/indexing.html#returning-a-view-versus-a-copy\n",
      "  df_top100.drop([\"id\"],axis=1,inplace=True)\n"
     ]
    }
   ],
   "source": [
    "df_top100.drop([\"id\"],axis=1,inplace=True)"
   ]
  },
  {
   "cell_type": "code",
   "execution_count": 56,
   "metadata": {},
   "outputs": [],
   "source": [
    "columns = [\"weekday\",\"item\",\"sales\",\"sell_price\",\"event\",\"income\"]"
   ]
  },
  {
   "cell_type": "code",
   "execution_count": 57,
   "metadata": {},
   "outputs": [],
   "source": [
    "df_top100 = df_top100[columns]"
   ]
  },
  {
   "cell_type": "code",
   "execution_count": 58,
   "metadata": {},
   "outputs": [],
   "source": [
    "file_name = \"Top100_prediction.csv\"\n",
    "df_top100.to_csv(file_name)"
   ]
  },
  {
   "cell_type": "code",
   "execution_count": 59,
   "metadata": {},
   "outputs": [],
   "source": [
    "file_name = \"df_market_by_days.csv\"\n",
    "df_merge.to_csv(file_name)"
   ]
  }
 ],
 "metadata": {
  "kernelspec": {
   "display_name": "Python 3",
   "language": "python",
   "name": "python3"
  },
  "language_info": {
   "codemirror_mode": {
    "name": "ipython",
    "version": 3
   },
   "file_extension": ".py",
   "mimetype": "text/x-python",
   "name": "python",
   "nbconvert_exporter": "python",
   "pygments_lexer": "ipython3",
   "version": "3.12.5"
  }
 },
 "nbformat": 4,
 "nbformat_minor": 2
}
