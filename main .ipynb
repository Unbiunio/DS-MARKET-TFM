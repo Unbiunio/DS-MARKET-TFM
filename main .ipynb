{
 "cells": [
  {
   "cell_type": "markdown",
   "metadata": {},
   "source": [
    "# create df market"
   ]
  },
  {
   "cell_type": "markdown",
   "metadata": {},
   "source": [
    "### loading libraries"
   ]
  },
  {
   "cell_type": "code",
<<<<<<< HEAD
   "execution_count": 3,
=======
   "execution_count": 1,
>>>>>>> 1dc11c38640c42deb633f51c1abafe32a7c7e42b
   "metadata": {},
   "outputs": [],
   "source": [
    "import pandas as pd\n",
    "import numpy as np\n",
    "import datetime\n",
    "from datetime import datetime, timedelta\n",
    "import seaborn as sns\n",
    "import matplotlib.pyplot as plt\n",
    "\n",
    "import time\n",
    "\n",
    "import warnings\n",
    "warnings.simplefilter(action = 'ignore', category = FutureWarning)\n",
    "\n",
    "# imports best practice pandas\n",
    "import os\n",
    "\n",
    "import numpy as np\n",
    "import pandas as pd\n",
    "\n",
    "#--------------------------------------------------------"
   ]
  },
  {
   "cell_type": "markdown",
   "metadata": {},
   "source": [
<<<<<<< HEAD
    "### loading clean csv files"
=======
    "### loading csv files"
>>>>>>> 1dc11c38640c42deb633f51c1abafe32a7c7e42b
   ]
  },
  {
   "cell_type": "code",
<<<<<<< HEAD
   "execution_count": 6,
   "metadata": {},
   "outputs": [],
   "source": [
    "df_sales = pd.read_csv('./data/clean_data/cleaned_sales.csv')\n",
    "df_prices = pd.read_csv('./data/clean_data/cleaned_prices.csv')"
   ]
  },
  {
   "cell_type": "markdown",
   "metadata": {},
   "source": [
    "### exploring both df"
=======
   "execution_count": 18,
   "metadata": {},
   "outputs": [],
   "source": [
    "df_sales = pd.read_csv('./EDA/data/cleaned_sales.csv')\n",
    "df_prices = pd.read_csv('./EDA/data/cleaned_prices.csv')"
>>>>>>> 1dc11c38640c42deb633f51c1abafe32a7c7e42b
   ]
  },
  {
   "cell_type": "code",
<<<<<<< HEAD
   "execution_count": 7,
   "metadata": {},
   "outputs": [
    {
     "data": {
      "text/html": [
       "<div>\n",
       "<style scoped>\n",
       "    .dataframe tbody tr th:only-of-type {\n",
       "        vertical-align: middle;\n",
       "    }\n",
       "\n",
       "    .dataframe tbody tr th {\n",
       "        vertical-align: top;\n",
       "    }\n",
       "\n",
       "    .dataframe thead th {\n",
       "        text-align: right;\n",
       "    }\n",
       "</style>\n",
       "<table border=\"1\" class=\"dataframe\">\n",
       "  <thead>\n",
       "    <tr style=\"text-align: right;\">\n",
       "      <th></th>\n",
       "      <th>Unnamed: 0</th>\n",
       "      <th>id</th>\n",
       "      <th>store</th>\n",
       "      <th>date</th>\n",
       "      <th>sales</th>\n",
       "    </tr>\n",
       "  </thead>\n",
       "  <tbody>\n",
       "    <tr>\n",
       "      <th>0</th>\n",
       "      <td>0</td>\n",
       "      <td>ACCESORIES_1_001_BOS_1</td>\n",
       "      <td>South_End</td>\n",
       "      <td>2011-01-31</td>\n",
       "      <td>0</td>\n",
       "    </tr>\n",
       "  </tbody>\n",
       "</table>\n",
       "</div>"
      ],
      "text/plain": [
       "   Unnamed: 0                      id      store        date  sales\n",
       "0           0  ACCESORIES_1_001_BOS_1  South_End  2011-01-31      0"
      ]
     },
     "execution_count": 7,
     "metadata": {},
     "output_type": "execute_result"
    }
   ],
   "source": [
    "df_sales.head(1)"
   ]
  },
  {
   "cell_type": "code",
   "execution_count": 8,
   "metadata": {},
   "outputs": [
    {
     "data": {
      "text/html": [
       "<div>\n",
       "<style scoped>\n",
       "    .dataframe tbody tr th:only-of-type {\n",
       "        vertical-align: middle;\n",
       "    }\n",
       "\n",
       "    .dataframe tbody tr th {\n",
       "        vertical-align: top;\n",
       "    }\n",
       "\n",
       "    .dataframe thead th {\n",
       "        text-align: right;\n",
       "    }\n",
       "</style>\n",
       "<table border=\"1\" class=\"dataframe\">\n",
       "  <thead>\n",
       "    <tr style=\"text-align: right;\">\n",
       "      <th></th>\n",
       "      <th>Unnamed: 0</th>\n",
       "      <th>item</th>\n",
       "      <th>store_code</th>\n",
       "      <th>date</th>\n",
       "      <th>sell_price</th>\n",
       "    </tr>\n",
       "  </thead>\n",
       "  <tbody>\n",
       "    <tr>\n",
       "      <th>0</th>\n",
       "      <td>0</td>\n",
       "      <td>ACCESORIES_1_001</td>\n",
       "      <td>BOS_1</td>\n",
       "      <td>2013-07-31</td>\n",
       "      <td>11.753875</td>\n",
       "    </tr>\n",
       "  </tbody>\n",
       "</table>\n",
       "</div>"
      ],
      "text/plain": [
       "   Unnamed: 0              item store_code        date  sell_price\n",
       "0           0  ACCESORIES_1_001      BOS_1  2013-07-31   11.753875"
      ]
     },
     "execution_count": 8,
     "metadata": {},
     "output_type": "execute_result"
    }
   ],
   "source": [
    "df_prices.head(1)"
   ]
  },
  {
   "cell_type": "code",
   "execution_count": 9,
=======
   "execution_count": 19,
>>>>>>> 1dc11c38640c42deb633f51c1abafe32a7c7e42b
   "metadata": {},
   "outputs": [],
   "source": [
    "del(df_sales[\"Unnamed: 0\"])\n",
    "del(df_prices[\"Unnamed: 0\"])"
   ]
  },
  {
   "cell_type": "markdown",
   "metadata": {},
   "source": [
    "### create new column \"id\" so to merge by it"
   ]
  },
  {
   "cell_type": "code",
<<<<<<< HEAD
   "execution_count": 10,
=======
   "execution_count": 20,
>>>>>>> 1dc11c38640c42deb633f51c1abafe32a7c7e42b
   "metadata": {},
   "outputs": [],
   "source": [
    "df_prices[\"id\"] = df_prices[\"item\"] + \"_\" + df_prices[\"store_code\"]"
   ]
  },
  {
   "cell_type": "markdown",
   "metadata": {},
   "source": [
    "### merge both df"
   ]
  },
  {
   "cell_type": "code",
<<<<<<< HEAD
   "execution_count": 11,
=======
   "execution_count": 21,
>>>>>>> 1dc11c38640c42deb633f51c1abafe32a7c7e42b
   "metadata": {},
   "outputs": [],
   "source": [
    "df_market = pd.merge(df_sales,df_prices, on=[\"id\", \"date\"], how=\"left\")"
   ]
  },
  {
   "cell_type": "code",
<<<<<<< HEAD
   "execution_count": 12,
=======
   "execution_count": 22,
>>>>>>> 1dc11c38640c42deb633f51c1abafe32a7c7e42b
   "metadata": {},
   "outputs": [
    {
     "data": {
      "text/html": [
       "<div>\n",
       "<style scoped>\n",
       "    .dataframe tbody tr th:only-of-type {\n",
       "        vertical-align: middle;\n",
       "    }\n",
       "\n",
       "    .dataframe tbody tr th {\n",
       "        vertical-align: top;\n",
       "    }\n",
       "\n",
       "    .dataframe thead th {\n",
       "        text-align: right;\n",
       "    }\n",
       "</style>\n",
       "<table border=\"1\" class=\"dataframe\">\n",
       "  <thead>\n",
       "    <tr style=\"text-align: right;\">\n",
       "      <th></th>\n",
       "      <th>id</th>\n",
       "      <th>store</th>\n",
       "      <th>date</th>\n",
       "      <th>sales</th>\n",
       "      <th>item</th>\n",
       "      <th>store_code</th>\n",
       "      <th>sell_price</th>\n",
       "    </tr>\n",
       "  </thead>\n",
       "  <tbody>\n",
       "    <tr>\n",
       "      <th>0</th>\n",
       "      <td>ACCESORIES_1_001_BOS_1</td>\n",
       "      <td>South_End</td>\n",
       "      <td>2011-01-31</td>\n",
       "      <td>0</td>\n",
       "      <td>NaN</td>\n",
       "      <td>NaN</td>\n",
       "      <td>NaN</td>\n",
       "    </tr>\n",
       "    <tr>\n",
       "      <th>1</th>\n",
       "      <td>ACCESORIES_1_001_BOS_1</td>\n",
       "      <td>South_End</td>\n",
       "      <td>2011-02-28</td>\n",
       "      <td>0</td>\n",
       "      <td>NaN</td>\n",
       "      <td>NaN</td>\n",
       "      <td>NaN</td>\n",
       "    </tr>\n",
       "    <tr>\n",
       "      <th>2</th>\n",
       "      <td>ACCESORIES_1_001_BOS_1</td>\n",
       "      <td>South_End</td>\n",
       "      <td>2011-03-31</td>\n",
       "      <td>0</td>\n",
       "      <td>NaN</td>\n",
       "      <td>NaN</td>\n",
       "      <td>NaN</td>\n",
       "    </tr>\n",
       "    <tr>\n",
       "      <th>3</th>\n",
       "      <td>ACCESORIES_1_001_BOS_1</td>\n",
       "      <td>South_End</td>\n",
       "      <td>2011-04-30</td>\n",
       "      <td>0</td>\n",
       "      <td>NaN</td>\n",
       "      <td>NaN</td>\n",
       "      <td>NaN</td>\n",
       "    </tr>\n",
       "    <tr>\n",
       "      <th>4</th>\n",
       "      <td>ACCESORIES_1_001_BOS_1</td>\n",
       "      <td>South_End</td>\n",
       "      <td>2011-05-31</td>\n",
       "      <td>0</td>\n",
       "      <td>NaN</td>\n",
       "      <td>NaN</td>\n",
       "      <td>NaN</td>\n",
       "    </tr>\n",
       "    <tr>\n",
       "      <th>...</th>\n",
       "      <td>...</td>\n",
       "      <td>...</td>\n",
       "      <td>...</td>\n",
       "      <td>...</td>\n",
       "      <td>...</td>\n",
       "      <td>...</td>\n",
       "      <td>...</td>\n",
       "    </tr>\n",
       "    <tr>\n",
       "      <th>1951355</th>\n",
       "      <td>SUPERMARKET_3_827_PHI_3</td>\n",
       "      <td>Queen_Village</td>\n",
       "      <td>2015-12-31</td>\n",
       "      <td>41</td>\n",
       "      <td>SUPERMARKET_3_827</td>\n",
       "      <td>PHI_3</td>\n",
       "      <td>1.2</td>\n",
       "    </tr>\n",
       "    <tr>\n",
       "      <th>1951356</th>\n",
       "      <td>SUPERMARKET_3_827_PHI_3</td>\n",
       "      <td>Queen_Village</td>\n",
       "      <td>2016-01-31</td>\n",
       "      <td>49</td>\n",
       "      <td>SUPERMARKET_3_827</td>\n",
       "      <td>PHI_3</td>\n",
       "      <td>1.2</td>\n",
       "    </tr>\n",
       "    <tr>\n",
       "      <th>1951357</th>\n",
       "      <td>SUPERMARKET_3_827_PHI_3</td>\n",
       "      <td>Queen_Village</td>\n",
       "      <td>2016-02-29</td>\n",
       "      <td>46</td>\n",
       "      <td>SUPERMARKET_3_827</td>\n",
       "      <td>PHI_3</td>\n",
       "      <td>1.2</td>\n",
       "    </tr>\n",
       "    <tr>\n",
       "      <th>1951358</th>\n",
       "      <td>SUPERMARKET_3_827_PHI_3</td>\n",
       "      <td>Queen_Village</td>\n",
       "      <td>2016-03-31</td>\n",
       "      <td>68</td>\n",
       "      <td>SUPERMARKET_3_827</td>\n",
       "      <td>PHI_3</td>\n",
       "      <td>1.2</td>\n",
       "    </tr>\n",
       "    <tr>\n",
       "      <th>1951359</th>\n",
       "      <td>SUPERMARKET_3_827_PHI_3</td>\n",
       "      <td>Queen_Village</td>\n",
       "      <td>2016-04-30</td>\n",
       "      <td>15</td>\n",
       "      <td>SUPERMARKET_3_827</td>\n",
       "      <td>PHI_3</td>\n",
       "      <td>1.2</td>\n",
       "    </tr>\n",
       "  </tbody>\n",
       "</table>\n",
       "<p>1951360 rows × 7 columns</p>\n",
       "</div>"
      ],
      "text/plain": [
       "                              id          store        date  sales  \\\n",
       "0         ACCESORIES_1_001_BOS_1      South_End  2011-01-31      0   \n",
       "1         ACCESORIES_1_001_BOS_1      South_End  2011-02-28      0   \n",
       "2         ACCESORIES_1_001_BOS_1      South_End  2011-03-31      0   \n",
       "3         ACCESORIES_1_001_BOS_1      South_End  2011-04-30      0   \n",
       "4         ACCESORIES_1_001_BOS_1      South_End  2011-05-31      0   \n",
       "...                          ...            ...         ...    ...   \n",
       "1951355  SUPERMARKET_3_827_PHI_3  Queen_Village  2015-12-31     41   \n",
       "1951356  SUPERMARKET_3_827_PHI_3  Queen_Village  2016-01-31     49   \n",
       "1951357  SUPERMARKET_3_827_PHI_3  Queen_Village  2016-02-29     46   \n",
       "1951358  SUPERMARKET_3_827_PHI_3  Queen_Village  2016-03-31     68   \n",
       "1951359  SUPERMARKET_3_827_PHI_3  Queen_Village  2016-04-30     15   \n",
       "\n",
       "                      item store_code  sell_price  \n",
       "0                      NaN        NaN         NaN  \n",
       "1                      NaN        NaN         NaN  \n",
       "2                      NaN        NaN         NaN  \n",
       "3                      NaN        NaN         NaN  \n",
       "4                      NaN        NaN         NaN  \n",
       "...                    ...        ...         ...  \n",
       "1951355  SUPERMARKET_3_827      PHI_3         1.2  \n",
       "1951356  SUPERMARKET_3_827      PHI_3         1.2  \n",
       "1951357  SUPERMARKET_3_827      PHI_3         1.2  \n",
       "1951358  SUPERMARKET_3_827      PHI_3         1.2  \n",
       "1951359  SUPERMARKET_3_827      PHI_3         1.2  \n",
       "\n",
       "[1951360 rows x 7 columns]"
      ]
     },
<<<<<<< HEAD
     "execution_count": 12,
=======
     "execution_count": 22,
>>>>>>> 1dc11c38640c42deb633f51c1abafe32a7c7e42b
     "metadata": {},
     "output_type": "execute_result"
    }
   ],
   "source": [
    "df_market"
   ]
  },
  {
   "cell_type": "markdown",
   "metadata": {},
   "source": [
    "### drop rows with sell_price = null as we consider, items are without price because hadn´t arrive to store yet"
   ]
  },
  {
   "cell_type": "code",
<<<<<<< HEAD
   "execution_count": 13,
=======
   "execution_count": 23,
>>>>>>> 1dc11c38640c42deb633f51c1abafe32a7c7e42b
   "metadata": {},
   "outputs": [],
   "source": [
    "df_market.dropna(subset=[\"sell_price\"], inplace=True)"
   ]
  },
  {
   "cell_type": "markdown",
   "metadata": {},
   "source": [
    "### make new column \"income\""
   ]
  },
  {
   "cell_type": "code",
<<<<<<< HEAD
   "execution_count": 14,
=======
   "execution_count": 24,
>>>>>>> 1dc11c38640c42deb633f51c1abafe32a7c7e42b
   "metadata": {},
   "outputs": [],
   "source": [
    "df_market[\"income\"] =  df_market[\"sales\"] * df_market[\"sell_price\"]\n"
   ]
  },
  {
   "cell_type": "code",
<<<<<<< HEAD
   "execution_count": 15,
=======
   "execution_count": 25,
>>>>>>> 1dc11c38640c42deb633f51c1abafe32a7c7e42b
   "metadata": {},
   "outputs": [
    {
     "data": {
      "text/html": [
       "<div>\n",
       "<style scoped>\n",
       "    .dataframe tbody tr th:only-of-type {\n",
       "        vertical-align: middle;\n",
       "    }\n",
       "\n",
       "    .dataframe tbody tr th {\n",
       "        vertical-align: top;\n",
       "    }\n",
       "\n",
       "    .dataframe thead th {\n",
       "        text-align: right;\n",
       "    }\n",
       "</style>\n",
       "<table border=\"1\" class=\"dataframe\">\n",
       "  <thead>\n",
       "    <tr style=\"text-align: right;\">\n",
       "      <th></th>\n",
       "      <th>id</th>\n",
       "      <th>store</th>\n",
       "      <th>date</th>\n",
       "      <th>sales</th>\n",
       "      <th>item</th>\n",
       "      <th>store_code</th>\n",
       "      <th>sell_price</th>\n",
       "      <th>income</th>\n",
       "    </tr>\n",
       "  </thead>\n",
       "  <tbody>\n",
       "    <tr>\n",
       "      <th>30</th>\n",
       "      <td>ACCESORIES_1_001_BOS_1</td>\n",
       "      <td>South_End</td>\n",
       "      <td>2013-07-31</td>\n",
       "      <td>10</td>\n",
       "      <td>ACCESORIES_1_001</td>\n",
       "      <td>BOS_1</td>\n",
       "      <td>11.753875</td>\n",
       "      <td>117.53875</td>\n",
       "    </tr>\n",
       "    <tr>\n",
       "      <th>31</th>\n",
       "      <td>ACCESORIES_1_001_BOS_1</td>\n",
       "      <td>South_End</td>\n",
       "      <td>2013-08-31</td>\n",
       "      <td>3</td>\n",
       "      <td>ACCESORIES_1_001</td>\n",
       "      <td>BOS_1</td>\n",
       "      <td>10.985800</td>\n",
       "      <td>32.95740</td>\n",
       "    </tr>\n",
       "    <tr>\n",
       "      <th>32</th>\n",
       "      <td>ACCESORIES_1_001_BOS_1</td>\n",
       "      <td>South_End</td>\n",
       "      <td>2013-09-30</td>\n",
       "      <td>4</td>\n",
       "      <td>ACCESORIES_1_001</td>\n",
       "      <td>BOS_1</td>\n",
       "      <td>10.985800</td>\n",
       "      <td>43.94320</td>\n",
       "    </tr>\n",
       "    <tr>\n",
       "      <th>33</th>\n",
       "      <td>ACCESORIES_1_001_BOS_1</td>\n",
       "      <td>South_End</td>\n",
       "      <td>2013-10-31</td>\n",
       "      <td>4</td>\n",
       "      <td>ACCESORIES_1_001</td>\n",
       "      <td>BOS_1</td>\n",
       "      <td>10.985800</td>\n",
       "      <td>43.94320</td>\n",
       "    </tr>\n",
       "    <tr>\n",
       "      <th>34</th>\n",
       "      <td>ACCESORIES_1_001_BOS_1</td>\n",
       "      <td>South_End</td>\n",
       "      <td>2013-11-30</td>\n",
       "      <td>10</td>\n",
       "      <td>ACCESORIES_1_001</td>\n",
       "      <td>BOS_1</td>\n",
       "      <td>10.985800</td>\n",
       "      <td>109.85800</td>\n",
       "    </tr>\n",
       "    <tr>\n",
       "      <th>...</th>\n",
       "      <td>...</td>\n",
       "      <td>...</td>\n",
       "      <td>...</td>\n",
       "      <td>...</td>\n",
       "      <td>...</td>\n",
       "      <td>...</td>\n",
       "      <td>...</td>\n",
       "      <td>...</td>\n",
       "    </tr>\n",
       "    <tr>\n",
       "      <th>1951355</th>\n",
       "      <td>SUPERMARKET_3_827_PHI_3</td>\n",
       "      <td>Queen_Village</td>\n",
       "      <td>2015-12-31</td>\n",
       "      <td>41</td>\n",
       "      <td>SUPERMARKET_3_827</td>\n",
       "      <td>PHI_3</td>\n",
       "      <td>1.200000</td>\n",
       "      <td>49.20000</td>\n",
       "    </tr>\n",
       "    <tr>\n",
       "      <th>1951356</th>\n",
       "      <td>SUPERMARKET_3_827_PHI_3</td>\n",
       "      <td>Queen_Village</td>\n",
       "      <td>2016-01-31</td>\n",
       "      <td>49</td>\n",
       "      <td>SUPERMARKET_3_827</td>\n",
       "      <td>PHI_3</td>\n",
       "      <td>1.200000</td>\n",
       "      <td>58.80000</td>\n",
       "    </tr>\n",
       "    <tr>\n",
       "      <th>1951357</th>\n",
       "      <td>SUPERMARKET_3_827_PHI_3</td>\n",
       "      <td>Queen_Village</td>\n",
       "      <td>2016-02-29</td>\n",
       "      <td>46</td>\n",
       "      <td>SUPERMARKET_3_827</td>\n",
       "      <td>PHI_3</td>\n",
       "      <td>1.200000</td>\n",
       "      <td>55.20000</td>\n",
       "    </tr>\n",
       "    <tr>\n",
       "      <th>1951358</th>\n",
       "      <td>SUPERMARKET_3_827_PHI_3</td>\n",
       "      <td>Queen_Village</td>\n",
       "      <td>2016-03-31</td>\n",
       "      <td>68</td>\n",
       "      <td>SUPERMARKET_3_827</td>\n",
       "      <td>PHI_3</td>\n",
       "      <td>1.200000</td>\n",
       "      <td>81.60000</td>\n",
       "    </tr>\n",
       "    <tr>\n",
       "      <th>1951359</th>\n",
       "      <td>SUPERMARKET_3_827_PHI_3</td>\n",
       "      <td>Queen_Village</td>\n",
       "      <td>2016-04-30</td>\n",
       "      <td>15</td>\n",
       "      <td>SUPERMARKET_3_827</td>\n",
       "      <td>PHI_3</td>\n",
       "      <td>1.200000</td>\n",
       "      <td>18.00000</td>\n",
       "    </tr>\n",
       "  </tbody>\n",
       "</table>\n",
       "<p>1536776 rows × 8 columns</p>\n",
       "</div>"
      ],
      "text/plain": [
       "                              id          store        date  sales  \\\n",
       "30        ACCESORIES_1_001_BOS_1      South_End  2013-07-31     10   \n",
       "31        ACCESORIES_1_001_BOS_1      South_End  2013-08-31      3   \n",
       "32        ACCESORIES_1_001_BOS_1      South_End  2013-09-30      4   \n",
       "33        ACCESORIES_1_001_BOS_1      South_End  2013-10-31      4   \n",
       "34        ACCESORIES_1_001_BOS_1      South_End  2013-11-30     10   \n",
       "...                          ...            ...         ...    ...   \n",
       "1951355  SUPERMARKET_3_827_PHI_3  Queen_Village  2015-12-31     41   \n",
       "1951356  SUPERMARKET_3_827_PHI_3  Queen_Village  2016-01-31     49   \n",
       "1951357  SUPERMARKET_3_827_PHI_3  Queen_Village  2016-02-29     46   \n",
       "1951358  SUPERMARKET_3_827_PHI_3  Queen_Village  2016-03-31     68   \n",
       "1951359  SUPERMARKET_3_827_PHI_3  Queen_Village  2016-04-30     15   \n",
       "\n",
       "                      item store_code  sell_price     income  \n",
       "30        ACCESORIES_1_001      BOS_1   11.753875  117.53875  \n",
       "31        ACCESORIES_1_001      BOS_1   10.985800   32.95740  \n",
       "32        ACCESORIES_1_001      BOS_1   10.985800   43.94320  \n",
       "33        ACCESORIES_1_001      BOS_1   10.985800   43.94320  \n",
       "34        ACCESORIES_1_001      BOS_1   10.985800  109.85800  \n",
       "...                    ...        ...         ...        ...  \n",
       "1951355  SUPERMARKET_3_827      PHI_3    1.200000   49.20000  \n",
       "1951356  SUPERMARKET_3_827      PHI_3    1.200000   58.80000  \n",
       "1951357  SUPERMARKET_3_827      PHI_3    1.200000   55.20000  \n",
       "1951358  SUPERMARKET_3_827      PHI_3    1.200000   81.60000  \n",
       "1951359  SUPERMARKET_3_827      PHI_3    1.200000   18.00000  \n",
       "\n",
       "[1536776 rows x 8 columns]"
      ]
     },
<<<<<<< HEAD
     "execution_count": 15,
=======
     "execution_count": 25,
>>>>>>> 1dc11c38640c42deb633f51c1abafe32a7c7e42b
     "metadata": {},
     "output_type": "execute_result"
    }
   ],
   "source": [
    "df_market"
   ]
  },
  {
   "cell_type": "markdown",
   "metadata": {},
   "source": [
    "### sort columns so to make df, easier to read"
   ]
  },
  {
   "cell_type": "code",
<<<<<<< HEAD
   "execution_count": 16,
=======
   "execution_count": 26,
>>>>>>> 1dc11c38640c42deb633f51c1abafe32a7c7e42b
   "metadata": {},
   "outputs": [],
   "source": [
    "columns = [\"id\",\"item\", \"store_code\",\"store\", \"date\",\"sales\",\"sell_price\", \"income\"]"
   ]
  },
  {
   "cell_type": "code",
<<<<<<< HEAD
   "execution_count": 17,
=======
   "execution_count": 27,
>>>>>>> 1dc11c38640c42deb633f51c1abafe32a7c7e42b
   "metadata": {},
   "outputs": [],
   "source": [
    "df_market = df_market[columns]"
   ]
  },
  {
   "cell_type": "code",
<<<<<<< HEAD
   "execution_count": 18,
=======
   "execution_count": 28,
>>>>>>> 1dc11c38640c42deb633f51c1abafe32a7c7e42b
   "metadata": {},
   "outputs": [
    {
     "data": {
      "text/html": [
       "<div>\n",
       "<style scoped>\n",
       "    .dataframe tbody tr th:only-of-type {\n",
       "        vertical-align: middle;\n",
       "    }\n",
       "\n",
       "    .dataframe tbody tr th {\n",
       "        vertical-align: top;\n",
       "    }\n",
       "\n",
       "    .dataframe thead th {\n",
       "        text-align: right;\n",
       "    }\n",
       "</style>\n",
       "<table border=\"1\" class=\"dataframe\">\n",
       "  <thead>\n",
       "    <tr style=\"text-align: right;\">\n",
       "      <th></th>\n",
       "      <th>id</th>\n",
       "      <th>item</th>\n",
       "      <th>store_code</th>\n",
       "      <th>store</th>\n",
       "      <th>date</th>\n",
       "      <th>sales</th>\n",
       "      <th>sell_price</th>\n",
       "      <th>income</th>\n",
       "    </tr>\n",
       "  </thead>\n",
       "  <tbody>\n",
       "    <tr>\n",
       "      <th>30</th>\n",
       "      <td>ACCESORIES_1_001_BOS_1</td>\n",
       "      <td>ACCESORIES_1_001</td>\n",
       "      <td>BOS_1</td>\n",
       "      <td>South_End</td>\n",
       "      <td>2013-07-31</td>\n",
       "      <td>10</td>\n",
       "      <td>11.753875</td>\n",
       "      <td>117.53875</td>\n",
       "    </tr>\n",
       "    <tr>\n",
       "      <th>31</th>\n",
       "      <td>ACCESORIES_1_001_BOS_1</td>\n",
       "      <td>ACCESORIES_1_001</td>\n",
       "      <td>BOS_1</td>\n",
       "      <td>South_End</td>\n",
       "      <td>2013-08-31</td>\n",
       "      <td>3</td>\n",
       "      <td>10.985800</td>\n",
       "      <td>32.95740</td>\n",
       "    </tr>\n",
       "    <tr>\n",
       "      <th>32</th>\n",
       "      <td>ACCESORIES_1_001_BOS_1</td>\n",
       "      <td>ACCESORIES_1_001</td>\n",
       "      <td>BOS_1</td>\n",
       "      <td>South_End</td>\n",
       "      <td>2013-09-30</td>\n",
       "      <td>4</td>\n",
       "      <td>10.985800</td>\n",
       "      <td>43.94320</td>\n",
       "    </tr>\n",
       "    <tr>\n",
       "      <th>33</th>\n",
       "      <td>ACCESORIES_1_001_BOS_1</td>\n",
       "      <td>ACCESORIES_1_001</td>\n",
       "      <td>BOS_1</td>\n",
       "      <td>South_End</td>\n",
       "      <td>2013-10-31</td>\n",
       "      <td>4</td>\n",
       "      <td>10.985800</td>\n",
       "      <td>43.94320</td>\n",
       "    </tr>\n",
       "    <tr>\n",
       "      <th>34</th>\n",
       "      <td>ACCESORIES_1_001_BOS_1</td>\n",
       "      <td>ACCESORIES_1_001</td>\n",
       "      <td>BOS_1</td>\n",
       "      <td>South_End</td>\n",
       "      <td>2013-11-30</td>\n",
       "      <td>10</td>\n",
       "      <td>10.985800</td>\n",
       "      <td>109.85800</td>\n",
       "    </tr>\n",
       "    <tr>\n",
       "      <th>...</th>\n",
       "      <td>...</td>\n",
       "      <td>...</td>\n",
       "      <td>...</td>\n",
       "      <td>...</td>\n",
       "      <td>...</td>\n",
       "      <td>...</td>\n",
       "      <td>...</td>\n",
       "      <td>...</td>\n",
       "    </tr>\n",
       "    <tr>\n",
       "      <th>1951355</th>\n",
       "      <td>SUPERMARKET_3_827_PHI_3</td>\n",
       "      <td>SUPERMARKET_3_827</td>\n",
       "      <td>PHI_3</td>\n",
       "      <td>Queen_Village</td>\n",
       "      <td>2015-12-31</td>\n",
       "      <td>41</td>\n",
       "      <td>1.200000</td>\n",
       "      <td>49.20000</td>\n",
       "    </tr>\n",
       "    <tr>\n",
       "      <th>1951356</th>\n",
       "      <td>SUPERMARKET_3_827_PHI_3</td>\n",
       "      <td>SUPERMARKET_3_827</td>\n",
       "      <td>PHI_3</td>\n",
       "      <td>Queen_Village</td>\n",
       "      <td>2016-01-31</td>\n",
       "      <td>49</td>\n",
       "      <td>1.200000</td>\n",
       "      <td>58.80000</td>\n",
       "    </tr>\n",
       "    <tr>\n",
       "      <th>1951357</th>\n",
       "      <td>SUPERMARKET_3_827_PHI_3</td>\n",
       "      <td>SUPERMARKET_3_827</td>\n",
       "      <td>PHI_3</td>\n",
       "      <td>Queen_Village</td>\n",
       "      <td>2016-02-29</td>\n",
       "      <td>46</td>\n",
       "      <td>1.200000</td>\n",
       "      <td>55.20000</td>\n",
       "    </tr>\n",
       "    <tr>\n",
       "      <th>1951358</th>\n",
       "      <td>SUPERMARKET_3_827_PHI_3</td>\n",
       "      <td>SUPERMARKET_3_827</td>\n",
       "      <td>PHI_3</td>\n",
       "      <td>Queen_Village</td>\n",
       "      <td>2016-03-31</td>\n",
       "      <td>68</td>\n",
       "      <td>1.200000</td>\n",
       "      <td>81.60000</td>\n",
       "    </tr>\n",
       "    <tr>\n",
       "      <th>1951359</th>\n",
       "      <td>SUPERMARKET_3_827_PHI_3</td>\n",
       "      <td>SUPERMARKET_3_827</td>\n",
       "      <td>PHI_3</td>\n",
       "      <td>Queen_Village</td>\n",
       "      <td>2016-04-30</td>\n",
       "      <td>15</td>\n",
       "      <td>1.200000</td>\n",
       "      <td>18.00000</td>\n",
       "    </tr>\n",
       "  </tbody>\n",
       "</table>\n",
       "<p>1536776 rows × 8 columns</p>\n",
       "</div>"
      ],
      "text/plain": [
       "                              id               item store_code          store  \\\n",
       "30        ACCESORIES_1_001_BOS_1   ACCESORIES_1_001      BOS_1      South_End   \n",
       "31        ACCESORIES_1_001_BOS_1   ACCESORIES_1_001      BOS_1      South_End   \n",
       "32        ACCESORIES_1_001_BOS_1   ACCESORIES_1_001      BOS_1      South_End   \n",
       "33        ACCESORIES_1_001_BOS_1   ACCESORIES_1_001      BOS_1      South_End   \n",
       "34        ACCESORIES_1_001_BOS_1   ACCESORIES_1_001      BOS_1      South_End   \n",
       "...                          ...                ...        ...            ...   \n",
       "1951355  SUPERMARKET_3_827_PHI_3  SUPERMARKET_3_827      PHI_3  Queen_Village   \n",
       "1951356  SUPERMARKET_3_827_PHI_3  SUPERMARKET_3_827      PHI_3  Queen_Village   \n",
       "1951357  SUPERMARKET_3_827_PHI_3  SUPERMARKET_3_827      PHI_3  Queen_Village   \n",
       "1951358  SUPERMARKET_3_827_PHI_3  SUPERMARKET_3_827      PHI_3  Queen_Village   \n",
       "1951359  SUPERMARKET_3_827_PHI_3  SUPERMARKET_3_827      PHI_3  Queen_Village   \n",
       "\n",
       "               date  sales  sell_price     income  \n",
       "30       2013-07-31     10   11.753875  117.53875  \n",
       "31       2013-08-31      3   10.985800   32.95740  \n",
       "32       2013-09-30      4   10.985800   43.94320  \n",
       "33       2013-10-31      4   10.985800   43.94320  \n",
       "34       2013-11-30     10   10.985800  109.85800  \n",
       "...             ...    ...         ...        ...  \n",
       "1951355  2015-12-31     41    1.200000   49.20000  \n",
       "1951356  2016-01-31     49    1.200000   58.80000  \n",
       "1951357  2016-02-29     46    1.200000   55.20000  \n",
       "1951358  2016-03-31     68    1.200000   81.60000  \n",
       "1951359  2016-04-30     15    1.200000   18.00000  \n",
       "\n",
       "[1536776 rows x 8 columns]"
      ]
     },
<<<<<<< HEAD
     "execution_count": 18,
=======
     "execution_count": 28,
>>>>>>> 1dc11c38640c42deb633f51c1abafe32a7c7e42b
     "metadata": {},
     "output_type": "execute_result"
    }
   ],
   "source": [
    "df_market"
   ]
  },
  {
   "cell_type": "code",
<<<<<<< HEAD
   "execution_count": 13,
=======
   "execution_count": 29,
>>>>>>> 1dc11c38640c42deb633f51c1abafe32a7c7e42b
   "metadata": {},
   "outputs": [],
   "source": [
    "#file_name = \"df_market_by_months.csv\"\n",
    "#df_market.to_csv(file_name)"
   ]
<<<<<<< HEAD
  },
  {
   "cell_type": "markdown",
   "metadata": {},
   "source": [
    "### Group in months for work visualization"
   ]
=======
>>>>>>> 1dc11c38640c42deb633f51c1abafe32a7c7e42b
  }
 ],
 "metadata": {
  "kernelspec": {
   "display_name": "Python 3",
   "language": "python",
   "name": "python3"
  },
  "language_info": {
   "codemirror_mode": {
    "name": "ipython",
    "version": 3
   },
   "file_extension": ".py",
   "mimetype": "text/x-python",
   "name": "python",
   "nbconvert_exporter": "python",
   "pygments_lexer": "ipython3",
   "version": "3.11.9"
  }
 },
 "nbformat": 4,
 "nbformat_minor": 2
}
