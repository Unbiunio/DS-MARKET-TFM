{
 "cells": [
  {
   "cell_type": "code",
   "execution_count": 1,
   "metadata": {},
   "outputs": [],
   "source": [
    "import pandas as pd\n",
    "import numpy as np\n",
    "import datetime\n",
    "from datetime import datetime, timedelta"
   ]
  },
  {
   "cell_type": "markdown",
   "metadata": {},
   "source": [
    "## Load __df_market__ to make dataset to prediction"
   ]
  },
  {
   "cell_type": "code",
   "execution_count": 2,
   "metadata": {},
   "outputs": [],
   "source": [
    "df_market = pd.read_csv('../data/df_market.csv')"
   ]
  },
  {
   "cell_type": "code",
   "execution_count": 3,
   "metadata": {},
   "outputs": [
    {
     "name": "stdout",
     "output_type": "stream",
     "text": [
      "(45986376, 7)\n"
     ]
    },
    {
     "data": {
      "text/html": [
       "<div>\n",
       "<style scoped>\n",
       "    .dataframe tbody tr th:only-of-type {\n",
       "        vertical-align: middle;\n",
       "    }\n",
       "\n",
       "    .dataframe tbody tr th {\n",
       "        vertical-align: top;\n",
       "    }\n",
       "\n",
       "    .dataframe thead th {\n",
       "        text-align: right;\n",
       "    }\n",
       "</style>\n",
       "<table border=\"1\" class=\"dataframe\">\n",
       "  <thead>\n",
       "    <tr style=\"text-align: right;\">\n",
       "      <th></th>\n",
       "      <th>date</th>\n",
       "      <th>id</th>\n",
       "      <th>store</th>\n",
       "      <th>sales</th>\n",
       "      <th>sell_price</th>\n",
       "      <th>event</th>\n",
       "      <th>income</th>\n",
       "    </tr>\n",
       "  </thead>\n",
       "  <tbody>\n",
       "    <tr>\n",
       "      <th>0</th>\n",
       "      <td>2011-01-29</td>\n",
       "      <td>ACCESORIES_1_008_NYC_1</td>\n",
       "      <td>Greenwich_Village</td>\n",
       "      <td>12</td>\n",
       "      <td>0.6118</td>\n",
       "      <td>no event</td>\n",
       "      <td>7.3416</td>\n",
       "    </tr>\n",
       "  </tbody>\n",
       "</table>\n",
       "</div>"
      ],
      "text/plain": [
       "         date                      id              store  sales  sell_price  \\\n",
       "0  2011-01-29  ACCESORIES_1_008_NYC_1  Greenwich_Village     12      0.6118   \n",
       "\n",
       "      event  income  \n",
       "0  no event  7.3416  "
      ]
     },
     "execution_count": 3,
     "metadata": {},
     "output_type": "execute_result"
    }
   ],
   "source": [
    "print(df_market.shape)\n",
    "df_market.head(1)"
   ]
  },
  {
   "cell_type": "code",
   "execution_count": 4,
   "metadata": {},
   "outputs": [],
   "source": [
    "df_market.set_index('date', inplace=True)"
   ]
  },
  {
   "cell_type": "markdown",
   "metadata": {},
   "source": [
    "### Need __item__ , I obtain of __id__"
   ]
  },
  {
   "cell_type": "code",
   "execution_count": 5,
   "metadata": {},
   "outputs": [
    {
     "data": {
      "text/html": [
       "<div>\n",
       "<style scoped>\n",
       "    .dataframe tbody tr th:only-of-type {\n",
       "        vertical-align: middle;\n",
       "    }\n",
       "\n",
       "    .dataframe tbody tr th {\n",
       "        vertical-align: top;\n",
       "    }\n",
       "\n",
       "    .dataframe thead th {\n",
       "        text-align: right;\n",
       "    }\n",
       "</style>\n",
       "<table border=\"1\" class=\"dataframe\">\n",
       "  <thead>\n",
       "    <tr style=\"text-align: right;\">\n",
       "      <th></th>\n",
       "      <th>id</th>\n",
       "      <th>store</th>\n",
       "      <th>sales</th>\n",
       "      <th>sell_price</th>\n",
       "      <th>event</th>\n",
       "      <th>income</th>\n",
       "      <th>item</th>\n",
       "    </tr>\n",
       "    <tr>\n",
       "      <th>date</th>\n",
       "      <th></th>\n",
       "      <th></th>\n",
       "      <th></th>\n",
       "      <th></th>\n",
       "      <th></th>\n",
       "      <th></th>\n",
       "      <th></th>\n",
       "    </tr>\n",
       "  </thead>\n",
       "  <tbody>\n",
       "    <tr>\n",
       "      <th>2011-01-29</th>\n",
       "      <td>ACCESORIES_1_008_NYC_1</td>\n",
       "      <td>Greenwich_Village</td>\n",
       "      <td>12</td>\n",
       "      <td>0.6118</td>\n",
       "      <td>no event</td>\n",
       "      <td>7.3416</td>\n",
       "      <td>ACCESORIES_1_008</td>\n",
       "    </tr>\n",
       "  </tbody>\n",
       "</table>\n",
       "</div>"
      ],
      "text/plain": [
       "                                id              store  sales  sell_price  \\\n",
       "date                                                                       \n",
       "2011-01-29  ACCESORIES_1_008_NYC_1  Greenwich_Village     12      0.6118   \n",
       "\n",
       "               event  income              item  \n",
       "date                                            \n",
       "2011-01-29  no event  7.3416  ACCESORIES_1_008  "
      ]
     },
     "execution_count": 5,
     "metadata": {},
     "output_type": "execute_result"
    }
   ],
   "source": [
    "df_market['item']=df_market['id'].apply(lambda x: x[:-6])\n",
    "df_market.head(1)"
   ]
  },
  {
   "cell_type": "markdown",
   "metadata": {},
   "source": [
    "### After analize, I work with top 100 in **income**"
   ]
  },
  {
   "cell_type": "code",
   "execution_count": 6,
   "metadata": {},
   "outputs": [],
   "source": [
    "top100= df_market.groupby( [\"item\"])[\"income\"].sum().sort_values(ascending=False).head(100).reset_index()"
   ]
  },
  {
   "cell_type": "code",
   "execution_count": 7,
   "metadata": {},
   "outputs": [],
   "source": [
    "list_top100 = list(top100['item'].unique())"
   ]
  },
  {
   "cell_type": "markdown",
   "metadata": {},
   "source": [
    "### Filter my top_100 list for work with them"
   ]
  },
  {
   "cell_type": "code",
   "execution_count": 8,
   "metadata": {},
   "outputs": [],
   "source": [
    "df_top100 = df_market[df_market['item'].isin(list_top100)]"
   ]
  },
  {
   "cell_type": "code",
   "execution_count": 9,
   "metadata": {},
   "outputs": [
    {
     "data": {
      "text/html": [
       "<div>\n",
       "<style scoped>\n",
       "    .dataframe tbody tr th:only-of-type {\n",
       "        vertical-align: middle;\n",
       "    }\n",
       "\n",
       "    .dataframe tbody tr th {\n",
       "        vertical-align: top;\n",
       "    }\n",
       "\n",
       "    .dataframe thead th {\n",
       "        text-align: right;\n",
       "    }\n",
       "</style>\n",
       "<table border=\"1\" class=\"dataframe\">\n",
       "  <thead>\n",
       "    <tr style=\"text-align: right;\">\n",
       "      <th></th>\n",
       "      <th>id</th>\n",
       "      <th>store</th>\n",
       "      <th>sales</th>\n",
       "      <th>sell_price</th>\n",
       "      <th>event</th>\n",
       "      <th>income</th>\n",
       "      <th>item</th>\n",
       "    </tr>\n",
       "    <tr>\n",
       "      <th>date</th>\n",
       "      <th></th>\n",
       "      <th></th>\n",
       "      <th></th>\n",
       "      <th></th>\n",
       "      <th></th>\n",
       "      <th></th>\n",
       "      <th></th>\n",
       "    </tr>\n",
       "  </thead>\n",
       "  <tbody>\n",
       "    <tr>\n",
       "      <th>2011-01-29</th>\n",
       "      <td>ACCESORIES_1_108_NYC_1</td>\n",
       "      <td>Greenwich_Village</td>\n",
       "      <td>4</td>\n",
       "      <td>16.1196</td>\n",
       "      <td>no event</td>\n",
       "      <td>64.4784</td>\n",
       "      <td>ACCESORIES_1_108</td>\n",
       "    </tr>\n",
       "    <tr>\n",
       "      <th>2011-01-29</th>\n",
       "      <td>HOME_&amp;_GARDEN_1_027_NYC_1</td>\n",
       "      <td>Greenwich_Village</td>\n",
       "      <td>4</td>\n",
       "      <td>6.5500</td>\n",
       "      <td>no event</td>\n",
       "      <td>26.2000</td>\n",
       "      <td>HOME_&amp;_GARDEN_1_027</td>\n",
       "    </tr>\n",
       "    <tr>\n",
       "      <th>2011-01-29</th>\n",
       "      <td>HOME_&amp;_GARDEN_1_053_NYC_1</td>\n",
       "      <td>Greenwich_Village</td>\n",
       "      <td>0</td>\n",
       "      <td>18.7125</td>\n",
       "      <td>no event</td>\n",
       "      <td>0.0000</td>\n",
       "      <td>HOME_&amp;_GARDEN_1_053</td>\n",
       "    </tr>\n",
       "    <tr>\n",
       "      <th>2011-01-29</th>\n",
       "      <td>HOME_&amp;_GARDEN_1_140_NYC_1</td>\n",
       "      <td>Greenwich_Village</td>\n",
       "      <td>4</td>\n",
       "      <td>18.7500</td>\n",
       "      <td>no event</td>\n",
       "      <td>75.0000</td>\n",
       "      <td>HOME_&amp;_GARDEN_1_140</td>\n",
       "    </tr>\n",
       "    <tr>\n",
       "      <th>2011-01-29</th>\n",
       "      <td>HOME_&amp;_GARDEN_1_177_NYC_1</td>\n",
       "      <td>Greenwich_Village</td>\n",
       "      <td>0</td>\n",
       "      <td>9.9625</td>\n",
       "      <td>no event</td>\n",
       "      <td>0.0000</td>\n",
       "      <td>HOME_&amp;_GARDEN_1_177</td>\n",
       "    </tr>\n",
       "  </tbody>\n",
       "</table>\n",
       "</div>"
      ],
      "text/plain": [
       "                                   id              store  sales  sell_price  \\\n",
       "date                                                                          \n",
       "2011-01-29     ACCESORIES_1_108_NYC_1  Greenwich_Village      4     16.1196   \n",
       "2011-01-29  HOME_&_GARDEN_1_027_NYC_1  Greenwich_Village      4      6.5500   \n",
       "2011-01-29  HOME_&_GARDEN_1_053_NYC_1  Greenwich_Village      0     18.7125   \n",
       "2011-01-29  HOME_&_GARDEN_1_140_NYC_1  Greenwich_Village      4     18.7500   \n",
       "2011-01-29  HOME_&_GARDEN_1_177_NYC_1  Greenwich_Village      0      9.9625   \n",
       "\n",
       "               event   income                 item  \n",
       "date                                                \n",
       "2011-01-29  no event  64.4784     ACCESORIES_1_108  \n",
       "2011-01-29  no event  26.2000  HOME_&_GARDEN_1_027  \n",
       "2011-01-29  no event   0.0000  HOME_&_GARDEN_1_053  \n",
       "2011-01-29  no event  75.0000  HOME_&_GARDEN_1_140  \n",
       "2011-01-29  no event   0.0000  HOME_&_GARDEN_1_177  "
      ]
     },
     "execution_count": 9,
     "metadata": {},
     "output_type": "execute_result"
    }
   ],
   "source": [
    "df_top100.head()"
   ]
  },
  {
   "cell_type": "code",
   "execution_count": 10,
   "metadata": {},
   "outputs": [],
   "source": [
    "df_top100 = df_top100[['id','item','sales','income','event']]"
   ]
  },
  {
   "cell_type": "code",
   "execution_count": 11,
   "metadata": {},
   "outputs": [
    {
     "data": {
      "text/html": [
       "<div>\n",
       "<style scoped>\n",
       "    .dataframe tbody tr th:only-of-type {\n",
       "        vertical-align: middle;\n",
       "    }\n",
       "\n",
       "    .dataframe tbody tr th {\n",
       "        vertical-align: top;\n",
       "    }\n",
       "\n",
       "    .dataframe thead th {\n",
       "        text-align: right;\n",
       "    }\n",
       "</style>\n",
       "<table border=\"1\" class=\"dataframe\">\n",
       "  <thead>\n",
       "    <tr style=\"text-align: right;\">\n",
       "      <th></th>\n",
       "      <th>id</th>\n",
       "      <th>item</th>\n",
       "      <th>sales</th>\n",
       "      <th>income</th>\n",
       "      <th>event</th>\n",
       "    </tr>\n",
       "    <tr>\n",
       "      <th>date</th>\n",
       "      <th></th>\n",
       "      <th></th>\n",
       "      <th></th>\n",
       "      <th></th>\n",
       "      <th></th>\n",
       "    </tr>\n",
       "  </thead>\n",
       "  <tbody>\n",
       "    <tr>\n",
       "      <th>2011-01-29</th>\n",
       "      <td>ACCESORIES_1_108_NYC_1</td>\n",
       "      <td>ACCESORIES_1_108</td>\n",
       "      <td>4</td>\n",
       "      <td>64.4784</td>\n",
       "      <td>no event</td>\n",
       "    </tr>\n",
       "  </tbody>\n",
       "</table>\n",
       "</div>"
      ],
      "text/plain": [
       "                                id              item  sales   income     event\n",
       "date                                                                          \n",
       "2011-01-29  ACCESORIES_1_108_NYC_1  ACCESORIES_1_108      4  64.4784  no event"
      ]
     },
     "execution_count": 11,
     "metadata": {},
     "output_type": "execute_result"
    }
   ],
   "source": [
    "df_top100.head(1)"
   ]
  },
  {
   "cell_type": "markdown",
   "metadata": {},
   "source": [
    "### Prepared dataset with numeric values"
   ]
  },
  {
   "cell_type": "code",
   "execution_count": 12,
   "metadata": {},
   "outputs": [
    {
     "data": {
      "text/html": [
       "<div>\n",
       "<style scoped>\n",
       "    .dataframe tbody tr th:only-of-type {\n",
       "        vertical-align: middle;\n",
       "    }\n",
       "\n",
       "    .dataframe tbody tr th {\n",
       "        vertical-align: top;\n",
       "    }\n",
       "\n",
       "    .dataframe thead th {\n",
       "        text-align: right;\n",
       "    }\n",
       "</style>\n",
       "<table border=\"1\" class=\"dataframe\">\n",
       "  <thead>\n",
       "    <tr style=\"text-align: right;\">\n",
       "      <th></th>\n",
       "      <th>id</th>\n",
       "      <th>item</th>\n",
       "      <th>sales</th>\n",
       "      <th>income</th>\n",
       "      <th>event</th>\n",
       "    </tr>\n",
       "    <tr>\n",
       "      <th>date</th>\n",
       "      <th></th>\n",
       "      <th></th>\n",
       "      <th></th>\n",
       "      <th></th>\n",
       "      <th></th>\n",
       "    </tr>\n",
       "  </thead>\n",
       "  <tbody>\n",
       "    <tr>\n",
       "      <th>2011-01-29</th>\n",
       "      <td>ACCESORIES_1_108_NYC_1</td>\n",
       "      <td>ACCESORIES_1_108</td>\n",
       "      <td>4</td>\n",
       "      <td>64.4784</td>\n",
       "      <td>0</td>\n",
       "    </tr>\n",
       "    <tr>\n",
       "      <th>2011-01-29</th>\n",
       "      <td>HOME_&amp;_GARDEN_1_027_NYC_1</td>\n",
       "      <td>HOME_&amp;_GARDEN_1_027</td>\n",
       "      <td>4</td>\n",
       "      <td>26.2000</td>\n",
       "      <td>0</td>\n",
       "    </tr>\n",
       "  </tbody>\n",
       "</table>\n",
       "</div>"
      ],
      "text/plain": [
       "                                   id                 item  sales   income  \\\n",
       "date                                                                         \n",
       "2011-01-29     ACCESORIES_1_108_NYC_1     ACCESORIES_1_108      4  64.4784   \n",
       "2011-01-29  HOME_&_GARDEN_1_027_NYC_1  HOME_&_GARDEN_1_027      4  26.2000   \n",
       "\n",
       "            event  \n",
       "date               \n",
       "2011-01-29      0  \n",
       "2011-01-29      0  "
      ]
     },
     "execution_count": 12,
     "metadata": {},
     "output_type": "execute_result"
    }
   ],
   "source": [
    "df_top100['event'] = np.where(df_top100['event']==\"no event\",0,1)\n",
    "df_top100.head(2)"
   ]
  },
  {
   "cell_type": "code",
   "execution_count": 13,
   "metadata": {},
   "outputs": [],
   "source": [
    "file_name = \"ts_top100_prediction.csv\" \n",
    "df_top100.to_csv(file_name)"
   ]
  }
 ],
 "metadata": {
  "kernelspec": {
   "display_name": "env",
   "language": "python",
   "name": "python3"
  },
  "language_info": {
   "codemirror_mode": {
    "name": "ipython",
    "version": 3
   },
   "file_extension": ".py",
   "mimetype": "text/x-python",
   "name": "python",
   "nbconvert_exporter": "python",
   "pygments_lexer": "ipython3",
   "version": "3.12.6"
  }
 },
 "nbformat": 4,
 "nbformat_minor": 2
}
