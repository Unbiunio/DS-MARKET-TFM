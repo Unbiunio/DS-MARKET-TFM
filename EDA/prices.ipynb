{
 "cells": [
  {
   "cell_type": "markdown",
   "metadata": {},
   "source": [
    "# df_prices EDA"
   ]
  },
  {
   "cell_type": "markdown",
   "metadata": {},
   "source": [
    "### loading libraries"
   ]
  },
  {
   "cell_type": "code",
   "execution_count": 1,
   "metadata": {},
   "outputs": [],
   "source": [
    "import numpy as np\n",
    "import pandas as pd\n",
    "import datetime\n",
    "from datetime import datetime, timedelta"
   ]
  },
  {
   "cell_type": "markdown",
   "metadata": {},
   "source": [
    "### loading dataframes"
   ]
  },
  {
   "cell_type": "code",
   "execution_count": 2,
   "metadata": {},
   "outputs": [],
   "source": [
    "df_prices = pd.read_csv('../data/item_prices.csv')\n",
    "df_calendar = pd.read_csv('../data/daily_calendar_with_events.csv')"
   ]
  },
  {
   "cell_type": "markdown",
   "metadata": {},
   "source": [
    "### exploring dataframes"
   ]
  },
  {
   "cell_type": "code",
   "execution_count": 3,
   "metadata": {},
   "outputs": [
    {
     "name": "stdout",
     "output_type": "stream",
     "text": [
      "<class 'pandas.core.frame.DataFrame'>\n",
      "RangeIndex: 6965706 entries, 0 to 6965705\n",
      "Data columns (total 5 columns):\n",
      " #   Column      Dtype  \n",
      "---  ------      -----  \n",
      " 0   item        object \n",
      " 1   category    object \n",
      " 2   store_code  object \n",
      " 3   yearweek    float64\n",
      " 4   sell_price  float64\n",
      "dtypes: float64(2), object(3)\n",
      "memory usage: 265.7+ MB\n"
     ]
    }
   ],
   "source": [
    "df_prices.info()"
   ]
  },
  {
   "cell_type": "code",
   "execution_count": 4,
   "metadata": {},
   "outputs": [
    {
     "data": {
      "text/html": [
       "<div>\n",
       "<style scoped>\n",
       "    .dataframe tbody tr th:only-of-type {\n",
       "        vertical-align: middle;\n",
       "    }\n",
       "\n",
       "    .dataframe tbody tr th {\n",
       "        vertical-align: top;\n",
       "    }\n",
       "\n",
       "    .dataframe thead th {\n",
       "        text-align: right;\n",
       "    }\n",
       "</style>\n",
       "<table border=\"1\" class=\"dataframe\">\n",
       "  <thead>\n",
       "    <tr style=\"text-align: right;\">\n",
       "      <th></th>\n",
       "      <th>item</th>\n",
       "      <th>category</th>\n",
       "      <th>store_code</th>\n",
       "      <th>yearweek</th>\n",
       "      <th>sell_price</th>\n",
       "    </tr>\n",
       "  </thead>\n",
       "  <tbody>\n",
       "    <tr>\n",
       "      <th>3479516</th>\n",
       "      <td>ACCESORIES_1_037</td>\n",
       "      <td>ACCESORIES</td>\n",
       "      <td>BOS_2</td>\n",
       "      <td>201326.0</td>\n",
       "      <td>16.9841</td>\n",
       "    </tr>\n",
       "    <tr>\n",
       "      <th>3301611</th>\n",
       "      <td>SUPERMARKET_3_098</td>\n",
       "      <td>SUPERMARKET</td>\n",
       "      <td>BOS_1</td>\n",
       "      <td>201603.0</td>\n",
       "      <td>5.3760</td>\n",
       "    </tr>\n",
       "    <tr>\n",
       "      <th>155194</th>\n",
       "      <td>HOME_&amp;_GARDEN_1_102</td>\n",
       "      <td>HOME_&amp;_GARDEN</td>\n",
       "      <td>NYC_1</td>\n",
       "      <td>201611.0</td>\n",
       "      <td>22.4625</td>\n",
       "    </tr>\n",
       "    <tr>\n",
       "      <th>5022830</th>\n",
       "      <td>HOME_&amp;_GARDEN_1_013</td>\n",
       "      <td>HOME_&amp;_GARDEN</td>\n",
       "      <td>PHI_1</td>\n",
       "      <td>201228.0</td>\n",
       "      <td>6.2125</td>\n",
       "    </tr>\n",
       "    <tr>\n",
       "      <th>6498403</th>\n",
       "      <td>HOME_&amp;_GARDEN_1_498</td>\n",
       "      <td>HOME_&amp;_GARDEN</td>\n",
       "      <td>PHI_3</td>\n",
       "      <td>201330.0</td>\n",
       "      <td>4.1000</td>\n",
       "    </tr>\n",
       "    <tr>\n",
       "      <th>3566385</th>\n",
       "      <td>ACCESORIES_1_414</td>\n",
       "      <td>ACCESORIES</td>\n",
       "      <td>BOS_2</td>\n",
       "      <td>201418.0</td>\n",
       "      <td>9.6026</td>\n",
       "    </tr>\n",
       "    <tr>\n",
       "      <th>5665095</th>\n",
       "      <td>ACCESORIES_2_004</td>\n",
       "      <td>ACCESORIES</td>\n",
       "      <td>PHI_2</td>\n",
       "      <td>201416.0</td>\n",
       "      <td>3.2851</td>\n",
       "    </tr>\n",
       "    <tr>\n",
       "      <th>1653476</th>\n",
       "      <td>HOME_&amp;_GARDEN_2_198</td>\n",
       "      <td>HOME_&amp;_GARDEN</td>\n",
       "      <td>NYC_3</td>\n",
       "      <td>201129.0</td>\n",
       "      <td>9.3375</td>\n",
       "    </tr>\n",
       "    <tr>\n",
       "      <th>5001187</th>\n",
       "      <td>ACCESORIES_2_066</td>\n",
       "      <td>ACCESORIES</td>\n",
       "      <td>PHI_1</td>\n",
       "      <td>201331.0</td>\n",
       "      <td>6.6101</td>\n",
       "    </tr>\n",
       "    <tr>\n",
       "      <th>1644929</th>\n",
       "      <td>HOME_&amp;_GARDEN_2_159</td>\n",
       "      <td>HOME_&amp;_GARDEN</td>\n",
       "      <td>NYC_3</td>\n",
       "      <td>201420.0</td>\n",
       "      <td>4.9125</td>\n",
       "    </tr>\n",
       "  </tbody>\n",
       "</table>\n",
       "</div>"
      ],
      "text/plain": [
       "                        item       category store_code  yearweek  sell_price\n",
       "3479516     ACCESORIES_1_037     ACCESORIES      BOS_2  201326.0     16.9841\n",
       "3301611    SUPERMARKET_3_098    SUPERMARKET      BOS_1  201603.0      5.3760\n",
       "155194   HOME_&_GARDEN_1_102  HOME_&_GARDEN      NYC_1  201611.0     22.4625\n",
       "5022830  HOME_&_GARDEN_1_013  HOME_&_GARDEN      PHI_1  201228.0      6.2125\n",
       "6498403  HOME_&_GARDEN_1_498  HOME_&_GARDEN      PHI_3  201330.0      4.1000\n",
       "3566385     ACCESORIES_1_414     ACCESORIES      BOS_2  201418.0      9.6026\n",
       "5665095     ACCESORIES_2_004     ACCESORIES      PHI_2  201416.0      3.2851\n",
       "1653476  HOME_&_GARDEN_2_198  HOME_&_GARDEN      NYC_3  201129.0      9.3375\n",
       "5001187     ACCESORIES_2_066     ACCESORIES      PHI_1  201331.0      6.6101\n",
       "1644929  HOME_&_GARDEN_2_159  HOME_&_GARDEN      NYC_3  201420.0      4.9125"
      ]
     },
     "execution_count": 4,
     "metadata": {},
     "output_type": "execute_result"
    }
   ],
   "source": [
    "df_prices.sample(10)"
   ]
  },
  {
   "cell_type": "code",
   "execution_count": 5,
   "metadata": {},
   "outputs": [
    {
     "name": "stdout",
     "output_type": "stream",
     "text": [
      "(6965706, 5)\n"
     ]
    }
   ],
   "source": [
    "print(df_prices.shape)\n"
   ]
  },
  {
   "cell_type": "code",
   "execution_count": 6,
   "metadata": {},
   "outputs": [
    {
     "name": "stdout",
     "output_type": "stream",
     "text": [
      "<class 'pandas.core.frame.DataFrame'>\n",
      "RangeIndex: 6965706 entries, 0 to 6965705\n",
      "Data columns (total 5 columns):\n",
      " #   Column      Dtype  \n",
      "---  ------      -----  \n",
      " 0   item        object \n",
      " 1   category    object \n",
      " 2   store_code  object \n",
      " 3   yearweek    float64\n",
      " 4   sell_price  float64\n",
      "dtypes: float64(2), object(3)\n",
      "memory usage: 265.7+ MB\n"
     ]
    }
   ],
   "source": [
    "df_prices.info()"
   ]
  },
  {
   "cell_type": "markdown",
   "metadata": {},
   "source": [
    "## drop duplicated"
   ]
  },
  {
   "cell_type": "code",
   "execution_count": 7,
   "metadata": {},
   "outputs": [],
   "source": [
    "\n",
    "df_prices.drop_duplicates(keep=False , inplace=True)"
   ]
  },
  {
   "cell_type": "markdown",
   "metadata": {},
   "source": [
    "### Look for nulls and inputing them"
   ]
  },
  {
   "cell_type": "code",
   "execution_count": 8,
   "metadata": {},
   "outputs": [
    {
     "data": {
      "text/plain": [
       "item            0\n",
       "category        0\n",
       "store_code      0\n",
       "yearweek      425\n",
       "sell_price      0\n",
       "dtype: int64"
      ]
     },
     "execution_count": 8,
     "metadata": {},
     "output_type": "execute_result"
    }
   ],
   "source": [
    "df_prices.isnull().sum()"
   ]
  },
  {
   "cell_type": "code",
   "execution_count": 9,
   "metadata": {},
   "outputs": [
    {
     "data": {
      "text/plain": [
       "array([201105., 201106., 201107., 201108., 201109., 201110., 201111.,\n",
       "       201112., 201113., 201114., 201115., 201116., 201117., 201118.,\n",
       "       201119., 201120., 201121., 201122., 201123., 201124., 201125.,\n",
       "       201126., 201127., 201128., 201129., 201130., 201131., 201132.,\n",
       "       201133., 201134., 201135., 201136., 201137., 201138., 201139.,\n",
       "       201140., 201141., 201142., 201143., 201144., 201145., 201146.,\n",
       "       201147., 201148., 201149., 201150., 201151., 201152., 201200.,\n",
       "       201201., 201202., 201203., 201204., 201205., 201206., 201207.,\n",
       "       201208., 201209., 201210., 201211., 201212., 201213., 201214.,\n",
       "       201215., 201216., 201217., 201218., 201219., 201220., 201221.,\n",
       "       201222., 201223., 201224., 201225., 201226., 201227., 201228.,\n",
       "       201229., 201230., 201231., 201232., 201233., 201234., 201235.,\n",
       "       201236., 201237., 201238., 201239., 201240., 201241., 201242.,\n",
       "       201243., 201244., 201245., 201246., 201247., 201248., 201249.,\n",
       "       201250., 201251., 201252., 201253., 201300., 201301., 201302.,\n",
       "       201303., 201304., 201305., 201306., 201307., 201308., 201309.,\n",
       "       201310., 201311., 201312., 201313., 201314., 201315., 201316.,\n",
       "       201317., 201318., 201319., 201320., 201321., 201322., 201323.,\n",
       "       201324., 201325., 201326., 201327., 201328., 201329., 201330.,\n",
       "       201331., 201332., 201333., 201334., 201335., 201336., 201337.,\n",
       "       201338., 201339., 201340., 201341., 201342., 201343., 201344.,\n",
       "       201345., 201346., 201347., 201348., 201349., 201350., 201351.,\n",
       "       201352., 201400., 201401., 201402., 201403., 201404., 201405.,\n",
       "       201406., 201407., 201408., 201409., 201410., 201411., 201412.,\n",
       "       201413., 201414., 201415., 201416., 201417., 201418., 201419.,\n",
       "       201420., 201421., 201422., 201423., 201424., 201425., 201426.,\n",
       "       201427., 201428., 201429., 201430., 201431., 201432., 201433.,\n",
       "       201434., 201435., 201436., 201437., 201438., 201439., 201440.,\n",
       "       201441., 201442., 201443., 201444., 201445., 201446., 201447.,\n",
       "       201448., 201449., 201450., 201451., 201452., 201500., 201501.,\n",
       "       201502., 201503., 201504., 201505., 201506., 201507., 201508.,\n",
       "       201509., 201510., 201511., 201512., 201513., 201514., 201515.,\n",
       "       201516., 201517., 201518., 201519., 201520., 201521., 201522.,\n",
       "       201523., 201524., 201525., 201526., 201527., 201528., 201529.,\n",
       "       201530., 201531., 201532., 201533., 201534., 201535., 201536.,\n",
       "       201537., 201538., 201539., 201540., 201541., 201542., 201543.,\n",
       "       201544., 201545., 201546., 201547., 201548., 201549., 201550.,\n",
       "       201551., 201552., 201600., 201601., 201602., 201603., 201604.,\n",
       "       201605., 201606., 201607., 201608., 201609., 201610., 201611.,\n",
       "       201612., 201613., 201614., 201615., 201616., 201617.,     nan])"
      ]
     },
     "execution_count": 9,
     "metadata": {},
     "output_type": "execute_result"
    }
   ],
   "source": [
    "df_prices[\"yearweek\"].sort_values(ascending=True).unique()"
   ]
  },
  {
   "cell_type": "markdown",
   "metadata": {},
   "source": [
    "### delete nulls due to they are the weeks we have to preddict afterwards"
   ]
  },
  {
   "cell_type": "code",
   "execution_count": 10,
   "metadata": {},
   "outputs": [],
   "source": [
    "df_prices.dropna(inplace=True)"
   ]
  },
  {
   "cell_type": "markdown",
   "metadata": {},
   "source": [
    "### filter with groupby, for items so to use it afterwards for clustering"
   ]
  },
  {
   "cell_type": "code",
   "execution_count": 11,
   "metadata": {},
   "outputs": [
    {
     "name": "stdout",
     "output_type": "stream",
     "text": [
      "(3049, 4)\n"
     ]
    },
    {
     "data": {
      "text/html": [
       "<div>\n",
       "<style scoped>\n",
       "    .dataframe tbody tr th:only-of-type {\n",
       "        vertical-align: middle;\n",
       "    }\n",
       "\n",
       "    .dataframe tbody tr th {\n",
       "        vertical-align: top;\n",
       "    }\n",
       "\n",
       "    .dataframe thead th {\n",
       "        text-align: right;\n",
       "    }\n",
       "</style>\n",
       "<table border=\"1\" class=\"dataframe\">\n",
       "  <thead>\n",
       "    <tr style=\"text-align: right;\">\n",
       "      <th></th>\n",
       "      <th>item</th>\n",
       "      <th>price_min</th>\n",
       "      <th>price_max</th>\n",
       "      <th>price_mean</th>\n",
       "    </tr>\n",
       "  </thead>\n",
       "  <tbody>\n",
       "    <tr>\n",
       "      <th>0</th>\n",
       "      <td>ACCESORIES_1_001</td>\n",
       "      <td>6.6500</td>\n",
       "      <td>12.7414</td>\n",
       "      <td>11.032755</td>\n",
       "    </tr>\n",
       "    <tr>\n",
       "      <th>1</th>\n",
       "      <td>ACCESORIES_1_002</td>\n",
       "      <td>2.6600</td>\n",
       "      <td>5.2801</td>\n",
       "      <td>5.275708</td>\n",
       "    </tr>\n",
       "    <tr>\n",
       "      <th>2</th>\n",
       "      <td>ACCESORIES_1_003</td>\n",
       "      <td>1.2502</td>\n",
       "      <td>7.9401</td>\n",
       "      <td>3.944125</td>\n",
       "    </tr>\n",
       "    <tr>\n",
       "      <th>3</th>\n",
       "      <td>ACCESORIES_1_004</td>\n",
       "      <td>5.0141</td>\n",
       "      <td>6.1712</td>\n",
       "      <td>5.983299</td>\n",
       "    </tr>\n",
       "    <tr>\n",
       "      <th>4</th>\n",
       "      <td>ACCESORIES_1_005</td>\n",
       "      <td>1.9950</td>\n",
       "      <td>4.0964</td>\n",
       "      <td>3.832119</td>\n",
       "    </tr>\n",
       "  </tbody>\n",
       "</table>\n",
       "</div>"
      ],
      "text/plain": [
       "               item  price_min  price_max  price_mean\n",
       "0  ACCESORIES_1_001     6.6500    12.7414   11.032755\n",
       "1  ACCESORIES_1_002     2.6600     5.2801    5.275708\n",
       "2  ACCESORIES_1_003     1.2502     7.9401    3.944125\n",
       "3  ACCESORIES_1_004     5.0141     6.1712    5.983299\n",
       "4  ACCESORIES_1_005     1.9950     4.0964    3.832119"
      ]
     },
     "execution_count": 11,
     "metadata": {},
     "output_type": "execute_result"
    }
   ],
   "source": [
    "df_price_cluster = df_prices.groupby(['item']).agg(\n",
    "    price_min = ('sell_price', 'min'),\n",
    "    price_max = ('sell_price', 'max'),\n",
    "    price_mean = ('sell_price', 'mean')\n",
    ").reset_index()\n",
    "print(df_price_cluster.shape)\n",
    "df_price_cluster.head(5)"
   ]
  },
  {
   "cell_type": "code",
   "execution_count": 12,
   "metadata": {},
   "outputs": [],
   "source": [
    "#file_name = \"df_price_cluster.csv\"\n",
    "#df_price_cluster .to_csv(file_name)"
   ]
  },
  {
   "cell_type": "markdown",
   "metadata": {},
   "source": [
    "### create a new list of date"
   ]
  },
  {
   "cell_type": "code",
   "execution_count": 13,
   "metadata": {},
   "outputs": [],
   "source": [
    "start_date = df_calendar['date'].min()\n",
    "end_date = df_calendar['date'].max()"
   ]
  },
  {
   "cell_type": "markdown",
   "metadata": {},
   "source": [
    "### create a function so to convert dates into yearweeks so to merge afterwards \n"
   ]
  },
  {
   "cell_type": "code",
   "execution_count": 14,
   "metadata": {},
   "outputs": [],
   "source": [
    "def create_yearweek_df(start_date_str, end_date_str, initial_week):\n",
    "    \n",
    "    start_date = pd.to_datetime(start_date_str)\n",
    "    end_date = pd.to_datetime(end_date_str)\n",
    "\n",
    "    \n",
    "    date_range = pd.date_range(start_date, end_date)\n",
    "    df = pd.DataFrame(date_range, columns=['date'])\n",
    "\n",
    "    \n",
    "    df['dias_desde_inicio'] = (df['date'] - start_date).dt.days\n",
    "\n",
    "    \n",
    "    df['week_number'] = ((df['dias_desde_inicio'] // 7) + initial_week).astype(int)\n",
    "\n",
    "    \n",
    "    df['year'] = df['date'].dt.year\n",
    "    df['yearweek'] = df['year'].astype(str) + df['week_number'].apply(lambda x: f\"{x:02d}\")\n",
    "\n",
    "    \n",
    "    df.drop(['dias_desde_inicio', 'week_number', 'year'], axis=1, inplace=True)\n",
    "\n",
    "    return df\n",
    "\n",
    "   \n",
    "df_2011 = create_yearweek_df('2011-01-29', '2011-12-30', 5)\n",
    "df_2012_1 = create_yearweek_df('2011-12-31', '2012-01-01', 0)\n",
    "df_2012 = create_yearweek_df('2012-01-02', '2012-12-30', 1)\n",
    "df_2012_53 = pd.DataFrame([['2012-12-31','201253']],columns=['date','yearweek'])\n",
    "df_2013 = create_yearweek_df('2013-01-01', '2013-12-31', 0)\n",
    "df_2014 = create_yearweek_df('2014-01-01', '2014-12-31', 0)\n",
    "df_2015 = create_yearweek_df('2015-01-01', '2015-12-31', 0)\n",
    "df_2016_1 = create_yearweek_df('2016-01-01', '2016-01-02', 0)\n",
    "df_2016 = create_yearweek_df('2016-01-03', '2016-04-24', 1)\n",
    "\n",
    "df_2012_1.loc[0,'yearweek']='201152'\n",
    "\n",
    "all_years_df = pd.concat([df_2011, df_2012_1, df_2012, df_2012_53, df_2013, df_2014, df_2015,df_2016_1, df_2016]).reset_index(drop=True)"
   ]
  },
  {
   "cell_type": "code",
   "execution_count": 15,
   "metadata": {},
   "outputs": [],
   "source": [
    "all_years_df['date']= pd.to_datetime(all_years_df['date'], format='%Y-%m-%d')"
   ]
  },
  {
   "cell_type": "code",
   "execution_count": 16,
   "metadata": {},
   "outputs": [],
   "source": [
    "all_years_df['yearweek'] = all_years_df['yearweek'].astype(str)"
   ]
  },
  {
   "cell_type": "code",
   "execution_count": 17,
   "metadata": {},
   "outputs": [],
   "source": [
    "df_prices['yearweek'] = df_prices['yearweek'].astype(str).apply(lambda x: x[:-2])"
   ]
  },
  {
   "cell_type": "code",
   "execution_count": 18,
   "metadata": {},
   "outputs": [],
   "source": [
    "df_merge = df_prices.merge(all_years_df, on=['yearweek'], how='left')"
   ]
  },
  {
   "cell_type": "code",
   "execution_count": 19,
   "metadata": {},
   "outputs": [],
   "source": [
    "df_merge = df_merge.drop([\"yearweek\",\"category\"], axis=1)"
   ]
  },
  {
   "cell_type": "code",
   "execution_count": 20,
   "metadata": {},
   "outputs": [
    {
     "data": {
      "text/plain": [
       "(45986376, 4)"
      ]
     },
     "execution_count": 20,
     "metadata": {},
     "output_type": "execute_result"
    }
   ],
   "source": [
    "df_merge.shape"
   ]
  },
  {
   "cell_type": "markdown",
   "metadata": {},
   "source": [
    "### create a file for prediction so to use it afterwards"
   ]
  },
  {
   "cell_type": "code",
   "execution_count": 21,
   "metadata": {},
   "outputs": [],
   "source": [
    "file_name = \"prices_prediction.csv\"\n",
    "df_merge.to_csv(file_name)"
   ]
  },
  {
   "cell_type": "markdown",
   "metadata": {},
   "source": [
    "### group by months "
   ]
  },
  {
   "cell_type": "code",
   "execution_count": 40,
   "metadata": {},
   "outputs": [],
   "source": [
    "df_merge.set_index('date', inplace=True) "
   ]
  },
  {
   "cell_type": "code",
   "execution_count": 41,
   "metadata": {},
   "outputs": [
    {
     "name": "stderr",
     "output_type": "stream",
     "text": [
      "C:\\Users\\rafas\\AppData\\Local\\Temp\\ipykernel_18220\\549514265.py:1: FutureWarning: 'M' is deprecated and will be removed in a future version, please use 'ME' instead.\n",
      "  df_prices = df_merge.groupby(['item', 'store_code'])['sell_price'].resample('M').mean().reset_index()\n"
     ]
    }
   ],
   "source": [
    "df_prices = df_merge.groupby(['item', 'store_code'])['sell_price'].resample('M').mean().reset_index()"
   ]
  },
  {
   "cell_type": "code",
   "execution_count": 43,
   "metadata": {},
   "outputs": [
    {
     "data": {
      "text/html": [
       "<div>\n",
       "<style scoped>\n",
       "    .dataframe tbody tr th:only-of-type {\n",
       "        vertical-align: middle;\n",
       "    }\n",
       "\n",
       "    .dataframe tbody tr th {\n",
       "        vertical-align: top;\n",
       "    }\n",
       "\n",
       "    .dataframe thead th {\n",
       "        text-align: right;\n",
       "    }\n",
       "</style>\n",
       "<table border=\"1\" class=\"dataframe\">\n",
       "  <thead>\n",
       "    <tr style=\"text-align: right;\">\n",
       "      <th></th>\n",
       "      <th>item</th>\n",
       "      <th>store_code</th>\n",
       "      <th>date</th>\n",
       "      <th>sell_price</th>\n",
       "    </tr>\n",
       "  </thead>\n",
       "  <tbody>\n",
       "    <tr>\n",
       "      <th>0</th>\n",
       "      <td>ACCESORIES_1_001</td>\n",
       "      <td>BOS_1</td>\n",
       "      <td>2013-07-31</td>\n",
       "      <td>11.753875</td>\n",
       "    </tr>\n",
       "    <tr>\n",
       "      <th>1</th>\n",
       "      <td>ACCESORIES_1_001</td>\n",
       "      <td>BOS_1</td>\n",
       "      <td>2013-08-31</td>\n",
       "      <td>10.985800</td>\n",
       "    </tr>\n",
       "    <tr>\n",
       "      <th>2</th>\n",
       "      <td>ACCESORIES_1_001</td>\n",
       "      <td>BOS_1</td>\n",
       "      <td>2013-09-30</td>\n",
       "      <td>10.985800</td>\n",
       "    </tr>\n",
       "    <tr>\n",
       "      <th>3</th>\n",
       "      <td>ACCESORIES_1_001</td>\n",
       "      <td>BOS_1</td>\n",
       "      <td>2013-10-31</td>\n",
       "      <td>10.985800</td>\n",
       "    </tr>\n",
       "    <tr>\n",
       "      <th>4</th>\n",
       "      <td>ACCESORIES_1_001</td>\n",
       "      <td>BOS_1</td>\n",
       "      <td>2013-11-30</td>\n",
       "      <td>10.985800</td>\n",
       "    </tr>\n",
       "    <tr>\n",
       "      <th>...</th>\n",
       "      <td>...</td>\n",
       "      <td>...</td>\n",
       "      <td>...</td>\n",
       "      <td>...</td>\n",
       "    </tr>\n",
       "    <tr>\n",
       "      <th>1536771</th>\n",
       "      <td>SUPERMARKET_3_827</td>\n",
       "      <td>PHI_3</td>\n",
       "      <td>2015-12-31</td>\n",
       "      <td>1.200000</td>\n",
       "    </tr>\n",
       "    <tr>\n",
       "      <th>1536772</th>\n",
       "      <td>SUPERMARKET_3_827</td>\n",
       "      <td>PHI_3</td>\n",
       "      <td>2016-01-31</td>\n",
       "      <td>1.200000</td>\n",
       "    </tr>\n",
       "    <tr>\n",
       "      <th>1536773</th>\n",
       "      <td>SUPERMARKET_3_827</td>\n",
       "      <td>PHI_3</td>\n",
       "      <td>2016-02-29</td>\n",
       "      <td>1.200000</td>\n",
       "    </tr>\n",
       "    <tr>\n",
       "      <th>1536774</th>\n",
       "      <td>SUPERMARKET_3_827</td>\n",
       "      <td>PHI_3</td>\n",
       "      <td>2016-03-31</td>\n",
       "      <td>1.200000</td>\n",
       "    </tr>\n",
       "    <tr>\n",
       "      <th>1536775</th>\n",
       "      <td>SUPERMARKET_3_827</td>\n",
       "      <td>PHI_3</td>\n",
       "      <td>2016-04-30</td>\n",
       "      <td>1.200000</td>\n",
       "    </tr>\n",
       "  </tbody>\n",
       "</table>\n",
       "<p>1536776 rows × 4 columns</p>\n",
       "</div>"
      ],
      "text/plain": [
       "                      item store_code       date  sell_price\n",
       "0         ACCESORIES_1_001      BOS_1 2013-07-31   11.753875\n",
       "1         ACCESORIES_1_001      BOS_1 2013-08-31   10.985800\n",
       "2         ACCESORIES_1_001      BOS_1 2013-09-30   10.985800\n",
       "3         ACCESORIES_1_001      BOS_1 2013-10-31   10.985800\n",
       "4         ACCESORIES_1_001      BOS_1 2013-11-30   10.985800\n",
       "...                    ...        ...        ...         ...\n",
       "1536771  SUPERMARKET_3_827      PHI_3 2015-12-31    1.200000\n",
       "1536772  SUPERMARKET_3_827      PHI_3 2016-01-31    1.200000\n",
       "1536773  SUPERMARKET_3_827      PHI_3 2016-02-29    1.200000\n",
       "1536774  SUPERMARKET_3_827      PHI_3 2016-03-31    1.200000\n",
       "1536775  SUPERMARKET_3_827      PHI_3 2016-04-30    1.200000\n",
       "\n",
       "[1536776 rows x 4 columns]"
      ]
     },
     "execution_count": 43,
     "metadata": {},
     "output_type": "execute_result"
    }
   ],
   "source": [
    "df_prices"
   ]
  },
  {
   "cell_type": "markdown",
   "metadata": {},
   "source": [
    "### csv file"
   ]
  },
  {
   "cell_type": "code",
   "execution_count": 45,
   "metadata": {},
   "outputs": [],
   "source": [
    "#file_name = \"cleaned_prices.csv\"\n",
    "#df_prices.to_csv(file_name)"
   ]
  },
  {
   "cell_type": "markdown",
   "metadata": {},
   "source": []
  }
 ],
 "metadata": {
  "kernelspec": {
   "display_name": "Python 3",
   "language": "python",
   "name": "python3"
  },
  "language_info": {
   "codemirror_mode": {
    "name": "ipython",
    "version": 3
   },
   "file_extension": ".py",
   "mimetype": "text/x-python",
   "name": "python",
   "nbconvert_exporter": "python",
   "pygments_lexer": "ipython3",
   "version": "3.11.9"
  }
 },
 "nbformat": 4,
 "nbformat_minor": 2
}
