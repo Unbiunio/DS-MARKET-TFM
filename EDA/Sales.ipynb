{
 "cells": [
  {
   "cell_type": "markdown",
   "metadata": {},
   "source": [
    "# df_sales EDA"
   ]
  },
  {
   "cell_type": "markdown",
   "metadata": {},
   "source": [
    "### loading libraries"
   ]
  },
  {
   "cell_type": "code",
   "execution_count": 1,
   "metadata": {},
   "outputs": [],
   "source": [
    "import pandas as pd\n",
    "import numpy as np\n",
    "import datetime"
   ]
  },
  {
   "cell_type": "markdown",
   "metadata": {},
   "source": [
    "### loading dataframes"
   ]
  },
  {
   "cell_type": "code",
   "execution_count": 2,
   "metadata": {},
   "outputs": [],
   "source": [
    "df_sales = pd.read_csv(\"../data/item_sales.csv\")\n",
    "df_calendar = pd.read_csv(\"../EDA/data/cleaned_calendar.csv\")"
   ]
  },
  {
<<<<<<< HEAD
   "cell_type": "code",
   "execution_count": 7,
   "metadata": {},
   "outputs": [
    {
     "data": {
      "text/html": [
       "<div>\n",
       "<style scoped>\n",
       "    .dataframe tbody tr th:only-of-type {\n",
       "        vertical-align: middle;\n",
       "    }\n",
       "\n",
       "    .dataframe tbody tr th {\n",
       "        vertical-align: top;\n",
       "    }\n",
       "\n",
       "    .dataframe thead th {\n",
       "        text-align: right;\n",
       "    }\n",
       "</style>\n",
       "<table border=\"1\" class=\"dataframe\">\n",
       "  <thead>\n",
       "    <tr style=\"text-align: right;\">\n",
       "      <th></th>\n",
       "      <th>id</th>\n",
       "      <th>item</th>\n",
       "      <th>category</th>\n",
       "      <th>department</th>\n",
       "      <th>store</th>\n",
       "      <th>store_code</th>\n",
       "      <th>region</th>\n",
       "      <th>d_1</th>\n",
       "      <th>d_2</th>\n",
       "      <th>d_3</th>\n",
       "      <th>...</th>\n",
       "      <th>d_1904</th>\n",
       "      <th>d_1905</th>\n",
       "      <th>d_1906</th>\n",
       "      <th>d_1907</th>\n",
       "      <th>d_1908</th>\n",
       "      <th>d_1909</th>\n",
       "      <th>d_1910</th>\n",
       "      <th>d_1911</th>\n",
       "      <th>d_1912</th>\n",
       "      <th>d_1913</th>\n",
       "    </tr>\n",
       "  </thead>\n",
       "  <tbody>\n",
       "    <tr>\n",
       "      <th>0</th>\n",
       "      <td>ACCESORIES_1_001_NYC_1</td>\n",
       "      <td>ACCESORIES_1_001</td>\n",
       "      <td>ACCESORIES</td>\n",
       "      <td>ACCESORIES_1</td>\n",
       "      <td>Greenwich_Village</td>\n",
       "      <td>NYC_1</td>\n",
       "      <td>New York</td>\n",
       "      <td>0</td>\n",
       "      <td>0</td>\n",
       "      <td>0</td>\n",
       "      <td>...</td>\n",
       "      <td>1</td>\n",
       "      <td>3</td>\n",
       "      <td>0</td>\n",
       "      <td>1</td>\n",
       "      <td>1</td>\n",
       "      <td>1</td>\n",
       "      <td>3</td>\n",
       "      <td>0</td>\n",
       "      <td>1</td>\n",
       "      <td>1</td>\n",
       "    </tr>\n",
       "    <tr>\n",
       "      <th>1</th>\n",
       "      <td>ACCESORIES_1_002_NYC_1</td>\n",
       "      <td>ACCESORIES_1_002</td>\n",
       "      <td>ACCESORIES</td>\n",
       "      <td>ACCESORIES_1</td>\n",
       "      <td>Greenwich_Village</td>\n",
       "      <td>NYC_1</td>\n",
       "      <td>New York</td>\n",
       "      <td>0</td>\n",
       "      <td>0</td>\n",
       "      <td>0</td>\n",
       "      <td>...</td>\n",
       "      <td>0</td>\n",
       "      <td>0</td>\n",
       "      <td>0</td>\n",
       "      <td>0</td>\n",
       "      <td>0</td>\n",
       "      <td>1</td>\n",
       "      <td>0</td>\n",
       "      <td>0</td>\n",
       "      <td>0</td>\n",
       "      <td>0</td>\n",
       "    </tr>\n",
       "    <tr>\n",
       "      <th>2</th>\n",
       "      <td>ACCESORIES_1_003_NYC_1</td>\n",
       "      <td>ACCESORIES_1_003</td>\n",
       "      <td>ACCESORIES</td>\n",
       "      <td>ACCESORIES_1</td>\n",
       "      <td>Greenwich_Village</td>\n",
       "      <td>NYC_1</td>\n",
       "      <td>New York</td>\n",
       "      <td>0</td>\n",
       "      <td>0</td>\n",
       "      <td>0</td>\n",
       "      <td>...</td>\n",
       "      <td>2</td>\n",
       "      <td>1</td>\n",
       "      <td>2</td>\n",
       "      <td>1</td>\n",
       "      <td>1</td>\n",
       "      <td>1</td>\n",
       "      <td>0</td>\n",
       "      <td>1</td>\n",
       "      <td>1</td>\n",
       "      <td>1</td>\n",
       "    </tr>\n",
       "    <tr>\n",
       "      <th>3</th>\n",
       "      <td>ACCESORIES_1_004_NYC_1</td>\n",
       "      <td>ACCESORIES_1_004</td>\n",
       "      <td>ACCESORIES</td>\n",
       "      <td>ACCESORIES_1</td>\n",
       "      <td>Greenwich_Village</td>\n",
       "      <td>NYC_1</td>\n",
       "      <td>New York</td>\n",
       "      <td>0</td>\n",
       "      <td>0</td>\n",
       "      <td>0</td>\n",
       "      <td>...</td>\n",
       "      <td>1</td>\n",
       "      <td>0</td>\n",
       "      <td>5</td>\n",
       "      <td>4</td>\n",
       "      <td>1</td>\n",
       "      <td>0</td>\n",
       "      <td>1</td>\n",
       "      <td>3</td>\n",
       "      <td>7</td>\n",
       "      <td>2</td>\n",
       "    </tr>\n",
       "    <tr>\n",
       "      <th>4</th>\n",
       "      <td>ACCESORIES_1_005_NYC_1</td>\n",
       "      <td>ACCESORIES_1_005</td>\n",
       "      <td>ACCESORIES</td>\n",
       "      <td>ACCESORIES_1</td>\n",
       "      <td>Greenwich_Village</td>\n",
       "      <td>NYC_1</td>\n",
       "      <td>New York</td>\n",
       "      <td>0</td>\n",
       "      <td>0</td>\n",
       "      <td>0</td>\n",
       "      <td>...</td>\n",
       "      <td>2</td>\n",
       "      <td>1</td>\n",
       "      <td>1</td>\n",
       "      <td>0</td>\n",
       "      <td>1</td>\n",
       "      <td>1</td>\n",
       "      <td>2</td>\n",
       "      <td>2</td>\n",
       "      <td>2</td>\n",
       "      <td>4</td>\n",
       "    </tr>\n",
       "    <tr>\n",
       "      <th>...</th>\n",
       "      <td>...</td>\n",
       "      <td>...</td>\n",
       "      <td>...</td>\n",
       "      <td>...</td>\n",
       "      <td>...</td>\n",
       "      <td>...</td>\n",
       "      <td>...</td>\n",
       "      <td>...</td>\n",
       "      <td>...</td>\n",
       "      <td>...</td>\n",
       "      <td>...</td>\n",
       "      <td>...</td>\n",
       "      <td>...</td>\n",
       "      <td>...</td>\n",
       "      <td>...</td>\n",
       "      <td>...</td>\n",
       "      <td>...</td>\n",
       "      <td>...</td>\n",
       "      <td>...</td>\n",
       "      <td>...</td>\n",
       "      <td>...</td>\n",
       "    </tr>\n",
       "    <tr>\n",
       "      <th>30485</th>\n",
       "      <td>SUPERMARKET_3_823_PHI_3</td>\n",
       "      <td>SUPERMARKET_3_823</td>\n",
       "      <td>SUPERMARKET</td>\n",
       "      <td>SUPERMARKET_3</td>\n",
       "      <td>Queen_Village</td>\n",
       "      <td>PHI_3</td>\n",
       "      <td>Philadelphia</td>\n",
       "      <td>0</td>\n",
       "      <td>0</td>\n",
       "      <td>2</td>\n",
       "      <td>...</td>\n",
       "      <td>2</td>\n",
       "      <td>0</td>\n",
       "      <td>0</td>\n",
       "      <td>0</td>\n",
       "      <td>0</td>\n",
       "      <td>0</td>\n",
       "      <td>1</td>\n",
       "      <td>0</td>\n",
       "      <td>0</td>\n",
       "      <td>1</td>\n",
       "    </tr>\n",
       "    <tr>\n",
       "      <th>30486</th>\n",
       "      <td>SUPERMARKET_3_824_PHI_3</td>\n",
       "      <td>SUPERMARKET_3_824</td>\n",
       "      <td>SUPERMARKET</td>\n",
       "      <td>SUPERMARKET_3</td>\n",
       "      <td>Queen_Village</td>\n",
       "      <td>PHI_3</td>\n",
       "      <td>Philadelphia</td>\n",
       "      <td>0</td>\n",
       "      <td>0</td>\n",
       "      <td>0</td>\n",
       "      <td>...</td>\n",
       "      <td>0</td>\n",
       "      <td>0</td>\n",
       "      <td>0</td>\n",
       "      <td>0</td>\n",
       "      <td>0</td>\n",
       "      <td>0</td>\n",
       "      <td>0</td>\n",
       "      <td>0</td>\n",
       "      <td>1</td>\n",
       "      <td>0</td>\n",
       "    </tr>\n",
       "    <tr>\n",
       "      <th>30487</th>\n",
       "      <td>SUPERMARKET_3_825_PHI_3</td>\n",
       "      <td>SUPERMARKET_3_825</td>\n",
       "      <td>SUPERMARKET</td>\n",
       "      <td>SUPERMARKET_3</td>\n",
       "      <td>Queen_Village</td>\n",
       "      <td>PHI_3</td>\n",
       "      <td>Philadelphia</td>\n",
       "      <td>0</td>\n",
       "      <td>6</td>\n",
       "      <td>0</td>\n",
       "      <td>...</td>\n",
       "      <td>2</td>\n",
       "      <td>1</td>\n",
       "      <td>0</td>\n",
       "      <td>2</td>\n",
       "      <td>0</td>\n",
       "      <td>1</td>\n",
       "      <td>0</td>\n",
       "      <td>0</td>\n",
       "      <td>1</td>\n",
       "      <td>0</td>\n",
       "    </tr>\n",
       "    <tr>\n",
       "      <th>30488</th>\n",
       "      <td>SUPERMARKET_3_826_PHI_3</td>\n",
       "      <td>SUPERMARKET_3_826</td>\n",
       "      <td>SUPERMARKET</td>\n",
       "      <td>SUPERMARKET_3</td>\n",
       "      <td>Queen_Village</td>\n",
       "      <td>PHI_3</td>\n",
       "      <td>Philadelphia</td>\n",
       "      <td>0</td>\n",
       "      <td>0</td>\n",
       "      <td>0</td>\n",
       "      <td>...</td>\n",
       "      <td>0</td>\n",
       "      <td>0</td>\n",
       "      <td>1</td>\n",
       "      <td>0</td>\n",
       "      <td>0</td>\n",
       "      <td>1</td>\n",
       "      <td>0</td>\n",
       "      <td>3</td>\n",
       "      <td>1</td>\n",
       "      <td>3</td>\n",
       "    </tr>\n",
       "    <tr>\n",
       "      <th>30489</th>\n",
       "      <td>SUPERMARKET_3_827_PHI_3</td>\n",
       "      <td>SUPERMARKET_3_827</td>\n",
       "      <td>SUPERMARKET</td>\n",
       "      <td>SUPERMARKET_3</td>\n",
       "      <td>Queen_Village</td>\n",
       "      <td>PHI_3</td>\n",
       "      <td>Philadelphia</td>\n",
       "      <td>0</td>\n",
       "      <td>0</td>\n",
       "      <td>0</td>\n",
       "      <td>...</td>\n",
       "      <td>0</td>\n",
       "      <td>0</td>\n",
       "      <td>0</td>\n",
       "      <td>0</td>\n",
       "      <td>0</td>\n",
       "      <td>0</td>\n",
       "      <td>0</td>\n",
       "      <td>0</td>\n",
       "      <td>0</td>\n",
       "      <td>0</td>\n",
       "    </tr>\n",
       "  </tbody>\n",
       "</table>\n",
       "<p>30490 rows × 1920 columns</p>\n",
       "</div>"
      ],
      "text/plain": [
       "                            id               item     category     department  \\\n",
       "0       ACCESORIES_1_001_NYC_1   ACCESORIES_1_001   ACCESORIES   ACCESORIES_1   \n",
       "1       ACCESORIES_1_002_NYC_1   ACCESORIES_1_002   ACCESORIES   ACCESORIES_1   \n",
       "2       ACCESORIES_1_003_NYC_1   ACCESORIES_1_003   ACCESORIES   ACCESORIES_1   \n",
       "3       ACCESORIES_1_004_NYC_1   ACCESORIES_1_004   ACCESORIES   ACCESORIES_1   \n",
       "4       ACCESORIES_1_005_NYC_1   ACCESORIES_1_005   ACCESORIES   ACCESORIES_1   \n",
       "...                        ...                ...          ...            ...   \n",
       "30485  SUPERMARKET_3_823_PHI_3  SUPERMARKET_3_823  SUPERMARKET  SUPERMARKET_3   \n",
       "30486  SUPERMARKET_3_824_PHI_3  SUPERMARKET_3_824  SUPERMARKET  SUPERMARKET_3   \n",
       "30487  SUPERMARKET_3_825_PHI_3  SUPERMARKET_3_825  SUPERMARKET  SUPERMARKET_3   \n",
       "30488  SUPERMARKET_3_826_PHI_3  SUPERMARKET_3_826  SUPERMARKET  SUPERMARKET_3   \n",
       "30489  SUPERMARKET_3_827_PHI_3  SUPERMARKET_3_827  SUPERMARKET  SUPERMARKET_3   \n",
       "\n",
       "                   store store_code        region  d_1  d_2  d_3  ...  d_1904  \\\n",
       "0      Greenwich_Village      NYC_1      New York    0    0    0  ...       1   \n",
       "1      Greenwich_Village      NYC_1      New York    0    0    0  ...       0   \n",
       "2      Greenwich_Village      NYC_1      New York    0    0    0  ...       2   \n",
       "3      Greenwich_Village      NYC_1      New York    0    0    0  ...       1   \n",
       "4      Greenwich_Village      NYC_1      New York    0    0    0  ...       2   \n",
       "...                  ...        ...           ...  ...  ...  ...  ...     ...   \n",
       "30485      Queen_Village      PHI_3  Philadelphia    0    0    2  ...       2   \n",
       "30486      Queen_Village      PHI_3  Philadelphia    0    0    0  ...       0   \n",
       "30487      Queen_Village      PHI_3  Philadelphia    0    6    0  ...       2   \n",
       "30488      Queen_Village      PHI_3  Philadelphia    0    0    0  ...       0   \n",
       "30489      Queen_Village      PHI_3  Philadelphia    0    0    0  ...       0   \n",
       "\n",
       "       d_1905  d_1906  d_1907  d_1908  d_1909  d_1910  d_1911  d_1912  d_1913  \n",
       "0           3       0       1       1       1       3       0       1       1  \n",
       "1           0       0       0       0       1       0       0       0       0  \n",
       "2           1       2       1       1       1       0       1       1       1  \n",
       "3           0       5       4       1       0       1       3       7       2  \n",
       "4           1       1       0       1       1       2       2       2       4  \n",
       "...       ...     ...     ...     ...     ...     ...     ...     ...     ...  \n",
       "30485       0       0       0       0       0       1       0       0       1  \n",
       "30486       0       0       0       0       0       0       0       1       0  \n",
       "30487       1       0       2       0       1       0       0       1       0  \n",
       "30488       0       1       0       0       1       0       3       1       3  \n",
       "30489       0       0       0       0       0       0       0       0       0  \n",
       "\n",
       "[30490 rows x 1920 columns]"
      ]
     },
     "execution_count": 7,
     "metadata": {},
     "output_type": "execute_result"
    }
   ],
   "source": [
    "df_sales"
   ]
  },
  {
=======
>>>>>>> 1dc11c38640c42deb633f51c1abafe32a7c7e42b
   "cell_type": "markdown",
   "metadata": {},
   "source": []
  },
  {
   "cell_type": "code",
   "execution_count": 3,
   "metadata": {},
   "outputs": [
    {
     "data": {
      "text/html": [
       "<div>\n",
       "<style scoped>\n",
       "    .dataframe tbody tr th:only-of-type {\n",
       "        vertical-align: middle;\n",
       "    }\n",
       "\n",
       "    .dataframe tbody tr th {\n",
       "        vertical-align: top;\n",
       "    }\n",
       "\n",
       "    .dataframe thead th {\n",
       "        text-align: right;\n",
       "    }\n",
       "</style>\n",
       "<table border=\"1\" class=\"dataframe\">\n",
       "  <thead>\n",
       "    <tr style=\"text-align: right;\">\n",
       "      <th></th>\n",
       "      <th>Unnamed: 0</th>\n",
       "      <th>date</th>\n",
       "      <th>weekday</th>\n",
       "      <th>event</th>\n",
       "    </tr>\n",
       "  </thead>\n",
       "  <tbody>\n",
       "    <tr>\n",
       "      <th>0</th>\n",
       "      <td>0</td>\n",
       "      <td>2011-01-29</td>\n",
       "      <td>Saturday</td>\n",
       "      <td>0</td>\n",
       "    </tr>\n",
       "  </tbody>\n",
       "</table>\n",
       "</div>"
      ],
      "text/plain": [
       "   Unnamed: 0        date   weekday event\n",
       "0           0  2011-01-29  Saturday     0"
      ]
     },
     "execution_count": 3,
     "metadata": {},
     "output_type": "execute_result"
    }
   ],
   "source": [
    "df_calendar.head(1)"
   ]
  },
  {
   "cell_type": "markdown",
   "metadata": {},
   "source": [
    "### Check duplicates and nulls"
   ]
  },
  {
   "cell_type": "code",
   "execution_count": 4,
   "metadata": {},
   "outputs": [
    {
     "data": {
      "text/plain": [
       "id            0\n",
       "item          0\n",
       "category      0\n",
       "department    0\n",
       "store         0\n",
       "             ..\n",
       "d_1909        0\n",
       "d_1910        0\n",
       "d_1911        0\n",
       "d_1912        0\n",
       "d_1913        0\n",
       "Length: 1920, dtype: int64"
      ]
     },
     "execution_count": 4,
     "metadata": {},
     "output_type": "execute_result"
    }
   ],
   "source": [
    "df_sales.isnull().sum()"
   ]
  },
  {
   "cell_type": "code",
   "execution_count": 5,
   "metadata": {},
   "outputs": [
    {
     "data": {
      "text/plain": [
       "np.int64(0)"
      ]
     },
     "execution_count": 5,
     "metadata": {},
     "output_type": "execute_result"
    }
   ],
   "source": [
    "df_sales.duplicated().sum()"
   ]
  },
  {
   "cell_type": "code",
   "execution_count": 6,
   "metadata": {},
   "outputs": [
    {
     "data": {
      "text/plain": [
       "np.int64(0)"
      ]
     },
     "execution_count": 6,
     "metadata": {},
     "output_type": "execute_result"
    }
   ],
   "source": [
    "df_calendar.duplicated().sum()"
   ]
  },
  {
   "cell_type": "code",
   "execution_count": 7,
   "metadata": {},
   "outputs": [
    {
     "data": {
      "text/plain": [
       "Unnamed: 0    0\n",
       "date          0\n",
       "weekday       0\n",
       "event         0\n",
       "dtype: int64"
      ]
     },
     "execution_count": 7,
     "metadata": {},
     "output_type": "execute_result"
    }
   ],
   "source": [
    "df_calendar.isnull().sum()  "
   ]
  },
  {
   "cell_type": "code",
   "execution_count": 8,
   "metadata": {},
   "outputs": [],
   "source": [
    "del(df_calendar[\"Unnamed: 0\"])"
   ]
  },
  {
   "cell_type": "markdown",
   "metadata": {},
   "source": [
    "### change date format with datetime"
   ]
  },
  {
   "cell_type": "code",
   "execution_count": 9,
   "metadata": {},
   "outputs": [],
   "source": [
    "df_calendar['date'] = pd.to_datetime(df_calendar['date'], format='%Y-%m-%d')"
   ]
  },
  {
   "cell_type": "markdown",
   "metadata": {},
   "source": [
    "### Create a range of dates so to convert d1,d2,d3 to date"
   ]
  },
  {
   "cell_type": "code",
   "execution_count": 10,
   "metadata": {},
   "outputs": [],
   "source": [
    "start_date = df_calendar['date'].min()\n",
    "end_date = df_calendar['date'].max()"
   ]
  },
  {
   "cell_type": "markdown",
   "metadata": {},
   "source": [
    "### convert d1,d2,d3...to date"
   ]
  },
  {
   "cell_type": "code",
   "execution_count": 11,
   "metadata": {},
   "outputs": [],
   "source": [
    "date_range = pd.date_range(start=start_date, end= end_date, freq='D')\n",
    "date_range = date_range.to_list()\n",
    "columns_new = df_sales.columns[:7].to_list()\n",
    "columns_for_rename = columns_new + date_range\n",
    "\n",
    "df_sales.columns = columns_for_rename"
   ]
  },
  {
   "cell_type": "code",
   "execution_count": 12,
   "metadata": {},
   "outputs": [
    {
     "data": {
      "text/html": [
       "<div>\n",
       "<style scoped>\n",
       "    .dataframe tbody tr th:only-of-type {\n",
       "        vertical-align: middle;\n",
       "    }\n",
       "\n",
       "    .dataframe tbody tr th {\n",
       "        vertical-align: top;\n",
       "    }\n",
       "\n",
       "    .dataframe thead th {\n",
       "        text-align: right;\n",
       "    }\n",
       "</style>\n",
       "<table border=\"1\" class=\"dataframe\">\n",
       "  <thead>\n",
       "    <tr style=\"text-align: right;\">\n",
       "      <th></th>\n",
       "      <th>id</th>\n",
       "      <th>item</th>\n",
       "      <th>category</th>\n",
       "      <th>department</th>\n",
       "      <th>store</th>\n",
       "      <th>store_code</th>\n",
       "      <th>region</th>\n",
       "      <th>2011-01-29 00:00:00</th>\n",
       "      <th>2011-01-30 00:00:00</th>\n",
       "      <th>2011-01-31 00:00:00</th>\n",
       "      <th>...</th>\n",
       "      <th>2016-04-15 00:00:00</th>\n",
       "      <th>2016-04-16 00:00:00</th>\n",
       "      <th>2016-04-17 00:00:00</th>\n",
       "      <th>2016-04-18 00:00:00</th>\n",
       "      <th>2016-04-19 00:00:00</th>\n",
       "      <th>2016-04-20 00:00:00</th>\n",
       "      <th>2016-04-21 00:00:00</th>\n",
       "      <th>2016-04-22 00:00:00</th>\n",
       "      <th>2016-04-23 00:00:00</th>\n",
       "      <th>2016-04-24 00:00:00</th>\n",
       "    </tr>\n",
       "  </thead>\n",
       "  <tbody>\n",
       "    <tr>\n",
       "      <th>0</th>\n",
       "      <td>ACCESORIES_1_001_NYC_1</td>\n",
       "      <td>ACCESORIES_1_001</td>\n",
       "      <td>ACCESORIES</td>\n",
       "      <td>ACCESORIES_1</td>\n",
       "      <td>Greenwich_Village</td>\n",
       "      <td>NYC_1</td>\n",
       "      <td>New York</td>\n",
       "      <td>0</td>\n",
       "      <td>0</td>\n",
       "      <td>0</td>\n",
       "      <td>...</td>\n",
       "      <td>1</td>\n",
       "      <td>3</td>\n",
       "      <td>0</td>\n",
       "      <td>1</td>\n",
       "      <td>1</td>\n",
       "      <td>1</td>\n",
       "      <td>3</td>\n",
       "      <td>0</td>\n",
       "      <td>1</td>\n",
       "      <td>1</td>\n",
       "    </tr>\n",
       "  </tbody>\n",
       "</table>\n",
       "<p>1 rows × 1920 columns</p>\n",
       "</div>"
      ],
      "text/plain": [
       "                       id              item    category    department  \\\n",
       "0  ACCESORIES_1_001_NYC_1  ACCESORIES_1_001  ACCESORIES  ACCESORIES_1   \n",
       "\n",
       "               store store_code    region  2011-01-29 00:00:00  \\\n",
       "0  Greenwich_Village      NYC_1  New York                    0   \n",
       "\n",
       "   2011-01-30 00:00:00  2011-01-31 00:00:00  ...  2016-04-15 00:00:00  \\\n",
       "0                    0                    0  ...                    1   \n",
       "\n",
       "   2016-04-16 00:00:00  2016-04-17 00:00:00  2016-04-18 00:00:00  \\\n",
       "0                    3                    0                    1   \n",
       "\n",
       "   2016-04-19 00:00:00  2016-04-20 00:00:00  2016-04-21 00:00:00  \\\n",
       "0                    1                    1                    3   \n",
       "\n",
       "   2016-04-22 00:00:00  2016-04-23 00:00:00  2016-04-24 00:00:00  \n",
       "0                    0                    1                    1  \n",
       "\n",
       "[1 rows x 1920 columns]"
      ]
     },
     "execution_count": 12,
     "metadata": {},
     "output_type": "execute_result"
    }
   ],
   "source": [
    "df_sales.head(1)"
   ]
  },
  {
   "cell_type": "markdown",
   "metadata": {},
   "source": [
    "### keep first 7 columns, extract date columns and transform date columns into 1 colunm"
   ]
  },
  {
   "cell_type": "code",
   "execution_count": 13,
   "metadata": {},
   "outputs": [],
   "source": [
    "\n",
    "first_columns = df_sales.iloc[:, :7]\n",
    "\n",
    "\n",
    "date_columns = [col for col in df_sales.columns[7:].to_list()]\n",
    "\n",
    "\n",
    "df_sales_melted = df_sales.melt(id_vars=first_columns.columns.tolist(), value_vars=date_columns, var_name='date', value_name='sales')"
   ]
  },
  {
   "cell_type": "code",
   "execution_count": 14,
   "metadata": {},
   "outputs": [
    {
     "data": {
      "text/plain": [
       "(30490, 1920)"
      ]
     },
     "execution_count": 14,
     "metadata": {},
     "output_type": "execute_result"
    }
   ],
   "source": [
    "df_sales.shape\n"
   ]
  },
  {
   "cell_type": "code",
<<<<<<< HEAD
   "execution_count": 15,
=======
   "execution_count": 17,
>>>>>>> 1dc11c38640c42deb633f51c1abafe32a7c7e42b
   "metadata": {},
   "outputs": [
    {
     "data": {
      "text/html": [
       "<div>\n",
       "<style scoped>\n",
       "    .dataframe tbody tr th:only-of-type {\n",
       "        vertical-align: middle;\n",
       "    }\n",
       "\n",
       "    .dataframe tbody tr th {\n",
       "        vertical-align: top;\n",
       "    }\n",
       "\n",
       "    .dataframe thead th {\n",
       "        text-align: right;\n",
       "    }\n",
       "</style>\n",
       "<table border=\"1\" class=\"dataframe\">\n",
       "  <thead>\n",
       "    <tr style=\"text-align: right;\">\n",
       "      <th></th>\n",
       "      <th>id</th>\n",
       "      <th>item</th>\n",
       "      <th>category</th>\n",
       "      <th>department</th>\n",
       "      <th>store</th>\n",
       "      <th>store_code</th>\n",
       "      <th>region</th>\n",
       "      <th>date</th>\n",
       "      <th>sales</th>\n",
       "    </tr>\n",
       "  </thead>\n",
       "  <tbody>\n",
       "    <tr>\n",
       "      <th>0</th>\n",
       "      <td>ACCESORIES_1_001_NYC_1</td>\n",
       "      <td>ACCESORIES_1_001</td>\n",
       "      <td>ACCESORIES</td>\n",
       "      <td>ACCESORIES_1</td>\n",
       "      <td>Greenwich_Village</td>\n",
       "      <td>NYC_1</td>\n",
       "      <td>New York</td>\n",
       "      <td>2011-01-29 00:00:00</td>\n",
       "      <td>0</td>\n",
       "    </tr>\n",
       "    <tr>\n",
       "      <th>1</th>\n",
       "      <td>ACCESORIES_1_002_NYC_1</td>\n",
       "      <td>ACCESORIES_1_002</td>\n",
       "      <td>ACCESORIES</td>\n",
       "      <td>ACCESORIES_1</td>\n",
       "      <td>Greenwich_Village</td>\n",
       "      <td>NYC_1</td>\n",
       "      <td>New York</td>\n",
       "      <td>2011-01-29 00:00:00</td>\n",
       "      <td>0</td>\n",
       "    </tr>\n",
       "    <tr>\n",
       "      <th>2</th>\n",
       "      <td>ACCESORIES_1_003_NYC_1</td>\n",
       "      <td>ACCESORIES_1_003</td>\n",
       "      <td>ACCESORIES</td>\n",
       "      <td>ACCESORIES_1</td>\n",
       "      <td>Greenwich_Village</td>\n",
       "      <td>NYC_1</td>\n",
       "      <td>New York</td>\n",
       "      <td>2011-01-29 00:00:00</td>\n",
       "      <td>0</td>\n",
       "    </tr>\n",
       "    <tr>\n",
       "      <th>3</th>\n",
       "      <td>ACCESORIES_1_004_NYC_1</td>\n",
       "      <td>ACCESORIES_1_004</td>\n",
       "      <td>ACCESORIES</td>\n",
       "      <td>ACCESORIES_1</td>\n",
       "      <td>Greenwich_Village</td>\n",
       "      <td>NYC_1</td>\n",
       "      <td>New York</td>\n",
       "      <td>2011-01-29 00:00:00</td>\n",
       "      <td>0</td>\n",
       "    </tr>\n",
       "    <tr>\n",
       "      <th>4</th>\n",
       "      <td>ACCESORIES_1_005_NYC_1</td>\n",
       "      <td>ACCESORIES_1_005</td>\n",
       "      <td>ACCESORIES</td>\n",
       "      <td>ACCESORIES_1</td>\n",
       "      <td>Greenwich_Village</td>\n",
       "      <td>NYC_1</td>\n",
       "      <td>New York</td>\n",
       "      <td>2011-01-29 00:00:00</td>\n",
       "      <td>0</td>\n",
       "    </tr>\n",
       "    <tr>\n",
       "      <th>...</th>\n",
       "      <td>...</td>\n",
       "      <td>...</td>\n",
       "      <td>...</td>\n",
       "      <td>...</td>\n",
       "      <td>...</td>\n",
       "      <td>...</td>\n",
       "      <td>...</td>\n",
       "      <td>...</td>\n",
       "      <td>...</td>\n",
       "    </tr>\n",
       "    <tr>\n",
       "      <th>58327365</th>\n",
       "      <td>SUPERMARKET_3_823_PHI_3</td>\n",
       "      <td>SUPERMARKET_3_823</td>\n",
       "      <td>SUPERMARKET</td>\n",
       "      <td>SUPERMARKET_3</td>\n",
       "      <td>Queen_Village</td>\n",
       "      <td>PHI_3</td>\n",
       "      <td>Philadelphia</td>\n",
       "      <td>2016-04-24 00:00:00</td>\n",
       "      <td>1</td>\n",
       "    </tr>\n",
       "    <tr>\n",
       "      <th>58327366</th>\n",
       "      <td>SUPERMARKET_3_824_PHI_3</td>\n",
       "      <td>SUPERMARKET_3_824</td>\n",
       "      <td>SUPERMARKET</td>\n",
       "      <td>SUPERMARKET_3</td>\n",
       "      <td>Queen_Village</td>\n",
       "      <td>PHI_3</td>\n",
       "      <td>Philadelphia</td>\n",
       "      <td>2016-04-24 00:00:00</td>\n",
       "      <td>0</td>\n",
       "    </tr>\n",
       "    <tr>\n",
       "      <th>58327367</th>\n",
       "      <td>SUPERMARKET_3_825_PHI_3</td>\n",
       "      <td>SUPERMARKET_3_825</td>\n",
       "      <td>SUPERMARKET</td>\n",
       "      <td>SUPERMARKET_3</td>\n",
       "      <td>Queen_Village</td>\n",
       "      <td>PHI_3</td>\n",
       "      <td>Philadelphia</td>\n",
       "      <td>2016-04-24 00:00:00</td>\n",
       "      <td>0</td>\n",
       "    </tr>\n",
       "    <tr>\n",
       "      <th>58327368</th>\n",
       "      <td>SUPERMARKET_3_826_PHI_3</td>\n",
       "      <td>SUPERMARKET_3_826</td>\n",
       "      <td>SUPERMARKET</td>\n",
       "      <td>SUPERMARKET_3</td>\n",
       "      <td>Queen_Village</td>\n",
       "      <td>PHI_3</td>\n",
       "      <td>Philadelphia</td>\n",
       "      <td>2016-04-24 00:00:00</td>\n",
       "      <td>3</td>\n",
       "    </tr>\n",
       "    <tr>\n",
       "      <th>58327369</th>\n",
       "      <td>SUPERMARKET_3_827_PHI_3</td>\n",
       "      <td>SUPERMARKET_3_827</td>\n",
       "      <td>SUPERMARKET</td>\n",
       "      <td>SUPERMARKET_3</td>\n",
       "      <td>Queen_Village</td>\n",
       "      <td>PHI_3</td>\n",
       "      <td>Philadelphia</td>\n",
       "      <td>2016-04-24 00:00:00</td>\n",
       "      <td>0</td>\n",
       "    </tr>\n",
       "  </tbody>\n",
       "</table>\n",
       "<p>58327370 rows × 9 columns</p>\n",
       "</div>"
      ],
      "text/plain": [
       "                               id               item     category  \\\n",
       "0          ACCESORIES_1_001_NYC_1   ACCESORIES_1_001   ACCESORIES   \n",
       "1          ACCESORIES_1_002_NYC_1   ACCESORIES_1_002   ACCESORIES   \n",
       "2          ACCESORIES_1_003_NYC_1   ACCESORIES_1_003   ACCESORIES   \n",
       "3          ACCESORIES_1_004_NYC_1   ACCESORIES_1_004   ACCESORIES   \n",
       "4          ACCESORIES_1_005_NYC_1   ACCESORIES_1_005   ACCESORIES   \n",
       "...                           ...                ...          ...   \n",
       "58327365  SUPERMARKET_3_823_PHI_3  SUPERMARKET_3_823  SUPERMARKET   \n",
       "58327366  SUPERMARKET_3_824_PHI_3  SUPERMARKET_3_824  SUPERMARKET   \n",
       "58327367  SUPERMARKET_3_825_PHI_3  SUPERMARKET_3_825  SUPERMARKET   \n",
       "58327368  SUPERMARKET_3_826_PHI_3  SUPERMARKET_3_826  SUPERMARKET   \n",
       "58327369  SUPERMARKET_3_827_PHI_3  SUPERMARKET_3_827  SUPERMARKET   \n",
       "\n",
       "             department              store store_code        region  \\\n",
       "0          ACCESORIES_1  Greenwich_Village      NYC_1      New York   \n",
       "1          ACCESORIES_1  Greenwich_Village      NYC_1      New York   \n",
       "2          ACCESORIES_1  Greenwich_Village      NYC_1      New York   \n",
       "3          ACCESORIES_1  Greenwich_Village      NYC_1      New York   \n",
       "4          ACCESORIES_1  Greenwich_Village      NYC_1      New York   \n",
       "...                 ...                ...        ...           ...   \n",
       "58327365  SUPERMARKET_3      Queen_Village      PHI_3  Philadelphia   \n",
       "58327366  SUPERMARKET_3      Queen_Village      PHI_3  Philadelphia   \n",
       "58327367  SUPERMARKET_3      Queen_Village      PHI_3  Philadelphia   \n",
       "58327368  SUPERMARKET_3      Queen_Village      PHI_3  Philadelphia   \n",
       "58327369  SUPERMARKET_3      Queen_Village      PHI_3  Philadelphia   \n",
       "\n",
       "                         date  sales  \n",
       "0         2011-01-29 00:00:00      0  \n",
       "1         2011-01-29 00:00:00      0  \n",
       "2         2011-01-29 00:00:00      0  \n",
       "3         2011-01-29 00:00:00      0  \n",
       "4         2011-01-29 00:00:00      0  \n",
       "...                       ...    ...  \n",
       "58327365  2016-04-24 00:00:00      1  \n",
       "58327366  2016-04-24 00:00:00      0  \n",
       "58327367  2016-04-24 00:00:00      0  \n",
       "58327368  2016-04-24 00:00:00      3  \n",
       "58327369  2016-04-24 00:00:00      0  \n",
       "\n",
       "[58327370 rows x 9 columns]"
      ]
     },
<<<<<<< HEAD
     "execution_count": 15,
=======
     "execution_count": 17,
>>>>>>> 1dc11c38640c42deb633f51c1abafe32a7c7e42b
     "metadata": {},
     "output_type": "execute_result"
    }
   ],
   "source": [
    "df_sales_melted"
   ]
  },
  {
   "cell_type": "code",
<<<<<<< HEAD
   "execution_count": 16,
   "metadata": {},
   "outputs": [
    {
     "name": "stderr",
     "output_type": "stream",
     "text": [
      "C:\\Users\\rafas\\AppData\\Local\\Packages\\PythonSoftwareFoundation.Python.3.11_qbz5n2kfra8p0\\LocalCache\\local-packages\\Python311\\site-packages\\pandas\\core\\indexes\\base.py:7588: FutureWarning: Dtype inference on a pandas object (Series, Index, ExtensionArray) is deprecated. The Index constructor will keep the original dtype in the future. Call `infer_objects` on the result to get the old behavior.\n",
      "  return Index(sequences[0], name=names)\n"
     ]
    }
   ],
=======
   "execution_count": null,
   "metadata": {},
   "outputs": [],
>>>>>>> 1dc11c38640c42deb633f51c1abafe32a7c7e42b
   "source": [
    "df_sales_melted.set_index(\"date\", inplace=True)"
   ]
  },
  {
   "cell_type": "code",
   "execution_count": 19,
   "metadata": {},
   "outputs": [],
   "source": []
  },
  {
   "cell_type": "markdown",
   "metadata": {},
   "source": [
    "### create a file for time series so to use it afterwards"
   ]
  },
  {
   "cell_type": "code",
<<<<<<< HEAD
   "execution_count": 17,
=======
   "execution_count": null,
>>>>>>> 1dc11c38640c42deb633f51c1abafe32a7c7e42b
   "metadata": {},
   "outputs": [],
   "source": [
    "df_prediction = df_sales_melted.copy()"
   ]
  },
  {
   "cell_type": "code",
<<<<<<< HEAD
   "execution_count": 18,
=======
   "execution_count": 20,
>>>>>>> 1dc11c38640c42deb633f51c1abafe32a7c7e42b
   "metadata": {},
   "outputs": [],
   "source": [
    "df_prediction.drop([\"item\", \"category\", \"department\", \"store\", \"store_code\", \"region\"],axis=1, inplace=True)"
   ]
  },
  {
   "cell_type": "code",
<<<<<<< HEAD
   "execution_count": 19,
   "metadata": {},
   "outputs": [
    {
     "ename": "KeyError",
     "evalue": "'date'",
     "output_type": "error",
     "traceback": [
      "\u001b[1;31m---------------------------------------------------------------------------\u001b[0m",
      "\u001b[1;31mKeyError\u001b[0m                                  Traceback (most recent call last)",
      "File \u001b[1;32m~\\AppData\\Local\\Packages\\PythonSoftwareFoundation.Python.3.11_qbz5n2kfra8p0\\LocalCache\\local-packages\\Python311\\site-packages\\pandas\\core\\indexes\\base.py:3805\u001b[0m, in \u001b[0;36mIndex.get_loc\u001b[1;34m(self, key)\u001b[0m\n\u001b[0;32m   3804\u001b[0m \u001b[38;5;28;01mtry\u001b[39;00m:\n\u001b[1;32m-> 3805\u001b[0m     \u001b[38;5;28;01mreturn\u001b[39;00m \u001b[38;5;28;43mself\u001b[39;49m\u001b[38;5;241;43m.\u001b[39;49m\u001b[43m_engine\u001b[49m\u001b[38;5;241;43m.\u001b[39;49m\u001b[43mget_loc\u001b[49m\u001b[43m(\u001b[49m\u001b[43mcasted_key\u001b[49m\u001b[43m)\u001b[49m\n\u001b[0;32m   3806\u001b[0m \u001b[38;5;28;01mexcept\u001b[39;00m \u001b[38;5;167;01mKeyError\u001b[39;00m \u001b[38;5;28;01mas\u001b[39;00m err:\n",
      "File \u001b[1;32mindex.pyx:167\u001b[0m, in \u001b[0;36mpandas._libs.index.IndexEngine.get_loc\u001b[1;34m()\u001b[0m\n",
      "File \u001b[1;32mindex.pyx:196\u001b[0m, in \u001b[0;36mpandas._libs.index.IndexEngine.get_loc\u001b[1;34m()\u001b[0m\n",
      "File \u001b[1;32mpandas\\\\_libs\\\\hashtable_class_helper.pxi:7081\u001b[0m, in \u001b[0;36mpandas._libs.hashtable.PyObjectHashTable.get_item\u001b[1;34m()\u001b[0m\n",
      "File \u001b[1;32mpandas\\\\_libs\\\\hashtable_class_helper.pxi:7089\u001b[0m, in \u001b[0;36mpandas._libs.hashtable.PyObjectHashTable.get_item\u001b[1;34m()\u001b[0m\n",
      "\u001b[1;31mKeyError\u001b[0m: 'date'",
      "\nThe above exception was the direct cause of the following exception:\n",
      "\u001b[1;31mKeyError\u001b[0m                                  Traceback (most recent call last)",
      "Cell \u001b[1;32mIn[19], line 1\u001b[0m\n\u001b[1;32m----> 1\u001b[0m df_prediction[\u001b[38;5;124m\"\u001b[39m\u001b[38;5;124mdate\u001b[39m\u001b[38;5;124m\"\u001b[39m] \u001b[38;5;241m=\u001b[39m pd\u001b[38;5;241m.\u001b[39mto_datetime(\u001b[43mdf_prediction\u001b[49m\u001b[43m[\u001b[49m\u001b[38;5;124;43m\"\u001b[39;49m\u001b[38;5;124;43mdate\u001b[39;49m\u001b[38;5;124;43m\"\u001b[39;49m\u001b[43m]\u001b[49m, \u001b[38;5;28mformat\u001b[39m\u001b[38;5;241m=\u001b[39m\u001b[38;5;124m\"\u001b[39m\u001b[38;5;124m%\u001b[39m\u001b[38;5;124my-\u001b[39m\u001b[38;5;124m%\u001b[39m\u001b[38;5;124mm-\u001b[39m\u001b[38;5;132;01m%d\u001b[39;00m\u001b[38;5;124m\"\u001b[39m)\n",
      "File \u001b[1;32m~\\AppData\\Local\\Packages\\PythonSoftwareFoundation.Python.3.11_qbz5n2kfra8p0\\LocalCache\\local-packages\\Python311\\site-packages\\pandas\\core\\frame.py:4102\u001b[0m, in \u001b[0;36mDataFrame.__getitem__\u001b[1;34m(self, key)\u001b[0m\n\u001b[0;32m   4100\u001b[0m \u001b[38;5;28;01mif\u001b[39;00m \u001b[38;5;28mself\u001b[39m\u001b[38;5;241m.\u001b[39mcolumns\u001b[38;5;241m.\u001b[39mnlevels \u001b[38;5;241m>\u001b[39m \u001b[38;5;241m1\u001b[39m:\n\u001b[0;32m   4101\u001b[0m     \u001b[38;5;28;01mreturn\u001b[39;00m \u001b[38;5;28mself\u001b[39m\u001b[38;5;241m.\u001b[39m_getitem_multilevel(key)\n\u001b[1;32m-> 4102\u001b[0m indexer \u001b[38;5;241m=\u001b[39m \u001b[38;5;28;43mself\u001b[39;49m\u001b[38;5;241;43m.\u001b[39;49m\u001b[43mcolumns\u001b[49m\u001b[38;5;241;43m.\u001b[39;49m\u001b[43mget_loc\u001b[49m\u001b[43m(\u001b[49m\u001b[43mkey\u001b[49m\u001b[43m)\u001b[49m\n\u001b[0;32m   4103\u001b[0m \u001b[38;5;28;01mif\u001b[39;00m is_integer(indexer):\n\u001b[0;32m   4104\u001b[0m     indexer \u001b[38;5;241m=\u001b[39m [indexer]\n",
      "File \u001b[1;32m~\\AppData\\Local\\Packages\\PythonSoftwareFoundation.Python.3.11_qbz5n2kfra8p0\\LocalCache\\local-packages\\Python311\\site-packages\\pandas\\core\\indexes\\base.py:3812\u001b[0m, in \u001b[0;36mIndex.get_loc\u001b[1;34m(self, key)\u001b[0m\n\u001b[0;32m   3807\u001b[0m     \u001b[38;5;28;01mif\u001b[39;00m \u001b[38;5;28misinstance\u001b[39m(casted_key, \u001b[38;5;28mslice\u001b[39m) \u001b[38;5;129;01mor\u001b[39;00m (\n\u001b[0;32m   3808\u001b[0m         \u001b[38;5;28misinstance\u001b[39m(casted_key, abc\u001b[38;5;241m.\u001b[39mIterable)\n\u001b[0;32m   3809\u001b[0m         \u001b[38;5;129;01mand\u001b[39;00m \u001b[38;5;28many\u001b[39m(\u001b[38;5;28misinstance\u001b[39m(x, \u001b[38;5;28mslice\u001b[39m) \u001b[38;5;28;01mfor\u001b[39;00m x \u001b[38;5;129;01min\u001b[39;00m casted_key)\n\u001b[0;32m   3810\u001b[0m     ):\n\u001b[0;32m   3811\u001b[0m         \u001b[38;5;28;01mraise\u001b[39;00m InvalidIndexError(key)\n\u001b[1;32m-> 3812\u001b[0m     \u001b[38;5;28;01mraise\u001b[39;00m \u001b[38;5;167;01mKeyError\u001b[39;00m(key) \u001b[38;5;28;01mfrom\u001b[39;00m \u001b[38;5;21;01merr\u001b[39;00m\n\u001b[0;32m   3813\u001b[0m \u001b[38;5;28;01mexcept\u001b[39;00m \u001b[38;5;167;01mTypeError\u001b[39;00m:\n\u001b[0;32m   3814\u001b[0m     \u001b[38;5;66;03m# If we have a listlike key, _check_indexing_error will raise\u001b[39;00m\n\u001b[0;32m   3815\u001b[0m     \u001b[38;5;66;03m#  InvalidIndexError. Otherwise we fall through and re-raise\u001b[39;00m\n\u001b[0;32m   3816\u001b[0m     \u001b[38;5;66;03m#  the TypeError.\u001b[39;00m\n\u001b[0;32m   3817\u001b[0m     \u001b[38;5;28mself\u001b[39m\u001b[38;5;241m.\u001b[39m_check_indexing_error(key)\n",
      "\u001b[1;31mKeyError\u001b[0m: 'date'"
     ]
    }
   ],
=======
   "execution_count": 22,
   "metadata": {},
   "outputs": [],
>>>>>>> 1dc11c38640c42deb633f51c1abafe32a7c7e42b
   "source": [
    "df_prediction[\"date\"] = pd.to_datetime(df_prediction[\"date\"], format=\"%y-%m-%d\")"
   ]
  },
  {
   "cell_type": "code",
   "execution_count": 23,
   "metadata": {},
   "outputs": [],
   "source": [
<<<<<<< HEAD
    "#file_name = \"sales_prediction.csv\"\n",
    "#df_prediction.to_csv(file_name)"
=======
    "file_name = \"sales_prediction.csv\"\n",
    "df_prediction.to_csv(file_name)"
>>>>>>> 1dc11c38640c42deb633f51c1abafe32a7c7e42b
   ]
  },
  {
   "cell_type": "markdown",
   "metadata": {},
   "source": [
    "### resample by months"
   ]
  },
  {
   "cell_type": "code",
   "execution_count": 61,
   "metadata": {},
   "outputs": [
    {
     "name": "stderr",
     "output_type": "stream",
     "text": [
      "C:\\Users\\rafas\\AppData\\Local\\Temp\\ipykernel_5752\\2759493532.py:1: FutureWarning: 'M' is deprecated and will be removed in a future version, please use 'ME' instead.\n",
      "  df_sales = df_sales_melted.groupby([\"id\", \"store\"])[\"sales\"].resample(\"M\").sum().reset_index()\n"
     ]
    }
   ],
   "source": [
    "df_sales = df_sales_melted.groupby([\"id\", \"store\"])[\"sales\"].resample(\"M\").sum().reset_index()\n"
   ]
  },
  {
   "cell_type": "code",
   "execution_count": 62,
   "metadata": {},
   "outputs": [
    {
     "data": {
      "text/html": [
       "<div>\n",
       "<style scoped>\n",
       "    .dataframe tbody tr th:only-of-type {\n",
       "        vertical-align: middle;\n",
       "    }\n",
       "\n",
       "    .dataframe tbody tr th {\n",
       "        vertical-align: top;\n",
       "    }\n",
       "\n",
       "    .dataframe thead th {\n",
       "        text-align: right;\n",
       "    }\n",
       "</style>\n",
       "<table border=\"1\" class=\"dataframe\">\n",
       "  <thead>\n",
       "    <tr style=\"text-align: right;\">\n",
       "      <th></th>\n",
       "      <th>id</th>\n",
       "      <th>store</th>\n",
       "      <th>date</th>\n",
       "      <th>sales</th>\n",
       "    </tr>\n",
       "  </thead>\n",
       "  <tbody>\n",
       "    <tr>\n",
       "      <th>0</th>\n",
       "      <td>ACCESORIES_1_001_BOS_1</td>\n",
       "      <td>South_End</td>\n",
       "      <td>2011-01-31</td>\n",
       "      <td>0</td>\n",
       "    </tr>\n",
       "    <tr>\n",
       "      <th>1</th>\n",
       "      <td>ACCESORIES_1_001_BOS_1</td>\n",
       "      <td>South_End</td>\n",
       "      <td>2011-02-28</td>\n",
       "      <td>0</td>\n",
       "    </tr>\n",
       "    <tr>\n",
       "      <th>2</th>\n",
       "      <td>ACCESORIES_1_001_BOS_1</td>\n",
       "      <td>South_End</td>\n",
       "      <td>2011-03-31</td>\n",
       "      <td>0</td>\n",
       "    </tr>\n",
       "    <tr>\n",
       "      <th>3</th>\n",
       "      <td>ACCESORIES_1_001_BOS_1</td>\n",
       "      <td>South_End</td>\n",
       "      <td>2011-04-30</td>\n",
       "      <td>0</td>\n",
       "    </tr>\n",
       "    <tr>\n",
       "      <th>4</th>\n",
       "      <td>ACCESORIES_1_001_BOS_1</td>\n",
       "      <td>South_End</td>\n",
       "      <td>2011-05-31</td>\n",
       "      <td>0</td>\n",
       "    </tr>\n",
       "    <tr>\n",
       "      <th>...</th>\n",
       "      <td>...</td>\n",
       "      <td>...</td>\n",
       "      <td>...</td>\n",
       "      <td>...</td>\n",
       "    </tr>\n",
       "    <tr>\n",
       "      <th>1951355</th>\n",
       "      <td>SUPERMARKET_3_827_PHI_3</td>\n",
       "      <td>Queen_Village</td>\n",
       "      <td>2015-12-31</td>\n",
       "      <td>41</td>\n",
       "    </tr>\n",
       "    <tr>\n",
       "      <th>1951356</th>\n",
       "      <td>SUPERMARKET_3_827_PHI_3</td>\n",
       "      <td>Queen_Village</td>\n",
       "      <td>2016-01-31</td>\n",
       "      <td>49</td>\n",
       "    </tr>\n",
       "    <tr>\n",
       "      <th>1951357</th>\n",
       "      <td>SUPERMARKET_3_827_PHI_3</td>\n",
       "      <td>Queen_Village</td>\n",
       "      <td>2016-02-29</td>\n",
       "      <td>46</td>\n",
       "    </tr>\n",
       "    <tr>\n",
       "      <th>1951358</th>\n",
       "      <td>SUPERMARKET_3_827_PHI_3</td>\n",
       "      <td>Queen_Village</td>\n",
       "      <td>2016-03-31</td>\n",
       "      <td>68</td>\n",
       "    </tr>\n",
       "    <tr>\n",
       "      <th>1951359</th>\n",
       "      <td>SUPERMARKET_3_827_PHI_3</td>\n",
       "      <td>Queen_Village</td>\n",
       "      <td>2016-04-30</td>\n",
       "      <td>15</td>\n",
       "    </tr>\n",
       "  </tbody>\n",
       "</table>\n",
       "<p>1951360 rows × 4 columns</p>\n",
       "</div>"
      ],
      "text/plain": [
       "                              id          store       date  sales\n",
       "0         ACCESORIES_1_001_BOS_1      South_End 2011-01-31      0\n",
       "1         ACCESORIES_1_001_BOS_1      South_End 2011-02-28      0\n",
       "2         ACCESORIES_1_001_BOS_1      South_End 2011-03-31      0\n",
       "3         ACCESORIES_1_001_BOS_1      South_End 2011-04-30      0\n",
       "4         ACCESORIES_1_001_BOS_1      South_End 2011-05-31      0\n",
       "...                          ...            ...        ...    ...\n",
       "1951355  SUPERMARKET_3_827_PHI_3  Queen_Village 2015-12-31     41\n",
       "1951356  SUPERMARKET_3_827_PHI_3  Queen_Village 2016-01-31     49\n",
       "1951357  SUPERMARKET_3_827_PHI_3  Queen_Village 2016-02-29     46\n",
       "1951358  SUPERMARKET_3_827_PHI_3  Queen_Village 2016-03-31     68\n",
       "1951359  SUPERMARKET_3_827_PHI_3  Queen_Village 2016-04-30     15\n",
       "\n",
       "[1951360 rows x 4 columns]"
      ]
     },
     "execution_count": 62,
     "metadata": {},
     "output_type": "execute_result"
    }
   ],
   "source": [
    "df_sales"
   ]
  },
  {
   "cell_type": "code",
   "execution_count": 63,
   "metadata": {},
   "outputs": [],
   "source": [
    "#file_name = \"cleaned_sales.csv\"\n",
    "#df_sales.to_csv(file_name)"
   ]
  },
  {
   "cell_type": "code",
   "execution_count": 64,
   "metadata": {},
   "outputs": [
    {
     "data": {
      "text/html": [
       "<div>\n",
       "<style scoped>\n",
       "    .dataframe tbody tr th:only-of-type {\n",
       "        vertical-align: middle;\n",
       "    }\n",
       "\n",
       "    .dataframe tbody tr th {\n",
       "        vertical-align: top;\n",
       "    }\n",
       "\n",
       "    .dataframe thead th {\n",
       "        text-align: right;\n",
       "    }\n",
       "</style>\n",
       "<table border=\"1\" class=\"dataframe\">\n",
       "  <thead>\n",
       "    <tr style=\"text-align: right;\">\n",
       "      <th></th>\n",
       "      <th>id</th>\n",
       "      <th>store</th>\n",
       "      <th>date</th>\n",
       "      <th>sales</th>\n",
       "    </tr>\n",
       "  </thead>\n",
       "  <tbody>\n",
       "    <tr>\n",
       "      <th>0</th>\n",
       "      <td>ACCESORIES_1_001_BOS_1</td>\n",
       "      <td>South_End</td>\n",
       "      <td>2011-01-31</td>\n",
       "      <td>0</td>\n",
       "    </tr>\n",
       "    <tr>\n",
       "      <th>1</th>\n",
       "      <td>ACCESORIES_1_001_BOS_1</td>\n",
       "      <td>South_End</td>\n",
       "      <td>2011-02-28</td>\n",
       "      <td>0</td>\n",
       "    </tr>\n",
       "    <tr>\n",
       "      <th>2</th>\n",
       "      <td>ACCESORIES_1_001_BOS_1</td>\n",
       "      <td>South_End</td>\n",
       "      <td>2011-03-31</td>\n",
       "      <td>0</td>\n",
       "    </tr>\n",
       "    <tr>\n",
       "      <th>3</th>\n",
       "      <td>ACCESORIES_1_001_BOS_1</td>\n",
       "      <td>South_End</td>\n",
       "      <td>2011-04-30</td>\n",
       "      <td>0</td>\n",
       "    </tr>\n",
       "    <tr>\n",
       "      <th>4</th>\n",
       "      <td>ACCESORIES_1_001_BOS_1</td>\n",
       "      <td>South_End</td>\n",
       "      <td>2011-05-31</td>\n",
       "      <td>0</td>\n",
       "    </tr>\n",
       "    <tr>\n",
       "      <th>...</th>\n",
       "      <td>...</td>\n",
       "      <td>...</td>\n",
       "      <td>...</td>\n",
       "      <td>...</td>\n",
       "    </tr>\n",
       "    <tr>\n",
       "      <th>1951355</th>\n",
       "      <td>SUPERMARKET_3_827_PHI_3</td>\n",
       "      <td>Queen_Village</td>\n",
       "      <td>2015-12-31</td>\n",
       "      <td>41</td>\n",
       "    </tr>\n",
       "    <tr>\n",
       "      <th>1951356</th>\n",
       "      <td>SUPERMARKET_3_827_PHI_3</td>\n",
       "      <td>Queen_Village</td>\n",
       "      <td>2016-01-31</td>\n",
       "      <td>49</td>\n",
       "    </tr>\n",
       "    <tr>\n",
       "      <th>1951357</th>\n",
       "      <td>SUPERMARKET_3_827_PHI_3</td>\n",
       "      <td>Queen_Village</td>\n",
       "      <td>2016-02-29</td>\n",
       "      <td>46</td>\n",
       "    </tr>\n",
       "    <tr>\n",
       "      <th>1951358</th>\n",
       "      <td>SUPERMARKET_3_827_PHI_3</td>\n",
       "      <td>Queen_Village</td>\n",
       "      <td>2016-03-31</td>\n",
       "      <td>68</td>\n",
       "    </tr>\n",
       "    <tr>\n",
       "      <th>1951359</th>\n",
       "      <td>SUPERMARKET_3_827_PHI_3</td>\n",
       "      <td>Queen_Village</td>\n",
       "      <td>2016-04-30</td>\n",
       "      <td>15</td>\n",
       "    </tr>\n",
       "  </tbody>\n",
       "</table>\n",
       "<p>1951360 rows × 4 columns</p>\n",
       "</div>"
      ],
      "text/plain": [
       "                              id          store       date  sales\n",
       "0         ACCESORIES_1_001_BOS_1      South_End 2011-01-31      0\n",
       "1         ACCESORIES_1_001_BOS_1      South_End 2011-02-28      0\n",
       "2         ACCESORIES_1_001_BOS_1      South_End 2011-03-31      0\n",
       "3         ACCESORIES_1_001_BOS_1      South_End 2011-04-30      0\n",
       "4         ACCESORIES_1_001_BOS_1      South_End 2011-05-31      0\n",
       "...                          ...            ...        ...    ...\n",
       "1951355  SUPERMARKET_3_827_PHI_3  Queen_Village 2015-12-31     41\n",
       "1951356  SUPERMARKET_3_827_PHI_3  Queen_Village 2016-01-31     49\n",
       "1951357  SUPERMARKET_3_827_PHI_3  Queen_Village 2016-02-29     46\n",
       "1951358  SUPERMARKET_3_827_PHI_3  Queen_Village 2016-03-31     68\n",
       "1951359  SUPERMARKET_3_827_PHI_3  Queen_Village 2016-04-30     15\n",
       "\n",
       "[1951360 rows x 4 columns]"
      ]
     },
     "execution_count": 64,
     "metadata": {},
     "output_type": "execute_result"
    }
   ],
   "source": [
    "df_sales"
   ]
  },
  {
   "cell_type": "markdown",
   "metadata": {},
   "source": [
    "## Clustering "
   ]
  },
  {
   "cell_type": "code",
   "execution_count": 65,
   "metadata": {},
   "outputs": [],
   "source": [
    "df_sales_cluster = df_sales.groupby(['id'])['sales'].sum().reset_index()"
   ]
  },
  {
   "cell_type": "code",
   "execution_count": 66,
   "metadata": {},
   "outputs": [],
   "source": [
    "df_sales_cluster[\"item\"] = df_sales_cluster[\"id\"].apply(lambda x: x[:-6])"
   ]
  },
  {
   "cell_type": "code",
<<<<<<< HEAD
=======
   "execution_count": null,
   "metadata": {},
   "outputs": [],
   "source": []
  },
  {
   "cell_type": "code",
>>>>>>> 1dc11c38640c42deb633f51c1abafe32a7c7e42b
   "execution_count": 67,
   "metadata": {},
   "outputs": [
    {
     "data": {
      "text/html": [
       "<div>\n",
       "<style scoped>\n",
       "    .dataframe tbody tr th:only-of-type {\n",
       "        vertical-align: middle;\n",
       "    }\n",
       "\n",
       "    .dataframe tbody tr th {\n",
       "        vertical-align: top;\n",
       "    }\n",
       "\n",
       "    .dataframe thead th {\n",
       "        text-align: right;\n",
       "    }\n",
       "</style>\n",
       "<table border=\"1\" class=\"dataframe\">\n",
       "  <thead>\n",
       "    <tr style=\"text-align: right;\">\n",
       "      <th></th>\n",
       "      <th>id</th>\n",
       "      <th>sales</th>\n",
       "      <th>item</th>\n",
       "    </tr>\n",
       "  </thead>\n",
       "  <tbody>\n",
       "    <tr>\n",
       "      <th>0</th>\n",
       "      <td>ACCESORIES_1_001_BOS_1</td>\n",
       "      <td>260</td>\n",
       "      <td>ACCESORIES_1_001</td>\n",
       "    </tr>\n",
       "    <tr>\n",
       "      <th>1</th>\n",
       "      <td>ACCESORIES_1_001_BOS_2</td>\n",
       "      <td>402</td>\n",
       "      <td>ACCESORIES_1_001</td>\n",
       "    </tr>\n",
       "    <tr>\n",
       "      <th>2</th>\n",
       "      <td>ACCESORIES_1_001_BOS_3</td>\n",
       "      <td>385</td>\n",
       "      <td>ACCESORIES_1_001</td>\n",
       "    </tr>\n",
       "    <tr>\n",
       "      <th>3</th>\n",
       "      <td>ACCESORIES_1_001_NYC_1</td>\n",
       "      <td>600</td>\n",
       "      <td>ACCESORIES_1_001</td>\n",
       "    </tr>\n",
       "    <tr>\n",
       "      <th>4</th>\n",
       "      <td>ACCESORIES_1_001_NYC_2</td>\n",
       "      <td>542</td>\n",
       "      <td>ACCESORIES_1_001</td>\n",
       "    </tr>\n",
       "    <tr>\n",
       "      <th>...</th>\n",
       "      <td>...</td>\n",
       "      <td>...</td>\n",
       "      <td>...</td>\n",
       "    </tr>\n",
       "    <tr>\n",
       "      <th>30485</th>\n",
       "      <td>SUPERMARKET_3_827_NYC_3</td>\n",
       "      <td>2572</td>\n",
       "      <td>SUPERMARKET_3_827</td>\n",
       "    </tr>\n",
       "    <tr>\n",
       "      <th>30486</th>\n",
       "      <td>SUPERMARKET_3_827_NYC_4</td>\n",
       "      <td>93</td>\n",
       "      <td>SUPERMARKET_3_827</td>\n",
       "    </tr>\n",
       "    <tr>\n",
       "      <th>30487</th>\n",
       "      <td>SUPERMARKET_3_827_PHI_1</td>\n",
       "      <td>2732</td>\n",
       "      <td>SUPERMARKET_3_827</td>\n",
       "    </tr>\n",
       "    <tr>\n",
       "      <th>30488</th>\n",
       "      <td>SUPERMARKET_3_827_PHI_2</td>\n",
       "      <td>867</td>\n",
       "      <td>SUPERMARKET_3_827</td>\n",
       "    </tr>\n",
       "    <tr>\n",
       "      <th>30489</th>\n",
       "      <td>SUPERMARKET_3_827_PHI_3</td>\n",
       "      <td>1329</td>\n",
       "      <td>SUPERMARKET_3_827</td>\n",
       "    </tr>\n",
       "  </tbody>\n",
       "</table>\n",
       "<p>30490 rows × 3 columns</p>\n",
       "</div>"
      ],
      "text/plain": [
       "                            id  sales               item\n",
       "0       ACCESORIES_1_001_BOS_1    260   ACCESORIES_1_001\n",
       "1       ACCESORIES_1_001_BOS_2    402   ACCESORIES_1_001\n",
       "2       ACCESORIES_1_001_BOS_3    385   ACCESORIES_1_001\n",
       "3       ACCESORIES_1_001_NYC_1    600   ACCESORIES_1_001\n",
       "4       ACCESORIES_1_001_NYC_2    542   ACCESORIES_1_001\n",
       "...                        ...    ...                ...\n",
       "30485  SUPERMARKET_3_827_NYC_3   2572  SUPERMARKET_3_827\n",
       "30486  SUPERMARKET_3_827_NYC_4     93  SUPERMARKET_3_827\n",
       "30487  SUPERMARKET_3_827_PHI_1   2732  SUPERMARKET_3_827\n",
       "30488  SUPERMARKET_3_827_PHI_2    867  SUPERMARKET_3_827\n",
       "30489  SUPERMARKET_3_827_PHI_3   1329  SUPERMARKET_3_827\n",
       "\n",
       "[30490 rows x 3 columns]"
      ]
     },
     "execution_count": 67,
     "metadata": {},
     "output_type": "execute_result"
    }
   ],
   "source": [
    "df_sales_cluster"
   ]
  },
  {
   "cell_type": "code",
   "execution_count": 68,
   "metadata": {},
   "outputs": [],
   "source": [
    "columns = [\"id\",\"item\", \"sales\"]"
   ]
  },
  {
   "cell_type": "code",
   "execution_count": 69,
   "metadata": {},
   "outputs": [],
   "source": [
    "df_sales_cluster = df_sales_cluster[columns]"
   ]
  },
  {
   "cell_type": "code",
   "execution_count": 70,
   "metadata": {},
   "outputs": [],
   "source": [
    "df_sales_cluster = df_sales_cluster.groupby(['item'])['sales'].sum().reset_index()"
   ]
  },
  {
   "cell_type": "code",
   "execution_count": 71,
   "metadata": {},
   "outputs": [
    {
     "data": {
      "text/html": [
       "<div>\n",
       "<style scoped>\n",
       "    .dataframe tbody tr th:only-of-type {\n",
       "        vertical-align: middle;\n",
       "    }\n",
       "\n",
       "    .dataframe tbody tr th {\n",
       "        vertical-align: top;\n",
       "    }\n",
       "\n",
       "    .dataframe thead th {\n",
       "        text-align: right;\n",
       "    }\n",
       "</style>\n",
       "<table border=\"1\" class=\"dataframe\">\n",
       "  <thead>\n",
       "    <tr style=\"text-align: right;\">\n",
       "      <th></th>\n",
       "      <th>item</th>\n",
       "      <th>sales</th>\n",
       "    </tr>\n",
       "  </thead>\n",
       "  <tbody>\n",
       "    <tr>\n",
       "      <th>0</th>\n",
       "      <td>ACCESORIES_1_001</td>\n",
       "      <td>4093</td>\n",
       "    </tr>\n",
       "  </tbody>\n",
       "</table>\n",
       "</div>"
      ],
      "text/plain": [
       "               item  sales\n",
       "0  ACCESORIES_1_001   4093"
      ]
     },
     "execution_count": 71,
     "metadata": {},
     "output_type": "execute_result"
    }
   ],
   "source": [
    "df_sales_cluster.head(1)"
   ]
  },
  {
   "cell_type": "code",
   "execution_count": 72,
   "metadata": {},
   "outputs": [],
   "source": [
    "#file_name = \"df_sales_cluster.csv\"\n",
    "#df_sales_cluster.to_csv(file_name)"
   ]
  },
  {
   "cell_type": "code",
   "execution_count": null,
   "metadata": {},
   "outputs": [],
   "source": []
  }
 ],
 "metadata": {
  "kernelspec": {
   "display_name": "Python 3",
   "language": "python",
   "name": "python3"
  },
  "language_info": {
   "codemirror_mode": {
    "name": "ipython",
    "version": 3
   },
   "file_extension": ".py",
   "mimetype": "text/x-python",
   "name": "python",
   "nbconvert_exporter": "python",
   "pygments_lexer": "ipython3",
   "version": "3.11.9"
  }
 },
 "nbformat": 4,
 "nbformat_minor": 2
}
