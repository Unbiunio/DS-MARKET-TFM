{
 "cells": [
  {
   "cell_type": "code",
   "execution_count": 1,
   "metadata": {},
   "outputs": [],
   "source": [
    "import pandas as pd\n",
    "import numpy as np\n",
    "import datetime\n",
    "from datetime import datetime, timedelta\n",
    "import seaborn as sns\n",
    "import matplotlib.pyplot as plt\n",
    "\n",
    "import time\n",
    "\n",
    "import warnings\n",
    "warnings.simplefilter(action = 'ignore', category = FutureWarning)\n",
    "\n",
    "# imports best practice pandas\n",
    "import os\n",
    "\n",
    "import numpy as np\n",
    "import pandas as pd\n",
    "\n",
    "#--------------------------------------------------------"
   ]
  },
  {
   "cell_type": "code",
   "execution_count": 30,
   "metadata": {},
   "outputs": [],
   "source": [
    "df_sales = pd.read_csv('./EDA/DATA/cleaned_sales.csv')\n",
    "df_prices = pd.read_csv('./EDA/DATA/cleaned_prices.csv')"
   ]
  },
  {
   "cell_type": "code",
   "execution_count": 31,
   "metadata": {},
   "outputs": [],
   "source": [
    "del(df_sales[\"Unnamed: 0\"])\n",
    "del(df_prices[\"Unnamed: 0\"])"
   ]
  },
  {
   "cell_type": "markdown",
   "metadata": {},
   "source": [
    "### Making new colunm so to merge by it"
   ]
  },
  {
   "cell_type": "code",
   "execution_count": 32,
   "metadata": {},
   "outputs": [],
   "source": [
    "df_prices[\"id\"] = df_prices[\"item\"] + \"_\" + df_prices[\"store_code\"]"
   ]
  },
  {
   "cell_type": "code",
   "execution_count": 33,
   "metadata": {},
   "outputs": [
    {
     "data": {
      "text/html": [
       "<div>\n",
       "<style scoped>\n",
       "    .dataframe tbody tr th:only-of-type {\n",
       "        vertical-align: middle;\n",
       "    }\n",
       "\n",
       "    .dataframe tbody tr th {\n",
       "        vertical-align: top;\n",
       "    }\n",
       "\n",
       "    .dataframe thead th {\n",
       "        text-align: right;\n",
       "    }\n",
       "</style>\n",
       "<table border=\"1\" class=\"dataframe\">\n",
       "  <thead>\n",
       "    <tr style=\"text-align: right;\">\n",
       "      <th></th>\n",
       "      <th>item</th>\n",
       "      <th>store_code</th>\n",
       "      <th>date</th>\n",
       "      <th>sell_price</th>\n",
       "      <th>id</th>\n",
       "    </tr>\n",
       "  </thead>\n",
       "  <tbody>\n",
       "    <tr>\n",
       "      <th>0</th>\n",
       "      <td>ACCESORIES_1_001</td>\n",
       "      <td>BOS_1</td>\n",
       "      <td>2013-07-31</td>\n",
       "      <td>11.753875</td>\n",
       "      <td>ACCESORIES_1_001_BOS_1</td>\n",
       "    </tr>\n",
       "    <tr>\n",
       "      <th>1</th>\n",
       "      <td>ACCESORIES_1_001</td>\n",
       "      <td>BOS_1</td>\n",
       "      <td>2013-08-31</td>\n",
       "      <td>10.985800</td>\n",
       "      <td>ACCESORIES_1_001_BOS_1</td>\n",
       "    </tr>\n",
       "    <tr>\n",
       "      <th>2</th>\n",
       "      <td>ACCESORIES_1_001</td>\n",
       "      <td>BOS_1</td>\n",
       "      <td>2013-09-30</td>\n",
       "      <td>10.985800</td>\n",
       "      <td>ACCESORIES_1_001_BOS_1</td>\n",
       "    </tr>\n",
       "    <tr>\n",
       "      <th>3</th>\n",
       "      <td>ACCESORIES_1_001</td>\n",
       "      <td>BOS_1</td>\n",
       "      <td>2013-10-31</td>\n",
       "      <td>10.985800</td>\n",
       "      <td>ACCESORIES_1_001_BOS_1</td>\n",
       "    </tr>\n",
       "    <tr>\n",
       "      <th>4</th>\n",
       "      <td>ACCESORIES_1_001</td>\n",
       "      <td>BOS_1</td>\n",
       "      <td>2013-11-30</td>\n",
       "      <td>10.985800</td>\n",
       "      <td>ACCESORIES_1_001_BOS_1</td>\n",
       "    </tr>\n",
       "    <tr>\n",
       "      <th>...</th>\n",
       "      <td>...</td>\n",
       "      <td>...</td>\n",
       "      <td>...</td>\n",
       "      <td>...</td>\n",
       "      <td>...</td>\n",
       "    </tr>\n",
       "    <tr>\n",
       "      <th>1536771</th>\n",
       "      <td>SUPERMARKET_3_827</td>\n",
       "      <td>PHI_3</td>\n",
       "      <td>2015-12-31</td>\n",
       "      <td>1.200000</td>\n",
       "      <td>SUPERMARKET_3_827_PHI_3</td>\n",
       "    </tr>\n",
       "    <tr>\n",
       "      <th>1536772</th>\n",
       "      <td>SUPERMARKET_3_827</td>\n",
       "      <td>PHI_3</td>\n",
       "      <td>2016-01-31</td>\n",
       "      <td>1.200000</td>\n",
       "      <td>SUPERMARKET_3_827_PHI_3</td>\n",
       "    </tr>\n",
       "    <tr>\n",
       "      <th>1536773</th>\n",
       "      <td>SUPERMARKET_3_827</td>\n",
       "      <td>PHI_3</td>\n",
       "      <td>2016-02-29</td>\n",
       "      <td>1.200000</td>\n",
       "      <td>SUPERMARKET_3_827_PHI_3</td>\n",
       "    </tr>\n",
       "    <tr>\n",
       "      <th>1536774</th>\n",
       "      <td>SUPERMARKET_3_827</td>\n",
       "      <td>PHI_3</td>\n",
       "      <td>2016-03-31</td>\n",
       "      <td>1.200000</td>\n",
       "      <td>SUPERMARKET_3_827_PHI_3</td>\n",
       "    </tr>\n",
       "    <tr>\n",
       "      <th>1536775</th>\n",
       "      <td>SUPERMARKET_3_827</td>\n",
       "      <td>PHI_3</td>\n",
       "      <td>2016-04-30</td>\n",
       "      <td>1.200000</td>\n",
       "      <td>SUPERMARKET_3_827_PHI_3</td>\n",
       "    </tr>\n",
       "  </tbody>\n",
       "</table>\n",
       "<p>1536776 rows × 5 columns</p>\n",
       "</div>"
      ],
      "text/plain": [
       "                      item store_code        date  sell_price  \\\n",
       "0         ACCESORIES_1_001      BOS_1  2013-07-31   11.753875   \n",
       "1         ACCESORIES_1_001      BOS_1  2013-08-31   10.985800   \n",
       "2         ACCESORIES_1_001      BOS_1  2013-09-30   10.985800   \n",
       "3         ACCESORIES_1_001      BOS_1  2013-10-31   10.985800   \n",
       "4         ACCESORIES_1_001      BOS_1  2013-11-30   10.985800   \n",
       "...                    ...        ...         ...         ...   \n",
       "1536771  SUPERMARKET_3_827      PHI_3  2015-12-31    1.200000   \n",
       "1536772  SUPERMARKET_3_827      PHI_3  2016-01-31    1.200000   \n",
       "1536773  SUPERMARKET_3_827      PHI_3  2016-02-29    1.200000   \n",
       "1536774  SUPERMARKET_3_827      PHI_3  2016-03-31    1.200000   \n",
       "1536775  SUPERMARKET_3_827      PHI_3  2016-04-30    1.200000   \n",
       "\n",
       "                              id  \n",
       "0         ACCESORIES_1_001_BOS_1  \n",
       "1         ACCESORIES_1_001_BOS_1  \n",
       "2         ACCESORIES_1_001_BOS_1  \n",
       "3         ACCESORIES_1_001_BOS_1  \n",
       "4         ACCESORIES_1_001_BOS_1  \n",
       "...                          ...  \n",
       "1536771  SUPERMARKET_3_827_PHI_3  \n",
       "1536772  SUPERMARKET_3_827_PHI_3  \n",
       "1536773  SUPERMARKET_3_827_PHI_3  \n",
       "1536774  SUPERMARKET_3_827_PHI_3  \n",
       "1536775  SUPERMARKET_3_827_PHI_3  \n",
       "\n",
       "[1536776 rows x 5 columns]"
      ]
     },
     "execution_count": 33,
     "metadata": {},
     "output_type": "execute_result"
    }
   ],
   "source": [
    "df_prices"
   ]
  },
  {
   "cell_type": "markdown",
   "metadata": {},
   "source": [
    "### deleting useless colunms so to save RAM memory in our calculations"
   ]
  },
  {
   "cell_type": "code",
   "execution_count": 34,
   "metadata": {},
   "outputs": [],
   "source": [
    "df_prices.drop([\"store_code\", \"item\"], axis = 1, inplace = True)"
   ]
  },
  {
   "cell_type": "code",
   "execution_count": 36,
   "metadata": {},
   "outputs": [],
   "source": [
    "columns = [\"id\",\"date\", \"sell_price\"]"
   ]
  },
  {
   "cell_type": "code",
   "execution_count": 37,
   "metadata": {},
   "outputs": [],
   "source": [
    "df_prices = df_prices[columns]"
   ]
  },
  {
   "cell_type": "code",
   "execution_count": 39,
   "metadata": {},
   "outputs": [
    {
     "data": {
      "text/html": [
       "<div>\n",
       "<style scoped>\n",
       "    .dataframe tbody tr th:only-of-type {\n",
       "        vertical-align: middle;\n",
       "    }\n",
       "\n",
       "    .dataframe tbody tr th {\n",
       "        vertical-align: top;\n",
       "    }\n",
       "\n",
       "    .dataframe thead th {\n",
       "        text-align: right;\n",
       "    }\n",
       "</style>\n",
       "<table border=\"1\" class=\"dataframe\">\n",
       "  <thead>\n",
       "    <tr style=\"text-align: right;\">\n",
       "      <th></th>\n",
       "      <th>id</th>\n",
       "      <th>date</th>\n",
       "      <th>sell_price</th>\n",
       "    </tr>\n",
       "  </thead>\n",
       "  <tbody>\n",
       "    <tr>\n",
       "      <th>0</th>\n",
       "      <td>ACCESORIES_1_001_BOS_1</td>\n",
       "      <td>2013-07-31</td>\n",
       "      <td>11.753875</td>\n",
       "    </tr>\n",
       "    <tr>\n",
       "      <th>1</th>\n",
       "      <td>ACCESORIES_1_001_BOS_1</td>\n",
       "      <td>2013-08-31</td>\n",
       "      <td>10.985800</td>\n",
       "    </tr>\n",
       "    <tr>\n",
       "      <th>2</th>\n",
       "      <td>ACCESORIES_1_001_BOS_1</td>\n",
       "      <td>2013-09-30</td>\n",
       "      <td>10.985800</td>\n",
       "    </tr>\n",
       "    <tr>\n",
       "      <th>3</th>\n",
       "      <td>ACCESORIES_1_001_BOS_1</td>\n",
       "      <td>2013-10-31</td>\n",
       "      <td>10.985800</td>\n",
       "    </tr>\n",
       "    <tr>\n",
       "      <th>4</th>\n",
       "      <td>ACCESORIES_1_001_BOS_1</td>\n",
       "      <td>2013-11-30</td>\n",
       "      <td>10.985800</td>\n",
       "    </tr>\n",
       "    <tr>\n",
       "      <th>...</th>\n",
       "      <td>...</td>\n",
       "      <td>...</td>\n",
       "      <td>...</td>\n",
       "    </tr>\n",
       "    <tr>\n",
       "      <th>1536771</th>\n",
       "      <td>SUPERMARKET_3_827_PHI_3</td>\n",
       "      <td>2015-12-31</td>\n",
       "      <td>1.200000</td>\n",
       "    </tr>\n",
       "    <tr>\n",
       "      <th>1536772</th>\n",
       "      <td>SUPERMARKET_3_827_PHI_3</td>\n",
       "      <td>2016-01-31</td>\n",
       "      <td>1.200000</td>\n",
       "    </tr>\n",
       "    <tr>\n",
       "      <th>1536773</th>\n",
       "      <td>SUPERMARKET_3_827_PHI_3</td>\n",
       "      <td>2016-02-29</td>\n",
       "      <td>1.200000</td>\n",
       "    </tr>\n",
       "    <tr>\n",
       "      <th>1536774</th>\n",
       "      <td>SUPERMARKET_3_827_PHI_3</td>\n",
       "      <td>2016-03-31</td>\n",
       "      <td>1.200000</td>\n",
       "    </tr>\n",
       "    <tr>\n",
       "      <th>1536775</th>\n",
       "      <td>SUPERMARKET_3_827_PHI_3</td>\n",
       "      <td>2016-04-30</td>\n",
       "      <td>1.200000</td>\n",
       "    </tr>\n",
       "  </tbody>\n",
       "</table>\n",
       "<p>1536776 rows × 3 columns</p>\n",
       "</div>"
      ],
      "text/plain": [
       "                              id        date  sell_price\n",
       "0         ACCESORIES_1_001_BOS_1  2013-07-31   11.753875\n",
       "1         ACCESORIES_1_001_BOS_1  2013-08-31   10.985800\n",
       "2         ACCESORIES_1_001_BOS_1  2013-09-30   10.985800\n",
       "3         ACCESORIES_1_001_BOS_1  2013-10-31   10.985800\n",
       "4         ACCESORIES_1_001_BOS_1  2013-11-30   10.985800\n",
       "...                          ...         ...         ...\n",
       "1536771  SUPERMARKET_3_827_PHI_3  2015-12-31    1.200000\n",
       "1536772  SUPERMARKET_3_827_PHI_3  2016-01-31    1.200000\n",
       "1536773  SUPERMARKET_3_827_PHI_3  2016-02-29    1.200000\n",
       "1536774  SUPERMARKET_3_827_PHI_3  2016-03-31    1.200000\n",
       "1536775  SUPERMARKET_3_827_PHI_3  2016-04-30    1.200000\n",
       "\n",
       "[1536776 rows x 3 columns]"
      ]
     },
     "execution_count": 39,
     "metadata": {},
     "output_type": "execute_result"
    }
   ],
   "source": [
    "df_prices"
   ]
  },
  {
   "cell_type": "markdown",
   "metadata": {},
   "source": [
    "### transforming values on df[\"dates] so to merge df_prices and df_sales by it"
   ]
  },
  {
   "cell_type": "code",
   "execution_count": 41,
   "metadata": {},
   "outputs": [],
   "source": [
    "df_prices[\"date\"] = df_prices[\"date\"].astype(str).apply(lambda x: x[0:7])"
   ]
  },
  {
   "cell_type": "code",
   "execution_count": 42,
   "metadata": {},
   "outputs": [
    {
     "data": {
      "text/plain": [
       "(1536776, 3)"
      ]
     },
     "execution_count": 42,
     "metadata": {},
     "output_type": "execute_result"
    }
   ],
   "source": [
    "df_prices.shape"
   ]
  },
  {
   "cell_type": "code",
   "execution_count": 43,
   "metadata": {},
   "outputs": [
    {
     "data": {
      "text/html": [
       "<div>\n",
       "<style scoped>\n",
       "    .dataframe tbody tr th:only-of-type {\n",
       "        vertical-align: middle;\n",
       "    }\n",
       "\n",
       "    .dataframe tbody tr th {\n",
       "        vertical-align: top;\n",
       "    }\n",
       "\n",
       "    .dataframe thead th {\n",
       "        text-align: right;\n",
       "    }\n",
       "</style>\n",
       "<table border=\"1\" class=\"dataframe\">\n",
       "  <thead>\n",
       "    <tr style=\"text-align: right;\">\n",
       "      <th></th>\n",
       "      <th>id</th>\n",
       "      <th>date</th>\n",
       "      <th>sell_price</th>\n",
       "    </tr>\n",
       "  </thead>\n",
       "  <tbody>\n",
       "    <tr>\n",
       "      <th>0</th>\n",
       "      <td>ACCESORIES_1_001_BOS_1</td>\n",
       "      <td>2013-07</td>\n",
       "      <td>11.753875</td>\n",
       "    </tr>\n",
       "    <tr>\n",
       "      <th>1</th>\n",
       "      <td>ACCESORIES_1_001_BOS_1</td>\n",
       "      <td>2013-08</td>\n",
       "      <td>10.985800</td>\n",
       "    </tr>\n",
       "    <tr>\n",
       "      <th>2</th>\n",
       "      <td>ACCESORIES_1_001_BOS_1</td>\n",
       "      <td>2013-09</td>\n",
       "      <td>10.985800</td>\n",
       "    </tr>\n",
       "    <tr>\n",
       "      <th>3</th>\n",
       "      <td>ACCESORIES_1_001_BOS_1</td>\n",
       "      <td>2013-10</td>\n",
       "      <td>10.985800</td>\n",
       "    </tr>\n",
       "    <tr>\n",
       "      <th>4</th>\n",
       "      <td>ACCESORIES_1_001_BOS_1</td>\n",
       "      <td>2013-11</td>\n",
       "      <td>10.985800</td>\n",
       "    </tr>\n",
       "    <tr>\n",
       "      <th>...</th>\n",
       "      <td>...</td>\n",
       "      <td>...</td>\n",
       "      <td>...</td>\n",
       "    </tr>\n",
       "    <tr>\n",
       "      <th>1536771</th>\n",
       "      <td>SUPERMARKET_3_827_PHI_3</td>\n",
       "      <td>2015-12</td>\n",
       "      <td>1.200000</td>\n",
       "    </tr>\n",
       "    <tr>\n",
       "      <th>1536772</th>\n",
       "      <td>SUPERMARKET_3_827_PHI_3</td>\n",
       "      <td>2016-01</td>\n",
       "      <td>1.200000</td>\n",
       "    </tr>\n",
       "    <tr>\n",
       "      <th>1536773</th>\n",
       "      <td>SUPERMARKET_3_827_PHI_3</td>\n",
       "      <td>2016-02</td>\n",
       "      <td>1.200000</td>\n",
       "    </tr>\n",
       "    <tr>\n",
       "      <th>1536774</th>\n",
       "      <td>SUPERMARKET_3_827_PHI_3</td>\n",
       "      <td>2016-03</td>\n",
       "      <td>1.200000</td>\n",
       "    </tr>\n",
       "    <tr>\n",
       "      <th>1536775</th>\n",
       "      <td>SUPERMARKET_3_827_PHI_3</td>\n",
       "      <td>2016-04</td>\n",
       "      <td>1.200000</td>\n",
       "    </tr>\n",
       "  </tbody>\n",
       "</table>\n",
       "<p>1536776 rows × 3 columns</p>\n",
       "</div>"
      ],
      "text/plain": [
       "                              id     date  sell_price\n",
       "0         ACCESORIES_1_001_BOS_1  2013-07   11.753875\n",
       "1         ACCESORIES_1_001_BOS_1  2013-08   10.985800\n",
       "2         ACCESORIES_1_001_BOS_1  2013-09   10.985800\n",
       "3         ACCESORIES_1_001_BOS_1  2013-10   10.985800\n",
       "4         ACCESORIES_1_001_BOS_1  2013-11   10.985800\n",
       "...                          ...      ...         ...\n",
       "1536771  SUPERMARKET_3_827_PHI_3  2015-12    1.200000\n",
       "1536772  SUPERMARKET_3_827_PHI_3  2016-01    1.200000\n",
       "1536773  SUPERMARKET_3_827_PHI_3  2016-02    1.200000\n",
       "1536774  SUPERMARKET_3_827_PHI_3  2016-03    1.200000\n",
       "1536775  SUPERMARKET_3_827_PHI_3  2016-04    1.200000\n",
       "\n",
       "[1536776 rows x 3 columns]"
      ]
     },
     "execution_count": 43,
     "metadata": {},
     "output_type": "execute_result"
    }
   ],
   "source": [
    "df_prices"
   ]
  },
  {
   "cell_type": "code",
   "execution_count": 44,
   "metadata": {},
   "outputs": [
    {
     "data": {
      "text/html": [
       "<div>\n",
       "<style scoped>\n",
       "    .dataframe tbody tr th:only-of-type {\n",
       "        vertical-align: middle;\n",
       "    }\n",
       "\n",
       "    .dataframe tbody tr th {\n",
       "        vertical-align: top;\n",
       "    }\n",
       "\n",
       "    .dataframe thead th {\n",
       "        text-align: right;\n",
       "    }\n",
       "</style>\n",
       "<table border=\"1\" class=\"dataframe\">\n",
       "  <thead>\n",
       "    <tr style=\"text-align: right;\">\n",
       "      <th></th>\n",
       "      <th>id</th>\n",
       "      <th>date</th>\n",
       "      <th>sales</th>\n",
       "    </tr>\n",
       "  </thead>\n",
       "  <tbody>\n",
       "    <tr>\n",
       "      <th>0</th>\n",
       "      <td>ACCESORIES_1_001_BOS_1</td>\n",
       "      <td>2011-01</td>\n",
       "      <td>0</td>\n",
       "    </tr>\n",
       "    <tr>\n",
       "      <th>1</th>\n",
       "      <td>ACCESORIES_1_001_BOS_1</td>\n",
       "      <td>2011-02</td>\n",
       "      <td>0</td>\n",
       "    </tr>\n",
       "    <tr>\n",
       "      <th>2</th>\n",
       "      <td>ACCESORIES_1_001_BOS_1</td>\n",
       "      <td>2011-03</td>\n",
       "      <td>0</td>\n",
       "    </tr>\n",
       "    <tr>\n",
       "      <th>3</th>\n",
       "      <td>ACCESORIES_1_001_BOS_1</td>\n",
       "      <td>2011-04</td>\n",
       "      <td>0</td>\n",
       "    </tr>\n",
       "    <tr>\n",
       "      <th>4</th>\n",
       "      <td>ACCESORIES_1_001_BOS_1</td>\n",
       "      <td>2011-05</td>\n",
       "      <td>0</td>\n",
       "    </tr>\n",
       "    <tr>\n",
       "      <th>...</th>\n",
       "      <td>...</td>\n",
       "      <td>...</td>\n",
       "      <td>...</td>\n",
       "    </tr>\n",
       "    <tr>\n",
       "      <th>1951355</th>\n",
       "      <td>SUPERMARKET_3_827_PHI_3</td>\n",
       "      <td>2015-12</td>\n",
       "      <td>41</td>\n",
       "    </tr>\n",
       "    <tr>\n",
       "      <th>1951356</th>\n",
       "      <td>SUPERMARKET_3_827_PHI_3</td>\n",
       "      <td>2016-01</td>\n",
       "      <td>49</td>\n",
       "    </tr>\n",
       "    <tr>\n",
       "      <th>1951357</th>\n",
       "      <td>SUPERMARKET_3_827_PHI_3</td>\n",
       "      <td>2016-02</td>\n",
       "      <td>46</td>\n",
       "    </tr>\n",
       "    <tr>\n",
       "      <th>1951358</th>\n",
       "      <td>SUPERMARKET_3_827_PHI_3</td>\n",
       "      <td>2016-03</td>\n",
       "      <td>68</td>\n",
       "    </tr>\n",
       "    <tr>\n",
       "      <th>1951359</th>\n",
       "      <td>SUPERMARKET_3_827_PHI_3</td>\n",
       "      <td>2016-04</td>\n",
       "      <td>15</td>\n",
       "    </tr>\n",
       "  </tbody>\n",
       "</table>\n",
       "<p>1951360 rows × 3 columns</p>\n",
       "</div>"
      ],
      "text/plain": [
       "                              id     date  sales\n",
       "0         ACCESORIES_1_001_BOS_1  2011-01      0\n",
       "1         ACCESORIES_1_001_BOS_1  2011-02      0\n",
       "2         ACCESORIES_1_001_BOS_1  2011-03      0\n",
       "3         ACCESORIES_1_001_BOS_1  2011-04      0\n",
       "4         ACCESORIES_1_001_BOS_1  2011-05      0\n",
       "...                          ...      ...    ...\n",
       "1951355  SUPERMARKET_3_827_PHI_3  2015-12     41\n",
       "1951356  SUPERMARKET_3_827_PHI_3  2016-01     49\n",
       "1951357  SUPERMARKET_3_827_PHI_3  2016-02     46\n",
       "1951358  SUPERMARKET_3_827_PHI_3  2016-03     68\n",
       "1951359  SUPERMARKET_3_827_PHI_3  2016-04     15\n",
       "\n",
       "[1951360 rows x 3 columns]"
      ]
     },
     "execution_count": 44,
     "metadata": {},
     "output_type": "execute_result"
    }
   ],
   "source": [
    "df_sales"
   ]
  },
  {
   "cell_type": "code",
   "execution_count": 45,
   "metadata": {},
   "outputs": [],
   "source": [
    "df_market = pd.merge(df_sales,df_prices, on=[\"id\", \"date\"], how=\"left\")"
   ]
  },
  {
   "cell_type": "code",
   "execution_count": 46,
   "metadata": {},
   "outputs": [
    {
     "data": {
      "text/plain": [
       "np.int64(414584)"
      ]
     },
     "execution_count": 46,
     "metadata": {},
     "output_type": "execute_result"
    }
   ],
   "source": [
    "df_market[\"sell_price\"].isnull().sum()"
   ]
  },
  {
   "cell_type": "markdown",
   "metadata": {},
   "source": [
    "### deleting nulls on sell_price column as we consider if there isn´t price it is because the item hadn´t arrive yet to the store"
   ]
  },
  {
   "cell_type": "code",
   "execution_count": 47,
   "metadata": {},
   "outputs": [],
   "source": [
    "df_market.dropna(subset=([\"sell_price\"]), inplace = True)"
   ]
  },
  {
   "cell_type": "code",
   "execution_count": 48,
   "metadata": {},
   "outputs": [
    {
     "data": {
      "text/html": [
       "<div>\n",
       "<style scoped>\n",
       "    .dataframe tbody tr th:only-of-type {\n",
       "        vertical-align: middle;\n",
       "    }\n",
       "\n",
       "    .dataframe tbody tr th {\n",
       "        vertical-align: top;\n",
       "    }\n",
       "\n",
       "    .dataframe thead th {\n",
       "        text-align: right;\n",
       "    }\n",
       "</style>\n",
       "<table border=\"1\" class=\"dataframe\">\n",
       "  <thead>\n",
       "    <tr style=\"text-align: right;\">\n",
       "      <th></th>\n",
       "      <th>id</th>\n",
       "      <th>date</th>\n",
       "      <th>sales</th>\n",
       "      <th>sell_price</th>\n",
       "    </tr>\n",
       "  </thead>\n",
       "  <tbody>\n",
       "    <tr>\n",
       "      <th>30</th>\n",
       "      <td>ACCESORIES_1_001_BOS_1</td>\n",
       "      <td>2013-07</td>\n",
       "      <td>10</td>\n",
       "      <td>11.753875</td>\n",
       "    </tr>\n",
       "    <tr>\n",
       "      <th>31</th>\n",
       "      <td>ACCESORIES_1_001_BOS_1</td>\n",
       "      <td>2013-08</td>\n",
       "      <td>3</td>\n",
       "      <td>10.985800</td>\n",
       "    </tr>\n",
       "    <tr>\n",
       "      <th>32</th>\n",
       "      <td>ACCESORIES_1_001_BOS_1</td>\n",
       "      <td>2013-09</td>\n",
       "      <td>4</td>\n",
       "      <td>10.985800</td>\n",
       "    </tr>\n",
       "    <tr>\n",
       "      <th>33</th>\n",
       "      <td>ACCESORIES_1_001_BOS_1</td>\n",
       "      <td>2013-10</td>\n",
       "      <td>4</td>\n",
       "      <td>10.985800</td>\n",
       "    </tr>\n",
       "    <tr>\n",
       "      <th>34</th>\n",
       "      <td>ACCESORIES_1_001_BOS_1</td>\n",
       "      <td>2013-11</td>\n",
       "      <td>10</td>\n",
       "      <td>10.985800</td>\n",
       "    </tr>\n",
       "    <tr>\n",
       "      <th>...</th>\n",
       "      <td>...</td>\n",
       "      <td>...</td>\n",
       "      <td>...</td>\n",
       "      <td>...</td>\n",
       "    </tr>\n",
       "    <tr>\n",
       "      <th>1951355</th>\n",
       "      <td>SUPERMARKET_3_827_PHI_3</td>\n",
       "      <td>2015-12</td>\n",
       "      <td>41</td>\n",
       "      <td>1.200000</td>\n",
       "    </tr>\n",
       "    <tr>\n",
       "      <th>1951356</th>\n",
       "      <td>SUPERMARKET_3_827_PHI_3</td>\n",
       "      <td>2016-01</td>\n",
       "      <td>49</td>\n",
       "      <td>1.200000</td>\n",
       "    </tr>\n",
       "    <tr>\n",
       "      <th>1951357</th>\n",
       "      <td>SUPERMARKET_3_827_PHI_3</td>\n",
       "      <td>2016-02</td>\n",
       "      <td>46</td>\n",
       "      <td>1.200000</td>\n",
       "    </tr>\n",
       "    <tr>\n",
       "      <th>1951358</th>\n",
       "      <td>SUPERMARKET_3_827_PHI_3</td>\n",
       "      <td>2016-03</td>\n",
       "      <td>68</td>\n",
       "      <td>1.200000</td>\n",
       "    </tr>\n",
       "    <tr>\n",
       "      <th>1951359</th>\n",
       "      <td>SUPERMARKET_3_827_PHI_3</td>\n",
       "      <td>2016-04</td>\n",
       "      <td>15</td>\n",
       "      <td>1.200000</td>\n",
       "    </tr>\n",
       "  </tbody>\n",
       "</table>\n",
       "<p>1536776 rows × 4 columns</p>\n",
       "</div>"
      ],
      "text/plain": [
       "                              id     date  sales  sell_price\n",
       "30        ACCESORIES_1_001_BOS_1  2013-07     10   11.753875\n",
       "31        ACCESORIES_1_001_BOS_1  2013-08      3   10.985800\n",
       "32        ACCESORIES_1_001_BOS_1  2013-09      4   10.985800\n",
       "33        ACCESORIES_1_001_BOS_1  2013-10      4   10.985800\n",
       "34        ACCESORIES_1_001_BOS_1  2013-11     10   10.985800\n",
       "...                          ...      ...    ...         ...\n",
       "1951355  SUPERMARKET_3_827_PHI_3  2015-12     41    1.200000\n",
       "1951356  SUPERMARKET_3_827_PHI_3  2016-01     49    1.200000\n",
       "1951357  SUPERMARKET_3_827_PHI_3  2016-02     46    1.200000\n",
       "1951358  SUPERMARKET_3_827_PHI_3  2016-03     68    1.200000\n",
       "1951359  SUPERMARKET_3_827_PHI_3  2016-04     15    1.200000\n",
       "\n",
       "[1536776 rows x 4 columns]"
      ]
     },
     "execution_count": 48,
     "metadata": {},
     "output_type": "execute_result"
    }
   ],
   "source": [
    "df_market"
   ]
  },
  {
   "cell_type": "markdown",
   "metadata": {},
   "source": [
    "###  Making new columns \"Income\""
   ]
  },
  {
   "cell_type": "markdown",
   "metadata": {},
   "source": []
  },
  {
   "cell_type": "code",
   "execution_count": 49,
   "metadata": {},
   "outputs": [],
   "source": [
    "df_market[\"income\"] = df_market[\"sales\"] * df_market[\"sell_price\"]"
   ]
  },
  {
   "cell_type": "code",
   "execution_count": 50,
   "metadata": {},
   "outputs": [
    {
     "data": {
      "text/html": [
       "<div>\n",
       "<style scoped>\n",
       "    .dataframe tbody tr th:only-of-type {\n",
       "        vertical-align: middle;\n",
       "    }\n",
       "\n",
       "    .dataframe tbody tr th {\n",
       "        vertical-align: top;\n",
       "    }\n",
       "\n",
       "    .dataframe thead th {\n",
       "        text-align: right;\n",
       "    }\n",
       "</style>\n",
       "<table border=\"1\" class=\"dataframe\">\n",
       "  <thead>\n",
       "    <tr style=\"text-align: right;\">\n",
       "      <th></th>\n",
       "      <th>id</th>\n",
       "      <th>date</th>\n",
       "      <th>sales</th>\n",
       "      <th>sell_price</th>\n",
       "      <th>income</th>\n",
       "    </tr>\n",
       "  </thead>\n",
       "  <tbody>\n",
       "    <tr>\n",
       "      <th>1072916</th>\n",
       "      <td>SUPERMARKET_1_066_NYC_2</td>\n",
       "      <td>2012-09</td>\n",
       "      <td>52</td>\n",
       "      <td>1.6320</td>\n",
       "      <td>84.8640</td>\n",
       "    </tr>\n",
       "    <tr>\n",
       "      <th>635089</th>\n",
       "      <td>HOME_&amp;_GARDEN_1_437_NYC_1</td>\n",
       "      <td>2012-06</td>\n",
       "      <td>0</td>\n",
       "      <td>4.1000</td>\n",
       "      <td>0.0000</td>\n",
       "    </tr>\n",
       "    <tr>\n",
       "      <th>135474</th>\n",
       "      <td>ACCESORIES_1_218_NYC_4</td>\n",
       "      <td>2015-03</td>\n",
       "      <td>14</td>\n",
       "      <td>14.0714</td>\n",
       "      <td>196.9996</td>\n",
       "    </tr>\n",
       "    <tr>\n",
       "      <th>930208</th>\n",
       "      <td>HOME_&amp;_GARDEN_2_358_NYC_2</td>\n",
       "      <td>2013-09</td>\n",
       "      <td>2</td>\n",
       "      <td>6.2125</td>\n",
       "      <td>12.4250</td>\n",
       "    </tr>\n",
       "    <tr>\n",
       "      <th>240816</th>\n",
       "      <td>ACCESORIES_1_385_BOS_3</td>\n",
       "      <td>2015-01</td>\n",
       "      <td>0</td>\n",
       "      <td>11.9434</td>\n",
       "      <td>0.0000</td>\n",
       "    </tr>\n",
       "  </tbody>\n",
       "</table>\n",
       "</div>"
      ],
      "text/plain": [
       "                                id     date  sales  sell_price    income\n",
       "1072916    SUPERMARKET_1_066_NYC_2  2012-09     52      1.6320   84.8640\n",
       "635089   HOME_&_GARDEN_1_437_NYC_1  2012-06      0      4.1000    0.0000\n",
       "135474      ACCESORIES_1_218_NYC_4  2015-03     14     14.0714  196.9996\n",
       "930208   HOME_&_GARDEN_2_358_NYC_2  2013-09      2      6.2125   12.4250\n",
       "240816      ACCESORIES_1_385_BOS_3  2015-01      0     11.9434    0.0000"
      ]
     },
     "execution_count": 50,
     "metadata": {},
     "output_type": "execute_result"
    }
   ],
   "source": [
    "df_market.sample(5)"
   ]
  },
  {
   "cell_type": "markdown",
   "metadata": {},
   "source": [
    "### Loading original item_sales_df for making dicts to map new columns"
   ]
  },
  {
   "cell_type": "code",
   "execution_count": 53,
   "metadata": {},
   "outputs": [],
   "source": [
    "original_sales = pd.read_csv(\"./data/item_sales.csv\")\n"
   ]
  },
  {
   "cell_type": "code",
   "execution_count": 61,
   "metadata": {},
   "outputs": [],
   "source": [
    "store_map =original_sales.groupby(\"store_code\")[\"store\"].first()"
   ]
  },
  {
   "cell_type": "code",
   "execution_count": 63,
   "metadata": {},
   "outputs": [],
   "source": [
    "store_dict=store_map.to_dict()"
   ]
  },
  {
   "cell_type": "code",
   "execution_count": 64,
   "metadata": {},
   "outputs": [
    {
     "data": {
      "text/plain": [
       "{'BOS_1': 'South_End',\n",
       " 'BOS_2': 'Roxbury',\n",
       " 'BOS_3': 'Back_Bay',\n",
       " 'NYC_1': 'Greenwich_Village',\n",
       " 'NYC_2': 'Harlem',\n",
       " 'NYC_3': 'Tribeca',\n",
       " 'NYC_4': 'Brooklyn',\n",
       " 'PHI_1': 'Midtown_Village',\n",
       " 'PHI_2': 'Yorktown',\n",
       " 'PHI_3': 'Queen_Village'}"
      ]
     },
     "execution_count": 64,
     "metadata": {},
     "output_type": "execute_result"
    }
   ],
   "source": [
    "store_dict"
   ]
  },
  {
   "cell_type": "markdown",
   "metadata": {},
   "source": [
    "### adding old columns to our df_market so to use them in visualizations or any other calculates afterwards"
   ]
  },
  {
   "cell_type": "markdown",
   "metadata": {},
   "source": [
    "<!-- ### now we agregate old columns so to use them in other calculations or visualizations  -->"
   ]
  },
  {
   "cell_type": "code",
   "execution_count": 65,
   "metadata": {},
   "outputs": [],
   "source": [
    "df_market[\"store_code\"] = df_market[\"id\"].apply(lambda x: x[-5:])"
   ]
  },
  {
   "cell_type": "code",
   "execution_count": 66,
   "metadata": {},
   "outputs": [],
   "source": [
    "df_market[\"category\"] = df_market[\"id\"].apply(lambda x: x[:-12])"
   ]
  },
  {
   "cell_type": "code",
   "execution_count": 67,
   "metadata": {},
   "outputs": [],
   "source": [
    "df_market[\"region\"] = df_market[\"store_code\"].apply(lambda x: x[0:3])"
   ]
  },
  {
   "cell_type": "code",
   "execution_count": 70,
   "metadata": {},
   "outputs": [],
   "source": [
    "df_market[\"item\"] = df_market[\"id\"].apply(lambda x: x[0:-6])"
   ]
  },
  {
   "cell_type": "code",
   "execution_count": 68,
   "metadata": {},
   "outputs": [],
   "source": [
    "df_market[\"store\"] = df_market[\"store_code\"].apply(lambda x: store_dict[x])"
   ]
  },
  {
   "cell_type": "code",
   "execution_count": 72,
   "metadata": {},
   "outputs": [],
   "source": [
    "columns = [\"id\", \"item\",\"category\",\"region\",\"store_code\", \"store\",\"date\", \"sales\", \"sell_price\", \"income\" ]"
   ]
  },
  {
   "cell_type": "code",
   "execution_count": 73,
   "metadata": {},
   "outputs": [],
   "source": [
    "df_market = df_market[columns]"
   ]
  },
  {
   "cell_type": "code",
   "execution_count": 75,
   "metadata": {},
   "outputs": [],
   "source": [
    "df_market.reset_index(inplace=True, drop=True)"
   ]
  },
  {
   "cell_type": "code",
   "execution_count": 76,
   "metadata": {},
   "outputs": [
    {
     "data": {
      "text/html": [
       "<div>\n",
       "<style scoped>\n",
       "    .dataframe tbody tr th:only-of-type {\n",
       "        vertical-align: middle;\n",
       "    }\n",
       "\n",
       "    .dataframe tbody tr th {\n",
       "        vertical-align: top;\n",
       "    }\n",
       "\n",
       "    .dataframe thead th {\n",
       "        text-align: right;\n",
       "    }\n",
       "</style>\n",
       "<table border=\"1\" class=\"dataframe\">\n",
       "  <thead>\n",
       "    <tr style=\"text-align: right;\">\n",
       "      <th></th>\n",
       "      <th>id</th>\n",
       "      <th>item</th>\n",
       "      <th>category</th>\n",
       "      <th>region</th>\n",
       "      <th>store_code</th>\n",
       "      <th>store</th>\n",
       "      <th>date</th>\n",
       "      <th>sales</th>\n",
       "      <th>sell_price</th>\n",
       "      <th>income</th>\n",
       "    </tr>\n",
       "  </thead>\n",
       "  <tbody>\n",
       "    <tr>\n",
       "      <th>435912</th>\n",
       "      <td>HOME_&amp;_GARDEN_1_309_NYC_1</td>\n",
       "      <td>HOME_&amp;_GARDEN_1_309</td>\n",
       "      <td>HOME_&amp;_GARDEN</td>\n",
       "      <td>NYC</td>\n",
       "      <td>NYC_1</td>\n",
       "      <td>Greenwich_Village</td>\n",
       "      <td>2013-08</td>\n",
       "      <td>27</td>\n",
       "      <td>8.7125</td>\n",
       "      <td>235.2375</td>\n",
       "    </tr>\n",
       "    <tr>\n",
       "      <th>1300086</th>\n",
       "      <td>SUPERMARKET_3_351_NYC_2</td>\n",
       "      <td>SUPERMARKET_3_351</td>\n",
       "      <td>SUPERMARKET</td>\n",
       "      <td>NYC</td>\n",
       "      <td>NYC_2</td>\n",
       "      <td>Harlem</td>\n",
       "      <td>2012-12</td>\n",
       "      <td>227</td>\n",
       "      <td>1.2000</td>\n",
       "      <td>272.4000</td>\n",
       "    </tr>\n",
       "  </tbody>\n",
       "</table>\n",
       "</div>"
      ],
      "text/plain": [
       "                                id                 item       category region  \\\n",
       "435912   HOME_&_GARDEN_1_309_NYC_1  HOME_&_GARDEN_1_309  HOME_&_GARDEN    NYC   \n",
       "1300086    SUPERMARKET_3_351_NYC_2    SUPERMARKET_3_351    SUPERMARKET    NYC   \n",
       "\n",
       "        store_code              store     date  sales  sell_price    income  \n",
       "435912       NYC_1  Greenwich_Village  2013-08     27      8.7125  235.2375  \n",
       "1300086      NYC_2             Harlem  2012-12    227      1.2000  272.4000  "
      ]
     },
     "execution_count": 76,
     "metadata": {},
     "output_type": "execute_result"
    }
   ],
   "source": [
    "df_market.sample(2)"
   ]
  },
  {
   "cell_type": "code",
   "execution_count": 77,
   "metadata": {},
   "outputs": [],
   "source": [
    "file_name = \"df_market_by_months.csv\"\n",
    "df_market.to_csv(file_name)"
   ]
  }
 ],
 "metadata": {
  "kernelspec": {
   "display_name": "Python 3",
   "language": "python",
   "name": "python3"
  },
  "language_info": {
   "codemirror_mode": {
    "name": "ipython",
    "version": 3
   },
   "file_extension": ".py",
   "mimetype": "text/x-python",
   "name": "python",
   "nbconvert_exporter": "python",
   "pygments_lexer": "ipython3",
   "version": "3.11.9"
  }
 },
 "nbformat": 4,
 "nbformat_minor": 2
}
