{
 "cells": [
  {
   "cell_type": "code",
   "execution_count": 1,
   "metadata": {},
   "outputs": [],
   "source": [
    "import pandas as pd\n",
    "import numpy as np\n",
    "import datetime\n",
    "from datetime import datetime, timedelta\n",
    "import seaborn as sns\n",
    "import matplotlib.pyplot as plt\n",
    "\n",
    "import warnings\n",
    "warnings.simplefilter(action = 'ignore', category = FutureWarning)"
   ]
  },
  {
   "cell_type": "code",
   "execution_count": 43,
   "metadata": {},
   "outputs": [],
   "source": [
    "df_prices = pd.read_csv('./EDA/data/prices_clean.csv')\n",
    "df_sales = pd.read_csv('./EDA/data/sales_clean.csv')"
   ]
  },
  {
   "cell_type": "code",
   "execution_count": 13,
   "metadata": {},
   "outputs": [
    {
     "name": "stdout",
     "output_type": "stream",
     "text": [
      "(1536776, 5)\n"
     ]
    },
    {
     "data": {
      "text/html": [
       "<div>\n",
       "<style scoped>\n",
       "    .dataframe tbody tr th:only-of-type {\n",
       "        vertical-align: middle;\n",
       "    }\n",
       "\n",
       "    .dataframe tbody tr th {\n",
       "        vertical-align: top;\n",
       "    }\n",
       "\n",
       "    .dataframe thead th {\n",
       "        text-align: right;\n",
       "    }\n",
       "</style>\n",
       "<table border=\"1\" class=\"dataframe\">\n",
       "  <thead>\n",
       "    <tr style=\"text-align: right;\">\n",
       "      <th></th>\n",
       "      <th>Unnamed: 0</th>\n",
       "      <th>item</th>\n",
       "      <th>store_code</th>\n",
       "      <th>date</th>\n",
       "      <th>sell_price</th>\n",
       "    </tr>\n",
       "  </thead>\n",
       "  <tbody>\n",
       "    <tr>\n",
       "      <th>0</th>\n",
       "      <td>0</td>\n",
       "      <td>ACCESORIES_1_001</td>\n",
       "      <td>BOS_1</td>\n",
       "      <td>2013-07-31</td>\n",
       "      <td>11.753875</td>\n",
       "    </tr>\n",
       "  </tbody>\n",
       "</table>\n",
       "</div>"
      ],
      "text/plain": [
       "   Unnamed: 0              item store_code        date  sell_price\n",
       "0           0  ACCESORIES_1_001      BOS_1  2013-07-31   11.753875"
      ]
     },
     "execution_count": 13,
     "metadata": {},
     "output_type": "execute_result"
    }
   ],
   "source": [
    "print(df_prices.shape)\n",
    "df_prices.head(1)"
   ]
  },
  {
   "cell_type": "code",
   "execution_count": 14,
   "metadata": {},
   "outputs": [
    {
     "name": "stdout",
     "output_type": "stream",
     "text": [
      "(1951360, 5)\n"
     ]
    },
    {
     "data": {
      "text/html": [
       "<div>\n",
       "<style scoped>\n",
       "    .dataframe tbody tr th:only-of-type {\n",
       "        vertical-align: middle;\n",
       "    }\n",
       "\n",
       "    .dataframe tbody tr th {\n",
       "        vertical-align: top;\n",
       "    }\n",
       "\n",
       "    .dataframe thead th {\n",
       "        text-align: right;\n",
       "    }\n",
       "</style>\n",
       "<table border=\"1\" class=\"dataframe\">\n",
       "  <thead>\n",
       "    <tr style=\"text-align: right;\">\n",
       "      <th></th>\n",
       "      <th>Unnamed: 0</th>\n",
       "      <th>id</th>\n",
       "      <th>store</th>\n",
       "      <th>date</th>\n",
       "      <th>sales</th>\n",
       "    </tr>\n",
       "  </thead>\n",
       "  <tbody>\n",
       "    <tr>\n",
       "      <th>0</th>\n",
       "      <td>0</td>\n",
       "      <td>ACCESORIES_1_001_BOS_1</td>\n",
       "      <td>South_End</td>\n",
       "      <td>2011-01-31</td>\n",
       "      <td>0</td>\n",
       "    </tr>\n",
       "  </tbody>\n",
       "</table>\n",
       "</div>"
      ],
      "text/plain": [
       "   Unnamed: 0                      id      store        date  sales\n",
       "0           0  ACCESORIES_1_001_BOS_1  South_End  2011-01-31      0"
      ]
     },
     "execution_count": 14,
     "metadata": {},
     "output_type": "execute_result"
    }
   ],
   "source": [
    "print(df_sales.shape)\n",
    "df_sales.head(1)"
   ]
  },
  {
   "cell_type": "code",
   "execution_count": 15,
   "metadata": {},
   "outputs": [],
   "source": [
    "del(df_sales[\"Unnamed: 0\"])\n",
    "del(df_prices[\"Unnamed: 0\"])"
   ]
  },
  {
   "cell_type": "markdown",
   "metadata": {},
   "source": [
    "### Making new colunm so to merge by it"
   ]
  },
  {
   "cell_type": "code",
   "execution_count": 16,
   "metadata": {},
   "outputs": [],
   "source": [
    "df_prices[\"id\"] = df_prices[\"item\"] + \"_\" + df_prices[\"store_code\"]"
   ]
  },
  {
   "cell_type": "code",
   "execution_count": 17,
   "metadata": {},
   "outputs": [
    {
     "data": {
      "text/html": [
       "<div>\n",
       "<style scoped>\n",
       "    .dataframe tbody tr th:only-of-type {\n",
       "        vertical-align: middle;\n",
       "    }\n",
       "\n",
       "    .dataframe tbody tr th {\n",
       "        vertical-align: top;\n",
       "    }\n",
       "\n",
       "    .dataframe thead th {\n",
       "        text-align: right;\n",
       "    }\n",
       "</style>\n",
       "<table border=\"1\" class=\"dataframe\">\n",
       "  <thead>\n",
       "    <tr style=\"text-align: right;\">\n",
       "      <th></th>\n",
       "      <th>item</th>\n",
       "      <th>store_code</th>\n",
       "      <th>date</th>\n",
       "      <th>sell_price</th>\n",
       "      <th>id</th>\n",
       "    </tr>\n",
       "  </thead>\n",
       "  <tbody>\n",
       "    <tr>\n",
       "      <th>0</th>\n",
       "      <td>ACCESORIES_1_001</td>\n",
       "      <td>BOS_1</td>\n",
       "      <td>2013-07-31</td>\n",
       "      <td>11.753875</td>\n",
       "      <td>ACCESORIES_1_001_BOS_1</td>\n",
       "    </tr>\n",
       "  </tbody>\n",
       "</table>\n",
       "</div>"
      ],
      "text/plain": [
       "               item store_code        date  sell_price                      id\n",
       "0  ACCESORIES_1_001      BOS_1  2013-07-31   11.753875  ACCESORIES_1_001_BOS_1"
      ]
     },
     "execution_count": 17,
     "metadata": {},
     "output_type": "execute_result"
    }
   ],
   "source": [
    "df_prices.head(1)"
   ]
  },
  {
   "cell_type": "markdown",
   "metadata": {},
   "source": [
    "### deleting useless colunms so to save RAM memory in our calculations"
   ]
  },
  {
   "cell_type": "code",
   "execution_count": 18,
   "metadata": {},
   "outputs": [],
   "source": [
    "df_prices.drop([\"store_code\", \"item\"], axis = 1, inplace = True)"
   ]
  },
  {
   "cell_type": "code",
   "execution_count": 19,
   "metadata": {},
   "outputs": [],
   "source": [
    "df_prices = df_prices[[\"id\",\"date\", \"sell_price\"]]"
   ]
  },
  {
   "cell_type": "code",
   "execution_count": 20,
   "metadata": {},
   "outputs": [
    {
     "data": {
      "text/html": [
       "<div>\n",
       "<style scoped>\n",
       "    .dataframe tbody tr th:only-of-type {\n",
       "        vertical-align: middle;\n",
       "    }\n",
       "\n",
       "    .dataframe tbody tr th {\n",
       "        vertical-align: top;\n",
       "    }\n",
       "\n",
       "    .dataframe thead th {\n",
       "        text-align: right;\n",
       "    }\n",
       "</style>\n",
       "<table border=\"1\" class=\"dataframe\">\n",
       "  <thead>\n",
       "    <tr style=\"text-align: right;\">\n",
       "      <th></th>\n",
       "      <th>id</th>\n",
       "      <th>date</th>\n",
       "      <th>sell_price</th>\n",
       "    </tr>\n",
       "  </thead>\n",
       "  <tbody>\n",
       "    <tr>\n",
       "      <th>0</th>\n",
       "      <td>ACCESORIES_1_001_BOS_1</td>\n",
       "      <td>2013-07-31</td>\n",
       "      <td>11.753875</td>\n",
       "    </tr>\n",
       "  </tbody>\n",
       "</table>\n",
       "</div>"
      ],
      "text/plain": [
       "                       id        date  sell_price\n",
       "0  ACCESORIES_1_001_BOS_1  2013-07-31   11.753875"
      ]
     },
     "execution_count": 20,
     "metadata": {},
     "output_type": "execute_result"
    }
   ],
   "source": [
    "df_prices.head(1)"
   ]
  },
  {
   "cell_type": "code",
   "execution_count": 24,
   "metadata": {},
   "outputs": [
    {
     "data": {
      "text/html": [
       "<div>\n",
       "<style scoped>\n",
       "    .dataframe tbody tr th:only-of-type {\n",
       "        vertical-align: middle;\n",
       "    }\n",
       "\n",
       "    .dataframe tbody tr th {\n",
       "        vertical-align: top;\n",
       "    }\n",
       "\n",
       "    .dataframe thead th {\n",
       "        text-align: right;\n",
       "    }\n",
       "</style>\n",
       "<table border=\"1\" class=\"dataframe\">\n",
       "  <thead>\n",
       "    <tr style=\"text-align: right;\">\n",
       "      <th></th>\n",
       "      <th>id</th>\n",
       "      <th>store</th>\n",
       "      <th>date</th>\n",
       "      <th>sales</th>\n",
       "    </tr>\n",
       "  </thead>\n",
       "  <tbody>\n",
       "    <tr>\n",
       "      <th>0</th>\n",
       "      <td>ACCESORIES_1_001_BOS_1</td>\n",
       "      <td>South_End</td>\n",
       "      <td>2011-01-31</td>\n",
       "      <td>0</td>\n",
       "    </tr>\n",
       "  </tbody>\n",
       "</table>\n",
       "</div>"
      ],
      "text/plain": [
       "                       id      store        date  sales\n",
       "0  ACCESORIES_1_001_BOS_1  South_End  2011-01-31      0"
      ]
     },
     "execution_count": 24,
     "metadata": {},
     "output_type": "execute_result"
    }
   ],
   "source": [
    "df_sales.head(1)"
   ]
  },
  {
   "cell_type": "code",
   "execution_count": 25,
   "metadata": {},
   "outputs": [],
   "source": [
    "df_market = pd.merge(df_sales,df_prices, on=[\"id\", \"date\"], how=\"left\")"
   ]
  },
  {
   "cell_type": "code",
   "execution_count": 26,
   "metadata": {},
   "outputs": [
    {
     "name": "stdout",
     "output_type": "stream",
     "text": [
      "(1951360, 5)\n"
     ]
    },
    {
     "data": {
      "text/html": [
       "<div>\n",
       "<style scoped>\n",
       "    .dataframe tbody tr th:only-of-type {\n",
       "        vertical-align: middle;\n",
       "    }\n",
       "\n",
       "    .dataframe tbody tr th {\n",
       "        vertical-align: top;\n",
       "    }\n",
       "\n",
       "    .dataframe thead th {\n",
       "        text-align: right;\n",
       "    }\n",
       "</style>\n",
       "<table border=\"1\" class=\"dataframe\">\n",
       "  <thead>\n",
       "    <tr style=\"text-align: right;\">\n",
       "      <th></th>\n",
       "      <th>id</th>\n",
       "      <th>store</th>\n",
       "      <th>date</th>\n",
       "      <th>sales</th>\n",
       "      <th>sell_price</th>\n",
       "    </tr>\n",
       "  </thead>\n",
       "  <tbody>\n",
       "    <tr>\n",
       "      <th>766440</th>\n",
       "      <td>HOME_&amp;_GARDEN_2_101_NYC_3</td>\n",
       "      <td>Tribeca</td>\n",
       "      <td>2014-05-31</td>\n",
       "      <td>0</td>\n",
       "      <td>NaN</td>\n",
       "    </tr>\n",
       "    <tr>\n",
       "      <th>624832</th>\n",
       "      <td>HOME_&amp;_GARDEN_1_421_NYC_1</td>\n",
       "      <td>Greenwich_Village</td>\n",
       "      <td>2011-01-31</td>\n",
       "      <td>0</td>\n",
       "      <td>NaN</td>\n",
       "    </tr>\n",
       "  </tbody>\n",
       "</table>\n",
       "</div>"
      ],
      "text/plain": [
       "                               id              store        date  sales  \\\n",
       "766440  HOME_&_GARDEN_2_101_NYC_3            Tribeca  2014-05-31      0   \n",
       "624832  HOME_&_GARDEN_1_421_NYC_1  Greenwich_Village  2011-01-31      0   \n",
       "\n",
       "        sell_price  \n",
       "766440         NaN  \n",
       "624832         NaN  "
      ]
     },
     "execution_count": 26,
     "metadata": {},
     "output_type": "execute_result"
    }
   ],
   "source": [
    "print(df_market.shape)\n",
    "df_market.sample(2)"
   ]
  },
  {
   "cell_type": "code",
   "execution_count": 27,
   "metadata": {},
   "outputs": [
    {
     "data": {
      "text/plain": [
       "414584"
      ]
     },
     "execution_count": 27,
     "metadata": {},
     "output_type": "execute_result"
    }
   ],
   "source": [
    "df_market[\"sell_price\"].isnull().sum()"
   ]
  },
  {
   "cell_type": "markdown",
   "metadata": {},
   "source": [
    "### deleting nulls on sell_price column as we consider if there isn´t price it is because the item hadn´t arrive yet to the store"
   ]
  },
  {
   "cell_type": "code",
   "execution_count": 28,
   "metadata": {},
   "outputs": [],
   "source": [
    "df_market.dropna(subset=([\"sell_price\"]), inplace = True)"
   ]
  },
  {
   "cell_type": "code",
   "execution_count": 29,
   "metadata": {},
   "outputs": [
    {
     "data": {
      "text/html": [
       "<div>\n",
       "<style scoped>\n",
       "    .dataframe tbody tr th:only-of-type {\n",
       "        vertical-align: middle;\n",
       "    }\n",
       "\n",
       "    .dataframe tbody tr th {\n",
       "        vertical-align: top;\n",
       "    }\n",
       "\n",
       "    .dataframe thead th {\n",
       "        text-align: right;\n",
       "    }\n",
       "</style>\n",
       "<table border=\"1\" class=\"dataframe\">\n",
       "  <thead>\n",
       "    <tr style=\"text-align: right;\">\n",
       "      <th></th>\n",
       "      <th>id</th>\n",
       "      <th>store</th>\n",
       "      <th>date</th>\n",
       "      <th>sales</th>\n",
       "      <th>sell_price</th>\n",
       "    </tr>\n",
       "  </thead>\n",
       "  <tbody>\n",
       "    <tr>\n",
       "      <th>30</th>\n",
       "      <td>ACCESORIES_1_001_BOS_1</td>\n",
       "      <td>South_End</td>\n",
       "      <td>2013-07-31</td>\n",
       "      <td>10</td>\n",
       "      <td>11.753875</td>\n",
       "    </tr>\n",
       "    <tr>\n",
       "      <th>31</th>\n",
       "      <td>ACCESORIES_1_001_BOS_1</td>\n",
       "      <td>South_End</td>\n",
       "      <td>2013-08-31</td>\n",
       "      <td>3</td>\n",
       "      <td>10.985800</td>\n",
       "    </tr>\n",
       "    <tr>\n",
       "      <th>32</th>\n",
       "      <td>ACCESORIES_1_001_BOS_1</td>\n",
       "      <td>South_End</td>\n",
       "      <td>2013-09-30</td>\n",
       "      <td>4</td>\n",
       "      <td>10.985800</td>\n",
       "    </tr>\n",
       "    <tr>\n",
       "      <th>33</th>\n",
       "      <td>ACCESORIES_1_001_BOS_1</td>\n",
       "      <td>South_End</td>\n",
       "      <td>2013-10-31</td>\n",
       "      <td>4</td>\n",
       "      <td>10.985800</td>\n",
       "    </tr>\n",
       "    <tr>\n",
       "      <th>34</th>\n",
       "      <td>ACCESORIES_1_001_BOS_1</td>\n",
       "      <td>South_End</td>\n",
       "      <td>2013-11-30</td>\n",
       "      <td>10</td>\n",
       "      <td>10.985800</td>\n",
       "    </tr>\n",
       "    <tr>\n",
       "      <th>...</th>\n",
       "      <td>...</td>\n",
       "      <td>...</td>\n",
       "      <td>...</td>\n",
       "      <td>...</td>\n",
       "      <td>...</td>\n",
       "    </tr>\n",
       "    <tr>\n",
       "      <th>1951355</th>\n",
       "      <td>SUPERMARKET_3_827_PHI_3</td>\n",
       "      <td>Queen_Village</td>\n",
       "      <td>2015-12-31</td>\n",
       "      <td>41</td>\n",
       "      <td>1.200000</td>\n",
       "    </tr>\n",
       "    <tr>\n",
       "      <th>1951356</th>\n",
       "      <td>SUPERMARKET_3_827_PHI_3</td>\n",
       "      <td>Queen_Village</td>\n",
       "      <td>2016-01-31</td>\n",
       "      <td>49</td>\n",
       "      <td>1.200000</td>\n",
       "    </tr>\n",
       "    <tr>\n",
       "      <th>1951357</th>\n",
       "      <td>SUPERMARKET_3_827_PHI_3</td>\n",
       "      <td>Queen_Village</td>\n",
       "      <td>2016-02-29</td>\n",
       "      <td>46</td>\n",
       "      <td>1.200000</td>\n",
       "    </tr>\n",
       "    <tr>\n",
       "      <th>1951358</th>\n",
       "      <td>SUPERMARKET_3_827_PHI_3</td>\n",
       "      <td>Queen_Village</td>\n",
       "      <td>2016-03-31</td>\n",
       "      <td>68</td>\n",
       "      <td>1.200000</td>\n",
       "    </tr>\n",
       "    <tr>\n",
       "      <th>1951359</th>\n",
       "      <td>SUPERMARKET_3_827_PHI_3</td>\n",
       "      <td>Queen_Village</td>\n",
       "      <td>2016-04-30</td>\n",
       "      <td>15</td>\n",
       "      <td>1.200000</td>\n",
       "    </tr>\n",
       "  </tbody>\n",
       "</table>\n",
       "<p>1536776 rows × 5 columns</p>\n",
       "</div>"
      ],
      "text/plain": [
       "                              id          store        date  sales  sell_price\n",
       "30        ACCESORIES_1_001_BOS_1      South_End  2013-07-31     10   11.753875\n",
       "31        ACCESORIES_1_001_BOS_1      South_End  2013-08-31      3   10.985800\n",
       "32        ACCESORIES_1_001_BOS_1      South_End  2013-09-30      4   10.985800\n",
       "33        ACCESORIES_1_001_BOS_1      South_End  2013-10-31      4   10.985800\n",
       "34        ACCESORIES_1_001_BOS_1      South_End  2013-11-30     10   10.985800\n",
       "...                          ...            ...         ...    ...         ...\n",
       "1951355  SUPERMARKET_3_827_PHI_3  Queen_Village  2015-12-31     41    1.200000\n",
       "1951356  SUPERMARKET_3_827_PHI_3  Queen_Village  2016-01-31     49    1.200000\n",
       "1951357  SUPERMARKET_3_827_PHI_3  Queen_Village  2016-02-29     46    1.200000\n",
       "1951358  SUPERMARKET_3_827_PHI_3  Queen_Village  2016-03-31     68    1.200000\n",
       "1951359  SUPERMARKET_3_827_PHI_3  Queen_Village  2016-04-30     15    1.200000\n",
       "\n",
       "[1536776 rows x 5 columns]"
      ]
     },
     "execution_count": 29,
     "metadata": {},
     "output_type": "execute_result"
    }
   ],
   "source": [
    "df_market"
   ]
  },
  {
   "cell_type": "markdown",
   "metadata": {},
   "source": [
    "###  Making new columns \"Income\""
   ]
  },
  {
   "cell_type": "code",
   "execution_count": 30,
   "metadata": {},
   "outputs": [],
   "source": [
    "df_market[\"income\"] = df_market[\"sales\"] * df_market[\"sell_price\"]"
   ]
  },
  {
   "cell_type": "code",
   "execution_count": 31,
   "metadata": {},
   "outputs": [
    {
     "data": {
      "text/html": [
       "<div>\n",
       "<style scoped>\n",
       "    .dataframe tbody tr th:only-of-type {\n",
       "        vertical-align: middle;\n",
       "    }\n",
       "\n",
       "    .dataframe tbody tr th {\n",
       "        vertical-align: top;\n",
       "    }\n",
       "\n",
       "    .dataframe thead th {\n",
       "        text-align: right;\n",
       "    }\n",
       "</style>\n",
       "<table border=\"1\" class=\"dataframe\">\n",
       "  <thead>\n",
       "    <tr style=\"text-align: right;\">\n",
       "      <th></th>\n",
       "      <th>id</th>\n",
       "      <th>store</th>\n",
       "      <th>date</th>\n",
       "      <th>sales</th>\n",
       "      <th>sell_price</th>\n",
       "      <th>income</th>\n",
       "    </tr>\n",
       "  </thead>\n",
       "  <tbody>\n",
       "    <tr>\n",
       "      <th>634025</th>\n",
       "      <td>HOME_&amp;_GARDEN_1_435_NYC_4</td>\n",
       "      <td>Brooklyn</td>\n",
       "      <td>2014-06-30</td>\n",
       "      <td>8</td>\n",
       "      <td>9.9750</td>\n",
       "      <td>79.8000</td>\n",
       "    </tr>\n",
       "    <tr>\n",
       "      <th>731635</th>\n",
       "      <td>HOME_&amp;_GARDEN_2_047_BOS_2</td>\n",
       "      <td>Roxbury</td>\n",
       "      <td>2015-04-30</td>\n",
       "      <td>7</td>\n",
       "      <td>4.5875</td>\n",
       "      <td>32.1125</td>\n",
       "    </tr>\n",
       "    <tr>\n",
       "      <th>1323439</th>\n",
       "      <td>SUPERMARKET_2_241_PHI_2</td>\n",
       "      <td>Yorktown</td>\n",
       "      <td>2014-12-31</td>\n",
       "      <td>173</td>\n",
       "      <td>2.8560</td>\n",
       "      <td>494.0880</td>\n",
       "    </tr>\n",
       "    <tr>\n",
       "      <th>379836</th>\n",
       "      <td>HOME_&amp;_GARDEN_1_029_NYC_2</td>\n",
       "      <td>Harlem</td>\n",
       "      <td>2016-01-31</td>\n",
       "      <td>30</td>\n",
       "      <td>9.3500</td>\n",
       "      <td>280.5000</td>\n",
       "    </tr>\n",
       "    <tr>\n",
       "      <th>753530</th>\n",
       "      <td>HOME_&amp;_GARDEN_2_081_NYC_1</td>\n",
       "      <td>Greenwich_Village</td>\n",
       "      <td>2015-11-30</td>\n",
       "      <td>16</td>\n",
       "      <td>3.2125</td>\n",
       "      <td>51.4000</td>\n",
       "    </tr>\n",
       "  </tbody>\n",
       "</table>\n",
       "</div>"
      ],
      "text/plain": [
       "                                id              store        date  sales  \\\n",
       "634025   HOME_&_GARDEN_1_435_NYC_4           Brooklyn  2014-06-30      8   \n",
       "731635   HOME_&_GARDEN_2_047_BOS_2            Roxbury  2015-04-30      7   \n",
       "1323439    SUPERMARKET_2_241_PHI_2           Yorktown  2014-12-31    173   \n",
       "379836   HOME_&_GARDEN_1_029_NYC_2             Harlem  2016-01-31     30   \n",
       "753530   HOME_&_GARDEN_2_081_NYC_1  Greenwich_Village  2015-11-30     16   \n",
       "\n",
       "         sell_price    income  \n",
       "634025       9.9750   79.8000  \n",
       "731635       4.5875   32.1125  \n",
       "1323439      2.8560  494.0880  \n",
       "379836       9.3500  280.5000  \n",
       "753530       3.2125   51.4000  "
      ]
     },
     "execution_count": 31,
     "metadata": {},
     "output_type": "execute_result"
    }
   ],
   "source": [
    "df_market.sample(5)"
   ]
  },
  {
   "cell_type": "markdown",
   "metadata": {},
   "source": [
    "### adding old columns to our df_market so to use them in visualizations or any other calculates afterwards"
   ]
  },
  {
   "cell_type": "code",
   "execution_count": 38,
   "metadata": {},
   "outputs": [],
   "source": [
    "df_market[\"category\"] = df_market[\"id\"].apply(lambda x: x[:-12])\n",
    "df_market[\"region\"] = df_market[\"id\"].apply(lambda x: x[-5:-2])\n",
    "df_market[\"item\"] = df_market[\"id\"].apply(lambda x: x[0:-6])"
   ]
  },
  {
   "cell_type": "code",
   "execution_count": 40,
   "metadata": {},
   "outputs": [],
   "source": [
    "df_market = df_market[['id','item','store','region','category','sell_price','sales','income']]"
   ]
  },
  {
   "cell_type": "code",
   "execution_count": 41,
   "metadata": {},
   "outputs": [
    {
     "data": {
      "text/html": [
       "<div>\n",
       "<style scoped>\n",
       "    .dataframe tbody tr th:only-of-type {\n",
       "        vertical-align: middle;\n",
       "    }\n",
       "\n",
       "    .dataframe tbody tr th {\n",
       "        vertical-align: top;\n",
       "    }\n",
       "\n",
       "    .dataframe thead th {\n",
       "        text-align: right;\n",
       "    }\n",
       "</style>\n",
       "<table border=\"1\" class=\"dataframe\">\n",
       "  <thead>\n",
       "    <tr style=\"text-align: right;\">\n",
       "      <th></th>\n",
       "      <th>id</th>\n",
       "      <th>item</th>\n",
       "      <th>store</th>\n",
       "      <th>region</th>\n",
       "      <th>category</th>\n",
       "      <th>sell_price</th>\n",
       "      <th>sales</th>\n",
       "      <th>income</th>\n",
       "    </tr>\n",
       "  </thead>\n",
       "  <tbody>\n",
       "    <tr>\n",
       "      <th>116331</th>\n",
       "      <td>ACCESORIES_1_187_PHI_1</td>\n",
       "      <td>ACCESORIES_1_187</td>\n",
       "      <td>Midtown_Village</td>\n",
       "      <td>PHI</td>\n",
       "      <td>ACCESORIES</td>\n",
       "      <td>9.3100</td>\n",
       "      <td>5</td>\n",
       "      <td>46.550</td>\n",
       "    </tr>\n",
       "    <tr>\n",
       "      <th>787013</th>\n",
       "      <td>HOME_&amp;_GARDEN_2_133_PHI_1</td>\n",
       "      <td>HOME_&amp;_GARDEN_2_133</td>\n",
       "      <td>Midtown_Village</td>\n",
       "      <td>PHI</td>\n",
       "      <td>HOME_&amp;_GARDEN</td>\n",
       "      <td>6.2125</td>\n",
       "      <td>10</td>\n",
       "      <td>62.125</td>\n",
       "    </tr>\n",
       "  </tbody>\n",
       "</table>\n",
       "</div>"
      ],
      "text/plain": [
       "                               id                 item            store  \\\n",
       "116331     ACCESORIES_1_187_PHI_1     ACCESORIES_1_187  Midtown_Village   \n",
       "787013  HOME_&_GARDEN_2_133_PHI_1  HOME_&_GARDEN_2_133  Midtown_Village   \n",
       "\n",
       "       region       category  sell_price  sales  income  \n",
       "116331    PHI     ACCESORIES      9.3100      5  46.550  \n",
       "787013    PHI  HOME_&_GARDEN      6.2125     10  62.125  "
      ]
     },
     "execution_count": 41,
     "metadata": {},
     "output_type": "execute_result"
    }
   ],
   "source": [
    "df_market.sample(2)"
   ]
  },
  {
   "cell_type": "code",
   "execution_count": 77,
   "metadata": {},
   "outputs": [],
   "source": [
    "# file_name = \"df_market.csv\" #mountly\n",
    "# df_market.to_csv(file_name)"
   ]
  }
 ],
 "metadata": {
  "kernelspec": {
   "display_name": "Python 3",
   "language": "python",
   "name": "python3"
  },
  "language_info": {
   "codemirror_mode": {
    "name": "ipython",
    "version": 3
   },
   "file_extension": ".py",
   "mimetype": "text/x-python",
   "name": "python",
   "nbconvert_exporter": "python",
   "pygments_lexer": "ipython3",
   "version": "3.10.12"
  }
 },
 "nbformat": 4,
 "nbformat_minor": 2
}
