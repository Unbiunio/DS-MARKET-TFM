{
 "cells": [
  {
   "cell_type": "code",
<<<<<<< HEAD
<<<<<<< HEAD
   "execution_count": 2,
=======
   "execution_count": 1,
>>>>>>> LocalR
=======
   "execution_count": 1,
>>>>>>> ff450b12b17605e8d65dc5c0d29180185469e44a
   "metadata": {},
   "outputs": [],
   "source": [
    "import pandas as pd\n",
    "import numpy as np\n",
    "import datetime\n",
    "from datetime import datetime, timedelta\n",
    "import seaborn as sns\n",
    "import matplotlib.pyplot as plt\n",
    "\n",
<<<<<<< HEAD
    "import time\n",
    "\n",
    "import warnings\n",
    "warnings.simplefilter(action = 'ignore', category = FutureWarning)\n",
    "\n",
    "# imports best practice pandas\n",
    "import os\n",
    "\n",
    "import numpy as np\n",
    "import pandas as pd\n",
    "\n",
    "#--------------------------------------------------------"
   ]
  },
  {
   "cell_type": "code",
   "execution_count": 3,
   "metadata": {},
   "outputs": [],
   "source": [
<<<<<<< HEAD
    "df_sales = pd.read_csv('./data/reduced_sales.csv')\n",
    "df_prices = pd.read_csv('./data/reduced_prices.csv')"
=======
    "#df_sales = pd.read_csv('./data/df_sales_clean_resampled.csv')\n",
    "#df_prices = pd.read_csv('./data/df_price_clean.csv')\n",
    "df_calendar = pd.read_csv('./data/df_calendar_clean.csv')"
   ]
  },
  {
   "cell_type": "code",
   "execution_count": 32,
   "metadata": {},
   "outputs": [
    {
     "data": {
      "text/html": [
       "<div>\n",
       "<style scoped>\n",
       "    .dataframe tbody tr th:only-of-type {\n",
       "        vertical-align: middle;\n",
       "    }\n",
       "\n",
       "    .dataframe tbody tr th {\n",
       "        vertical-align: top;\n",
       "    }\n",
       "\n",
       "    .dataframe thead th {\n",
       "        text-align: right;\n",
       "    }\n",
       "</style>\n",
       "<table border=\"1\" class=\"dataframe\">\n",
       "  <thead>\n",
       "    <tr style=\"text-align: right;\">\n",
       "      <th></th>\n",
       "      <th>Unnamed: 0</th>\n",
       "      <th>id</th>\n",
       "      <th>date</th>\n",
       "      <th>sales</th>\n",
       "    </tr>\n",
       "  </thead>\n",
       "  <tbody>\n",
       "    <tr>\n",
       "      <th>1593541</th>\n",
       "      <td>1593541</td>\n",
       "      <td>SUPERMARKET_3_265_PHI_3</td>\n",
       "      <td>2011-06-30</td>\n",
       "      <td>61</td>\n",
       "    </tr>\n",
       "    <tr>\n",
       "      <th>32352</th>\n",
       "      <td>32352</td>\n",
       "      <td>ACCESORIES_1_051_NYC_3</td>\n",
       "      <td>2013-09-30</td>\n",
       "      <td>12</td>\n",
       "    </tr>\n",
       "  </tbody>\n",
       "</table>\n",
       "</div>"
      ],
      "text/plain": [
       "         Unnamed: 0                       id        date  sales\n",
       "1593541     1593541  SUPERMARKET_3_265_PHI_3  2011-06-30     61\n",
       "32352         32352   ACCESORIES_1_051_NYC_3  2013-09-30     12"
      ]
     },
     "execution_count": 32,
     "metadata": {},
     "output_type": "execute_result"
    }
   ],
   "source": [
    "df_sales.sample(2)"
   ]
  },
  {
   "cell_type": "code",
   "execution_count": 74,
   "metadata": {},
   "outputs": [
    {
     "data": {
      "text/html": [
       "<div>\n",
       "<style scoped>\n",
       "    .dataframe tbody tr th:only-of-type {\n",
       "        vertical-align: middle;\n",
       "    }\n",
       "\n",
       "    .dataframe tbody tr th {\n",
       "        vertical-align: top;\n",
       "    }\n",
       "\n",
       "    .dataframe thead th {\n",
       "        text-align: right;\n",
       "    }\n",
       "</style>\n",
       "<table border=\"1\" class=\"dataframe\">\n",
       "  <thead>\n",
       "    <tr style=\"text-align: right;\">\n",
       "      <th></th>\n",
       "      <th>item</th>\n",
       "      <th>category</th>\n",
       "      <th>store_code</th>\n",
       "      <th>yearweek</th>\n",
       "      <th>sell_price</th>\n",
       "    </tr>\n",
       "  </thead>\n",
       "  <tbody>\n",
       "    <tr>\n",
       "      <th>0</th>\n",
       "      <td>ACCESORIES_1_001</td>\n",
       "      <td>ACCESORIES</td>\n",
       "      <td>NYC_1</td>\n",
       "      <td>201328</td>\n",
       "      <td>12.7414</td>\n",
       "    </tr>\n",
       "    <tr>\n",
       "      <th>1</th>\n",
       "      <td>ACCESORIES_1_001</td>\n",
       "      <td>ACCESORIES</td>\n",
       "      <td>NYC_1</td>\n",
       "      <td>201329</td>\n",
       "      <td>12.7414</td>\n",
       "    </tr>\n",
       "  </tbody>\n",
       "</table>\n",
       "</div>"
      ],
      "text/plain": [
       "               item    category store_code yearweek  sell_price\n",
       "0  ACCESORIES_1_001  ACCESORIES      NYC_1   201328     12.7414\n",
       "1  ACCESORIES_1_001  ACCESORIES      NYC_1   201329     12.7414"
      ]
     },
     "execution_count": 74,
     "metadata": {},
     "output_type": "execute_result"
    }
   ],
   "source": [
    "df_prices.head(2)"
   ]
  },
  {
   "cell_type": "code",
   "execution_count": 7,
   "metadata": {},
   "outputs": [
    {
     "data": {
      "text/html": [
       "<div>\n",
       "<style scoped>\n",
       "    .dataframe tbody tr th:only-of-type {\n",
       "        vertical-align: middle;\n",
       "    }\n",
       "\n",
       "    .dataframe tbody tr th {\n",
       "        vertical-align: top;\n",
       "    }\n",
       "\n",
       "    .dataframe thead th {\n",
       "        text-align: right;\n",
       "    }\n",
       "</style>\n",
       "<table border=\"1\" class=\"dataframe\">\n",
       "  <thead>\n",
       "    <tr style=\"text-align: right;\">\n",
       "      <th></th>\n",
       "      <th>Unnamed: 0</th>\n",
       "      <th>date</th>\n",
       "      <th>weekday</th>\n",
       "      <th>d</th>\n",
       "      <th>event</th>\n",
       "    </tr>\n",
       "  </thead>\n",
       "  <tbody>\n",
       "    <tr>\n",
       "      <th>0</th>\n",
       "      <td>0</td>\n",
       "      <td>2011-01-29</td>\n",
       "      <td>Saturday</td>\n",
       "      <td>d_1</td>\n",
       "      <td>no event</td>\n",
       "    </tr>\n",
       "    <tr>\n",
       "      <th>1</th>\n",
       "      <td>1</td>\n",
       "      <td>2011-01-30</td>\n",
       "      <td>Sunday</td>\n",
       "      <td>d_2</td>\n",
       "      <td>no event</td>\n",
       "    </tr>\n",
       "    <tr>\n",
       "      <th>2</th>\n",
       "      <td>2</td>\n",
       "      <td>2011-01-31</td>\n",
       "      <td>Monday</td>\n",
       "      <td>d_3</td>\n",
       "      <td>no event</td>\n",
       "    </tr>\n",
       "    <tr>\n",
       "      <th>3</th>\n",
       "      <td>3</td>\n",
       "      <td>2011-02-01</td>\n",
       "      <td>Tuesday</td>\n",
       "      <td>d_4</td>\n",
       "      <td>no event</td>\n",
       "    </tr>\n",
       "    <tr>\n",
       "      <th>4</th>\n",
       "      <td>4</td>\n",
       "      <td>2011-02-02</td>\n",
       "      <td>Wednesday</td>\n",
       "      <td>d_5</td>\n",
       "      <td>no event</td>\n",
       "    </tr>\n",
       "    <tr>\n",
       "      <th>...</th>\n",
       "      <td>...</td>\n",
       "      <td>...</td>\n",
       "      <td>...</td>\n",
       "      <td>...</td>\n",
       "      <td>...</td>\n",
       "    </tr>\n",
       "    <tr>\n",
       "      <th>1908</th>\n",
       "      <td>1908</td>\n",
       "      <td>2016-04-20</td>\n",
       "      <td>Wednesday</td>\n",
       "      <td>d_1909</td>\n",
       "      <td>no event</td>\n",
       "    </tr>\n",
       "    <tr>\n",
       "      <th>1909</th>\n",
       "      <td>1909</td>\n",
       "      <td>2016-04-21</td>\n",
       "      <td>Thursday</td>\n",
       "      <td>d_1910</td>\n",
       "      <td>no event</td>\n",
       "    </tr>\n",
       "    <tr>\n",
       "      <th>1910</th>\n",
       "      <td>1910</td>\n",
       "      <td>2016-04-22</td>\n",
       "      <td>Friday</td>\n",
       "      <td>d_1911</td>\n",
       "      <td>no event</td>\n",
       "    </tr>\n",
       "    <tr>\n",
       "      <th>1911</th>\n",
       "      <td>1911</td>\n",
       "      <td>2016-04-23</td>\n",
       "      <td>Saturday</td>\n",
       "      <td>d_1912</td>\n",
       "      <td>no event</td>\n",
       "    </tr>\n",
       "    <tr>\n",
       "      <th>1912</th>\n",
       "      <td>1912</td>\n",
       "      <td>2016-04-24</td>\n",
       "      <td>Sunday</td>\n",
       "      <td>d_1913</td>\n",
       "      <td>no event</td>\n",
       "    </tr>\n",
       "  </tbody>\n",
       "</table>\n",
       "<p>1913 rows × 5 columns</p>\n",
       "</div>"
      ],
      "text/plain": [
       "      Unnamed: 0        date    weekday       d     event\n",
       "0              0  2011-01-29   Saturday     d_1  no event\n",
       "1              1  2011-01-30     Sunday     d_2  no event\n",
       "2              2  2011-01-31     Monday     d_3  no event\n",
       "3              3  2011-02-01    Tuesday     d_4  no event\n",
       "4              4  2011-02-02  Wednesday     d_5  no event\n",
       "...          ...         ...        ...     ...       ...\n",
       "1908        1908  2016-04-20  Wednesday  d_1909  no event\n",
       "1909        1909  2016-04-21   Thursday  d_1910  no event\n",
       "1910        1910  2016-04-22     Friday  d_1911  no event\n",
       "1911        1911  2016-04-23   Saturday  d_1912  no event\n",
       "1912        1912  2016-04-24     Sunday  d_1913  no event\n",
       "\n",
       "[1913 rows x 5 columns]"
      ]
     },
     "execution_count": 7,
     "metadata": {},
     "output_type": "execute_result"
    }
   ],
   "source": [
    "df_calendar\n"
   ]
  },
  {
   "cell_type": "code",
   "execution_count": 35,
   "metadata": {},
   "outputs": [],
   "source": [
    "del(df_sales[\"Unnamed: 0\"])\n",
    "del(df_prices[\"Unnamed: 0\"])\n",
    "del(df_calendar[\"Unnamed: 0\"])"
   ]
  },
  {
   "cell_type": "code",
   "execution_count": 36,
   "metadata": {},
   "outputs": [],
   "source": [
    "def create_yearweek_df(start_date_str, end_date_str, initial_week):\n",
    "    \"\"\"\n",
    "    Create dataframe with week and dates\n",
    "    \"\"\"\n",
    "    #Convertir las cadenas de fecha a objetos datetime\n",
    "    start_date = pd.to_datetime(start_date_str)\n",
    "    end_date = pd.to_datetime(end_date_str)\n",
    "\n",
    "    # Generar el rango de fechas\n",
    "    date_range = pd.date_range(start_date, end_date)\n",
    "    df = pd.DataFrame(date_range, columns=['date'])\n",
    "\n",
    "    # Calcular el número de días desde la fecha de inicio\n",
    "    df['dias_desde_inicio'] = (df['date'] - start_date).dt.days\n",
    "\n",
    "    # Calcular el número de la semana ajustado desde la fecha inicial\n",
    "    df['week_number'] = ((df['dias_desde_inicio'] // 7) + initial_week).astype(int)\n",
    "\n",
    "    # Crear una columna 'yearweek' que combine el año y la semana\n",
    "    df['year'] = df['date'].dt.year\n",
    "    df['yearweek'] = df['year'].astype(str) + df['week_number'].apply(lambda x: f\"{x:02d}\")\n",
    "\n",
    "    # Eliminar las columnas auxiliares\n",
    "    df.drop(['dias_desde_inicio', 'week_number', 'year'], axis=1, inplace=True)\n",
    "\n",
    "    return df\n",
    "\n",
    "    # Crear DataFrames para cada año\n",
    "df_2011 = create_yearweek_df('2011-01-29', '2011-12-30', 5)\n",
    "df_2012_1 = create_yearweek_df('2011-12-31', '2012-01-01', 0)\n",
    "df_2012 = create_yearweek_df('2012-01-02', '2012-12-30', 1)\n",
    "df_2012_53 = pd.DataFrame([['2012-12-31','201253']],columns=['date','yearweek'])\n",
    "df_2013 = create_yearweek_df('2013-01-01', '2013-12-31', 0)\n",
    "df_2014 = create_yearweek_df('2014-01-01', '2014-12-31', 0)\n",
    "df_2015 = create_yearweek_df('2015-01-01', '2015-12-31', 0)\n",
    "df_2016_1 = create_yearweek_df('2016-01-01', '2016-01-02', 0)\n",
    "df_2016 = create_yearweek_df('2016-01-03', '2016-04-24', 1)\n",
    "\n",
    "df_2012_1.loc[0,'yearweek']='201152'\n",
    "\n",
    "all_years_df = pd.concat([df_2011, df_2012_1, df_2012, df_2012_53, df_2013, df_2014, df_2015,df_2016_1, df_2016]).reset_index(drop=True)"
   ]
  },
  {
   "cell_type": "code",
   "execution_count": 39,
   "metadata": {},
   "outputs": [],
   "source": [
    "all_years_df['date']= pd.to_datetime(all_years_df['date'], format='%Y-%m-%d') # change type to datetime\n",
    "df_prices['yearweek'] = df_prices['yearweek'].astype(str).apply(lambda x: x[:-2]) # delete last two characters"
   ]
  },
  {
   "cell_type": "code",
   "execution_count": 40,
   "metadata": {},
   "outputs": [],
   "source": [
    "df_merge = df_prices.merge(all_years_df, on=['yearweek'], how='left') # merge df_prices with list of dates"
   ]
  },
  {
   "cell_type": "code",
   "execution_count": 41,
   "metadata": {},
   "outputs": [
    {
     "data": {
      "text/html": [
       "<div>\n",
       "<style scoped>\n",
       "    .dataframe tbody tr th:only-of-type {\n",
       "        vertical-align: middle;\n",
       "    }\n",
       "\n",
       "    .dataframe tbody tr th {\n",
       "        vertical-align: top;\n",
       "    }\n",
       "\n",
       "    .dataframe thead th {\n",
       "        text-align: right;\n",
       "    }\n",
       "</style>\n",
       "<table border=\"1\" class=\"dataframe\">\n",
       "  <thead>\n",
       "    <tr style=\"text-align: right;\">\n",
       "      <th></th>\n",
       "      <th>item</th>\n",
       "      <th>category</th>\n",
       "      <th>store_code</th>\n",
       "      <th>yearweek</th>\n",
       "      <th>sell_price</th>\n",
       "      <th>date</th>\n",
       "    </tr>\n",
       "  </thead>\n",
       "  <tbody>\n",
       "    <tr>\n",
       "      <th>0</th>\n",
       "      <td>ACCESORIES_1_001</td>\n",
       "      <td>ACCESORIES</td>\n",
       "      <td>NYC_1</td>\n",
       "      <td>201328</td>\n",
       "      <td>12.7414</td>\n",
       "      <td>2013-07-16</td>\n",
       "    </tr>\n",
       "    <tr>\n",
       "      <th>1</th>\n",
       "      <td>ACCESORIES_1_001</td>\n",
       "      <td>ACCESORIES</td>\n",
       "      <td>NYC_1</td>\n",
       "      <td>201328</td>\n",
       "      <td>12.7414</td>\n",
       "      <td>2013-07-17</td>\n",
       "    </tr>\n",
       "    <tr>\n",
       "      <th>2</th>\n",
       "      <td>ACCESORIES_1_001</td>\n",
       "      <td>ACCESORIES</td>\n",
       "      <td>NYC_1</td>\n",
       "      <td>201328</td>\n",
       "      <td>12.7414</td>\n",
       "      <td>2013-07-18</td>\n",
       "    </tr>\n",
       "    <tr>\n",
       "      <th>3</th>\n",
       "      <td>ACCESORIES_1_001</td>\n",
       "      <td>ACCESORIES</td>\n",
       "      <td>NYC_1</td>\n",
       "      <td>201328</td>\n",
       "      <td>12.7414</td>\n",
       "      <td>2013-07-19</td>\n",
       "    </tr>\n",
       "    <tr>\n",
       "      <th>4</th>\n",
       "      <td>ACCESORIES_1_001</td>\n",
       "      <td>ACCESORIES</td>\n",
       "      <td>NYC_1</td>\n",
       "      <td>201328</td>\n",
       "      <td>12.7414</td>\n",
       "      <td>2013-07-20</td>\n",
       "    </tr>\n",
       "    <tr>\n",
       "      <th>...</th>\n",
       "      <td>...</td>\n",
       "      <td>...</td>\n",
       "      <td>...</td>\n",
       "      <td>...</td>\n",
       "      <td>...</td>\n",
       "      <td>...</td>\n",
       "    </tr>\n",
       "    <tr>\n",
       "      <th>45986371</th>\n",
       "      <td>SUPERMARKET_3_827</td>\n",
       "      <td>SUPERMARKET</td>\n",
       "      <td>PHI_3</td>\n",
       "      <td>201616</td>\n",
       "      <td>1.2000</td>\n",
       "      <td>2016-04-20</td>\n",
       "    </tr>\n",
       "    <tr>\n",
       "      <th>45986372</th>\n",
       "      <td>SUPERMARKET_3_827</td>\n",
       "      <td>SUPERMARKET</td>\n",
       "      <td>PHI_3</td>\n",
       "      <td>201616</td>\n",
       "      <td>1.2000</td>\n",
       "      <td>2016-04-21</td>\n",
       "    </tr>\n",
       "    <tr>\n",
       "      <th>45986373</th>\n",
       "      <td>SUPERMARKET_3_827</td>\n",
       "      <td>SUPERMARKET</td>\n",
       "      <td>PHI_3</td>\n",
       "      <td>201616</td>\n",
       "      <td>1.2000</td>\n",
       "      <td>2016-04-22</td>\n",
       "    </tr>\n",
       "    <tr>\n",
       "      <th>45986374</th>\n",
       "      <td>SUPERMARKET_3_827</td>\n",
       "      <td>SUPERMARKET</td>\n",
       "      <td>PHI_3</td>\n",
       "      <td>201616</td>\n",
       "      <td>1.2000</td>\n",
       "      <td>2016-04-23</td>\n",
       "    </tr>\n",
       "    <tr>\n",
       "      <th>45986375</th>\n",
       "      <td>SUPERMARKET_3_827</td>\n",
       "      <td>SUPERMARKET</td>\n",
       "      <td>PHI_3</td>\n",
       "      <td>201617</td>\n",
       "      <td>1.2000</td>\n",
       "      <td>2016-04-24</td>\n",
       "    </tr>\n",
       "  </tbody>\n",
       "</table>\n",
       "<p>45986376 rows × 6 columns</p>\n",
       "</div>"
      ],
      "text/plain": [
       "                       item     category store_code yearweek  sell_price  \\\n",
       "0          ACCESORIES_1_001   ACCESORIES      NYC_1   201328     12.7414   \n",
       "1          ACCESORIES_1_001   ACCESORIES      NYC_1   201328     12.7414   \n",
       "2          ACCESORIES_1_001   ACCESORIES      NYC_1   201328     12.7414   \n",
       "3          ACCESORIES_1_001   ACCESORIES      NYC_1   201328     12.7414   \n",
       "4          ACCESORIES_1_001   ACCESORIES      NYC_1   201328     12.7414   \n",
       "...                     ...          ...        ...      ...         ...   \n",
       "45986371  SUPERMARKET_3_827  SUPERMARKET      PHI_3   201616      1.2000   \n",
       "45986372  SUPERMARKET_3_827  SUPERMARKET      PHI_3   201616      1.2000   \n",
       "45986373  SUPERMARKET_3_827  SUPERMARKET      PHI_3   201616      1.2000   \n",
       "45986374  SUPERMARKET_3_827  SUPERMARKET      PHI_3   201616      1.2000   \n",
       "45986375  SUPERMARKET_3_827  SUPERMARKET      PHI_3   201617      1.2000   \n",
       "\n",
       "               date  \n",
       "0        2013-07-16  \n",
       "1        2013-07-17  \n",
       "2        2013-07-18  \n",
       "3        2013-07-19  \n",
       "4        2013-07-20  \n",
       "...             ...  \n",
       "45986371 2016-04-20  \n",
       "45986372 2016-04-21  \n",
       "45986373 2016-04-22  \n",
       "45986374 2016-04-23  \n",
       "45986375 2016-04-24  \n",
       "\n",
       "[45986376 rows x 6 columns]"
      ]
     },
     "execution_count": 41,
     "metadata": {},
     "output_type": "execute_result"
    }
   ],
   "source": [
    "df_merge"
   ]
  },
  {
   "cell_type": "code",
   "execution_count": 42,
   "metadata": {},
   "outputs": [],
   "source": [
    "del(df_merge[\"category\"])"
   ]
  },
  {
   "cell_type": "code",
   "execution_count": 43,
   "metadata": {},
   "outputs": [],
   "source": [
    "del(df_merge[\"yearweek\"])"
   ]
  },
  {
   "cell_type": "code",
   "execution_count": 44,
   "metadata": {},
   "outputs": [],
   "source": [
    "df_merge.drop_duplicates(inplace=True)"
   ]
  },
  {
   "cell_type": "code",
   "execution_count": 45,
   "metadata": {},
   "outputs": [
    {
     "data": {
      "text/plain": [
       "item          0\n",
       "store_code    0\n",
       "sell_price    0\n",
       "date          0\n",
       "dtype: int64"
      ]
     },
     "execution_count": 45,
     "metadata": {},
     "output_type": "execute_result"
    }
   ],
   "source": [
    "df_merge.isnull().sum()"
   ]
  },
  {
   "cell_type": "code",
   "execution_count": 46,
   "metadata": {},
   "outputs": [
    {
     "data": {
      "text/html": [
       "<div>\n",
       "<style scoped>\n",
       "    .dataframe tbody tr th:only-of-type {\n",
       "        vertical-align: middle;\n",
       "    }\n",
       "\n",
       "    .dataframe tbody tr th {\n",
       "        vertical-align: top;\n",
       "    }\n",
       "\n",
       "    .dataframe thead th {\n",
       "        text-align: right;\n",
       "    }\n",
       "</style>\n",
       "<table border=\"1\" class=\"dataframe\">\n",
       "  <thead>\n",
       "    <tr style=\"text-align: right;\">\n",
       "      <th></th>\n",
       "      <th>item</th>\n",
       "      <th>store_code</th>\n",
       "      <th>sell_price</th>\n",
       "      <th>date</th>\n",
       "    </tr>\n",
       "  </thead>\n",
       "  <tbody>\n",
       "    <tr>\n",
       "      <th>0</th>\n",
       "      <td>ACCESORIES_1_001</td>\n",
       "      <td>NYC_1</td>\n",
       "      <td>12.7414</td>\n",
       "      <td>2013-07-16</td>\n",
       "    </tr>\n",
       "  </tbody>\n",
       "</table>\n",
       "</div>"
      ],
      "text/plain": [
       "               item store_code  sell_price       date\n",
       "0  ACCESORIES_1_001      NYC_1     12.7414 2013-07-16"
      ]
     },
     "execution_count": 46,
     "metadata": {},
     "output_type": "execute_result"
    }
   ],
   "source": [
    "df_merge.head(1)"
   ]
  },
  {
   "cell_type": "code",
   "execution_count": 47,
   "metadata": {},
   "outputs": [],
   "source": [
    "df_merge[\"id\"]= df_merge[\"item\"] + \"_\" + df_merge[\"store_code\"]"
   ]
  },
  {
   "cell_type": "code",
   "execution_count": 48,
   "metadata": {},
   "outputs": [
    {
     "data": {
      "text/html": [
       "<div>\n",
       "<style scoped>\n",
       "    .dataframe tbody tr th:only-of-type {\n",
       "        vertical-align: middle;\n",
       "    }\n",
       "\n",
       "    .dataframe tbody tr th {\n",
       "        vertical-align: top;\n",
       "    }\n",
       "\n",
       "    .dataframe thead th {\n",
       "        text-align: right;\n",
       "    }\n",
       "</style>\n",
       "<table border=\"1\" class=\"dataframe\">\n",
       "  <thead>\n",
       "    <tr style=\"text-align: right;\">\n",
       "      <th></th>\n",
       "      <th>item</th>\n",
       "      <th>store_code</th>\n",
       "      <th>sell_price</th>\n",
       "      <th>date</th>\n",
       "      <th>id</th>\n",
       "    </tr>\n",
       "  </thead>\n",
       "  <tbody>\n",
       "    <tr>\n",
       "      <th>0</th>\n",
       "      <td>ACCESORIES_1_001</td>\n",
       "      <td>NYC_1</td>\n",
       "      <td>12.7414</td>\n",
       "      <td>2013-07-16</td>\n",
       "      <td>ACCESORIES_1_001_NYC_1</td>\n",
       "    </tr>\n",
       "  </tbody>\n",
       "</table>\n",
       "</div>"
      ],
      "text/plain": [
       "               item store_code  sell_price       date                      id\n",
       "0  ACCESORIES_1_001      NYC_1     12.7414 2013-07-16  ACCESORIES_1_001_NYC_1"
      ]
     },
     "execution_count": 48,
     "metadata": {},
     "output_type": "execute_result"
    }
   ],
   "source": [
    "df_merge.head(1)"
   ]
  },
  {
   "cell_type": "code",
   "execution_count": 73,
   "metadata": {},
   "outputs": [
    {
     "data": {
      "text/html": [
       "<div>\n",
       "<style scoped>\n",
       "    .dataframe tbody tr th:only-of-type {\n",
       "        vertical-align: middle;\n",
       "    }\n",
       "\n",
       "    .dataframe tbody tr th {\n",
       "        vertical-align: top;\n",
       "    }\n",
       "\n",
       "    .dataframe thead th {\n",
       "        text-align: right;\n",
       "    }\n",
       "</style>\n",
       "<table border=\"1\" class=\"dataframe\">\n",
       "  <thead>\n",
       "    <tr style=\"text-align: right;\">\n",
       "      <th></th>\n",
       "      <th>item</th>\n",
       "      <th>store_code</th>\n",
       "      <th>sell_price</th>\n",
       "      <th>id</th>\n",
       "    </tr>\n",
       "    <tr>\n",
       "      <th>date</th>\n",
       "      <th></th>\n",
       "      <th></th>\n",
       "      <th></th>\n",
       "      <th></th>\n",
       "    </tr>\n",
       "  </thead>\n",
       "  <tbody>\n",
       "    <tr>\n",
       "      <th>2013-07-16</th>\n",
       "      <td>ACCESORIES_1_001</td>\n",
       "      <td>NYC_1</td>\n",
       "      <td>12.7414</td>\n",
       "      <td>ACCESORIES_1_001_NYC_1</td>\n",
       "    </tr>\n",
       "    <tr>\n",
       "      <th>2013-07-17</th>\n",
       "      <td>ACCESORIES_1_001</td>\n",
       "      <td>NYC_1</td>\n",
       "      <td>12.7414</td>\n",
       "      <td>ACCESORIES_1_001_NYC_1</td>\n",
       "    </tr>\n",
       "    <tr>\n",
       "      <th>2013-07-18</th>\n",
       "      <td>ACCESORIES_1_001</td>\n",
       "      <td>NYC_1</td>\n",
       "      <td>12.7414</td>\n",
       "      <td>ACCESORIES_1_001_NYC_1</td>\n",
       "    </tr>\n",
       "    <tr>\n",
       "      <th>2013-07-19</th>\n",
       "      <td>ACCESORIES_1_001</td>\n",
       "      <td>NYC_1</td>\n",
       "      <td>12.7414</td>\n",
       "      <td>ACCESORIES_1_001_NYC_1</td>\n",
       "    </tr>\n",
       "    <tr>\n",
       "      <th>2013-07-20</th>\n",
       "      <td>ACCESORIES_1_001</td>\n",
       "      <td>NYC_1</td>\n",
       "      <td>12.7414</td>\n",
       "      <td>ACCESORIES_1_001_NYC_1</td>\n",
       "    </tr>\n",
       "    <tr>\n",
       "      <th>...</th>\n",
       "      <td>...</td>\n",
       "      <td>...</td>\n",
       "      <td>...</td>\n",
       "      <td>...</td>\n",
       "    </tr>\n",
       "    <tr>\n",
       "      <th>2016-04-20</th>\n",
       "      <td>SUPERMARKET_3_827</td>\n",
       "      <td>PHI_3</td>\n",
       "      <td>1.2000</td>\n",
       "      <td>SUPERMARKET_3_827_PHI_3</td>\n",
       "    </tr>\n",
       "    <tr>\n",
       "      <th>2016-04-21</th>\n",
       "      <td>SUPERMARKET_3_827</td>\n",
       "      <td>PHI_3</td>\n",
       "      <td>1.2000</td>\n",
       "      <td>SUPERMARKET_3_827_PHI_3</td>\n",
       "    </tr>\n",
       "    <tr>\n",
       "      <th>2016-04-22</th>\n",
       "      <td>SUPERMARKET_3_827</td>\n",
       "      <td>PHI_3</td>\n",
       "      <td>1.2000</td>\n",
       "      <td>SUPERMARKET_3_827_PHI_3</td>\n",
       "    </tr>\n",
       "    <tr>\n",
       "      <th>2016-04-23</th>\n",
       "      <td>SUPERMARKET_3_827</td>\n",
       "      <td>PHI_3</td>\n",
       "      <td>1.2000</td>\n",
       "      <td>SUPERMARKET_3_827_PHI_3</td>\n",
       "    </tr>\n",
       "    <tr>\n",
       "      <th>2016-04-24</th>\n",
       "      <td>SUPERMARKET_3_827</td>\n",
       "      <td>PHI_3</td>\n",
       "      <td>1.2000</td>\n",
       "      <td>SUPERMARKET_3_827_PHI_3</td>\n",
       "    </tr>\n",
       "  </tbody>\n",
       "</table>\n",
       "<p>45986376 rows × 4 columns</p>\n",
       "</div>"
      ],
      "text/plain": [
       "                         item store_code  sell_price                       id\n",
       "date                                                                         \n",
       "2013-07-16   ACCESORIES_1_001      NYC_1     12.7414   ACCESORIES_1_001_NYC_1\n",
       "2013-07-17   ACCESORIES_1_001      NYC_1     12.7414   ACCESORIES_1_001_NYC_1\n",
       "2013-07-18   ACCESORIES_1_001      NYC_1     12.7414   ACCESORIES_1_001_NYC_1\n",
       "2013-07-19   ACCESORIES_1_001      NYC_1     12.7414   ACCESORIES_1_001_NYC_1\n",
       "2013-07-20   ACCESORIES_1_001      NYC_1     12.7414   ACCESORIES_1_001_NYC_1\n",
       "...                       ...        ...         ...                      ...\n",
       "2016-04-20  SUPERMARKET_3_827      PHI_3      1.2000  SUPERMARKET_3_827_PHI_3\n",
       "2016-04-21  SUPERMARKET_3_827      PHI_3      1.2000  SUPERMARKET_3_827_PHI_3\n",
       "2016-04-22  SUPERMARKET_3_827      PHI_3      1.2000  SUPERMARKET_3_827_PHI_3\n",
       "2016-04-23  SUPERMARKET_3_827      PHI_3      1.2000  SUPERMARKET_3_827_PHI_3\n",
       "2016-04-24  SUPERMARKET_3_827      PHI_3      1.2000  SUPERMARKET_3_827_PHI_3\n",
       "\n",
       "[45986376 rows x 4 columns]"
      ]
     },
     "execution_count": 73,
     "metadata": {},
     "output_type": "execute_result"
    }
   ],
   "source": [
    "df_merge"
   ]
  },
  {
   "cell_type": "code",
   "execution_count": 49,
   "metadata": {},
   "outputs": [],
   "source": [
    "df_merge.set_index([\"date\"],inplace=True)"
   ]
  },
  {
   "cell_type": "code",
   "execution_count": 51,
   "metadata": {},
   "outputs": [],
   "source": [
    "df_merge_resampled = df_merge.groupby([\"id\"])[\"sell_price\"].resample(\"M\").mean().reset_index()"
   ]
  },
  {
   "cell_type": "code",
   "execution_count": 53,
   "metadata": {},
   "outputs": [
    {
     "data": {
      "text/html": [
       "<div>\n",
       "<style scoped>\n",
       "    .dataframe tbody tr th:only-of-type {\n",
       "        vertical-align: middle;\n",
       "    }\n",
       "\n",
       "    .dataframe tbody tr th {\n",
       "        vertical-align: top;\n",
       "    }\n",
       "\n",
       "    .dataframe thead th {\n",
       "        text-align: right;\n",
       "    }\n",
       "</style>\n",
       "<table border=\"1\" class=\"dataframe\">\n",
       "  <thead>\n",
       "    <tr style=\"text-align: right;\">\n",
       "      <th></th>\n",
       "      <th>id</th>\n",
       "      <th>date</th>\n",
       "      <th>sell_price</th>\n",
       "    </tr>\n",
       "  </thead>\n",
       "  <tbody>\n",
       "    <tr>\n",
       "      <th>0</th>\n",
       "      <td>ACCESORIES_1_001_BOS_1</td>\n",
       "      <td>2013-07-31</td>\n",
       "      <td>11.753875</td>\n",
       "    </tr>\n",
       "  </tbody>\n",
       "</table>\n",
       "</div>"
      ],
      "text/plain": [
       "                       id       date  sell_price\n",
       "0  ACCESORIES_1_001_BOS_1 2013-07-31   11.753875"
      ]
     },
     "execution_count": 53,
     "metadata": {},
     "output_type": "execute_result"
    }
   ],
   "source": [
    "df_merge_resampled.head(1)"
   ]
  },
  {
   "cell_type": "code",
   "execution_count": 63,
   "metadata": {},
   "outputs": [],
   "source": [
    "df_sales[\"date\"] = pd.to_datetime(df_sales[\"date\"])"
   ]
  },
  {
   "cell_type": "code",
   "execution_count": 65,
   "metadata": {},
   "outputs": [
    {
     "name": "stdout",
     "output_type": "stream",
     "text": [
      "<class 'pandas.core.frame.DataFrame'>\n",
      "RangeIndex: 1951360 entries, 0 to 1951359\n",
      "Data columns (total 3 columns):\n",
      " #   Column  Dtype         \n",
      "---  ------  -----         \n",
      " 0   id      object        \n",
      " 1   date    datetime64[ns]\n",
      " 2   sales   int64         \n",
      "dtypes: datetime64[ns](1), int64(1), object(1)\n",
      "memory usage: 44.7+ MB\n"
     ]
    }
   ],
   "source": [
    "df_sales.info()"
   ]
  },
  {
   "cell_type": "code",
   "execution_count": 62,
   "metadata": {},
   "outputs": [
    {
     "name": "stdout",
     "output_type": "stream",
     "text": [
      "<class 'pandas.core.frame.DataFrame'>\n",
      "RangeIndex: 1951360 entries, 0 to 1951359\n",
      "Data columns (total 3 columns):\n",
      " #   Column  Dtype \n",
      "---  ------  ----- \n",
      " 0   id      object\n",
      " 1   date    object\n",
      " 2   sales   int64 \n",
      "dtypes: int64(1), object(2)\n",
      "memory usage: 44.7+ MB\n"
     ]
    }
   ],
   "source": [
    "df_sales.info()"
   ]
  },
  {
   "cell_type": "code",
   "execution_count": 61,
   "metadata": {},
   "outputs": [
    {
     "name": "stdout",
     "output_type": "stream",
     "text": [
      "<class 'pandas.core.frame.DataFrame'>\n",
      "RangeIndex: 1536776 entries, 0 to 1536775\n",
      "Data columns (total 3 columns):\n",
      " #   Column      Non-Null Count    Dtype         \n",
      "---  ------      --------------    -----         \n",
      " 0   id          1536776 non-null  object        \n",
      " 1   date        1536776 non-null  datetime64[ns]\n",
      " 2   sell_price  1536776 non-null  float64       \n",
      "dtypes: datetime64[ns](1), float64(1), object(1)\n",
      "memory usage: 35.2+ MB\n"
     ]
    }
   ],
   "source": [
    "df_merge_resampled.info()"
   ]
  },
  {
   "cell_type": "code",
   "execution_count": 58,
   "metadata": {},
   "outputs": [],
   "source": [
    "df_merge_resampled[\"date\"] = pd.to_datetime(df_merge_resampled[\"date\"])"
   ]
  },
  {
   "cell_type": "code",
   "execution_count": 66,
   "metadata": {},
   "outputs": [],
   "source": [
    "df_market = df_sales.merge(df_merge_resampled,on=[\"id\",\"date\"], how=\"left\")"
   ]
  },
  {
   "cell_type": "code",
   "execution_count": 68,
   "metadata": {},
   "outputs": [],
   "source": [
    "df_market_v2 = df_market.copy()"
   ]
  },
  {
   "cell_type": "code",
   "execution_count": 69,
   "metadata": {},
   "outputs": [],
   "source": [
    "df_market_v2.dropna(subset=[\"sell_price\"],inplace=True)"
   ]
  },
  {
   "cell_type": "code",
   "execution_count": 71,
   "metadata": {},
   "outputs": [
    {
     "data": {
      "text/html": [
       "<div>\n",
       "<style scoped>\n",
       "    .dataframe tbody tr th:only-of-type {\n",
       "        vertical-align: middle;\n",
       "    }\n",
       "\n",
       "    .dataframe tbody tr th {\n",
       "        vertical-align: top;\n",
       "    }\n",
       "\n",
       "    .dataframe thead th {\n",
       "        text-align: right;\n",
       "    }\n",
       "</style>\n",
       "<table border=\"1\" class=\"dataframe\">\n",
       "  <thead>\n",
       "    <tr style=\"text-align: right;\">\n",
       "      <th></th>\n",
       "      <th>id</th>\n",
       "      <th>date</th>\n",
       "      <th>sales</th>\n",
       "      <th>sell_price</th>\n",
       "    </tr>\n",
       "  </thead>\n",
       "  <tbody>\n",
       "    <tr>\n",
       "      <th>479</th>\n",
       "      <td>ACCESORIES_1_001_PHI_1</td>\n",
       "      <td>2013-08-31</td>\n",
       "      <td>0</td>\n",
       "      <td>12.7414</td>\n",
       "    </tr>\n",
       "    <tr>\n",
       "      <th>487</th>\n",
       "      <td>ACCESORIES_1_001_PHI_1</td>\n",
       "      <td>2014-04-30</td>\n",
       "      <td>0</td>\n",
       "      <td>10.9858</td>\n",
       "    </tr>\n",
       "    <tr>\n",
       "      <th>497</th>\n",
       "      <td>ACCESORIES_1_001_PHI_1</td>\n",
       "      <td>2015-02-28</td>\n",
       "      <td>0</td>\n",
       "      <td>10.9858</td>\n",
       "    </tr>\n",
       "    <tr>\n",
       "      <th>542</th>\n",
       "      <td>ACCESORIES_1_001_PHI_2</td>\n",
       "      <td>2013-07-31</td>\n",
       "      <td>0</td>\n",
       "      <td>11.4646</td>\n",
       "    </tr>\n",
       "    <tr>\n",
       "      <th>546</th>\n",
       "      <td>ACCESORIES_1_001_PHI_2</td>\n",
       "      <td>2013-11-30</td>\n",
       "      <td>0</td>\n",
       "      <td>11.4646</td>\n",
       "    </tr>\n",
       "    <tr>\n",
       "      <th>...</th>\n",
       "      <td>...</td>\n",
       "      <td>...</td>\n",
       "      <td>...</td>\n",
       "      <td>...</td>\n",
       "    </tr>\n",
       "    <tr>\n",
       "      <th>1951161</th>\n",
       "      <td>SUPERMARKET_3_827_NYC_4</td>\n",
       "      <td>2015-10-31</td>\n",
       "      <td>0</td>\n",
       "      <td>1.2000</td>\n",
       "    </tr>\n",
       "    <tr>\n",
       "      <th>1951162</th>\n",
       "      <td>SUPERMARKET_3_827_NYC_4</td>\n",
       "      <td>2015-11-30</td>\n",
       "      <td>0</td>\n",
       "      <td>1.2000</td>\n",
       "    </tr>\n",
       "    <tr>\n",
       "      <th>1951163</th>\n",
       "      <td>SUPERMARKET_3_827_NYC_4</td>\n",
       "      <td>2015-12-31</td>\n",
       "      <td>0</td>\n",
       "      <td>1.2000</td>\n",
       "    </tr>\n",
       "    <tr>\n",
       "      <th>1951164</th>\n",
       "      <td>SUPERMARKET_3_827_NYC_4</td>\n",
       "      <td>2016-01-31</td>\n",
       "      <td>0</td>\n",
       "      <td>1.2000</td>\n",
       "    </tr>\n",
       "    <tr>\n",
       "      <th>1951288</th>\n",
       "      <td>SUPERMARKET_3_827_PHI_2</td>\n",
       "      <td>2015-09-30</td>\n",
       "      <td>0</td>\n",
       "      <td>1.2000</td>\n",
       "    </tr>\n",
       "  </tbody>\n",
       "</table>\n",
       "<p>174776 rows × 4 columns</p>\n",
       "</div>"
      ],
      "text/plain": [
       "                              id       date  sales  sell_price\n",
       "479       ACCESORIES_1_001_PHI_1 2013-08-31      0     12.7414\n",
       "487       ACCESORIES_1_001_PHI_1 2014-04-30      0     10.9858\n",
       "497       ACCESORIES_1_001_PHI_1 2015-02-28      0     10.9858\n",
       "542       ACCESORIES_1_001_PHI_2 2013-07-31      0     11.4646\n",
       "546       ACCESORIES_1_001_PHI_2 2013-11-30      0     11.4646\n",
       "...                          ...        ...    ...         ...\n",
       "1951161  SUPERMARKET_3_827_NYC_4 2015-10-31      0      1.2000\n",
       "1951162  SUPERMARKET_3_827_NYC_4 2015-11-30      0      1.2000\n",
       "1951163  SUPERMARKET_3_827_NYC_4 2015-12-31      0      1.2000\n",
       "1951164  SUPERMARKET_3_827_NYC_4 2016-01-31      0      1.2000\n",
       "1951288  SUPERMARKET_3_827_PHI_2 2015-09-30      0      1.2000\n",
       "\n",
       "[174776 rows x 4 columns]"
      ]
     },
     "execution_count": 71,
     "metadata": {},
     "output_type": "execute_result"
    }
   ],
   "source": [
    "df_market_v2[df_market_v2[\"sales\"]==0]"
>>>>>>> LocalR
   ]
  },
  {
   "cell_type": "code",
<<<<<<< HEAD
   "execution_count": 4,
   "metadata": {},
   "outputs": [],
   "source": [
    "del(df_sales[\"Unnamed: 0\"])\n",
    "del(df_prices[\"Unnamed: 0\"])"
=======
   "execution_count": null,
   "metadata": {},
   "outputs": [],
   "source": [
    "df_clean = df_market_v2.copy()"
   ]
  },
  {
   "cell_type": "code",
   "execution_count": 15,
   "metadata": {},
   "outputs": [],
   "source": [
    "df_clean[\"store_code\"] = df_clean[\"id\"].apply(lambda x: x[-5:])"
   ]
  },
  {
   "cell_type": "code",
   "execution_count": 19,
   "metadata": {},
   "outputs": [],
   "source": [
    "df_clean[\"item\"] = df_clean[\"id\"].apply(lambda x: x[:-6])"
   ]
  },
  {
   "cell_type": "code",
   "execution_count": 21,
   "metadata": {},
   "outputs": [],
   "source": [
    "del(df_clean[\"Unnamed: 0\"])"
>>>>>>> LocalR
=======
    "import warnings\n",
    "warnings.simplefilter(action = 'ignore', category = FutureWarning)"
>>>>>>> ff450b12b17605e8d65dc5c0d29180185469e44a
   ]
  },
  {
   "cell_type": "markdown",
   "metadata": {},
   "source": [
<<<<<<< HEAD
    "### Cargo df original para mapear df clean con region y store"
=======
    "## Load cleaned dataset "
>>>>>>> ff450b12b17605e8d65dc5c0d29180185469e44a
   ]
  },
  {
   "cell_type": "code",
<<<<<<< HEAD
<<<<<<< HEAD
   "execution_count": 5,
=======
   "execution_count": 4,
>>>>>>> LocalR
   "metadata": {},
   "outputs": [],
   "source": [
    "df_sales = pd.read_csv(\"./data/item_sales.csv\")"
=======
   "execution_count": 2,
   "metadata": {},
   "outputs": [],
   "source": [
    "df_prices = pd.read_csv('./EDA/data/price_clean.csv')\n",
    "df_calendar = pd.read_csv('./EDA/data/calendar_clean.csv')\n",
    "df_sales = pd.read_csv('./EDA/data/sales_clean.csv')"
   ]
  },
  {
   "cell_type": "markdown",
   "metadata": {},
   "source": [
    "### Check size and headers of datasets"
   ]
  },
  {
   "cell_type": "code",
   "execution_count": 3,
   "metadata": {},
   "outputs": [
    {
     "name": "stdout",
     "output_type": "stream",
     "text": [
      "(45986376, 6)\n"
     ]
    },
    {
     "data": {
      "text/html": [
       "<div>\n",
       "<style scoped>\n",
       "    .dataframe tbody tr th:only-of-type {\n",
       "        vertical-align: middle;\n",
       "    }\n",
       "\n",
       "    .dataframe tbody tr th {\n",
       "        vertical-align: top;\n",
       "    }\n",
       "\n",
       "    .dataframe thead th {\n",
       "        text-align: right;\n",
       "    }\n",
       "</style>\n",
       "<table border=\"1\" class=\"dataframe\">\n",
       "  <thead>\n",
       "    <tr style=\"text-align: right;\">\n",
       "      <th></th>\n",
       "      <th>date</th>\n",
       "      <th>item</th>\n",
       "      <th>store_code</th>\n",
       "      <th>sell_price</th>\n",
       "    </tr>\n",
       "  </thead>\n",
       "  <tbody>\n",
       "    <tr>\n",
       "      <th>0</th>\n",
       "      <td>2013-07-16</td>\n",
       "      <td>ACCESORIES_1_001</td>\n",
       "      <td>NYC_1</td>\n",
       "      <td>12.7414</td>\n",
       "    </tr>\n",
       "  </tbody>\n",
       "</table>\n",
       "</div>"
      ],
      "text/plain": [
       "         date              item store_code  sell_price\n",
       "0  2013-07-16  ACCESORIES_1_001      NYC_1     12.7414"
      ]
     },
     "execution_count": 3,
     "metadata": {},
     "output_type": "execute_result"
    }
   ],
   "source": [
    "print(df_prices.shape)\n",
    "df_prices.drop(columns=[\"category\",\"yearweek\"], axis=1, inplace=True)\n",
    "df_prices.head(1)"
   ]
  },
  {
   "cell_type": "code",
   "execution_count": 4,
   "metadata": {},
   "outputs": [
    {
     "name": "stdout",
     "output_type": "stream",
     "text": [
      "(1913, 6)\n"
     ]
    },
    {
     "data": {
      "text/html": [
       "<div>\n",
       "<style scoped>\n",
       "    .dataframe tbody tr th:only-of-type {\n",
       "        vertical-align: middle;\n",
       "    }\n",
       "\n",
       "    .dataframe tbody tr th {\n",
       "        vertical-align: top;\n",
       "    }\n",
       "\n",
       "    .dataframe thead th {\n",
       "        text-align: right;\n",
       "    }\n",
       "</style>\n",
       "<table border=\"1\" class=\"dataframe\">\n",
       "  <thead>\n",
       "    <tr style=\"text-align: right;\">\n",
       "      <th></th>\n",
       "      <th>date</th>\n",
       "      <th>event</th>\n",
       "    </tr>\n",
       "  </thead>\n",
       "  <tbody>\n",
       "    <tr>\n",
       "      <th>0</th>\n",
       "      <td>2011-01-29</td>\n",
       "      <td>no event</td>\n",
       "    </tr>\n",
       "  </tbody>\n",
       "</table>\n",
       "</div>"
      ],
      "text/plain": [
       "         date     event\n",
       "0  2011-01-29  no event"
      ]
     },
     "execution_count": 4,
     "metadata": {},
     "output_type": "execute_result"
    }
   ],
   "source": [
    "#Delete unnecesary columns\n",
    "print(df_calendar.shape)\n",
    "df_calendar.drop(columns=[\"Unnamed: 0\",\"weekday\",'d','weekday_int'], axis=1, inplace=True)\n",
    "df_calendar.head(1)"
   ]
  },
  {
   "cell_type": "code",
   "execution_count": 5,
   "metadata": {},
   "outputs": [
    {
     "name": "stdout",
     "output_type": "stream",
     "text": [
      "(58327370, 4)\n"
     ]
    },
    {
     "data": {
      "text/html": [
       "<div>\n",
       "<style scoped>\n",
       "    .dataframe tbody tr th:only-of-type {\n",
       "        vertical-align: middle;\n",
       "    }\n",
       "\n",
       "    .dataframe tbody tr th {\n",
       "        vertical-align: top;\n",
       "    }\n",
       "\n",
       "    .dataframe thead th {\n",
       "        text-align: right;\n",
       "    }\n",
       "</style>\n",
       "<table border=\"1\" class=\"dataframe\">\n",
       "  <thead>\n",
       "    <tr style=\"text-align: right;\">\n",
       "      <th></th>\n",
       "      <th>date</th>\n",
       "      <th>id</th>\n",
       "      <th>store</th>\n",
       "      <th>sales</th>\n",
       "    </tr>\n",
       "  </thead>\n",
       "  <tbody>\n",
       "    <tr>\n",
       "      <th>0</th>\n",
       "      <td>2011-01-29</td>\n",
       "      <td>ACCESORIES_1_001_NYC_1</td>\n",
       "      <td>Greenwich_Village</td>\n",
       "      <td>0</td>\n",
       "    </tr>\n",
       "  </tbody>\n",
       "</table>\n",
       "</div>"
      ],
      "text/plain": [
       "         date                      id              store  sales\n",
       "0  2011-01-29  ACCESORIES_1_001_NYC_1  Greenwich_Village      0"
      ]
     },
     "execution_count": 5,
     "metadata": {},
     "output_type": "execute_result"
    }
   ],
   "source": [
    "print(df_sales.shape)\n",
    "df_sales.head(1)"
   ]
  },
  {
   "cell_type": "markdown",
   "metadata": {},
   "source": [
    "### I do merge df_prices with df_calendar"
>>>>>>> ff450b12b17605e8d65dc5c0d29180185469e44a
   ]
  },
  {
   "cell_type": "code",
<<<<<<< HEAD
<<<<<<< HEAD
   "execution_count": 6,
=======
   "execution_count": 7,
>>>>>>> LocalR
=======
   "execution_count": 6,
>>>>>>> ff450b12b17605e8d65dc5c0d29180185469e44a
   "metadata": {},
   "outputs": [
    {
     "data": {
      "text/html": [
       "<div>\n",
       "<style scoped>\n",
       "    .dataframe tbody tr th:only-of-type {\n",
       "        vertical-align: middle;\n",
       "    }\n",
       "\n",
       "    .dataframe tbody tr th {\n",
       "        vertical-align: top;\n",
       "    }\n",
       "\n",
       "    .dataframe thead th {\n",
       "        text-align: right;\n",
       "    }\n",
       "</style>\n",
       "<table border=\"1\" class=\"dataframe\">\n",
       "  <thead>\n",
       "    <tr style=\"text-align: right;\">\n",
       "      <th></th>\n",
<<<<<<< HEAD
       "      <th>item</th>\n",
       "      <th>store_code</th>\n",
       "      <th>date</th>\n",
       "      <th>sell_price</th>\n",
       "      <th>id</th>\n",
=======
       "      <th>date</th>\n",
       "      <th>item</th>\n",
       "      <th>store_code</th>\n",
       "      <th>sell_price</th>\n",
       "      <th>event</th>\n",
>>>>>>> ff450b12b17605e8d65dc5c0d29180185469e44a
       "    </tr>\n",
       "  </thead>\n",
       "  <tbody>\n",
       "    <tr>\n",
       "      <th>0</th>\n",
<<<<<<< HEAD
       "      <td>ACCESORIES_1_001</td>\n",
       "      <td>BOS_1</td>\n",
       "      <td>2013-07-31</td>\n",
       "      <td>11.753875</td>\n",
       "      <td>ACCESORIES_1_001_BOS_1</td>\n",
       "    </tr>\n",
       "    <tr>\n",
       "      <th>1</th>\n",
       "      <td>ACCESORIES_1_001</td>\n",
       "      <td>BOS_1</td>\n",
       "      <td>2013-08-31</td>\n",
       "      <td>10.985800</td>\n",
       "      <td>ACCESORIES_1_001_BOS_1</td>\n",
       "    </tr>\n",
       "    <tr>\n",
       "      <th>2</th>\n",
       "      <td>ACCESORIES_1_001</td>\n",
       "      <td>BOS_1</td>\n",
       "      <td>2013-09-30</td>\n",
       "      <td>10.985800</td>\n",
       "      <td>ACCESORIES_1_001_BOS_1</td>\n",
       "    </tr>\n",
       "    <tr>\n",
       "      <th>3</th>\n",
       "      <td>ACCESORIES_1_001</td>\n",
       "      <td>BOS_1</td>\n",
       "      <td>2013-10-31</td>\n",
       "      <td>10.985800</td>\n",
       "      <td>ACCESORIES_1_001_BOS_1</td>\n",
       "    </tr>\n",
       "    <tr>\n",
       "      <th>4</th>\n",
       "      <td>ACCESORIES_1_001</td>\n",
       "      <td>BOS_1</td>\n",
       "      <td>2013-11-30</td>\n",
       "      <td>10.985800</td>\n",
       "      <td>ACCESORIES_1_001_BOS_1</td>\n",
       "    </tr>\n",
       "    <tr>\n",
       "      <th>...</th>\n",
       "      <td>...</td>\n",
       "      <td>...</td>\n",
       "      <td>...</td>\n",
       "      <td>...</td>\n",
       "      <td>...</td>\n",
       "    </tr>\n",
       "    <tr>\n",
       "      <th>1536771</th>\n",
       "      <td>SUPERMARKET_3_827</td>\n",
       "      <td>PHI_3</td>\n",
       "      <td>2015-12-31</td>\n",
       "      <td>1.200000</td>\n",
       "      <td>SUPERMARKET_3_827_PHI_3</td>\n",
       "    </tr>\n",
       "    <tr>\n",
       "      <th>1536772</th>\n",
       "      <td>SUPERMARKET_3_827</td>\n",
       "      <td>PHI_3</td>\n",
       "      <td>2016-01-31</td>\n",
       "      <td>1.200000</td>\n",
       "      <td>SUPERMARKET_3_827_PHI_3</td>\n",
       "    </tr>\n",
       "    <tr>\n",
       "      <th>1536773</th>\n",
       "      <td>SUPERMARKET_3_827</td>\n",
       "      <td>PHI_3</td>\n",
       "      <td>2016-02-29</td>\n",
       "      <td>1.200000</td>\n",
       "      <td>SUPERMARKET_3_827_PHI_3</td>\n",
       "    </tr>\n",
       "    <tr>\n",
       "      <th>1536774</th>\n",
       "      <td>SUPERMARKET_3_827</td>\n",
       "      <td>PHI_3</td>\n",
       "      <td>2016-03-31</td>\n",
       "      <td>1.200000</td>\n",
       "      <td>SUPERMARKET_3_827_PHI_3</td>\n",
       "    </tr>\n",
       "    <tr>\n",
       "      <th>1536775</th>\n",
       "      <td>SUPERMARKET_3_827</td>\n",
       "      <td>PHI_3</td>\n",
       "      <td>2016-04-30</td>\n",
       "      <td>1.200000</td>\n",
       "      <td>SUPERMARKET_3_827_PHI_3</td>\n",
       "    </tr>\n",
       "  </tbody>\n",
       "</table>\n",
       "<p>1536776 rows × 5 columns</p>\n",
       "</div>"
      ],
      "text/plain": [
       "                      item store_code        date  sell_price  \\\n",
       "0         ACCESORIES_1_001      BOS_1  2013-07-31   11.753875   \n",
       "1         ACCESORIES_1_001      BOS_1  2013-08-31   10.985800   \n",
       "2         ACCESORIES_1_001      BOS_1  2013-09-30   10.985800   \n",
       "3         ACCESORIES_1_001      BOS_1  2013-10-31   10.985800   \n",
       "4         ACCESORIES_1_001      BOS_1  2013-11-30   10.985800   \n",
       "...                    ...        ...         ...         ...   \n",
       "1536771  SUPERMARKET_3_827      PHI_3  2015-12-31    1.200000   \n",
       "1536772  SUPERMARKET_3_827      PHI_3  2016-01-31    1.200000   \n",
       "1536773  SUPERMARKET_3_827      PHI_3  2016-02-29    1.200000   \n",
       "1536774  SUPERMARKET_3_827      PHI_3  2016-03-31    1.200000   \n",
       "1536775  SUPERMARKET_3_827      PHI_3  2016-04-30    1.200000   \n",
       "\n",
       "                              id  \n",
       "0         ACCESORIES_1_001_BOS_1  \n",
       "1         ACCESORIES_1_001_BOS_1  \n",
       "2         ACCESORIES_1_001_BOS_1  \n",
       "3         ACCESORIES_1_001_BOS_1  \n",
       "4         ACCESORIES_1_001_BOS_1  \n",
       "...                          ...  \n",
       "1536771  SUPERMARKET_3_827_PHI_3  \n",
       "1536772  SUPERMARKET_3_827_PHI_3  \n",
       "1536773  SUPERMARKET_3_827_PHI_3  \n",
       "1536774  SUPERMARKET_3_827_PHI_3  \n",
       "1536775  SUPERMARKET_3_827_PHI_3  \n",
       "\n",
       "[1536776 rows x 5 columns]"
=======
       "      <td>2013-07-16</td>\n",
       "      <td>ACCESORIES_1_001</td>\n",
       "      <td>NYC_1</td>\n",
       "      <td>12.7414</td>\n",
       "      <td>no event</td>\n",
       "    </tr>\n",
       "  </tbody>\n",
       "</table>\n",
       "</div>"
      ],
      "text/plain": [
       "         date              item store_code  sell_price     event\n",
       "0  2013-07-16  ACCESORIES_1_001      NYC_1     12.7414  no event"
>>>>>>> ff450b12b17605e8d65dc5c0d29180185469e44a
      ]
     },
     "execution_count": 6,
     "metadata": {},
     "output_type": "execute_result"
    }
   ],
   "source": [
<<<<<<< HEAD
    "cities = df_sales[[\"store_code\",\"region\",\"store\"]]"
=======
    "df=pd.merge(df_prices, df_calendar, on=['date'],how='left')\n",
    "df.head(1)"
   ]
  },
  {
   "cell_type": "markdown",
   "metadata": {},
   "source": [
    "### Making new colunm so to merge by it"
>>>>>>> ff450b12b17605e8d65dc5c0d29180185469e44a
   ]
  },
  {
   "cell_type": "code",
<<<<<<< HEAD
<<<<<<< HEAD
   "execution_count": 7,
   "metadata": {},
   "outputs": [],
   "source": [
    "del(df_prices[\"item\"])\n",
    "del(df_prices[\"store_code\"])"
=======
   "execution_count": 9,
   "metadata": {},
   "outputs": [
    {
     "name": "stderr",
     "output_type": "stream",
     "text": [
      "C:\\Users\\rafas\\AppData\\Local\\Temp\\ipykernel_5108\\3258300543.py:1: SettingWithCopyWarning: \n",
      "A value is trying to be set on a copy of a slice from a DataFrame\n",
      "\n",
      "See the caveats in the documentation: https://pandas.pydata.org/pandas-docs/stable/user_guide/indexing.html#returning-a-view-versus-a-copy\n",
      "  cities.drop_duplicates(inplace=True)\n"
     ]
    }
   ],
   "source": [
    "cities.drop_duplicates(inplace=True)"
   ]
  },
  {
   "cell_type": "code",
   "execution_count": 11,
   "metadata": {},
   "outputs": [],
   "source": [
    "store_dict = cities.set_index('store_code')[['store', 'region']].to_dict(orient='index')"
>>>>>>> LocalR
   ]
  },
  {
   "cell_type": "code",
<<<<<<< HEAD
   "execution_count": 8,
=======
   "execution_count": 12,
>>>>>>> LocalR
   "metadata": {},
   "outputs": [
    {
     "data": {
<<<<<<< HEAD
=======
   "execution_count": 7,
   "metadata": {},
   "outputs": [
    {
     "data": {
      "text/html": [
       "<div>\n",
       "<style scoped>\n",
       "    .dataframe tbody tr th:only-of-type {\n",
       "        vertical-align: middle;\n",
       "    }\n",
       "\n",
       "    .dataframe tbody tr th {\n",
       "        vertical-align: top;\n",
       "    }\n",
       "\n",
       "    .dataframe thead th {\n",
       "        text-align: right;\n",
       "    }\n",
       "</style>\n",
       "<table border=\"1\" class=\"dataframe\">\n",
       "  <thead>\n",
       "    <tr style=\"text-align: right;\">\n",
       "      <th></th>\n",
       "      <th>date</th>\n",
       "      <th>item</th>\n",
       "      <th>store_code</th>\n",
       "      <th>sell_price</th>\n",
       "      <th>event</th>\n",
       "      <th>id</th>\n",
       "    </tr>\n",
       "  </thead>\n",
       "  <tbody>\n",
       "    <tr>\n",
       "      <th>45986375</th>\n",
       "      <td>2016-04-24</td>\n",
       "      <td>SUPERMARKET_3_827</td>\n",
       "      <td>PHI_3</td>\n",
       "      <td>1.2</td>\n",
       "      <td>no event</td>\n",
       "      <td>SUPERMARKET_3_827_PHI_3</td>\n",
       "    </tr>\n",
       "  </tbody>\n",
       "</table>\n",
       "</div>"
      ],
      "text/plain": [
       "                date               item store_code  sell_price     event  \\\n",
       "45986375  2016-04-24  SUPERMARKET_3_827      PHI_3         1.2  no event   \n",
       "\n",
       "                               id  \n",
       "45986375  SUPERMARKET_3_827_PHI_3  "
      ]
     },
     "execution_count": 7,
     "metadata": {},
     "output_type": "execute_result"
    }
   ],
   "source": [
    "df['id']=df['item']+\"_\"+df['store_code']\n",
    "df.tail(1)"
   ]
  },
  {
   "cell_type": "markdown",
   "metadata": {},
   "source": [
    "### Delete unnecesary columns for the **df** merge"
   ]
  },
  {
   "cell_type": "code",
   "execution_count": 8,
   "metadata": {},
   "outputs": [
    {
     "data": {
>>>>>>> ff450b12b17605e8d65dc5c0d29180185469e44a
      "text/html": [
       "<div>\n",
       "<style scoped>\n",
       "    .dataframe tbody tr th:only-of-type {\n",
       "        vertical-align: middle;\n",
       "    }\n",
       "\n",
       "    .dataframe tbody tr th {\n",
       "        vertical-align: top;\n",
       "    }\n",
       "\n",
       "    .dataframe thead th {\n",
       "        text-align: right;\n",
       "    }\n",
       "</style>\n",
       "<table border=\"1\" class=\"dataframe\">\n",
       "  <thead>\n",
       "    <tr style=\"text-align: right;\">\n",
       "      <th></th>\n",
       "      <th>date</th>\n",
       "      <th>sell_price</th>\n",
<<<<<<< HEAD
=======
       "      <th>event</th>\n",
>>>>>>> ff450b12b17605e8d65dc5c0d29180185469e44a
       "      <th>id</th>\n",
       "    </tr>\n",
       "  </thead>\n",
       "  <tbody>\n",
       "    <tr>\n",
       "      <th>0</th>\n",
<<<<<<< HEAD
       "      <td>2013-07-31</td>\n",
       "      <td>11.753875</td>\n",
       "      <td>ACCESORIES_1_001_BOS_1</td>\n",
       "    </tr>\n",
       "    <tr>\n",
       "      <th>1</th>\n",
       "      <td>2013-08-31</td>\n",
       "      <td>10.985800</td>\n",
       "      <td>ACCESORIES_1_001_BOS_1</td>\n",
       "    </tr>\n",
       "    <tr>\n",
       "      <th>2</th>\n",
       "      <td>2013-09-30</td>\n",
       "      <td>10.985800</td>\n",
       "      <td>ACCESORIES_1_001_BOS_1</td>\n",
       "    </tr>\n",
       "    <tr>\n",
       "      <th>3</th>\n",
       "      <td>2013-10-31</td>\n",
       "      <td>10.985800</td>\n",
       "      <td>ACCESORIES_1_001_BOS_1</td>\n",
       "    </tr>\n",
       "    <tr>\n",
       "      <th>4</th>\n",
       "      <td>2013-11-30</td>\n",
       "      <td>10.985800</td>\n",
       "      <td>ACCESORIES_1_001_BOS_1</td>\n",
       "    </tr>\n",
       "    <tr>\n",
       "      <th>...</th>\n",
       "      <td>...</td>\n",
       "      <td>...</td>\n",
       "      <td>...</td>\n",
       "    </tr>\n",
       "    <tr>\n",
       "      <th>1536771</th>\n",
       "      <td>2015-12-31</td>\n",
       "      <td>1.200000</td>\n",
       "      <td>SUPERMARKET_3_827_PHI_3</td>\n",
       "    </tr>\n",
       "    <tr>\n",
       "      <th>1536772</th>\n",
       "      <td>2016-01-31</td>\n",
       "      <td>1.200000</td>\n",
       "      <td>SUPERMARKET_3_827_PHI_3</td>\n",
       "    </tr>\n",
       "    <tr>\n",
       "      <th>1536773</th>\n",
       "      <td>2016-02-29</td>\n",
       "      <td>1.200000</td>\n",
       "      <td>SUPERMARKET_3_827_PHI_3</td>\n",
       "    </tr>\n",
       "    <tr>\n",
       "      <th>1536774</th>\n",
       "      <td>2016-03-31</td>\n",
       "      <td>1.200000</td>\n",
       "      <td>SUPERMARKET_3_827_PHI_3</td>\n",
       "    </tr>\n",
       "    <tr>\n",
       "      <th>1536775</th>\n",
       "      <td>2016-04-30</td>\n",
       "      <td>1.200000</td>\n",
       "      <td>SUPERMARKET_3_827_PHI_3</td>\n",
       "    </tr>\n",
       "  </tbody>\n",
       "</table>\n",
       "<p>1536776 rows × 3 columns</p>\n",
       "</div>"
      ],
      "text/plain": [
       "               date  sell_price                       id\n",
       "0        2013-07-31   11.753875   ACCESORIES_1_001_BOS_1\n",
       "1        2013-08-31   10.985800   ACCESORIES_1_001_BOS_1\n",
       "2        2013-09-30   10.985800   ACCESORIES_1_001_BOS_1\n",
       "3        2013-10-31   10.985800   ACCESORIES_1_001_BOS_1\n",
       "4        2013-11-30   10.985800   ACCESORIES_1_001_BOS_1\n",
       "...             ...         ...                      ...\n",
       "1536771  2015-12-31    1.200000  SUPERMARKET_3_827_PHI_3\n",
       "1536772  2016-01-31    1.200000  SUPERMARKET_3_827_PHI_3\n",
       "1536773  2016-02-29    1.200000  SUPERMARKET_3_827_PHI_3\n",
       "1536774  2016-03-31    1.200000  SUPERMARKET_3_827_PHI_3\n",
       "1536775  2016-04-30    1.200000  SUPERMARKET_3_827_PHI_3\n",
       "\n",
       "[1536776 rows x 3 columns]"
=======
       "      <td>2013-07-16</td>\n",
       "      <td>12.7414</td>\n",
       "      <td>no event</td>\n",
       "      <td>ACCESORIES_1_001_NYC_1</td>\n",
       "    </tr>\n",
       "  </tbody>\n",
       "</table>\n",
       "</div>"
      ],
      "text/plain": [
       "         date  sell_price     event                      id\n",
       "0  2013-07-16     12.7414  no event  ACCESORIES_1_001_NYC_1"
>>>>>>> ff450b12b17605e8d65dc5c0d29180185469e44a
      ]
     },
     "execution_count": 8,
     "metadata": {},
     "output_type": "execute_result"
    }
   ],
   "source": [
<<<<<<< HEAD
    "df_prices"
   ]
  },
  {
   "cell_type": "markdown",
   "metadata": {},
   "source": [
    "### Deleting days on df[\"dates]"
=======
    "df.drop(columns=['item','store_code'], axis=1, inplace=True)\n",
    "df.head(1)"
>>>>>>> ff450b12b17605e8d65dc5c0d29180185469e44a
   ]
  },
  {
   "cell_type": "code",
   "execution_count": 9,
   "metadata": {},
   "outputs": [],
   "source": [
<<<<<<< HEAD
    "df_prices[\"date\"] = df_prices[\"date\"].astype(str).apply(lambda x: x[0:7])"
=======
    "df= df[['date','id','sell_price','event']] #i ordered my columns"
   ]
  },
  {
   "cell_type": "markdown",
   "metadata": {},
   "source": [
    "### I perform the final merge of  **df** with **df_sales**, obtaining te main dataset"
>>>>>>> ff450b12b17605e8d65dc5c0d29180185469e44a
   ]
  },
  {
   "cell_type": "code",
   "execution_count": 10,
   "metadata": {},
   "outputs": [
    {
     "data": {
<<<<<<< HEAD
      "text/plain": [
       "(1536776, 3)"
=======
      "text/html": [
       "<div>\n",
       "<style scoped>\n",
       "    .dataframe tbody tr th:only-of-type {\n",
       "        vertical-align: middle;\n",
       "    }\n",
       "\n",
       "    .dataframe tbody tr th {\n",
       "        vertical-align: top;\n",
       "    }\n",
       "\n",
       "    .dataframe thead th {\n",
       "        text-align: right;\n",
       "    }\n",
       "</style>\n",
       "<table border=\"1\" class=\"dataframe\">\n",
       "  <thead>\n",
       "    <tr style=\"text-align: right;\">\n",
       "      <th></th>\n",
       "      <th>date</th>\n",
       "      <th>id</th>\n",
       "      <th>store</th>\n",
       "      <th>sales</th>\n",
       "      <th>sell_price</th>\n",
       "      <th>event</th>\n",
       "    </tr>\n",
       "  </thead>\n",
       "  <tbody>\n",
       "    <tr>\n",
       "      <th>0</th>\n",
       "      <td>2011-01-29</td>\n",
       "      <td>ACCESORIES_1_001_NYC_1</td>\n",
       "      <td>Greenwich_Village</td>\n",
       "      <td>0</td>\n",
       "      <td>NaN</td>\n",
       "      <td>NaN</td>\n",
       "    </tr>\n",
       "  </tbody>\n",
       "</table>\n",
       "</div>"
      ],
      "text/plain": [
       "         date                      id              store  sales  sell_price  \\\n",
       "0  2011-01-29  ACCESORIES_1_001_NYC_1  Greenwich_Village      0         NaN   \n",
       "\n",
       "  event  \n",
       "0   NaN  "
>>>>>>> ff450b12b17605e8d65dc5c0d29180185469e44a
      ]
     },
     "execution_count": 10,
     "metadata": {},
     "output_type": "execute_result"
    }
   ],
   "source": [
<<<<<<< HEAD
    "df_prices.shape"
   ]
  },
  {
   "cell_type": "code",
   "execution_count": 28,
   "metadata": {},
   "outputs": [
    {
     "data": {
      "text/html": [
       "<div>\n",
       "<style scoped>\n",
       "    .dataframe tbody tr th:only-of-type {\n",
       "        vertical-align: middle;\n",
       "    }\n",
       "\n",
       "    .dataframe tbody tr th {\n",
       "        vertical-align: top;\n",
       "    }\n",
       "\n",
       "    .dataframe thead th {\n",
       "        text-align: right;\n",
       "    }\n",
       "</style>\n",
       "<table border=\"1\" class=\"dataframe\">\n",
       "  <thead>\n",
       "    <tr style=\"text-align: right;\">\n",
       "      <th></th>\n",
       "      <th>date</th>\n",
       "      <th>sell_price</th>\n",
       "      <th>id</th>\n",
       "    </tr>\n",
       "  </thead>\n",
       "  <tbody>\n",
       "    <tr>\n",
       "      <th>0</th>\n",
       "      <td>2013-07</td>\n",
       "      <td>11.753875</td>\n",
       "      <td>ACCESORIES_1_001_BOS_1</td>\n",
       "    </tr>\n",
       "    <tr>\n",
       "      <th>1</th>\n",
       "      <td>2013-08</td>\n",
       "      <td>10.985800</td>\n",
       "      <td>ACCESORIES_1_001_BOS_1</td>\n",
       "    </tr>\n",
       "    <tr>\n",
       "      <th>2</th>\n",
       "      <td>2013-09</td>\n",
       "      <td>10.985800</td>\n",
       "      <td>ACCESORIES_1_001_BOS_1</td>\n",
       "    </tr>\n",
       "    <tr>\n",
       "      <th>3</th>\n",
       "      <td>2013-10</td>\n",
       "      <td>10.985800</td>\n",
       "      <td>ACCESORIES_1_001_BOS_1</td>\n",
       "    </tr>\n",
       "    <tr>\n",
       "      <th>4</th>\n",
       "      <td>2013-11</td>\n",
       "      <td>10.985800</td>\n",
       "      <td>ACCESORIES_1_001_BOS_1</td>\n",
       "    </tr>\n",
       "  </tbody>\n",
       "</table>\n",
       "</div>"
      ],
      "text/plain": [
       "      date  sell_price                      id\n",
       "0  2013-07   11.753875  ACCESORIES_1_001_BOS_1\n",
       "1  2013-08   10.985800  ACCESORIES_1_001_BOS_1\n",
       "2  2013-09   10.985800  ACCESORIES_1_001_BOS_1\n",
       "3  2013-10   10.985800  ACCESORIES_1_001_BOS_1\n",
       "4  2013-11   10.985800  ACCESORIES_1_001_BOS_1"
      ]
     },
     "execution_count": 28,
     "metadata": {},
     "output_type": "execute_result"
    }
   ],
   "source": [
    "df_prices.head(5)"
   ]
  },
  {
   "cell_type": "code",
   "execution_count": 12,
   "metadata": {},
   "outputs": [
    {
     "data": {
      "text/html": [
       "<div>\n",
       "<style scoped>\n",
       "    .dataframe tbody tr th:only-of-type {\n",
       "        vertical-align: middle;\n",
       "    }\n",
       "\n",
       "    .dataframe tbody tr th {\n",
       "        vertical-align: top;\n",
       "    }\n",
       "\n",
       "    .dataframe thead th {\n",
       "        text-align: right;\n",
       "    }\n",
       "</style>\n",
       "<table border=\"1\" class=\"dataframe\">\n",
       "  <thead>\n",
       "    <tr style=\"text-align: right;\">\n",
       "      <th></th>\n",
       "      <th>id</th>\n",
       "      <th>date</th>\n",
       "      <th>sales</th>\n",
       "    </tr>\n",
       "  </thead>\n",
       "  <tbody>\n",
       "    <tr>\n",
       "      <th>1724554</th>\n",
       "      <td>SUPERMARKET_3_470_NYC_4</td>\n",
       "      <td>2011-11</td>\n",
       "      <td>44</td>\n",
       "    </tr>\n",
       "    <tr>\n",
       "      <th>1167455</th>\n",
       "      <td>SUPERMARKET_1_216_BOS_2</td>\n",
       "      <td>2013-08</td>\n",
       "      <td>40</td>\n",
       "    </tr>\n",
       "    <tr>\n",
       "      <th>1408756</th>\n",
       "      <td>SUPERMARKET_2_375_BOS_2</td>\n",
       "      <td>2015-05</td>\n",
       "      <td>28</td>\n",
       "    </tr>\n",
       "    <tr>\n",
       "      <th>1188583</th>\n",
       "      <td>SUPERMARKET_2_030_BOS_2</td>\n",
       "      <td>2014-04</td>\n",
       "      <td>35</td>\n",
       "    </tr>\n",
       "    <tr>\n",
       "      <th>804642</th>\n",
       "      <td>HOME_&amp;_GARDEN_2_161_BOS_3</td>\n",
       "      <td>2013-11</td>\n",
       "      <td>1</td>\n",
       "    </tr>\n",
       "  </tbody>\n",
       "</table>\n",
       "</div>"
      ],
      "text/plain": [
       "                                id     date  sales\n",
       "1724554    SUPERMARKET_3_470_NYC_4  2011-11     44\n",
       "1167455    SUPERMARKET_1_216_BOS_2  2013-08     40\n",
       "1408756    SUPERMARKET_2_375_BOS_2  2015-05     28\n",
       "1188583    SUPERMARKET_2_030_BOS_2  2014-04     35\n",
       "804642   HOME_&_GARDEN_2_161_BOS_3  2013-11      1"
=======
      "text/plain": [
       "{'NYC_1': {'store': 'Greenwich_Village', 'region': 'New York'},\n",
       " 'NYC_2': {'store': 'Harlem', 'region': 'New York'},\n",
       " 'NYC_3': {'store': 'Tribeca', 'region': 'New York'},\n",
       " 'NYC_4': {'store': 'Brooklyn', 'region': 'New York'},\n",
       " 'BOS_1': {'store': 'South_End', 'region': 'Boston'},\n",
       " 'BOS_2': {'store': 'Roxbury', 'region': 'Boston'},\n",
       " 'BOS_3': {'store': 'Back_Bay', 'region': 'Boston'},\n",
       " 'PHI_1': {'store': 'Midtown_Village', 'region': 'Philadelphia'},\n",
       " 'PHI_2': {'store': 'Yorktown', 'region': 'Philadelphia'},\n",
       " 'PHI_3': {'store': 'Queen_Village', 'region': 'Philadelphia'}}"
>>>>>>> LocalR
      ]
     },
     "execution_count": 12,
     "metadata": {},
     "output_type": "execute_result"
    }
   ],
<<<<<<< HEAD
   "source": [
    "df_sales.sample(5)"
   ]
  },
  {
   "cell_type": "code",
   "execution_count": 13,
   "metadata": {},
   "outputs": [],
   "source": [
    "df_market = pd.merge(df_sales,df_prices, on=[\"id\", \"date\"], how=\"left\")"
=======
    "df_market=pd.merge(df_sales, df, on=['date','id'],how='left')\n",
    "df_market.head(1)"
>>>>>>> ff450b12b17605e8d65dc5c0d29180185469e44a
   ]
  },
  {
   "cell_type": "markdown",
   "metadata": {},
   "source": [
<<<<<<< HEAD
    "### Filling nulls with 0"
=======
    "### Check nulls"
   ]
  },
  {
   "cell_type": "code",
   "execution_count": 11,
   "metadata": {},
   "outputs": [
    {
     "data": {
      "text/plain": [
       "date                 0\n",
       "id                   0\n",
       "store                0\n",
       "sales                0\n",
       "sell_price    12340994\n",
       "event         12340994\n",
       "dtype: int64"
      ]
     },
     "execution_count": 11,
     "metadata": {},
     "output_type": "execute_result"
    }
   ],
   "source": [
    "df_market.isnull().sum()"
   ]
  },
  {
   "cell_type": "markdown",
   "metadata": {},
   "source": [
    "### This nulls  on sell_price column as we consider if there isn´t price it is because the item hadn´t arrive yet to the store"
   ]
  },
  {
   "cell_type": "code",
   "execution_count": 12,
   "metadata": {},
   "outputs": [],
   "source": [
    "df_market.dropna(subset=([\"sell_price\"]), inplace = True) # delete nulls "
   ]
  },
  {
   "cell_type": "code",
   "execution_count": 13,
   "metadata": {},
   "outputs": [
    {
     "name": "stdout",
     "output_type": "stream",
     "text": [
      "(45986376, 6)\n"
     ]
    },
    {
     "data": {
      "text/html": [
       "<div>\n",
       "<style scoped>\n",
       "    .dataframe tbody tr th:only-of-type {\n",
       "        vertical-align: middle;\n",
       "    }\n",
       "\n",
       "    .dataframe tbody tr th {\n",
       "        vertical-align: top;\n",
       "    }\n",
       "\n",
       "    .dataframe thead th {\n",
       "        text-align: right;\n",
       "    }\n",
       "</style>\n",
       "<table border=\"1\" class=\"dataframe\">\n",
       "  <thead>\n",
       "    <tr style=\"text-align: right;\">\n",
       "      <th></th>\n",
       "      <th>date</th>\n",
       "      <th>id</th>\n",
       "      <th>store</th>\n",
       "      <th>sales</th>\n",
       "      <th>sell_price</th>\n",
       "      <th>event</th>\n",
       "    </tr>\n",
       "  </thead>\n",
       "  <tbody>\n",
       "    <tr>\n",
       "      <th>7</th>\n",
       "      <td>2011-01-29</td>\n",
       "      <td>ACCESORIES_1_008_NYC_1</td>\n",
       "      <td>Greenwich_Village</td>\n",
       "      <td>12</td>\n",
       "      <td>0.6118</td>\n",
       "      <td>no event</td>\n",
       "    </tr>\n",
       "    <tr>\n",
       "      <th>8</th>\n",
       "      <td>2011-01-29</td>\n",
       "      <td>ACCESORIES_1_009_NYC_1</td>\n",
       "      <td>Greenwich_Village</td>\n",
       "      <td>2</td>\n",
       "      <td>2.0748</td>\n",
       "      <td>no event</td>\n",
       "    </tr>\n",
       "  </tbody>\n",
       "</table>\n",
       "</div>"
      ],
      "text/plain": [
       "         date                      id              store  sales  sell_price  \\\n",
       "7  2011-01-29  ACCESORIES_1_008_NYC_1  Greenwich_Village     12      0.6118   \n",
       "8  2011-01-29  ACCESORIES_1_009_NYC_1  Greenwich_Village      2      2.0748   \n",
       "\n",
       "      event  \n",
       "7  no event  \n",
       "8  no event  "
      ]
     },
     "execution_count": 13,
     "metadata": {},
     "output_type": "execute_result"
    }
   ],
   "source": [
    "print(df_market.shape)\n",
    "df_market.head(2)"
   ]
  },
  {
   "cell_type": "markdown",
   "metadata": {},
   "source": [
    "### Create income column for **df_market**"
>>>>>>> ff450b12b17605e8d65dc5c0d29180185469e44a
   ]
  },
  {
   "cell_type": "code",
   "execution_count": 14,
   "metadata": {},
   "outputs": [],
   "source": [
<<<<<<< HEAD
    "df_market[\"sell_price\"].fillna(0, inplace=True)"
=======
    "df_market['income']=df_market['sales']*df_market['sell_price']"
>>>>>>> ff450b12b17605e8d65dc5c0d29180185469e44a
   ]
  },
  {
   "cell_type": "code",
<<<<<<< HEAD
   "execution_count": 29,
=======
   "execution_count": 15,
>>>>>>> ff450b12b17605e8d65dc5c0d29180185469e44a
   "metadata": {},
   "outputs": [
    {
     "data": {
      "text/html": [
       "<div>\n",
       "<style scoped>\n",
       "    .dataframe tbody tr th:only-of-type {\n",
       "        vertical-align: middle;\n",
       "    }\n",
       "\n",
       "    .dataframe tbody tr th {\n",
       "        vertical-align: top;\n",
       "    }\n",
       "\n",
       "    .dataframe thead th {\n",
       "        text-align: right;\n",
       "    }\n",
       "</style>\n",
       "<table border=\"1\" class=\"dataframe\">\n",
       "  <thead>\n",
       "    <tr style=\"text-align: right;\">\n",
       "      <th></th>\n",
<<<<<<< HEAD
       "      <th>id</th>\n",
       "      <th>date</th>\n",
       "      <th>sales</th>\n",
       "      <th>sell_price</th>\n",
       "      <th>income</th>\n",
       "      <th>store_code</th>\n",
       "      <th>category</th>\n",
       "      <th>region</th>\n",
=======
       "      <th>date</th>\n",
       "      <th>id</th>\n",
       "      <th>store</th>\n",
       "      <th>sales</th>\n",
       "      <th>sell_price</th>\n",
       "      <th>event</th>\n",
       "      <th>income</th>\n",
>>>>>>> ff450b12b17605e8d65dc5c0d29180185469e44a
       "    </tr>\n",
       "  </thead>\n",
       "  <tbody>\n",
       "    <tr>\n",
<<<<<<< HEAD
       "      <th>0</th>\n",
       "      <td>ACCESORIES_1_001_BOS_1</td>\n",
       "      <td>2011-01</td>\n",
       "      <td>0</td>\n",
       "      <td>0.0</td>\n",
       "      <td>0.0</td>\n",
       "      <td>BOS_1</td>\n",
       "      <td>ACCESORIES</td>\n",
       "      <td>BOS</td>\n",
       "    </tr>\n",
       "    <tr>\n",
       "      <th>1</th>\n",
       "      <td>ACCESORIES_1_001_BOS_1</td>\n",
       "      <td>2011-02</td>\n",
       "      <td>0</td>\n",
       "      <td>0.0</td>\n",
       "      <td>0.0</td>\n",
       "      <td>BOS_1</td>\n",
       "      <td>ACCESORIES</td>\n",
       "      <td>BOS</td>\n",
       "    </tr>\n",
       "    <tr>\n",
       "      <th>2</th>\n",
       "      <td>ACCESORIES_1_001_BOS_1</td>\n",
       "      <td>2011-03</td>\n",
       "      <td>0</td>\n",
       "      <td>0.0</td>\n",
       "      <td>0.0</td>\n",
       "      <td>BOS_1</td>\n",
       "      <td>ACCESORIES</td>\n",
       "      <td>BOS</td>\n",
       "    </tr>\n",
       "    <tr>\n",
       "      <th>3</th>\n",
       "      <td>ACCESORIES_1_001_BOS_1</td>\n",
       "      <td>2011-04</td>\n",
       "      <td>0</td>\n",
       "      <td>0.0</td>\n",
       "      <td>0.0</td>\n",
       "      <td>BOS_1</td>\n",
       "      <td>ACCESORIES</td>\n",
       "      <td>BOS</td>\n",
       "    </tr>\n",
       "    <tr>\n",
       "      <th>4</th>\n",
       "      <td>ACCESORIES_1_001_BOS_1</td>\n",
       "      <td>2011-05</td>\n",
       "      <td>0</td>\n",
       "      <td>0.0</td>\n",
       "      <td>0.0</td>\n",
       "      <td>BOS_1</td>\n",
       "      <td>ACCESORIES</td>\n",
       "      <td>BOS</td>\n",
       "    </tr>\n",
       "    <tr>\n",
       "      <th>...</th>\n",
       "      <td>...</td>\n",
       "      <td>...</td>\n",
       "      <td>...</td>\n",
       "      <td>...</td>\n",
       "      <td>...</td>\n",
       "      <td>...</td>\n",
       "      <td>...</td>\n",
       "      <td>...</td>\n",
       "    </tr>\n",
       "    <tr>\n",
       "      <th>1951355</th>\n",
       "      <td>SUPERMARKET_3_827_PHI_3</td>\n",
       "      <td>2015-12</td>\n",
       "      <td>41</td>\n",
       "      <td>1.2</td>\n",
       "      <td>49.2</td>\n",
       "      <td>PHI_3</td>\n",
       "      <td>SUPERMARKET</td>\n",
       "      <td>PHI</td>\n",
       "    </tr>\n",
       "    <tr>\n",
       "      <th>1951356</th>\n",
       "      <td>SUPERMARKET_3_827_PHI_3</td>\n",
       "      <td>2016-01</td>\n",
       "      <td>49</td>\n",
       "      <td>1.2</td>\n",
       "      <td>58.8</td>\n",
       "      <td>PHI_3</td>\n",
       "      <td>SUPERMARKET</td>\n",
       "      <td>PHI</td>\n",
       "    </tr>\n",
       "    <tr>\n",
       "      <th>1951357</th>\n",
       "      <td>SUPERMARKET_3_827_PHI_3</td>\n",
       "      <td>2016-02</td>\n",
       "      <td>46</td>\n",
       "      <td>1.2</td>\n",
       "      <td>55.2</td>\n",
       "      <td>PHI_3</td>\n",
       "      <td>SUPERMARKET</td>\n",
       "      <td>PHI</td>\n",
       "    </tr>\n",
       "    <tr>\n",
       "      <th>1951358</th>\n",
       "      <td>SUPERMARKET_3_827_PHI_3</td>\n",
       "      <td>2016-03</td>\n",
       "      <td>68</td>\n",
       "      <td>1.2</td>\n",
       "      <td>81.6</td>\n",
       "      <td>PHI_3</td>\n",
       "      <td>SUPERMARKET</td>\n",
       "      <td>PHI</td>\n",
       "    </tr>\n",
       "    <tr>\n",
       "      <th>1951359</th>\n",
       "      <td>SUPERMARKET_3_827_PHI_3</td>\n",
       "      <td>2016-04</td>\n",
       "      <td>15</td>\n",
       "      <td>1.2</td>\n",
       "      <td>18.0</td>\n",
       "      <td>PHI_3</td>\n",
       "      <td>SUPERMARKET</td>\n",
       "      <td>PHI</td>\n",
       "    </tr>\n",
       "  </tbody>\n",
       "</table>\n",
       "<p>1951360 rows × 8 columns</p>\n",
       "</div>"
      ],
      "text/plain": [
       "                              id     date  sales  sell_price  income  \\\n",
       "0         ACCESORIES_1_001_BOS_1  2011-01      0         0.0     0.0   \n",
       "1         ACCESORIES_1_001_BOS_1  2011-02      0         0.0     0.0   \n",
       "2         ACCESORIES_1_001_BOS_1  2011-03      0         0.0     0.0   \n",
       "3         ACCESORIES_1_001_BOS_1  2011-04      0         0.0     0.0   \n",
       "4         ACCESORIES_1_001_BOS_1  2011-05      0         0.0     0.0   \n",
       "...                          ...      ...    ...         ...     ...   \n",
       "1951355  SUPERMARKET_3_827_PHI_3  2015-12     41         1.2    49.2   \n",
       "1951356  SUPERMARKET_3_827_PHI_3  2016-01     49         1.2    58.8   \n",
       "1951357  SUPERMARKET_3_827_PHI_3  2016-02     46         1.2    55.2   \n",
       "1951358  SUPERMARKET_3_827_PHI_3  2016-03     68         1.2    81.6   \n",
       "1951359  SUPERMARKET_3_827_PHI_3  2016-04     15         1.2    18.0   \n",
       "\n",
       "        store_code     category region  \n",
       "0            BOS_1   ACCESORIES    BOS  \n",
       "1            BOS_1   ACCESORIES    BOS  \n",
       "2            BOS_1   ACCESORIES    BOS  \n",
       "3            BOS_1   ACCESORIES    BOS  \n",
       "4            BOS_1   ACCESORIES    BOS  \n",
       "...            ...          ...    ...  \n",
       "1951355      PHI_3  SUPERMARKET    PHI  \n",
       "1951356      PHI_3  SUPERMARKET    PHI  \n",
       "1951357      PHI_3  SUPERMARKET    PHI  \n",
       "1951358      PHI_3  SUPERMARKET    PHI  \n",
       "1951359      PHI_3  SUPERMARKET    PHI  \n",
       "\n",
       "[1951360 rows x 8 columns]"
      ]
     },
     "execution_count": 29,
=======
       "      <th>7</th>\n",
       "      <td>2011-01-29</td>\n",
       "      <td>ACCESORIES_1_008_NYC_1</td>\n",
       "      <td>Greenwich_Village</td>\n",
       "      <td>12</td>\n",
       "      <td>0.6118</td>\n",
       "      <td>no event</td>\n",
       "      <td>7.3416</td>\n",
       "    </tr>\n",
       "  </tbody>\n",
       "</table>\n",
       "</div>"
      ],
      "text/plain": [
       "         date                      id              store  sales  sell_price  \\\n",
       "7  2011-01-29  ACCESORIES_1_008_NYC_1  Greenwich_Village     12      0.6118   \n",
       "\n",
       "      event  income  \n",
       "7  no event  7.3416  "
      ]
     },
     "execution_count": 15,
>>>>>>> ff450b12b17605e8d65dc5c0d29180185469e44a
     "metadata": {},
     "output_type": "execute_result"
    }
   ],
   "source": [
<<<<<<< HEAD
    "df_market"
   ]
  },
  {
   "cell_type": "markdown",
   "metadata": {},
   "source": [
    "###  Making new columns \"Income\""
   ]
  },
  {
   "cell_type": "markdown",
   "metadata": {},
   "source": []
  },
  {
   "cell_type": "code",
   "execution_count": 15,
   "metadata": {},
   "outputs": [],
   "source": [
    "df_market[\"income\"] = df_market[\"sales\"] * df_market[\"sell_price\"]"
=======
    "df_market.head(1)"
>>>>>>> ff450b12b17605e8d65dc5c0d29180185469e44a
   ]
  },
  {
   "cell_type": "code",
   "execution_count": 16,
   "metadata": {},
<<<<<<< HEAD
   "outputs": [
    {
     "data": {
      "text/html": [
       "<div>\n",
       "<style scoped>\n",
       "    .dataframe tbody tr th:only-of-type {\n",
       "        vertical-align: middle;\n",
       "    }\n",
       "\n",
       "    .dataframe tbody tr th {\n",
       "        vertical-align: top;\n",
       "    }\n",
       "\n",
       "    .dataframe thead th {\n",
       "        text-align: right;\n",
       "    }\n",
       "</style>\n",
       "<table border=\"1\" class=\"dataframe\">\n",
       "  <thead>\n",
       "    <tr style=\"text-align: right;\">\n",
       "      <th></th>\n",
       "      <th>id</th>\n",
       "      <th>date</th>\n",
       "      <th>sales</th>\n",
       "      <th>sell_price</th>\n",
       "      <th>income</th>\n",
       "    </tr>\n",
       "  </thead>\n",
       "  <tbody>\n",
       "    <tr>\n",
       "      <th>553290</th>\n",
       "      <td>HOME_&amp;_GARDEN_1_306_NYC_3</td>\n",
       "      <td>2011-11</td>\n",
       "      <td>0</td>\n",
       "      <td>0.000</td>\n",
       "      <td>0.000</td>\n",
       "    </tr>\n",
       "    <tr>\n",
       "      <th>1567485</th>\n",
       "      <td>SUPERMARKET_3_225_BOS_2</td>\n",
       "      <td>2016-02</td>\n",
       "      <td>24</td>\n",
       "      <td>2.376</td>\n",
       "      <td>57.024</td>\n",
       "    </tr>\n",
       "    <tr>\n",
       "      <th>1461827</th>\n",
       "      <td>SUPERMARKET_3_060_BOS_2</td>\n",
       "      <td>2011-04</td>\n",
       "      <td>0</td>\n",
       "      <td>0.000</td>\n",
       "      <td>0.000</td>\n",
       "    </tr>\n",
       "    <tr>\n",
       "      <th>1436880</th>\n",
       "      <td>SUPERMARKET_3_020_BOS_2</td>\n",
       "      <td>2012-05</td>\n",
       "      <td>157</td>\n",
       "      <td>1.200</td>\n",
       "      <td>188.400</td>\n",
       "    </tr>\n",
       "    <tr>\n",
       "      <th>731073</th>\n",
       "      <td>HOME_&amp;_GARDEN_2_046_NYC_1</td>\n",
       "      <td>2011-02</td>\n",
       "      <td>0</td>\n",
       "      <td>0.000</td>\n",
       "      <td>0.000</td>\n",
       "    </tr>\n",
       "  </tbody>\n",
       "</table>\n",
       "</div>"
      ],
      "text/plain": [
       "                                id     date  sales  sell_price   income\n",
       "553290   HOME_&_GARDEN_1_306_NYC_3  2011-11      0       0.000    0.000\n",
       "1567485    SUPERMARKET_3_225_BOS_2  2016-02     24       2.376   57.024\n",
       "1461827    SUPERMARKET_3_060_BOS_2  2011-04      0       0.000    0.000\n",
       "1436880    SUPERMARKET_3_020_BOS_2  2012-05    157       1.200  188.400\n",
       "731073   HOME_&_GARDEN_2_046_NYC_1  2011-02      0       0.000    0.000"
      ]
     },
     "execution_count": 16,
     "metadata": {},
     "output_type": "execute_result"
    }
   ],
   "source": [
    "df_market.sample(5)"
   ]
  },
  {
   "cell_type": "markdown",
   "metadata": {},
   "source": [
    "### Loading original item_sales_df for making dicts to map new columns"
=======
   "outputs": [],
   "source": [
    "df_market['date'] = pd.to_datetime(df_market['date'], format='%Y-%m-%d')"
>>>>>>> ff450b12b17605e8d65dc5c0d29180185469e44a
   ]
  },
  {
   "cell_type": "code",
   "execution_count": 17,
   "metadata": {},
<<<<<<< HEAD
   "outputs": [],
   "source": [
    "df_market1 = df_market.copy()\n"
=======
   "outputs": [
    {
     "data": {
      "text/html": [
       "<div>\n",
       "<style scoped>\n",
       "    .dataframe tbody tr th:only-of-type {\n",
       "        vertical-align: middle;\n",
       "    }\n",
       "\n",
       "    .dataframe tbody tr th {\n",
       "        vertical-align: top;\n",
       "    }\n",
       "\n",
       "    .dataframe thead th {\n",
       "        text-align: right;\n",
       "    }\n",
       "</style>\n",
       "<table border=\"1\" class=\"dataframe\">\n",
       "  <thead>\n",
       "    <tr style=\"text-align: right;\">\n",
       "      <th></th>\n",
       "      <th>id</th>\n",
       "      <th>store</th>\n",
       "      <th>sales</th>\n",
       "      <th>sell_price</th>\n",
       "      <th>event</th>\n",
       "      <th>income</th>\n",
       "    </tr>\n",
       "    <tr>\n",
       "      <th>date</th>\n",
       "      <th></th>\n",
       "      <th></th>\n",
       "      <th></th>\n",
       "      <th></th>\n",
       "      <th></th>\n",
       "      <th></th>\n",
       "    </tr>\n",
       "  </thead>\n",
       "  <tbody>\n",
       "    <tr>\n",
       "      <th>2011-01-29</th>\n",
       "      <td>ACCESORIES_1_008_NYC_1</td>\n",
       "      <td>Greenwich_Village</td>\n",
       "      <td>12</td>\n",
       "      <td>0.6118</td>\n",
       "      <td>no event</td>\n",
       "      <td>7.3416</td>\n",
       "    </tr>\n",
       "  </tbody>\n",
       "</table>\n",
       "</div>"
      ],
      "text/plain": [
       "                                id              store  sales  sell_price  \\\n",
       "date                                                                       \n",
       "2011-01-29  ACCESORIES_1_008_NYC_1  Greenwich_Village     12      0.6118   \n",
       "\n",
       "               event  income  \n",
       "date                          \n",
       "2011-01-29  no event  7.3416  "
      ]
     },
     "execution_count": 17,
     "metadata": {},
     "output_type": "execute_result"
    }
   ],
   "source": [
    "df_market.set_index('date', inplace=True)\n",
    "df_market.head(1)"
>>>>>>> ff450b12b17605e8d65dc5c0d29180185469e44a
   ]
  },
  {
   "cell_type": "code",
   "execution_count": 18,
   "metadata": {},
<<<<<<< HEAD
   "outputs": [
    {
     "data": {
      "text/html": [
       "<div>\n",
       "<style scoped>\n",
       "    .dataframe tbody tr th:only-of-type {\n",
       "        vertical-align: middle;\n",
       "    }\n",
       "\n",
       "    .dataframe tbody tr th {\n",
       "        vertical-align: top;\n",
       "    }\n",
       "\n",
       "    .dataframe thead th {\n",
       "        text-align: right;\n",
       "    }\n",
       "</style>\n",
       "<table border=\"1\" class=\"dataframe\">\n",
       "  <thead>\n",
       "    <tr style=\"text-align: right;\">\n",
       "      <th></th>\n",
       "      <th>id</th>\n",
       "      <th>date</th>\n",
       "      <th>sales</th>\n",
       "      <th>sell_price</th>\n",
       "      <th>income</th>\n",
       "    </tr>\n",
       "  </thead>\n",
       "  <tbody>\n",
       "    <tr>\n",
       "      <th>0</th>\n",
       "      <td>ACCESORIES_1_001_BOS_1</td>\n",
       "      <td>2011-01</td>\n",
       "      <td>0</td>\n",
       "      <td>0.0</td>\n",
       "      <td>0.0</td>\n",
       "    </tr>\n",
       "    <tr>\n",
       "      <th>1</th>\n",
       "      <td>ACCESORIES_1_001_BOS_1</td>\n",
       "      <td>2011-02</td>\n",
       "      <td>0</td>\n",
       "      <td>0.0</td>\n",
       "      <td>0.0</td>\n",
       "    </tr>\n",
       "    <tr>\n",
       "      <th>2</th>\n",
       "      <td>ACCESORIES_1_001_BOS_1</td>\n",
       "      <td>2011-03</td>\n",
       "      <td>0</td>\n",
       "      <td>0.0</td>\n",
       "      <td>0.0</td>\n",
       "    </tr>\n",
       "    <tr>\n",
       "      <th>3</th>\n",
       "      <td>ACCESORIES_1_001_BOS_1</td>\n",
       "      <td>2011-04</td>\n",
       "      <td>0</td>\n",
       "      <td>0.0</td>\n",
       "      <td>0.0</td>\n",
       "    </tr>\n",
       "    <tr>\n",
       "      <th>4</th>\n",
       "      <td>ACCESORIES_1_001_BOS_1</td>\n",
       "      <td>2011-05</td>\n",
       "      <td>0</td>\n",
       "      <td>0.0</td>\n",
       "      <td>0.0</td>\n",
       "    </tr>\n",
       "    <tr>\n",
       "      <th>...</th>\n",
       "      <td>...</td>\n",
       "      <td>...</td>\n",
       "      <td>...</td>\n",
       "      <td>...</td>\n",
       "      <td>...</td>\n",
       "    </tr>\n",
       "    <tr>\n",
       "      <th>1951355</th>\n",
       "      <td>SUPERMARKET_3_827_PHI_3</td>\n",
       "      <td>2015-12</td>\n",
       "      <td>41</td>\n",
       "      <td>1.2</td>\n",
       "      <td>49.2</td>\n",
       "    </tr>\n",
       "    <tr>\n",
       "      <th>1951356</th>\n",
       "      <td>SUPERMARKET_3_827_PHI_3</td>\n",
       "      <td>2016-01</td>\n",
       "      <td>49</td>\n",
       "      <td>1.2</td>\n",
       "      <td>58.8</td>\n",
       "    </tr>\n",
       "    <tr>\n",
       "      <th>1951357</th>\n",
       "      <td>SUPERMARKET_3_827_PHI_3</td>\n",
       "      <td>2016-02</td>\n",
       "      <td>46</td>\n",
       "      <td>1.2</td>\n",
       "      <td>55.2</td>\n",
       "    </tr>\n",
       "    <tr>\n",
       "      <th>1951358</th>\n",
       "      <td>SUPERMARKET_3_827_PHI_3</td>\n",
       "      <td>2016-03</td>\n",
       "      <td>68</td>\n",
       "      <td>1.2</td>\n",
       "      <td>81.6</td>\n",
       "    </tr>\n",
       "    <tr>\n",
       "      <th>1951359</th>\n",
       "      <td>SUPERMARKET_3_827_PHI_3</td>\n",
       "      <td>2016-04</td>\n",
       "      <td>15</td>\n",
       "      <td>1.2</td>\n",
       "      <td>18.0</td>\n",
       "    </tr>\n",
       "  </tbody>\n",
       "</table>\n",
       "<p>1951360 rows × 5 columns</p>\n",
       "</div>"
      ],
      "text/plain": [
       "                              id     date  sales  sell_price  income\n",
       "0         ACCESORIES_1_001_BOS_1  2011-01      0         0.0     0.0\n",
       "1         ACCESORIES_1_001_BOS_1  2011-02      0         0.0     0.0\n",
       "2         ACCESORIES_1_001_BOS_1  2011-03      0         0.0     0.0\n",
       "3         ACCESORIES_1_001_BOS_1  2011-04      0         0.0     0.0\n",
       "4         ACCESORIES_1_001_BOS_1  2011-05      0         0.0     0.0\n",
       "...                          ...      ...    ...         ...     ...\n",
       "1951355  SUPERMARKET_3_827_PHI_3  2015-12     41         1.2    49.2\n",
       "1951356  SUPERMARKET_3_827_PHI_3  2016-01     49         1.2    58.8\n",
       "1951357  SUPERMARKET_3_827_PHI_3  2016-02     46         1.2    55.2\n",
       "1951358  SUPERMARKET_3_827_PHI_3  2016-03     68         1.2    81.6\n",
       "1951359  SUPERMARKET_3_827_PHI_3  2016-04     15         1.2    18.0\n",
       "\n",
       "[1951360 rows x 5 columns]"
      ]
     },
     "execution_count": 18,
     "metadata": {},
     "output_type": "execute_result"
    }
   ],
   "source": [
    "df_market1"
   ]
  },
  {
   "cell_type": "code",
   "execution_count": 32,
   "metadata": {},
   "outputs": [
    {
     "data": {
      "text/html": [
       "<div>\n",
       "<style scoped>\n",
       "    .dataframe tbody tr th:only-of-type {\n",
       "        vertical-align: middle;\n",
       "    }\n",
       "\n",
       "    .dataframe tbody tr th {\n",
       "        vertical-align: top;\n",
       "    }\n",
       "\n",
       "    .dataframe thead th {\n",
       "        text-align: right;\n",
       "    }\n",
       "</style>\n",
       "<table border=\"1\" class=\"dataframe\">\n",
       "  <thead>\n",
       "    <tr style=\"text-align: right;\">\n",
       "      <th></th>\n",
       "      <th>id</th>\n",
       "      <th>date</th>\n",
       "      <th>sales</th>\n",
       "      <th>sell_price</th>\n",
       "      <th>income</th>\n",
       "      <th>store_code</th>\n",
       "      <th>category</th>\n",
       "      <th>region</th>\n",
       "    </tr>\n",
       "  </thead>\n",
       "  <tbody>\n",
       "  </tbody>\n",
       "</table>\n",
       "</div>"
      ],
      "text/plain": [
       "Empty DataFrame\n",
       "Columns: [id, date, sales, sell_price, income, store_code, category, region]\n",
       "Index: []"
      ]
     },
     "execution_count": 32,
     "metadata": {},
     "output_type": "execute_result"
    }
   ],
   "source": [
    "df_market[(df_market[\"id\"]==\"ACCESORIES_1_001_BOS_1\") & (df_market[\"date\"] >= \"2013-07-31\") & (df_market[\"sales\"]==0)]"
=======
   "outputs": [],
   "source": [
    "file_name = \"df_market.csv\" #daily\n",
    "df_market.to_csv(file_name)"
   ]
  },
  {
   "cell_type": "markdown",
   "metadata": {},
   "source": [
    "### Gruop in mounths for work Visualization"
>>>>>>> ff450b12b17605e8d65dc5c0d29180185469e44a
   ]
  },
  {
   "cell_type": "code",
   "execution_count": 19,
   "metadata": {},
   "outputs": [],
   "source": [
<<<<<<< HEAD
    "df_market[\"store_code\"] = df_market[\"id\"].apply(lambda x: x[-5:])"
=======
    "df_market_bi = df_market.groupby(['id']).resample('M').agg(\n",
    "    store = ('store',lambda x: x.mode()[0] if not x.mode().empty else None),\n",
    "    unid=('sales', 'sum'),        # Sumar las ventas mensuales\n",
    "    precio_prom=('sell_price', 'mean'),\n",
    "    income=('income','sum')\n",
    ").reset_index()"
>>>>>>> ff450b12b17605e8d65dc5c0d29180185469e44a
   ]
  },
  {
   "cell_type": "code",
   "execution_count": 20,
   "metadata": {},
<<<<<<< HEAD
   "outputs": [],
   "source": [
    "df_market[\"category\"] = df_market[\"id\"].apply(lambda x: x[:-12])"
   ]
  },
  {
   "cell_type": "code",
   "execution_count": 26,
   "metadata": {},
   "outputs": [],
=======
>>>>>>> LocalR
   "source": [
    "df_market[\"region\"] = df_market[\"store_code\"].apply(lambda x: x[0:3])"
   ]
  },
  {
<<<<<<< HEAD
   "cell_type": "code",
   "execution_count": 27,
   "metadata": {},
   "outputs": [
    {
=======
   "outputs": [
    {
     "name": "stdout",
     "output_type": "stream",
     "text": [
      "(1536776, 6)\n"
     ]
    },
    {
>>>>>>> ff450b12b17605e8d65dc5c0d29180185469e44a
     "data": {
      "text/html": [
       "<div>\n",
       "<style scoped>\n",
       "    .dataframe tbody tr th:only-of-type {\n",
       "        vertical-align: middle;\n",
       "    }\n",
       "\n",
       "    .dataframe tbody tr th {\n",
       "        vertical-align: top;\n",
       "    }\n",
       "\n",
       "    .dataframe thead th {\n",
       "        text-align: right;\n",
       "    }\n",
       "</style>\n",
       "<table border=\"1\" class=\"dataframe\">\n",
       "  <thead>\n",
       "    <tr style=\"text-align: right;\">\n",
       "      <th></th>\n",
       "      <th>id</th>\n",
       "      <th>date</th>\n",
<<<<<<< HEAD
       "      <th>sales</th>\n",
       "      <th>sell_price</th>\n",
       "      <th>income</th>\n",
       "      <th>store_code</th>\n",
       "      <th>category</th>\n",
       "      <th>region</th>\n",
       "    </tr>\n",
       "  </thead>\n",
       "  <tbody>\n",
       "    <tr>\n",
       "      <th>0</th>\n",
       "      <td>ACCESORIES_1_001_BOS_1</td>\n",
       "      <td>2011-01</td>\n",
       "      <td>0</td>\n",
       "      <td>0.0</td>\n",
       "      <td>0.0</td>\n",
       "      <td>BOS_1</td>\n",
       "      <td>ACCESORIES</td>\n",
       "      <td>BOS</td>\n",
       "    </tr>\n",
       "    <tr>\n",
       "      <th>1</th>\n",
       "      <td>ACCESORIES_1_001_BOS_1</td>\n",
       "      <td>2011-02</td>\n",
       "      <td>0</td>\n",
       "      <td>0.0</td>\n",
       "      <td>0.0</td>\n",
       "      <td>BOS_1</td>\n",
       "      <td>ACCESORIES</td>\n",
       "      <td>BOS</td>\n",
       "    </tr>\n",
       "    <tr>\n",
       "      <th>2</th>\n",
       "      <td>ACCESORIES_1_001_BOS_1</td>\n",
       "      <td>2011-03</td>\n",
       "      <td>0</td>\n",
       "      <td>0.0</td>\n",
       "      <td>0.0</td>\n",
       "      <td>BOS_1</td>\n",
       "      <td>ACCESORIES</td>\n",
       "      <td>BOS</td>\n",
       "    </tr>\n",
       "    <tr>\n",
       "      <th>3</th>\n",
       "      <td>ACCESORIES_1_001_BOS_1</td>\n",
       "      <td>2011-04</td>\n",
       "      <td>0</td>\n",
       "      <td>0.0</td>\n",
       "      <td>0.0</td>\n",
       "      <td>BOS_1</td>\n",
       "      <td>ACCESORIES</td>\n",
       "      <td>BOS</td>\n",
       "    </tr>\n",
       "    <tr>\n",
       "      <th>4</th>\n",
       "      <td>ACCESORIES_1_001_BOS_1</td>\n",
       "      <td>2011-05</td>\n",
       "      <td>0</td>\n",
       "      <td>0.0</td>\n",
       "      <td>0.0</td>\n",
       "      <td>BOS_1</td>\n",
       "      <td>ACCESORIES</td>\n",
       "      <td>BOS</td>\n",
       "    </tr>\n",
       "    <tr>\n",
       "      <th>...</th>\n",
       "      <td>...</td>\n",
       "      <td>...</td>\n",
       "      <td>...</td>\n",
       "      <td>...</td>\n",
       "      <td>...</td>\n",
       "      <td>...</td>\n",
       "      <td>...</td>\n",
       "      <td>...</td>\n",
       "    </tr>\n",
       "    <tr>\n",
       "      <th>1951355</th>\n",
       "      <td>SUPERMARKET_3_827_PHI_3</td>\n",
       "      <td>2015-12</td>\n",
       "      <td>41</td>\n",
       "      <td>1.2</td>\n",
       "      <td>49.2</td>\n",
       "      <td>PHI_3</td>\n",
       "      <td>SUPERMARKET</td>\n",
       "      <td>PHI</td>\n",
       "    </tr>\n",
       "    <tr>\n",
       "      <th>1951356</th>\n",
       "      <td>SUPERMARKET_3_827_PHI_3</td>\n",
       "      <td>2016-01</td>\n",
       "      <td>49</td>\n",
       "      <td>1.2</td>\n",
       "      <td>58.8</td>\n",
       "      <td>PHI_3</td>\n",
       "      <td>SUPERMARKET</td>\n",
       "      <td>PHI</td>\n",
       "    </tr>\n",
       "    <tr>\n",
       "      <th>1951357</th>\n",
       "      <td>SUPERMARKET_3_827_PHI_3</td>\n",
       "      <td>2016-02</td>\n",
       "      <td>46</td>\n",
       "      <td>1.2</td>\n",
       "      <td>55.2</td>\n",
       "      <td>PHI_3</td>\n",
       "      <td>SUPERMARKET</td>\n",
       "      <td>PHI</td>\n",
       "    </tr>\n",
       "    <tr>\n",
       "      <th>1951358</th>\n",
       "      <td>SUPERMARKET_3_827_PHI_3</td>\n",
       "      <td>2016-03</td>\n",
       "      <td>68</td>\n",
       "      <td>1.2</td>\n",
       "      <td>81.6</td>\n",
       "      <td>PHI_3</td>\n",
       "      <td>SUPERMARKET</td>\n",
       "      <td>PHI</td>\n",
       "    </tr>\n",
       "    <tr>\n",
       "      <th>1951359</th>\n",
       "      <td>SUPERMARKET_3_827_PHI_3</td>\n",
       "      <td>2016-04</td>\n",
       "      <td>15</td>\n",
       "      <td>1.2</td>\n",
       "      <td>18.0</td>\n",
       "      <td>PHI_3</td>\n",
       "      <td>SUPERMARKET</td>\n",
       "      <td>PHI</td>\n",
       "    </tr>\n",
       "  </tbody>\n",
       "</table>\n",
       "<p>1951360 rows × 8 columns</p>\n",
       "</div>"
      ],
      "text/plain": [
       "                              id     date  sales  sell_price  income  \\\n",
       "0         ACCESORIES_1_001_BOS_1  2011-01      0         0.0     0.0   \n",
       "1         ACCESORIES_1_001_BOS_1  2011-02      0         0.0     0.0   \n",
       "2         ACCESORIES_1_001_BOS_1  2011-03      0         0.0     0.0   \n",
       "3         ACCESORIES_1_001_BOS_1  2011-04      0         0.0     0.0   \n",
       "4         ACCESORIES_1_001_BOS_1  2011-05      0         0.0     0.0   \n",
       "...                          ...      ...    ...         ...     ...   \n",
       "1951355  SUPERMARKET_3_827_PHI_3  2015-12     41         1.2    49.2   \n",
       "1951356  SUPERMARKET_3_827_PHI_3  2016-01     49         1.2    58.8   \n",
       "1951357  SUPERMARKET_3_827_PHI_3  2016-02     46         1.2    55.2   \n",
       "1951358  SUPERMARKET_3_827_PHI_3  2016-03     68         1.2    81.6   \n",
       "1951359  SUPERMARKET_3_827_PHI_3  2016-04     15         1.2    18.0   \n",
       "\n",
       "        store_code     category region  \n",
       "0            BOS_1   ACCESORIES    BOS  \n",
       "1            BOS_1   ACCESORIES    BOS  \n",
       "2            BOS_1   ACCESORIES    BOS  \n",
       "3            BOS_1   ACCESORIES    BOS  \n",
       "4            BOS_1   ACCESORIES    BOS  \n",
       "...            ...          ...    ...  \n",
       "1951355      PHI_3  SUPERMARKET    PHI  \n",
       "1951356      PHI_3  SUPERMARKET    PHI  \n",
       "1951357      PHI_3  SUPERMARKET    PHI  \n",
       "1951358      PHI_3  SUPERMARKET    PHI  \n",
       "1951359      PHI_3  SUPERMARKET    PHI  \n",
       "\n",
       "[1951360 rows x 8 columns]"
      ]
     },
     "execution_count": 27,
     "metadata": {},
     "output_type": "execute_result"
    }
   ],
   "source": [
    "df_market"
=======
   "cell_type": "markdown",
   "metadata": {},
   "source": [
    "### Mapeo de la columna 'store_code' para agregar 'store' y 'region'"
   ]
  },
  {
   "cell_type": "code",
   "execution_count": 17,
   "metadata": {},
   "outputs": [],
   "source": [
    "\n",
    "df_clean['store'] = df_clean['store_code'].map(lambda x: store_dict[x]['store'])\n",
    "df_clean['region'] = df_clean['store_code'].map(lambda x: store_dict[x]['region'])\n"
   ]
  },
  {
   "cell_type": "code",
   "execution_count": 23,
   "metadata": {},
   "outputs": [],
   "source": [
    "df_clean[\"income\"]= df_clean[\"sales\"]*df_clean[\"sell_price\"]"
   ]
  },
  {
   "cell_type": "code",
   "execution_count": 24,
   "metadata": {},
   "outputs": [],
   "source": [
    "new_order = [\"id\",\"item\",\"region\",\"store_code\",\"store\",\"date\",\"sales\",\"sell_price\",\"income\"]"
   ]
  },
  {
   "cell_type": "code",
   "execution_count": 27,
   "metadata": {},
   "outputs": [],
   "source": [
    "df_clean = df_clean[new_order]"
   ]
  },
  {
   "cell_type": "code",
   "execution_count": 28,
   "metadata": {},
   "outputs": [
    {
     "data": {
      "text/html": [
       "<div>\n",
       "<style scoped>\n",
       "    .dataframe tbody tr th:only-of-type {\n",
       "        vertical-align: middle;\n",
       "    }\n",
       "\n",
       "    .dataframe tbody tr th {\n",
       "        vertical-align: top;\n",
       "    }\n",
       "\n",
       "    .dataframe thead th {\n",
       "        text-align: right;\n",
       "    }\n",
       "</style>\n",
       "<table border=\"1\" class=\"dataframe\">\n",
       "  <thead>\n",
       "    <tr style=\"text-align: right;\">\n",
       "      <th></th>\n",
       "      <th>id</th>\n",
       "      <th>item</th>\n",
       "      <th>region</th>\n",
       "      <th>store_code</th>\n",
       "      <th>store</th>\n",
       "      <th>date</th>\n",
       "      <th>sales</th>\n",
       "      <th>sell_price</th>\n",
=======
       "      <th>store</th>\n",
       "      <th>unid</th>\n",
       "      <th>precio_prom</th>\n",
>>>>>>> ff450b12b17605e8d65dc5c0d29180185469e44a
       "      <th>income</th>\n",
       "    </tr>\n",
       "  </thead>\n",
       "  <tbody>\n",
       "    <tr>\n",
       "      <th>0</th>\n",
       "      <td>ACCESORIES_1_001_BOS_1</td>\n",
<<<<<<< HEAD
       "      <td>ACCESORIES_1_001</td>\n",
       "      <td>Boston</td>\n",
       "      <td>BOS_1</td>\n",
       "      <td>South_End</td>\n",
       "      <td>2013-07-31</td>\n",
       "      <td>10</td>\n",
       "      <td>11.753875</td>\n",
       "      <td>117.53875</td>\n",
=======
       "      <td>2013-07-31</td>\n",
       "      <td>South_End</td>\n",
       "      <td>10</td>\n",
       "      <td>11.753875</td>\n",
       "      <td>116.8804</td>\n",
>>>>>>> ff450b12b17605e8d65dc5c0d29180185469e44a
       "    </tr>\n",
       "    <tr>\n",
       "      <th>1</th>\n",
       "      <td>ACCESORIES_1_001_BOS_1</td>\n",
<<<<<<< HEAD
       "      <td>ACCESORIES_1_001</td>\n",
       "      <td>Boston</td>\n",
       "      <td>BOS_1</td>\n",
       "      <td>South_End</td>\n",
       "      <td>2013-08-31</td>\n",
       "      <td>3</td>\n",
       "      <td>10.985800</td>\n",
       "      <td>32.95740</td>\n",
       "    </tr>\n",
       "    <tr>\n",
       "      <th>2</th>\n",
       "      <td>ACCESORIES_1_001_BOS_1</td>\n",
       "      <td>ACCESORIES_1_001</td>\n",
       "      <td>Boston</td>\n",
       "      <td>BOS_1</td>\n",
       "      <td>South_End</td>\n",
       "      <td>2013-09-30</td>\n",
       "      <td>4</td>\n",
       "      <td>10.985800</td>\n",
       "      <td>43.94320</td>\n",
       "    </tr>\n",
       "    <tr>\n",
       "      <th>3</th>\n",
       "      <td>ACCESORIES_1_001_BOS_1</td>\n",
       "      <td>ACCESORIES_1_001</td>\n",
       "      <td>Boston</td>\n",
       "      <td>BOS_1</td>\n",
       "      <td>South_End</td>\n",
       "      <td>2013-10-31</td>\n",
       "      <td>4</td>\n",
       "      <td>10.985800</td>\n",
       "      <td>43.94320</td>\n",
       "    </tr>\n",
       "    <tr>\n",
       "      <th>4</th>\n",
       "      <td>ACCESORIES_1_001_BOS_1</td>\n",
       "      <td>ACCESORIES_1_001</td>\n",
       "      <td>Boston</td>\n",
       "      <td>BOS_1</td>\n",
       "      <td>South_End</td>\n",
       "      <td>2013-11-30</td>\n",
       "      <td>10</td>\n",
       "      <td>10.985800</td>\n",
       "      <td>109.85800</td>\n",
       "    </tr>\n",
       "    <tr>\n",
       "      <th>...</th>\n",
       "      <td>...</td>\n",
       "      <td>...</td>\n",
       "      <td>...</td>\n",
       "      <td>...</td>\n",
       "      <td>...</td>\n",
       "      <td>...</td>\n",
       "      <td>...</td>\n",
       "      <td>...</td>\n",
       "      <td>...</td>\n",
       "    </tr>\n",
       "    <tr>\n",
       "      <th>1536771</th>\n",
       "      <td>SUPERMARKET_3_827_PHI_3</td>\n",
       "      <td>SUPERMARKET_3_827</td>\n",
       "      <td>Philadelphia</td>\n",
       "      <td>PHI_3</td>\n",
       "      <td>Queen_Village</td>\n",
       "      <td>2015-12-31</td>\n",
       "      <td>41</td>\n",
       "      <td>1.200000</td>\n",
       "      <td>49.20000</td>\n",
       "    </tr>\n",
       "    <tr>\n",
       "      <th>1536772</th>\n",
       "      <td>SUPERMARKET_3_827_PHI_3</td>\n",
       "      <td>SUPERMARKET_3_827</td>\n",
       "      <td>Philadelphia</td>\n",
       "      <td>PHI_3</td>\n",
       "      <td>Queen_Village</td>\n",
       "      <td>2016-01-31</td>\n",
       "      <td>49</td>\n",
       "      <td>1.200000</td>\n",
       "      <td>58.80000</td>\n",
       "    </tr>\n",
       "    <tr>\n",
       "      <th>1536773</th>\n",
       "      <td>SUPERMARKET_3_827_PHI_3</td>\n",
       "      <td>SUPERMARKET_3_827</td>\n",
       "      <td>Philadelphia</td>\n",
       "      <td>PHI_3</td>\n",
       "      <td>Queen_Village</td>\n",
       "      <td>2016-02-29</td>\n",
       "      <td>46</td>\n",
       "      <td>1.200000</td>\n",
       "      <td>55.20000</td>\n",
       "    </tr>\n",
       "    <tr>\n",
       "      <th>1536774</th>\n",
       "      <td>SUPERMARKET_3_827_PHI_3</td>\n",
       "      <td>SUPERMARKET_3_827</td>\n",
       "      <td>Philadelphia</td>\n",
       "      <td>PHI_3</td>\n",
       "      <td>Queen_Village</td>\n",
       "      <td>2016-03-31</td>\n",
       "      <td>68</td>\n",
       "      <td>1.200000</td>\n",
       "      <td>81.60000</td>\n",
       "    </tr>\n",
       "    <tr>\n",
       "      <th>1536775</th>\n",
       "      <td>SUPERMARKET_3_827_PHI_3</td>\n",
       "      <td>SUPERMARKET_3_827</td>\n",
       "      <td>Philadelphia</td>\n",
       "      <td>PHI_3</td>\n",
       "      <td>Queen_Village</td>\n",
       "      <td>2016-04-30</td>\n",
       "      <td>15</td>\n",
       "      <td>1.200000</td>\n",
       "      <td>18.00000</td>\n",
       "    </tr>\n",
       "  </tbody>\n",
       "</table>\n",
       "<p>1536776 rows × 9 columns</p>\n",
       "</div>"
      ],
      "text/plain": [
       "                              id               item        region store_code  \\\n",
       "0         ACCESORIES_1_001_BOS_1   ACCESORIES_1_001        Boston      BOS_1   \n",
       "1         ACCESORIES_1_001_BOS_1   ACCESORIES_1_001        Boston      BOS_1   \n",
       "2         ACCESORIES_1_001_BOS_1   ACCESORIES_1_001        Boston      BOS_1   \n",
       "3         ACCESORIES_1_001_BOS_1   ACCESORIES_1_001        Boston      BOS_1   \n",
       "4         ACCESORIES_1_001_BOS_1   ACCESORIES_1_001        Boston      BOS_1   \n",
       "...                          ...                ...           ...        ...   \n",
       "1536771  SUPERMARKET_3_827_PHI_3  SUPERMARKET_3_827  Philadelphia      PHI_3   \n",
       "1536772  SUPERMARKET_3_827_PHI_3  SUPERMARKET_3_827  Philadelphia      PHI_3   \n",
       "1536773  SUPERMARKET_3_827_PHI_3  SUPERMARKET_3_827  Philadelphia      PHI_3   \n",
       "1536774  SUPERMARKET_3_827_PHI_3  SUPERMARKET_3_827  Philadelphia      PHI_3   \n",
       "1536775  SUPERMARKET_3_827_PHI_3  SUPERMARKET_3_827  Philadelphia      PHI_3   \n",
       "\n",
       "                 store        date  sales  sell_price     income  \n",
       "0            South_End  2013-07-31     10   11.753875  117.53875  \n",
       "1            South_End  2013-08-31      3   10.985800   32.95740  \n",
       "2            South_End  2013-09-30      4   10.985800   43.94320  \n",
       "3            South_End  2013-10-31      4   10.985800   43.94320  \n",
       "4            South_End  2013-11-30     10   10.985800  109.85800  \n",
       "...                ...         ...    ...         ...        ...  \n",
       "1536771  Queen_Village  2015-12-31     41    1.200000   49.20000  \n",
       "1536772  Queen_Village  2016-01-31     49    1.200000   58.80000  \n",
       "1536773  Queen_Village  2016-02-29     46    1.200000   55.20000  \n",
       "1536774  Queen_Village  2016-03-31     68    1.200000   81.60000  \n",
       "1536775  Queen_Village  2016-04-30     15    1.200000   18.00000  \n",
       "\n",
       "[1536776 rows x 9 columns]"
      ]
     },
     "execution_count": 28,
=======
       "      <td>2013-08-31</td>\n",
       "      <td>South_End</td>\n",
       "      <td>3</td>\n",
       "      <td>10.985800</td>\n",
       "      <td>32.9574</td>\n",
       "    </tr>\n",
       "  </tbody>\n",
       "</table>\n",
       "</div>"
      ],
      "text/plain": [
       "                       id       date      store  unid  precio_prom    income\n",
       "0  ACCESORIES_1_001_BOS_1 2013-07-31  South_End    10    11.753875  116.8804\n",
       "1  ACCESORIES_1_001_BOS_1 2013-08-31  South_End     3    10.985800   32.9574"
      ]
     },
     "execution_count": 20,
>>>>>>> ff450b12b17605e8d65dc5c0d29180185469e44a
     "metadata": {},
     "output_type": "execute_result"
    }
   ],
   "source": [
<<<<<<< HEAD
    "df_clean"
=======
    "print(df_market_bi.shape)\n",
    "df_market_bi.head(2)"
>>>>>>> ff450b12b17605e8d65dc5c0d29180185469e44a
   ]
  },
  {
   "cell_type": "code",
<<<<<<< HEAD
   "execution_count": 29,
   "metadata": {},
   "outputs": [],
   "source": [
    "file_name = \"df_market_clean.csv\"\n",
    "df_clean.to_csv(file_name)"
>>>>>>> LocalR
=======
   "execution_count": 21,
   "metadata": {},
   "outputs": [],
   "source": [
    "file_name = \"df_market_bi.csv\" #mountly\n",
    "df_market_bi.to_csv(file_name)"
>>>>>>> ff450b12b17605e8d65dc5c0d29180185469e44a
   ]
  }
 ],
 "metadata": {
  "kernelspec": {
<<<<<<< HEAD
   "display_name": "Python 3",
=======
   "display_name": "env",
>>>>>>> ff450b12b17605e8d65dc5c0d29180185469e44a
   "language": "python",
   "name": "python3"
  },
  "language_info": {
   "codemirror_mode": {
    "name": "ipython",
    "version": 3
   },
   "file_extension": ".py",
   "mimetype": "text/x-python",
   "name": "python",
   "nbconvert_exporter": "python",
   "pygments_lexer": "ipython3",
<<<<<<< HEAD
   "version": "3.11.9"
=======
   "version": "3.12.6"
>>>>>>> ff450b12b17605e8d65dc5c0d29180185469e44a
  }
 },
 "nbformat": 4,
 "nbformat_minor": 2
}
