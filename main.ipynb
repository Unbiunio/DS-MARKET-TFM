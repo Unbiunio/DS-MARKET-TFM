{
 "cells": [
  {
   "cell_type": "code",
   "execution_count": 63,
   "metadata": {},
   "outputs": [],
   "source": [
    "import pandas as pd\n",
    "import numpy as np\n",
    "import datetime\n",
    "from datetime import datetime, timedelta\n",
    "import seaborn as sns\n",
    "import matplotlib.pyplot as plt\n",
    "\n",
    "import warnings\n",
    "warnings.simplefilter(action = 'ignore', category = FutureWarning)"
   ]
  },
  {
   "cell_type": "code",
   "execution_count": 64,
   "metadata": {},
   "outputs": [],
   "source": [
    "df_prices = pd.read_csv('./EDA/data/price_clean.csv')\n",
    "df_sales = pd.read_csv('./EDA/data/sales_clean.csv')"
   ]
  },
  {
   "cell_type": "code",
   "execution_count": 65,
   "metadata": {},
   "outputs": [
    {
     "name": "stdout",
     "output_type": "stream",
     "text": [
      "(1536776, 5)\n"
     ]
    },
    {
     "data": {
      "text/html": [
       "<div>\n",
       "<style scoped>\n",
       "    .dataframe tbody tr th:only-of-type {\n",
       "        vertical-align: middle;\n",
       "    }\n",
       "\n",
       "    .dataframe tbody tr th {\n",
       "        vertical-align: top;\n",
       "    }\n",
       "\n",
       "    .dataframe thead th {\n",
       "        text-align: right;\n",
       "    }\n",
       "</style>\n",
       "<table border=\"1\" class=\"dataframe\">\n",
       "  <thead>\n",
       "    <tr style=\"text-align: right;\">\n",
       "      <th></th>\n",
       "      <th>Unnamed: 0</th>\n",
       "      <th>item</th>\n",
       "      <th>store_code</th>\n",
       "      <th>date</th>\n",
       "      <th>sell_price</th>\n",
       "    </tr>\n",
       "  </thead>\n",
       "  <tbody>\n",
       "    <tr>\n",
       "      <th>0</th>\n",
       "      <td>0</td>\n",
       "      <td>ACCESORIES_1_001</td>\n",
       "      <td>BOS_1</td>\n",
       "      <td>2013-07-31</td>\n",
       "      <td>11.753875</td>\n",
       "    </tr>\n",
       "  </tbody>\n",
       "</table>\n",
       "</div>"
      ],
      "text/plain": [
       "   Unnamed: 0              item store_code        date  sell_price\n",
       "0           0  ACCESORIES_1_001      BOS_1  2013-07-31   11.753875"
      ]
     },
     "execution_count": 65,
     "metadata": {},
     "output_type": "execute_result"
    }
   ],
   "source": [
    "print(df_prices.shape)\n",
    "df_prices.head(1)"
   ]
  },
  {
   "cell_type": "code",
   "execution_count": 66,
   "metadata": {},
   "outputs": [
    {
     "name": "stdout",
     "output_type": "stream",
     "text": [
      "(1951360, 5)\n"
     ]
    },
    {
     "data": {
      "text/html": [
       "<div>\n",
       "<style scoped>\n",
       "    .dataframe tbody tr th:only-of-type {\n",
       "        vertical-align: middle;\n",
       "    }\n",
       "\n",
       "    .dataframe tbody tr th {\n",
       "        vertical-align: top;\n",
       "    }\n",
       "\n",
       "    .dataframe thead th {\n",
       "        text-align: right;\n",
       "    }\n",
       "</style>\n",
       "<table border=\"1\" class=\"dataframe\">\n",
       "  <thead>\n",
       "    <tr style=\"text-align: right;\">\n",
       "      <th></th>\n",
       "      <th>Unnamed: 0</th>\n",
       "      <th>id</th>\n",
       "      <th>date</th>\n",
       "      <th>store</th>\n",
       "      <th>sales</th>\n",
       "    </tr>\n",
       "  </thead>\n",
       "  <tbody>\n",
       "    <tr>\n",
       "      <th>0</th>\n",
       "      <td>0</td>\n",
       "      <td>ACCESORIES_1_001_BOS_1</td>\n",
       "      <td>2011-01-31</td>\n",
       "      <td>South_End</td>\n",
       "      <td>0</td>\n",
       "    </tr>\n",
       "  </tbody>\n",
       "</table>\n",
       "</div>"
      ],
      "text/plain": [
       "   Unnamed: 0                      id        date      store  sales\n",
       "0           0  ACCESORIES_1_001_BOS_1  2011-01-31  South_End      0"
      ]
     },
     "execution_count": 66,
     "metadata": {},
     "output_type": "execute_result"
    }
   ],
   "source": [
    "print(df_sales.shape)\n",
    "df_sales.head(1)"
   ]
  },
  {
   "cell_type": "code",
   "execution_count": 67,
   "metadata": {},
   "outputs": [],
   "source": [
    "del(df_sales[\"Unnamed: 0\"])\n",
    "del(df_prices[\"Unnamed: 0\"])"
   ]
  },
  {
   "cell_type": "markdown",
   "metadata": {},
   "source": [
    "### Making new colunm so to merge by it"
   ]
  },
  {
   "cell_type": "code",
   "execution_count": 68,
   "metadata": {},
   "outputs": [],
   "source": [
    "df_prices[\"id\"] = df_prices[\"item\"] + \"_\" + df_prices[\"store_code\"]"
   ]
  },
  {
   "cell_type": "code",
   "execution_count": 69,
   "metadata": {},
   "outputs": [
    {
     "data": {
      "text/html": [
       "<div>\n",
       "<style scoped>\n",
       "    .dataframe tbody tr th:only-of-type {\n",
       "        vertical-align: middle;\n",
       "    }\n",
       "\n",
       "    .dataframe tbody tr th {\n",
       "        vertical-align: top;\n",
       "    }\n",
       "\n",
       "    .dataframe thead th {\n",
       "        text-align: right;\n",
       "    }\n",
       "</style>\n",
       "<table border=\"1\" class=\"dataframe\">\n",
       "  <thead>\n",
       "    <tr style=\"text-align: right;\">\n",
       "      <th></th>\n",
       "      <th>item</th>\n",
       "      <th>store_code</th>\n",
       "      <th>date</th>\n",
       "      <th>sell_price</th>\n",
       "      <th>id</th>\n",
       "    </tr>\n",
       "  </thead>\n",
       "  <tbody>\n",
       "    <tr>\n",
       "      <th>0</th>\n",
       "      <td>ACCESORIES_1_001</td>\n",
       "      <td>BOS_1</td>\n",
       "      <td>2013-07-31</td>\n",
       "      <td>11.753875</td>\n",
       "      <td>ACCESORIES_1_001_BOS_1</td>\n",
       "    </tr>\n",
       "  </tbody>\n",
       "</table>\n",
       "</div>"
      ],
      "text/plain": [
       "               item store_code        date  sell_price                      id\n",
       "0  ACCESORIES_1_001      BOS_1  2013-07-31   11.753875  ACCESORIES_1_001_BOS_1"
      ]
     },
     "execution_count": 69,
     "metadata": {},
     "output_type": "execute_result"
    }
   ],
   "source": [
    "df_prices.head(1)"
   ]
  },
  {
   "cell_type": "markdown",
   "metadata": {},
   "source": [
    "### deleting useless colunms so to save RAM memory in our calculations"
   ]
  },
  {
   "cell_type": "code",
   "execution_count": 70,
   "metadata": {},
   "outputs": [],
   "source": [
    "df_prices.drop([\"store_code\", \"item\"], axis = 1, inplace = True)"
   ]
  },
  {
   "cell_type": "code",
   "execution_count": 71,
   "metadata": {},
   "outputs": [],
   "source": [
    "df_prices = df_prices[[\"id\",\"date\", \"sell_price\"]]"
   ]
  },
  {
   "cell_type": "code",
   "execution_count": 72,
   "metadata": {},
   "outputs": [
    {
     "data": {
      "text/html": [
       "<div>\n",
       "<style scoped>\n",
       "    .dataframe tbody tr th:only-of-type {\n",
       "        vertical-align: middle;\n",
       "    }\n",
       "\n",
       "    .dataframe tbody tr th {\n",
       "        vertical-align: top;\n",
       "    }\n",
       "\n",
       "    .dataframe thead th {\n",
       "        text-align: right;\n",
       "    }\n",
       "</style>\n",
       "<table border=\"1\" class=\"dataframe\">\n",
       "  <thead>\n",
       "    <tr style=\"text-align: right;\">\n",
       "      <th></th>\n",
       "      <th>id</th>\n",
       "      <th>date</th>\n",
       "      <th>sell_price</th>\n",
       "    </tr>\n",
       "  </thead>\n",
       "  <tbody>\n",
       "    <tr>\n",
       "      <th>0</th>\n",
       "      <td>ACCESORIES_1_001_BOS_1</td>\n",
       "      <td>2013-07-31</td>\n",
       "      <td>11.753875</td>\n",
       "    </tr>\n",
       "  </tbody>\n",
       "</table>\n",
       "</div>"
      ],
      "text/plain": [
       "                       id        date  sell_price\n",
       "0  ACCESORIES_1_001_BOS_1  2013-07-31   11.753875"
      ]
     },
     "execution_count": 72,
     "metadata": {},
     "output_type": "execute_result"
    }
   ],
   "source": [
    "df_prices.head(1)"
   ]
  },
  {
   "cell_type": "code",
   "execution_count": 73,
   "metadata": {},
   "outputs": [
    {
     "data": {
      "text/html": [
       "<div>\n",
       "<style scoped>\n",
       "    .dataframe tbody tr th:only-of-type {\n",
       "        vertical-align: middle;\n",
       "    }\n",
       "\n",
       "    .dataframe tbody tr th {\n",
       "        vertical-align: top;\n",
       "    }\n",
       "\n",
       "    .dataframe thead th {\n",
       "        text-align: right;\n",
       "    }\n",
       "</style>\n",
       "<table border=\"1\" class=\"dataframe\">\n",
       "  <thead>\n",
       "    <tr style=\"text-align: right;\">\n",
       "      <th></th>\n",
       "      <th>id</th>\n",
       "      <th>date</th>\n",
       "      <th>store</th>\n",
       "      <th>sales</th>\n",
       "    </tr>\n",
       "  </thead>\n",
       "  <tbody>\n",
       "    <tr>\n",
       "      <th>0</th>\n",
       "      <td>ACCESORIES_1_001_BOS_1</td>\n",
       "      <td>2011-01-31</td>\n",
       "      <td>South_End</td>\n",
       "      <td>0</td>\n",
       "    </tr>\n",
       "  </tbody>\n",
       "</table>\n",
       "</div>"
      ],
      "text/plain": [
       "                       id        date      store  sales\n",
       "0  ACCESORIES_1_001_BOS_1  2011-01-31  South_End      0"
      ]
     },
     "execution_count": 73,
     "metadata": {},
     "output_type": "execute_result"
    }
   ],
   "source": [
    "df_sales.head(1)"
   ]
  },
  {
   "cell_type": "code",
   "execution_count": 74,
   "metadata": {},
   "outputs": [],
   "source": [
    "df_market = pd.merge(df_sales,df_prices, on=[\"id\", \"date\"], how=\"left\")"
   ]
  },
  {
   "cell_type": "code",
   "execution_count": 75,
   "metadata": {},
   "outputs": [
    {
     "name": "stdout",
     "output_type": "stream",
     "text": [
      "(1951360, 5)\n"
     ]
    },
    {
     "data": {
      "text/html": [
       "<div>\n",
       "<style scoped>\n",
       "    .dataframe tbody tr th:only-of-type {\n",
       "        vertical-align: middle;\n",
       "    }\n",
       "\n",
       "    .dataframe tbody tr th {\n",
       "        vertical-align: top;\n",
       "    }\n",
       "\n",
       "    .dataframe thead th {\n",
       "        text-align: right;\n",
       "    }\n",
       "</style>\n",
       "<table border=\"1\" class=\"dataframe\">\n",
       "  <thead>\n",
       "    <tr style=\"text-align: right;\">\n",
       "      <th></th>\n",
       "      <th>id</th>\n",
       "      <th>date</th>\n",
       "      <th>store</th>\n",
       "      <th>sales</th>\n",
       "      <th>sell_price</th>\n",
       "    </tr>\n",
       "  </thead>\n",
       "  <tbody>\n",
       "    <tr>\n",
       "      <th>452149</th>\n",
       "      <td>HOME_&amp;_GARDEN_1_146_NYC_2</td>\n",
       "      <td>2015-06-30</td>\n",
       "      <td>Harlem</td>\n",
       "      <td>0</td>\n",
       "      <td>7.4750</td>\n",
       "    </tr>\n",
       "    <tr>\n",
       "      <th>618919</th>\n",
       "      <td>HOME_&amp;_GARDEN_1_412_BOS_1</td>\n",
       "      <td>2014-04-30</td>\n",
       "      <td>South_End</td>\n",
       "      <td>11</td>\n",
       "      <td>22.4625</td>\n",
       "    </tr>\n",
       "  </tbody>\n",
       "</table>\n",
       "</div>"
      ],
      "text/plain": [
       "                               id        date      store  sales  sell_price\n",
       "452149  HOME_&_GARDEN_1_146_NYC_2  2015-06-30     Harlem      0      7.4750\n",
       "618919  HOME_&_GARDEN_1_412_BOS_1  2014-04-30  South_End     11     22.4625"
      ]
     },
     "execution_count": 75,
     "metadata": {},
     "output_type": "execute_result"
    }
   ],
   "source": [
    "print(df_market.shape)\n",
    "df_market.sample(2)"
   ]
  },
  {
   "cell_type": "code",
   "execution_count": 76,
   "metadata": {},
   "outputs": [
    {
     "data": {
      "text/plain": [
       "np.int64(414584)"
      ]
     },
     "execution_count": 76,
     "metadata": {},
     "output_type": "execute_result"
    }
   ],
   "source": [
    "df_market[\"sell_price\"].isnull().sum()"
   ]
  },
  {
   "cell_type": "markdown",
   "metadata": {},
   "source": [
    "### deleting nulls on sell_price column as we consider if there isn´t price it is because the item hadn´t arrive yet to the store"
   ]
  },
  {
   "cell_type": "code",
   "execution_count": 77,
   "metadata": {},
   "outputs": [],
   "source": [
    "df_market.dropna(subset=([\"sell_price\"]), inplace = True)"
   ]
  },
  {
   "cell_type": "code",
   "execution_count": 78,
   "metadata": {},
   "outputs": [
    {
     "data": {
      "text/html": [
       "<div>\n",
       "<style scoped>\n",
       "    .dataframe tbody tr th:only-of-type {\n",
       "        vertical-align: middle;\n",
       "    }\n",
       "\n",
       "    .dataframe tbody tr th {\n",
       "        vertical-align: top;\n",
       "    }\n",
       "\n",
       "    .dataframe thead th {\n",
       "        text-align: right;\n",
       "    }\n",
       "</style>\n",
       "<table border=\"1\" class=\"dataframe\">\n",
       "  <thead>\n",
       "    <tr style=\"text-align: right;\">\n",
       "      <th></th>\n",
       "      <th>id</th>\n",
       "      <th>date</th>\n",
       "      <th>store</th>\n",
       "      <th>sales</th>\n",
       "      <th>sell_price</th>\n",
       "    </tr>\n",
       "  </thead>\n",
       "  <tbody>\n",
       "    <tr>\n",
       "      <th>30</th>\n",
       "      <td>ACCESORIES_1_001_BOS_1</td>\n",
       "      <td>2013-07-31</td>\n",
       "      <td>South_End</td>\n",
       "      <td>10</td>\n",
       "      <td>11.753875</td>\n",
       "    </tr>\n",
       "    <tr>\n",
       "      <th>31</th>\n",
       "      <td>ACCESORIES_1_001_BOS_1</td>\n",
       "      <td>2013-08-31</td>\n",
       "      <td>South_End</td>\n",
       "      <td>3</td>\n",
       "      <td>10.985800</td>\n",
       "    </tr>\n",
       "    <tr>\n",
       "      <th>32</th>\n",
       "      <td>ACCESORIES_1_001_BOS_1</td>\n",
       "      <td>2013-09-30</td>\n",
       "      <td>South_End</td>\n",
       "      <td>4</td>\n",
       "      <td>10.985800</td>\n",
       "    </tr>\n",
       "    <tr>\n",
       "      <th>33</th>\n",
       "      <td>ACCESORIES_1_001_BOS_1</td>\n",
       "      <td>2013-10-31</td>\n",
       "      <td>South_End</td>\n",
       "      <td>4</td>\n",
       "      <td>10.985800</td>\n",
       "    </tr>\n",
       "    <tr>\n",
       "      <th>34</th>\n",
       "      <td>ACCESORIES_1_001_BOS_1</td>\n",
       "      <td>2013-11-30</td>\n",
       "      <td>South_End</td>\n",
       "      <td>10</td>\n",
       "      <td>10.985800</td>\n",
       "    </tr>\n",
       "    <tr>\n",
       "      <th>...</th>\n",
       "      <td>...</td>\n",
       "      <td>...</td>\n",
       "      <td>...</td>\n",
       "      <td>...</td>\n",
       "      <td>...</td>\n",
       "    </tr>\n",
       "    <tr>\n",
       "      <th>1951355</th>\n",
       "      <td>SUPERMARKET_3_827_PHI_3</td>\n",
       "      <td>2015-12-31</td>\n",
       "      <td>Queen_Village</td>\n",
       "      <td>41</td>\n",
       "      <td>1.200000</td>\n",
       "    </tr>\n",
       "    <tr>\n",
       "      <th>1951356</th>\n",
       "      <td>SUPERMARKET_3_827_PHI_3</td>\n",
       "      <td>2016-01-31</td>\n",
       "      <td>Queen_Village</td>\n",
       "      <td>49</td>\n",
       "      <td>1.200000</td>\n",
       "    </tr>\n",
       "    <tr>\n",
       "      <th>1951357</th>\n",
       "      <td>SUPERMARKET_3_827_PHI_3</td>\n",
       "      <td>2016-02-29</td>\n",
       "      <td>Queen_Village</td>\n",
       "      <td>46</td>\n",
       "      <td>1.200000</td>\n",
       "    </tr>\n",
       "    <tr>\n",
       "      <th>1951358</th>\n",
       "      <td>SUPERMARKET_3_827_PHI_3</td>\n",
       "      <td>2016-03-31</td>\n",
       "      <td>Queen_Village</td>\n",
       "      <td>68</td>\n",
       "      <td>1.200000</td>\n",
       "    </tr>\n",
       "    <tr>\n",
       "      <th>1951359</th>\n",
       "      <td>SUPERMARKET_3_827_PHI_3</td>\n",
       "      <td>2016-04-30</td>\n",
       "      <td>Queen_Village</td>\n",
       "      <td>15</td>\n",
       "      <td>1.200000</td>\n",
       "    </tr>\n",
       "  </tbody>\n",
       "</table>\n",
       "<p>1536776 rows × 5 columns</p>\n",
       "</div>"
      ],
      "text/plain": [
       "                              id        date          store  sales  sell_price\n",
       "30        ACCESORIES_1_001_BOS_1  2013-07-31      South_End     10   11.753875\n",
       "31        ACCESORIES_1_001_BOS_1  2013-08-31      South_End      3   10.985800\n",
       "32        ACCESORIES_1_001_BOS_1  2013-09-30      South_End      4   10.985800\n",
       "33        ACCESORIES_1_001_BOS_1  2013-10-31      South_End      4   10.985800\n",
       "34        ACCESORIES_1_001_BOS_1  2013-11-30      South_End     10   10.985800\n",
       "...                          ...         ...            ...    ...         ...\n",
       "1951355  SUPERMARKET_3_827_PHI_3  2015-12-31  Queen_Village     41    1.200000\n",
       "1951356  SUPERMARKET_3_827_PHI_3  2016-01-31  Queen_Village     49    1.200000\n",
       "1951357  SUPERMARKET_3_827_PHI_3  2016-02-29  Queen_Village     46    1.200000\n",
       "1951358  SUPERMARKET_3_827_PHI_3  2016-03-31  Queen_Village     68    1.200000\n",
       "1951359  SUPERMARKET_3_827_PHI_3  2016-04-30  Queen_Village     15    1.200000\n",
       "\n",
       "[1536776 rows x 5 columns]"
      ]
     },
     "execution_count": 78,
     "metadata": {},
     "output_type": "execute_result"
    }
   ],
   "source": [
    "df_market"
   ]
  },
  {
   "cell_type": "markdown",
   "metadata": {},
   "source": [
    "###  Making new columns \"Income\""
   ]
  },
  {
   "cell_type": "code",
   "execution_count": 79,
   "metadata": {},
   "outputs": [],
   "source": [
    "df_market[\"income\"] = df_market[\"sales\"] * df_market[\"sell_price\"]"
   ]
  },
  {
   "cell_type": "code",
   "execution_count": 80,
   "metadata": {},
   "outputs": [
    {
     "data": {
      "text/html": [
       "<div>\n",
       "<style scoped>\n",
       "    .dataframe tbody tr th:only-of-type {\n",
       "        vertical-align: middle;\n",
       "    }\n",
       "\n",
       "    .dataframe tbody tr th {\n",
       "        vertical-align: top;\n",
       "    }\n",
       "\n",
       "    .dataframe thead th {\n",
       "        text-align: right;\n",
       "    }\n",
       "</style>\n",
       "<table border=\"1\" class=\"dataframe\">\n",
       "  <thead>\n",
       "    <tr style=\"text-align: right;\">\n",
       "      <th></th>\n",
       "      <th>id</th>\n",
       "      <th>date</th>\n",
       "      <th>store</th>\n",
       "      <th>sales</th>\n",
       "      <th>sell_price</th>\n",
       "      <th>income</th>\n",
       "    </tr>\n",
       "  </thead>\n",
       "  <tbody>\n",
       "    <tr>\n",
       "      <th>439675</th>\n",
       "      <td>HOME_&amp;_GARDEN_1_126_PHI_3</td>\n",
       "      <td>2015-12-31</td>\n",
       "      <td>Queen_Village</td>\n",
       "      <td>7</td>\n",
       "      <td>11.2000</td>\n",
       "      <td>78.400</td>\n",
       "    </tr>\n",
       "    <tr>\n",
       "      <th>1655007</th>\n",
       "      <td>SUPERMARKET_3_361_PHI_3</td>\n",
       "      <td>2013-08-31</td>\n",
       "      <td>Queen_Village</td>\n",
       "      <td>57</td>\n",
       "      <td>2.3760</td>\n",
       "      <td>135.432</td>\n",
       "    </tr>\n",
       "    <tr>\n",
       "      <th>119142</th>\n",
       "      <td>ACCESORIES_1_192_BOS_2</td>\n",
       "      <td>2014-03-31</td>\n",
       "      <td>Roxbury</td>\n",
       "      <td>0</td>\n",
       "      <td>4.7082</td>\n",
       "      <td>0.000</td>\n",
       "    </tr>\n",
       "    <tr>\n",
       "      <th>1702514</th>\n",
       "      <td>SUPERMARKET_3_436_BOS_2</td>\n",
       "      <td>2015-03-31</td>\n",
       "      <td>Roxbury</td>\n",
       "      <td>3</td>\n",
       "      <td>3.0000</td>\n",
       "      <td>9.000</td>\n",
       "    </tr>\n",
       "    <tr>\n",
       "      <th>1072826</th>\n",
       "      <td>SUPERMARKET_1_066_BOS_3</td>\n",
       "      <td>2015-11-30</td>\n",
       "      <td>Back_Bay</td>\n",
       "      <td>9</td>\n",
       "      <td>1.6320</td>\n",
       "      <td>14.688</td>\n",
       "    </tr>\n",
       "  </tbody>\n",
       "</table>\n",
       "</div>"
      ],
      "text/plain": [
       "                                id        date          store  sales  \\\n",
       "439675   HOME_&_GARDEN_1_126_PHI_3  2015-12-31  Queen_Village      7   \n",
       "1655007    SUPERMARKET_3_361_PHI_3  2013-08-31  Queen_Village     57   \n",
       "119142      ACCESORIES_1_192_BOS_2  2014-03-31        Roxbury      0   \n",
       "1702514    SUPERMARKET_3_436_BOS_2  2015-03-31        Roxbury      3   \n",
       "1072826    SUPERMARKET_1_066_BOS_3  2015-11-30       Back_Bay      9   \n",
       "\n",
       "         sell_price   income  \n",
       "439675      11.2000   78.400  \n",
       "1655007      2.3760  135.432  \n",
       "119142       4.7082    0.000  \n",
       "1702514      3.0000    9.000  \n",
       "1072826      1.6320   14.688  "
      ]
     },
     "execution_count": 80,
     "metadata": {},
     "output_type": "execute_result"
    }
   ],
   "source": [
    "df_market.sample(5)"
   ]
  },
  {
   "cell_type": "markdown",
   "metadata": {},
   "source": [
    "### adding old columns to our df_market so to use them in visualizations or any other calculates afterwards"
   ]
  },
  {
   "cell_type": "code",
   "execution_count": 81,
   "metadata": {},
   "outputs": [],
   "source": [
    "df_market[\"category\"] = df_market[\"id\"].apply(lambda x: x[:-12])\n",
    "df_market[\"region\"] = df_market[\"id\"].apply(lambda x: x[-5:-2])\n",
    "df_market[\"item\"] = df_market[\"id\"].apply(lambda x: x[0:-6])"
   ]
  },
  {
   "cell_type": "code",
   "execution_count": 82,
   "metadata": {},
   "outputs": [],
   "source": [
    "df_market = df_market[['id','item','store','region','category','sell_price','sales','income']]"
   ]
  },
  {
   "cell_type": "code",
   "execution_count": 83,
   "metadata": {},
   "outputs": [
    {
     "data": {
      "text/html": [
       "<div>\n",
       "<style scoped>\n",
       "    .dataframe tbody tr th:only-of-type {\n",
       "        vertical-align: middle;\n",
       "    }\n",
       "\n",
       "    .dataframe tbody tr th {\n",
       "        vertical-align: top;\n",
       "    }\n",
       "\n",
       "    .dataframe thead th {\n",
       "        text-align: right;\n",
       "    }\n",
       "</style>\n",
       "<table border=\"1\" class=\"dataframe\">\n",
       "  <thead>\n",
       "    <tr style=\"text-align: right;\">\n",
       "      <th></th>\n",
       "      <th>id</th>\n",
       "      <th>item</th>\n",
       "      <th>store</th>\n",
       "      <th>region</th>\n",
       "      <th>category</th>\n",
       "      <th>sell_price</th>\n",
       "      <th>sales</th>\n",
       "      <th>income</th>\n",
       "    </tr>\n",
       "  </thead>\n",
       "  <tbody>\n",
       "    <tr>\n",
       "      <th>1903589</th>\n",
       "      <td>SUPERMARKET_3_753_NYC_1</td>\n",
       "      <td>SUPERMARKET_3_753</td>\n",
       "      <td>Greenwich_Village</td>\n",
       "      <td>NYC</td>\n",
       "      <td>SUPERMARKET</td>\n",
       "      <td>6.576</td>\n",
       "      <td>148</td>\n",
       "      <td>973.248</td>\n",
       "    </tr>\n",
       "    <tr>\n",
       "      <th>1118533</th>\n",
       "      <td>SUPERMARKET_1_138_PHI_1</td>\n",
       "      <td>SUPERMARKET_1_138</td>\n",
       "      <td>Midtown_Village</td>\n",
       "      <td>PHI</td>\n",
       "      <td>SUPERMARKET</td>\n",
       "      <td>2.616</td>\n",
       "      <td>26</td>\n",
       "      <td>68.016</td>\n",
       "    </tr>\n",
       "  </tbody>\n",
       "</table>\n",
       "</div>"
      ],
      "text/plain": [
       "                              id               item              store region  \\\n",
       "1903589  SUPERMARKET_3_753_NYC_1  SUPERMARKET_3_753  Greenwich_Village    NYC   \n",
       "1118533  SUPERMARKET_1_138_PHI_1  SUPERMARKET_1_138    Midtown_Village    PHI   \n",
       "\n",
       "            category  sell_price  sales   income  \n",
       "1903589  SUPERMARKET       6.576    148  973.248  \n",
       "1118533  SUPERMARKET       2.616     26   68.016  "
      ]
     },
     "execution_count": 83,
     "metadata": {},
     "output_type": "execute_result"
    }
   ],
   "source": [
    "df_market.sample(2)"
   ]
  },
  {
   "cell_type": "code",
   "execution_count": 84,
   "metadata": {},
   "outputs": [],
   "source": [
    "file_name = \"df_market.csv\" #mountly\n",
    "df_market.to_csv(file_name)"
   ]
  }
 ],
 "metadata": {
  "kernelspec": {
   "display_name": "Python 3",
   "language": "python",
   "name": "python3"
  },
  "language_info": {
   "codemirror_mode": {
    "name": "ipython",
    "version": 3
   },
   "file_extension": ".py",
   "mimetype": "text/x-python",
   "name": "python",
   "nbconvert_exporter": "python",
   "pygments_lexer": "ipython3",
   "version": "3.12.6"
  }
 },
 "nbformat": 4,
 "nbformat_minor": 2
}
